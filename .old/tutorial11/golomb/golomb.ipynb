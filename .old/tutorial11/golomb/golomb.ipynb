{
 "cells": [
  {
   "cell_type": "markdown",
   "metadata": {},
   "source": [
    "# Golomb's ruler"
   ]
  },
  {
   "cell_type": "code",
   "execution_count": 1,
   "metadata": {},
   "outputs": [
    {
     "data": {
      "application/javascript": [
       "\"use strict\";\n",
       "\n",
       "CodeMirror.defineMode(\"text/minizinc\", function(config) {\n",
       "\n",
       "  var isOperatorChar = /[+\\-*=<>\\/]/;\n",
       "\n",
       "  var keywords = {\"array\":true,\n",
       "  \"bool\":true,\n",
       "  \"case\":true,\n",
       "  \"constraint\":true,\n",
       "  \"diff\":true,\n",
       "  \"div\":true,\n",
       "  \"else\":true,\n",
       "  \"elseif\":true,\n",
       "  \"endif\":true,\n",
       "  \"enum\":true,\n",
       "  \"false\":true,\n",
       "  \"float\":true,\n",
       "  \"function\":true,\n",
       "  \"if\":true,\n",
       "  \"in\":true,\n",
       "  \"include\":true,\n",
       "  \"int\":true,\n",
       "  \"intersect\":true,\n",
       "  \"let\":true,\n",
       "  \"list\":true,\n",
       "  \"maximize\":true,\n",
       "  \"minimize\":true,\n",
       "  \"mod\":true,\n",
       "  \"not\":true,\n",
       "  \"of\":true,\n",
       "  \"op\":true,\n",
       "  \"output\":true,\n",
       "  \"par\":true,\n",
       "  \"predicate\":true,\n",
       "  \"record\":true,\n",
       "  \"satisfy\":true,\n",
       "  \"set\":true,\n",
       "  \"solve\":true,\n",
       "  \"string\":true,\n",
       "  \"subset\":true,\n",
       "  \"superset\":true,\n",
       "  \"symdiff\":true,\n",
       "  \"test\":true,\n",
       "  \"then\":true,\n",
       "  \"true\":true,\n",
       "  \"tuple\":true,\n",
       "  \"type\":true,\n",
       "  \"union\":true,\n",
       "  \"var\":true,\n",
       "  \"where\":true,\n",
       "  \"xor\":true};\n",
       "\n",
       "  var punc = \":;,.(){}[]\";\n",
       "\n",
       "  function tokenBase(stream, state) {\n",
       "    var ch = stream.next();\n",
       "    if (ch == '\"') {\n",
       "      state.tokenize.push(tokenString);\n",
       "      return tokenString(stream, state);\n",
       "    }\n",
       "    if (/[\\d\\.]/.test(ch)) {\n",
       "      if (ch == \".\") {\n",
       "        stream.match(/^[0-9]+([eE][\\-+]?[0-9]+)?/);\n",
       "      } else if (ch == \"0\") {\n",
       "        stream.match(/^[xX][0-9a-fA-F]+/) || stream.match(/^0[0-7]+/);\n",
       "      } else {\n",
       "        stream.match(/^[0-9]*\\.?[0-9]*([eE][\\-+]?[0-9]+)?/);\n",
       "      }\n",
       "      return \"number\";\n",
       "    }\n",
       "    if (ch == \"/\") {\n",
       "      if (stream.eat(\"*\")) {\n",
       "        state.tokenize.push(tokenComment);\n",
       "        return tokenComment(stream, state);\n",
       "      }\n",
       "    }\n",
       "    if (ch == \"%\") {\n",
       "      stream.skipToEnd();\n",
       "      return \"comment\";\n",
       "    }\n",
       "    if (isOperatorChar.test(ch)) {\n",
       "      stream.eatWhile(isOperatorChar);\n",
       "      return \"operator\";\n",
       "    }\n",
       "    if (punc.indexOf(ch) > -1) {\n",
       "      return \"punctuation\";\n",
       "    }\n",
       "    stream.eatWhile(/[\\w\\$_\\xa1-\\uffff]/);\n",
       "    var cur = stream.current();\n",
       "    if (keywords.propertyIsEnumerable(cur)) {\n",
       "      return \"keyword\";\n",
       "    }\n",
       "    return \"variable\";\n",
       "  }\n",
       "\n",
       "  function tokenComment(stream, state) {\n",
       "    var maybeEnd = false, ch;\n",
       "    while (ch = stream.next()) {\n",
       "      if (ch == \"/\" && maybeEnd) {\n",
       "        state.tokenize.pop();\n",
       "        break;\n",
       "      }\n",
       "      maybeEnd = (ch == \"*\");\n",
       "    }\n",
       "    return \"comment\";\n",
       "  }\n",
       "\n",
       "  function tokenUntilClosingParen() {\n",
       "    var depth = 0;\n",
       "    return function(stream, state, prev) {\n",
       "      var inner = tokenBase(stream, state, prev);\n",
       "      console.log(\"untilClosing\",inner,stream.current());\n",
       "      if (inner == \"punctuation\") {\n",
       "        if (stream.current() == \"(\") {\n",
       "          ++depth;\n",
       "        } else if (stream.current() == \")\") {\n",
       "          if (depth == 0) {\n",
       "            stream.backUp(1)\n",
       "            state.tokenize.pop()\n",
       "            return state.tokenize[state.tokenize.length - 1](stream, state)\n",
       "          } else {\n",
       "            --depth;\n",
       "          }\n",
       "        }\n",
       "      }\n",
       "      return inner;\n",
       "    }\n",
       "  }\n",
       "\n",
       "  function tokenString(stream, state) {\n",
       "    var escaped = false, next, end = false;\n",
       "    while ((next = stream.next()) != null) {\n",
       "      if (next=='(' && escaped) {\n",
       "        state.tokenize.push(tokenUntilClosingParen());\n",
       "        return \"string\";\n",
       "      }\n",
       "      if (next == '\"' && !escaped) {end = true; break;}\n",
       "      escaped = !escaped && next == \"\\\\\";\n",
       "    }\n",
       "    if (end || !escaped)\n",
       "      state.tokenize.pop();\n",
       "    return \"string\";\n",
       "  }\n",
       "\n",
       "  return {\n",
       "    startState: function(basecolumn) {\n",
       "      return {\n",
       "        tokenize: []\n",
       "      };\n",
       "    },\n",
       "\n",
       "    token: function(stream, state) {\n",
       "      if (stream.eatSpace()) return null;\n",
       "      var style = (state.tokenize[state.tokenize.length - 1] || tokenBase)(stream, state);\n",
       "      console.log(\"token\",style);\n",
       "      return style;\n",
       "    },\n",
       "\n",
       "    blockCommentStart: \"/*\",\n",
       "    blockCommentEnd: \"*/\",\n",
       "    lineComment: \"%\"\n",
       "  };\n",
       "});\n",
       "\n",
       "CodeMirror.defineMIME(\"text/minizinc\", \"text/minizinc\");\n",
       "\n",
       "Jupyter.CodeCell.options_default.highlight_modes['magic_text/minizinc'] = {'reg':[/^%%minizinc/]} ;\n",
       "\n",
       "Jupyter.notebook.get_cells().map(function(cell){\n",
       "  if (cell.cell_type == 'code'){ cell.auto_highlight(); }\n",
       "}) ;\n"
      ],
      "text/plain": [
       "<IPython.core.display.Javascript object>"
      ]
     },
     "metadata": {},
     "output_type": "display_data"
    },
    {
     "name": "stdout",
     "output_type": "stream",
     "text": [
      "MiniZinc to FlatZinc converter, version 2.5.0, build 198486215\r\n",
      "Copyright (C) 2014-2020 Monash University, NICTA, Data61\n"
     ]
    }
   ],
   "source": [
    "%load_ext iminizinc"
   ]
  },
  {
   "cell_type": "code",
   "execution_count": 2,
   "metadata": {},
   "outputs": [],
   "source": [
    "%%mzn_model golomb\n",
    "include \"alldifferent.mzn\";\n",
    "include \"increasing.mzn\";\n",
    "\n",
    "int: n; % number of marks ('order')\n",
    "int: max_length = pow(2,n); % upper bound on the length\n",
    "\n",
    "array[1..n] of var 0..max_length: mark;\n",
    "var int: length = max(mark);\n",
    "\n",
    "array[1..n,1..n] of var 0..max_length: dist;\n",
    "\n",
    "constraint forall(i, j in 1..n where i < j)(dist[i, j] = abs(mark[i] - mark[j]));\n",
    "constraint alldifferent(mark);\n",
    "constraint alldifferent(i, j in 1..n where i < j)(dist[i, j]);\n",
    "\n",
    "output [\"length: \\(length), marks: \" ++ show(mark)];\n",
    "\n",
    "% symmetry breaking\n",
    "constraint increasing(mark); \n",
    "constraint mark[1]=0; \n",
    "constraint forall(i, j in 1..n where i >= j)(dist[i, j] = 0);\n",
    "\n",
    "% implicit constraints\n",
    "% based on dist[i,j] = dist[i,i+1] + dist[i+1,i+2] + ... + dist[j-1,j], estimate distances by 1, sum from i to j\n",
    "constraint forall(i, j in 1..n where i < j)(\n",
    "  dist[i,j] >= (j-i)*(j-i+1) div 2 /\\\n",
    "  dist[i,j] <= length - (n-j+i-1)*(n-j+i) div 2 \n",
    ");\n",
    "\n",
    "solve :: int_search(dist, input_order, indomain_min) minimize length;"
   ]
  },
  {
   "cell_type": "code",
   "execution_count": 3,
   "metadata": {
    "scrolled": true
   },
   "outputs": [
    {
     "name": "stdout",
     "output_type": "stream",
     "text": [
      "n=1: [0]\n",
      "n=2: [0, 1]\n",
      "n=3: [0, 1, 3]\n",
      "n=4: [0, 1, 4, 6]\n",
      "n=5: [0, 1, 4, 9, 11]\n",
      "n=6: [0, 1, 4, 10, 12, 17]\n",
      "n=7: [0, 1, 4, 10, 18, 23, 25]\n",
      "n=8: [0, 1, 4, 9, 15, 22, 32, 34]\n",
      "n=9: [0, 1, 5, 12, 25, 27, 35, 41, 44]\n",
      "n=10: [0, 1, 6, 10, 23, 26, 34, 41, 53, 55]\n"
     ]
    }
   ],
   "source": [
    "for n in range(1,10+1):    \n",
    "    result = %minizinc golomb\n",
    "    print(f\"n={n}: {result['mark']}\")"
   ]
  },
  {
   "cell_type": "markdown",
   "metadata": {},
   "source": [
    "### Compare optimization levels"
   ]
  },
  {
   "cell_type": "code",
   "execution_count": 4,
   "metadata": {},
   "outputs": [],
   "source": [
    "import time\n",
    "import numpy as np\n",
    "import matplotlib.pyplot as plt"
   ]
  },
  {
   "cell_type": "code",
   "execution_count": 5,
   "metadata": {},
   "outputs": [
    {
     "name": "stdout",
     "output_type": "stream",
     "text": [
      "Optimization level: 0\n",
      "n=1: t=0.11\n",
      "n=2: t=0.11\n",
      "n=3: t=0.12\n",
      "n=4: t=0.11\n",
      "n=5: t=0.13\n",
      "n=6: t=0.16\n",
      "n=7: t=0.13\n",
      "n=8: t=0.15\n",
      "n=9: t=0.32\n",
      "n=10: t=1.18\n",
      "Optimization level: 1\n",
      "n=1: t=0.11\n",
      "n=2: t=0.11\n",
      "n=3: t=0.15\n",
      "n=4: t=0.16\n",
      "n=5: t=0.13\n",
      "n=6: t=0.12\n",
      "n=7: t=0.12\n",
      "n=8: t=0.18\n",
      "n=9: t=0.28\n",
      "n=10: t=1.13\n",
      "Optimization level: 2\n",
      "n=1: t=0.19\n",
      "n=2: t=0.18\n",
      "n=3: t=0.19\n",
      "n=4: t=0.19\n",
      "n=5: t=0.2\n",
      "n=6: t=0.23\n",
      "n=7: t=0.28\n",
      "n=8: t=0.29\n",
      "n=9: t=0.41\n",
      "n=10: t=1.26\n",
      "Optimization level: 3\n",
      "n=1: t=0.24\n",
      "n=2: t=0.21\n",
      "n=3: t=0.23\n",
      "n=4: t=0.24\n",
      "n=5: t=0.24\n",
      "n=6: t=0.24\n",
      "n=7: t=0.23\n",
      "n=8: t=0.3\n",
      "n=9: t=0.44\n",
      "n=10: t=1.21\n",
      "Optimization level: 4\n",
      "n=1: t=0.2\n",
      "n=2: t=0.21\n",
      "n=3: t=0.2\n",
      "n=4: t=0.25\n",
      "n=5: t=0.24\n",
      "n=6: t=0.28\n",
      "n=7: t=0.4\n",
      "n=8: t=1.21\n",
      "n=9: t=8.89\n",
      "n=10: t=62.01\n",
      "Optimization level: 5\n",
      "n=1: t=0.18\n",
      "n=2: t=0.19\n",
      "n=3: t=0.2\n",
      "n=4: t=0.21\n",
      "n=5: t=0.21\n",
      "n=6: t=0.24\n",
      "n=7: t=0.38\n",
      "n=8: t=1.16\n",
      "n=9: t=11.09\n",
      "n=10: t=80.27\n"
     ]
    }
   ],
   "source": [
    "nmax = 10\n",
    "\n",
    "data = np.zeros((6,nmax))\n",
    "\n",
    "for i in range(0, 6):\n",
    "    print(f\"Optimization level: {i}\")\n",
    "    for n in range(1,nmax+1):\n",
    "        tic = time.perf_counter()\n",
    "        result = !minizinc golomb-more-improvements.mzn -D\"n={n}\" -O{i}\n",
    "        toc = time.perf_counter()\n",
    "        t = round(toc-tic,2)        \n",
    "        data[i,n-1] = t     \n",
    "        print(f\"n={n}: t={t}\")\n"
   ]
  },
  {
   "cell_type": "code",
   "execution_count": 6,
   "metadata": {},
   "outputs": [],
   "source": [
    "x = np.arange(1, nmax+1)"
   ]
  },
  {
   "cell_type": "code",
   "execution_count": 7,
   "metadata": {
    "scrolled": true
   },
   "outputs": [
    {
     "data": {
      "image/png": "[encoded data removed]",
      "text/plain": [
       "<Figure size 432x288 with 1 Axes>"
      ]
     },
     "metadata": {
      "needs_background": "light"
     },
     "output_type": "display_data"
    }
   ],
   "source": [
    "for i in range(6):\n",
    "    plt.plot(x, data[i,:], label=f'O{i}')\n",
    "\n",
    "plt.legend();"
   ]
  },
  {
   "cell_type": "code",
   "execution_count": 11,
   "metadata": {},
   "outputs": [
    {
     "name": "stdout",
     "output_type": "stream",
     "text": [
      "Optimization level: 0\n",
      "n=10: t=1.4\n",
      "Optimization level: 1\n",
      "n=10: t=1.42\n",
      "Optimization level: 2\n",
      "n=10: t=1.48\n",
      "Optimization level: 3\n",
      "n=10: t=1.55\n",
      "Optimization level: 4\n",
      "n=10: t=74.34\n",
      "Optimization level: 5\n",
      "n=10: t=65.91\n"
     ]
    },
    {
     "data": {
      "image/png": "[encoded data removed]",
      "text/plain": [
       "<Figure size 432x288 with 1 Axes>"
      ]
     },
     "metadata": {
      "needs_background": "light"
     },
     "output_type": "display_data"
    }
   ],
   "source": [
    "n = 10\n",
    "y = np.zeros((6,))\n",
    "\n",
    "for i in range(0, 6):\n",
    "    print(f\"Optimization level: {i}\")    \n",
    "    tic = time.perf_counter()\n",
    "    result = !minizinc golomb-more-improvements.mzn -D\"n={n}\" -O{i}\n",
    "    toc = time.perf_counter()\n",
    "    t = round(toc-tic,2)        \n",
    "    y[i] = t     \n",
    "    print(f\"n={n}: t={t}\")\n",
    "        \n",
    "x = np.arange(0, 6)\n",
    "for i in range(6):\n",
    "    plt.plot(x, y, label=f\"O{i}\")\n",
    "\n",
    "plt.legend();\n"
   ]
  },
  {
   "cell_type": "code",
   "execution_count": null,
   "metadata": {},
   "outputs": [],
   "source": []
  }
 ],
 "metadata": {
  "kernelspec": {
   "display_name": "Python 3",
   "language": "python",
   "name": "python3"
  },
  "language_info": {
   "codemirror_mode": {
    "name": "ipython",
    "version": 3
   },
   "file_extension": ".py",
   "mimetype": "text/x-python",
   "name": "python",
   "nbconvert_exporter": "python",
   "pygments_lexer": "ipython3",
   "version": "3.9.1"
  }
 },
 "nbformat": 4,
 "nbformat_minor": 4
}
