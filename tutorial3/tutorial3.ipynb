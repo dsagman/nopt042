{
 "cells": [
  {
   "cell_type": "markdown",
   "id": "0d8742c9",
   "metadata": {
    "slideshow": {
     "slide_type": "slide"
    }
   },
   "source": [
    "# NOPT042 Constraint programming: Tutorial 3 – Improving your model"
   ]
  },
  {
   "cell_type": "markdown",
   "id": "c5801990",
   "metadata": {
    "slideshow": {
     "slide_type": "subslide"
    }
   },
   "source": [
    "### Debuging\n",
    "* Try very small instances where you understand the solution set.\n",
    "* Unit-test constraints one by one.\n",
    "* Start with a model that is as simple as possible.\n",
    "* For advanced debuging options you can use `debug`, see \"How to Use the Debugger\" from the Picat Guide."
   ]
  },
  {
   "cell_type": "markdown",
   "id": "49a539d1",
   "metadata": {
    "slideshow": {
     "slide_type": "subslide"
    }
   },
   "source": [
    "### How to import a file\n",
    "Use `cl(instance)` to compile (to bytecode `instance.qi`) & load the file `instance.pi` (anywhere in $PATH).\n",
    "```\n",
    "main =>\n",
    "    cl(instance),\n",
    "    puzzle(Vars),\n",
    "    solve(Vars).\n",
    "```\n",
    "See also Modules (`import`)."
   ]
  },
  {
   "cell_type": "markdown",
   "id": "afa1ffe2",
   "metadata": {
    "slideshow": {
     "slide_type": "subslide"
    }
   },
   "source": [
    "### Improving the model\n",
    "\n",
    "It is a good practice to first create a baseline model, and then try to improve. Ways to create more efficient model include:\n",
    "\n",
    "* **global constraints**: e.g. `all_different`\n",
    "* **symmetry breaking**: if there is a symmetry in the search space, e.g. in variables or in values, we can fix one element of the orbit and thus limit the part of the space that needs to be explored\n",
    "* choosing the best solver for your model (or the best model for your solver)\n",
    "* choosing a good solver configuration (e.g. search strategy---see the next tutorial)\n"
   ]
  },
  {
   "cell_type": "markdown",
   "id": "4233fbc3",
   "metadata": {
    "slideshow": {
     "slide_type": "slide"
    }
   },
   "source": [
    "### Example: Map coloring"
   ]
  },
  {
   "cell_type": "markdown",
   "id": "6621fbb2",
   "metadata": {
    "slideshow": {
     "slide_type": "fragment"
    }
   },
   "source": [
    "Create a model to color the map of Australian states and territories 7 with four colors (cf. The 4-color Theorem). (We exclude the Australian Capital Territory, the Jervis Bay Territory, and the external territories. Map coloring is a special case of [graph coloring](https://en.wikipedia.org/wiki/Graph_coloring), see [this map](map-coloring/countries.jpeg).\n",
    "\n",
    "<!-- \n",
    "![Map of Australia](map-coloring/australia.png)\n",
    "-->\n",
    "![Map of Australia](https://raw.githubusercontent.com/jbulin-mff-uk/nopt042/main/tutorial3/map-coloring/australia.png)"
   ]
  },
  {
   "cell_type": "markdown",
   "id": "d9827abc",
   "metadata": {
    "slideshow": {
     "slide_type": "subslide"
    }
   },
   "source": [
    "Let's use the following decision variables:\n",
    "```\n",
    "Territories = [WA, NT, SA, Q, NSW, V, T]\n",
    "```"
   ]
  },
  {
   "cell_type": "code",
   "execution_count": 1,
   "id": "be9979ef",
   "metadata": {
    "execution": {
     "iopub.execute_input": "2024-10-02T12:40:14.839076Z",
     "iopub.status.busy": "2024-10-02T12:40:14.837255Z",
     "iopub.status.idle": "2024-10-02T12:40:14.970855Z",
     "shell.execute_reply": "2024-10-02T12:40:14.969377Z"
    },
    "scrolled": true,
    "slideshow": {
     "slide_type": "fragment"
    }
   },
   "outputs": [
    {
     "name": "stdout",
     "output_type": "stream",
     "text": [
      "[1,2,3,1,2,1,1]\r\n"
     ]
    }
   ],
   "source": [
    "!picat map-coloring/map-coloring-baseline.pi"
   ]
  },
  {
   "cell_type": "code",
   "execution_count": 2,
   "id": "46e0c6f5",
   "metadata": {
    "execution": {
     "iopub.execute_input": "2024-10-02T12:40:14.974403Z",
     "iopub.status.busy": "2024-10-02T12:40:14.973549Z",
     "iopub.status.idle": "2024-10-02T12:40:15.087318Z",
     "shell.execute_reply": "2024-10-02T12:40:15.085596Z"
    },
    "scrolled": false,
    "slideshow": {
     "slide_type": "subslide"
    }
   },
   "outputs": [
    {
     "name": "stdout",
     "output_type": "stream",
     "text": [
      "import cp.\r\n",
      "\r\n",
      "color_map(Territories) =>\r\n",
      "    % variables\r\n",
      "    Territories = [WA, NT, SA, Q, NSW, V, T],\r\n",
      "    Territories :: 1..4,\r\n",
      "\r\n",
      "    % constraints\r\n",
      "    WA #!= NT,\r\n",
      "    WA #!= SA,\r\n",
      "    NT #!= SA,\r\n",
      "    NT #!= Q,\r\n",
      "    SA #!= Q,\r\n",
      "    SA #!= NSW,\r\n",
      "    SA #!= V,\r\n",
      "    Q  #!= NSW,\r\n",
      "    V  #!= NSW.\r\n",
      "\r\n",
      "\r\n",
      "main =>\r\n",
      "    color_map(Territories),\r\n",
      "    solve(Territories),\r\n",
      "    println(Territories).\r\n"
     ]
    }
   ],
   "source": [
    "!cat map-coloring/map-coloring-baseline.pi"
   ]
  },
  {
   "cell_type": "markdown",
   "id": "936a9f26",
   "metadata": {
    "slideshow": {
     "slide_type": "subslide"
    }
   },
   "source": [
    "How can we improve the model?"
   ]
  },
  {
   "cell_type": "code",
   "execution_count": 3,
   "id": "8194d685",
   "metadata": {
    "execution": {
     "iopub.execute_input": "2024-10-02T12:40:15.091715Z",
     "iopub.status.busy": "2024-10-02T12:40:15.091380Z",
     "iopub.status.idle": "2024-10-02T12:40:15.220318Z",
     "shell.execute_reply": "2024-10-02T12:40:15.217328Z"
    },
    "scrolled": true,
    "slideshow": {
     "slide_type": "subslide"
    }
   },
   "outputs": [
    {
     "name": "stdout",
     "output_type": "stream",
     "text": [
      "Western Australia is red.\r\n",
      "Northern Territory is green.\r\n",
      "South Australia is blue.\r\n",
      "Queensland is red.\r\n",
      "New South Wales is green.\r\n",
      "Victoria is red.\r\n",
      "Tasmania is red.\r\n"
     ]
    }
   ],
   "source": [
    "!picat map-coloring/map-coloring-improved.pi"
   ]
  },
  {
   "cell_type": "code",
   "execution_count": 4,
   "id": "18677cda",
   "metadata": {
    "execution": {
     "iopub.execute_input": "2024-10-02T12:40:15.225509Z",
     "iopub.status.busy": "2024-10-02T12:40:15.225158Z",
     "iopub.status.idle": "2024-10-02T12:40:15.341353Z",
     "shell.execute_reply": "2024-10-02T12:40:15.339095Z"
    },
    "scrolled": false,
    "slideshow": {
     "slide_type": "subslide"
    }
   },
   "outputs": [
    {
     "name": "stdout",
     "output_type": "stream",
     "text": [
      "import cp.\r\n",
      "\r\n",
      "color_map(Territories) =>\r\n",
      "    % variables\r\n",
      "    Territories = [WA, NT, SA, Q, NSW, V, T],\r\n",
      "    Territories :: 1..8,\r\n",
      "\r\n",
      "    % constraints\r\n",
      "    Edges = [\r\n",
      "        {WA,NT},\r\n",
      "        {WA,SA},\r\n",
      "        {NT,SA},\r\n",
      "        {NT,Q},\r\n",
      "        {SA,Q},\r\n",
      "        {SA,NSW},\r\n",
      "        {SA,V},\r\n",
      "        {Q ,NSW},\r\n",
      "        {V ,NSW}\r\n",
      "    ],\r\n",
      "    foreach(E in Edges)        \r\n",
      "        E[1] #!= E[2]\r\n",
      "    end.\r\n",
      "\r\n",
      "% symmetry breaking constraints\r\n",
      "precolor(Territories) =>\r\n",
      "    WA #= 1,\r\n",
      "    NT #= 2,\r\n",
      "    SA #= 3.\r\n",
      "\r\n",
      "% better output than `println(Territories)` (we could also use a map, i.e. a dictionary)\r\n",
      "output(Territories) =>\r\n",
      "    Color_names = [\"red\", \"green\", \"blue\", \"yellow\"],\r\n",
      "    Territory_names = [\"Western Australia\", \"Northern Territory\", \"South Australia\", \"Queensland\", \"New South Wales\", \"Victoria\", \"Tasmania\"],\r\n",
      "    foreach(I in 1..Territories.length)\r\n",
      "        writef(\"%s is %s.\\n\", Territory_names[I], Color_names[Territories[I]])\r\n",
      "    end.\r\n",
      "\r\n",
      "\r\n",
      "main =>\r\n",
      "    color_map(Territories),\r\n",
      "    % precolor(Territories),\r\n",
      "    solve(Territories), \r\n",
      "    output(Territories).\r\n"
     ]
    }
   ],
   "source": [
    "!cat map-coloring/map-coloring-improved.pi"
   ]
  },
  {
   "cell_type": "markdown",
   "id": "26b4354b",
   "metadata": {
    "slideshow": {
     "slide_type": "fragment"
    }
   },
   "source": [
    "What else is wrong with this model? We always want to separate the model from the data. (See the exercise Graph-coloring below.)"
   ]
  },
  {
   "cell_type": "markdown",
   "id": "28e5579c",
   "metadata": {
    "slideshow": {
     "slide_type": "slide"
    }
   },
   "source": [
    "## Choosing a solver"
   ]
  },
  {
   "cell_type": "markdown",
   "id": "8d2186a6",
   "metadata": {
    "slideshow": {
     "slide_type": "fragment"
    }
   },
   "source": [
    "Picat provides the following four solvers (implemented as modules):\n",
    "* cp\n",
    "* sat\n",
    "* smt\n",
    "* mip\n",
    "\n",
    "What are the differences?"
   ]
  },
  {
   "cell_type": "markdown",
   "id": "a7000289",
   "metadata": {
    "slideshow": {
     "slide_type": "slide"
    }
   },
   "source": [
    "### Example: Balanced diet (optimization)"
   ]
  },
  {
   "cell_type": "markdown",
   "id": "43e46221",
   "metadata": {
    "slideshow": {
     "slide_type": "fragment"
    }
   },
   "source": [
    "This is (one of?) the first optimization problem for which Linear programming was used. Given a list of food items together with their nutritional values and prices, the goal is to choose a balanced diet---one that contains required minimal amounts of nutrients---while minimizing total price.\n",
    "\n",
    "Note how we pass options to the solver: `solve($[min(XSum)],Xs)` The $ sign tells the solver to interpret the following as a term, rather than evaluating it as a function.\n",
    "\n",
    "We will use the `mip` solver. It requires an external MIP solver. Here we use the Computational Infrastructure for Operations Research (COIN-OR)'s Cbc (branch and cut)."
   ]
  },
  {
   "cell_type": "markdown",
   "id": "97527257",
   "metadata": {
    "slideshow": {
     "slide_type": "subslide"
    }
   },
   "source": [
    "\n",
    "First, we need to install the Cbc package.\n",
    "```\n",
    "sudo apt-get install  coinor-cbc coinor-libcbc-dev\n",
    "```\n",
    "Or without root privileges:\n",
    "```\n",
    "wget https://raw.githubusercontent.com/coin-or/coinbrew/master/coinbrew\n",
    "chmod u+x coinbrew\n",
    "./coinbrew fetch Cbc@master\n",
    "./coinbrew build Cbc\n",
    "export PATH=$PATH:~/coinbrew/dist/bin\n",
    "```"
   ]
  },
  {
   "cell_type": "code",
   "execution_count": 5,
   "id": "a461b667",
   "metadata": {
    "execution": {
     "iopub.execute_input": "2024-10-02T12:40:15.348271Z",
     "iopub.status.busy": "2024-10-02T12:40:15.346551Z",
     "iopub.status.idle": "2024-10-02T12:40:15.542380Z",
     "shell.execute_reply": "2024-10-02T12:40:15.540359Z"
    },
    "scrolled": true,
    "slideshow": {
     "slide_type": "fragment"
    }
   },
   "outputs": [
    {
     "name": "stdout",
     "output_type": "stream",
     "text": [
      "*** error(existence_error(mip_solver),solve)\r\n",
      "\r\n"
     ]
    }
   ],
   "source": [
    " !picat balanced-diet/balanced-diet.pi"
   ]
  },
  {
   "cell_type": "code",
   "execution_count": 6,
   "id": "3c33a62e",
   "metadata": {
    "execution": {
     "iopub.execute_input": "2024-10-02T12:40:15.548268Z",
     "iopub.status.busy": "2024-10-02T12:40:15.547741Z",
     "iopub.status.idle": "2024-10-02T12:40:15.662841Z",
     "shell.execute_reply": "2024-10-02T12:40:15.661549Z"
    },
    "scrolled": true,
    "slideshow": {
     "slide_type": "subslide"
    }
   },
   "outputs": [
    {
     "name": "stdout",
     "output_type": "stream",
     "text": [
      "/***********************************************************\r\n",
      "  from Constraint Solving and Planning with Picat, Springer \r\n",
      "  by Neng-Fa Zhou, Hakan Kjellerstrand, and Jonathan Fruhman \r\n",
      "***********************************************************/\r\n",
      "import mip.\r\n",
      "\r\n",
      "main =>\r\n",
      "  data(Prices,Limits,Nutrients),\r\n",
      "  Len = length(Prices),\r\n",
      "  Xs = new_array(Len),\r\n",
      "  Xs :: 0..10,\r\n",
      "  foreach (I in 1..Nutrients.length)\r\n",
      "    scalar_product(Nutrients[I],Xs,#>=,Limits[I])\r\n",
      "  end,\r\n",
      "  scalar_product(Prices,Xs,XSum),\r\n",
      "  solve($[min(XSum)],Xs),\r\n",
      "  writeln(Xs).\r\n",
      "\r\n",
      "% plain scalar product\r\n",
      "scalar_product(A,Xs,Product) => \r\n",
      "  Product #= sum([A[I]*Xs[I] : I in 1..A.length]).\r\n",
      "\r\n",
      "scalar_product(A,Xs,Rel,Product) => \r\n",
      "  scalar_product(A,Xs,P),\r\n",
      "  call(Rel,P,Product).\r\n",
      "\r\n",
      "data(Prices,Limits,Nutrition) =>\r\n",
      "  % prices in cents for each product\r\n",
      "  Prices = {50,20,30,80},\r\n",
      "  % required amount for each nutrition type \r\n",
      "  Limits = {500,6,10,8},  \r\n",
      "\r\n",
      "  % nutrition for each product\r\n",
      "  Nutrition = \r\n",
      "    {{400,200,150,500},  % calories\r\n",
      "     {  3,  2,  0,  0},  % chocolate\r\n",
      "     {  2,  2,  4,  4},  % sugar\r\n",
      "     {  2,  4,  1,  5}}. % fat\r\n"
     ]
    }
   ],
   "source": [
    "!cat balanced-diet/balanced-diet.pi"
   ]
  },
  {
   "cell_type": "markdown",
   "id": "1b0efef2",
   "metadata": {
    "slideshow": {
     "slide_type": "slide"
    }
   },
   "source": [
    "## Exercises"
   ]
  },
  {
   "cell_type": "markdown",
   "id": "66497e46",
   "metadata": {
    "slideshow": {
     "slide_type": "subslide"
    }
   },
   "source": [
    "### Exercise: Coins grid\n",
    "\n",
    "Place coins on a $31\\times 31$ board such that each row and each column contain exactly 14 coins, minimize the sum of quadratic horizontal distances of all coins from the main diagonal. (Source: Tony Hurlimann, \"A coin puzzle - SVOR-contest 2007\")"
   ]
  },
  {
   "cell_type": "markdown",
   "id": "f3724512",
   "metadata": {
    "slideshow": {
     "slide_type": "subslide"
    }
   },
   "source": [
    "### Exercise: Sudoku\n",
    "A traditional constraint satisfaction example: solve an $n\\times n$ sudoku puzzle. Try the following simple instance (from [the book](http://picat-lang.org/picatbook2015/constraint_solving_and_planning_with_picat.pdf)):\n",
    "```\n",
    "Instance = {\n",
    "    {4, _,  _, _},\n",
    "    {_, 1,  _, _},\n",
    "    {_, _,  _, 1},\n",
    "    {_, _,  _, 2}\n",
    "}.\n",
    "```"
   ]
  },
  {
   "cell_type": "markdown",
   "id": "2f579df0",
   "metadata": {
    "slideshow": {
     "slide_type": "subslide"
    }
   },
   "source": [
    "### Exercise: Minesweeper\n",
    "Identify the positions of all mines in a given board. Try the following instance (from [the book](http://picat-lang.org/picatbook2015/constraint_solving_and_planning_with_picat.pdf):\n",
    "```\n",
    "Instance = {\n",
    "    {_,_,2,_,3,_},\n",
    "    {2,_,_,_,_,_},\n",
    "    {_,_,2,4,_,3},\n",
    "    {1,_,3,4,_,_},\n",
    "    {_,_,_,_,_,3},\n",
    "    {_,3,_,3,_,_}\n",
    "}.\n",
    "```"
   ]
  },
  {
   "cell_type": "markdown",
   "id": "da4e33df",
   "metadata": {
    "slideshow": {
     "slide_type": "subslide"
    }
   },
   "source": [
    "### Exercise: Magic square\n",
    "Arrange numbers $1,2,\\dots,n^2$ in a square such that every row, every column, and the two main diagonals all sum to the same quantity. How many magic squares are there for a given $n$? Allow also for a partially filled instance."
   ]
  },
  {
   "cell_type": "markdown",
   "id": "136e2632",
   "metadata": {
    "slideshow": {
     "slide_type": "subslide"
    }
   },
   "source": [
    "### Exercise: Graph-coloring\n",
    "1. Write a program that solves the (directed) graph 3-coloring problem with a given number of colors and a given graph. The graph is given by a list of edges, each edge is a 2-element array. We assume that vertices of the graph are $1,\\dots,n$ where $n$ is the maximum number appearing in the list. \n",
    "2. Generalize your program to graph $k$-coloring where $k$ is a positive integer given on the input.\n",
    "3. Modify your program to accept the incidence matrix (a 2D array) instead of the list of edges.\n",
    "4. Add the flag `-n` to output the minimum number of colors (the chromatic number) of a given graph.\n",
    "For example:\n",
    "```\n",
    "picat graph-coloring.pi \"[{1,2},{2,3},{3,4},{4,1}]\"\n",
    "picat graph-coloring.pi \"[{1,2},{2,3},{3,1}]\" 4\n",
    "picat graph-coloring.pi \"{{0,1,1},{1,0,1},{1,1,0}}\" 4\n",
    "picat graph-coloring.pi -n \"[{1,2},{2,3},{3,4},{4,1}]\"\n",
    "```"
   ]
  }
 ],
 "metadata": {
  "celltoolbar": "Slideshow",
  "kernelspec": {
   "display_name": "Python 3 (ipykernel)",
   "language": "python",
   "name": "python3"
  },
  "language_info": {
   "codemirror_mode": {
    "name": "ipython",
    "version": 3
   },
   "file_extension": ".py",
   "mimetype": "text/x-python",
   "name": "python",
   "nbconvert_exporter": "python",
   "pygments_lexer": "ipython3",
   "version": "3.10.12"
  },
  "vscode": {
   "interpreter": {
    "hash": "916dbcbb3f70747c44a77c7bcd40155683ae19c65e1c03b4aa3499c5328201f1"
   }
  }
 },
 "nbformat": 4,
 "nbformat_minor": 5
}
