{
 "cells": [
  {
   "cell_type": "markdown",
   "id": "0d8742c9",
   "metadata": {
    "editable": false,
    "slideshow": {
     "slide_type": "slide"
    },
    "tags": []
   },
   "source": [
    "# NOPT042 Constraint programming: Tutorial 3 – Improving your model"
   ]
  },
  {
   "cell_type": "markdown",
   "id": "05b40cf1-03a0-4776-9050-8ee43ddbf2e3",
   "metadata": {
    "editable": false,
    "slideshow": {
     "slide_type": "slide"
    },
    "tags": []
   },
   "source": [
    "### What was in Lecture 3\n",
    "\n",
    "Look-back search algorithms (tree search)\n",
    "* backtracking (what order of variables and values?)\n",
    "* backjumping (to the source of conflict)\n",
    "* graph-directed backjumping (driven by constraint network, several jumps in sequence)\n",
    "* Gaschnig backjumping (considers violated constraints, only one jump, to highest-level)\n",
    "* conflict-driven: combines both, carry the source of conflict through backjumps\n",
    "* dynamic backtracking: change order of variables (don't rework easy parts outside of conflict)\n",
    "* backmarking (avoid repeated constraint checks: remember results of tests)"
   ]
  },
  {
   "cell_type": "markdown",
   "id": "f8cf71ca-f311-41fd-a90c-2273e0887dc4",
   "metadata": {
    "editable": false,
    "slideshow": {
     "slide_type": "slide"
    },
    "tags": []
   },
   "source": [
    "## Tips & Tricks"
   ]
  },
  {
   "cell_type": "markdown",
   "id": "c5801990",
   "metadata": {
    "editable": false,
    "slideshow": {
     "slide_type": "fragment"
    },
    "tags": []
   },
   "source": [
    "### Debuging\n",
    "* Try very small instances where you understand the solution set.\n",
    "* Unit-test constraints one by one.\n",
    "* Start with a model that is as simple as possible.\n",
    "* For advanced debuging options you can use `debug`, see \"How to Use the Debugger\" from the Picat Guide."
   ]
  },
  {
   "cell_type": "markdown",
   "id": "49a539d1",
   "metadata": {
    "editable": false,
    "slideshow": {
     "slide_type": "subslide"
    },
    "tags": []
   },
   "source": [
    "### How to import a file\n",
    "Use `cl(instance)` to compile (to bytecode `instance.qi`) & load the file `instance.pi` (anywhere in $PATH).\n",
    "```\n",
    "main =>\n",
    "    cl(instance),\n",
    "    puzzle(Vars),\n",
    "    solve(Vars).\n",
    "```\n",
    "See also Modules (`import`)."
   ]
  },
  {
   "cell_type": "markdown",
   "id": "afa1ffe2",
   "metadata": {
    "editable": false,
    "slideshow": {
     "slide_type": "slide"
    },
    "tags": []
   },
   "source": [
    "## Improving the model\n",
    "\n",
    "It is a good practice to first create a baseline model, and then try to improve. Ways to create more efficient model include:\n",
    "\n",
    "* **global constraints**: e.g. `all_different`\n",
    "* **symmetry breaking**: if there is a symmetry in the search space, e.g. in variables or in values, we can fix one element of the orbit and thus limit the part of the space that needs to be explored\n",
    "* choosing the best solver for your model (or the best model for your solver)\n",
    "* choosing a good solver configuration (e.g. search strategy---see the next tutorial)\n"
   ]
  },
  {
   "cell_type": "markdown",
   "id": "4233fbc3",
   "metadata": {
    "editable": false,
    "slideshow": {
     "slide_type": "slide"
    },
    "tags": []
   },
   "source": [
    "### Example: Map coloring"
   ]
  },
  {
   "cell_type": "markdown",
   "id": "6621fbb2",
   "metadata": {
    "editable": false,
    "slideshow": {
     "slide_type": "fragment"
    },
    "tags": []
   },
   "source": [
    "Create a model to color the map of Australian states and territories 7 with four colors (cf. The 4-color Theorem). (We exclude the Australian Capital Territory, the Jervis Bay Territory, and the external territories. Map coloring is a special case of [graph coloring](https://en.wikipedia.org/wiki/Graph_coloring), see [this map](map-coloring/countries.jpeg).\n",
    "\n",
    "<!-- \n",
    "![Map of Australia](map-coloring/australia.png)\n",
    "-->\n",
    "![Map of Australia](https://raw.githubusercontent.com/jbulin-mff-uk/nopt042/main/tutorial3/map-coloring/australia.png)"
   ]
  },
  {
   "cell_type": "markdown",
   "id": "d9827abc",
   "metadata": {
    "editable": false,
    "slideshow": {
     "slide_type": "subslide"
    },
    "tags": []
   },
   "source": [
    "Let's use the following decision variables:\n",
    "```\n",
    "Territories = [WA, NT, SA, Q, NSW, V, T]\n",
    "```"
   ]
  },
  {
   "cell_type": "code",
   "execution_count": 1,
   "id": "be9979ef",
   "metadata": {
    "editable": true,
    "execution": {
     "iopub.execute_input": "2024-10-29T15:03:51.308071Z",
     "iopub.status.busy": "2024-10-29T15:03:51.307878Z",
     "iopub.status.idle": "2024-10-29T15:03:51.431121Z",
     "shell.execute_reply": "2024-10-29T15:03:51.430649Z"
    },
    "scrolled": true,
    "slideshow": {
     "slide_type": "fragment"
    },
    "tags": []
   },
   "outputs": [
    {
     "name": "stdout",
     "output_type": "stream",
     "text": [
      "[1,2,3,1,2,1,1]\r\n"
     ]
    }
   ],
   "source": [
    "!picat map-coloring/map-coloring-baseline"
   ]
  },
  {
   "cell_type": "code",
   "execution_count": 2,
   "id": "46e0c6f5",
   "metadata": {
    "editable": true,
    "execution": {
     "iopub.execute_input": "2024-10-29T15:03:51.433038Z",
     "iopub.status.busy": "2024-10-29T15:03:51.432904Z",
     "iopub.status.idle": "2024-10-29T15:03:51.544030Z",
     "shell.execute_reply": "2024-10-29T15:03:51.543555Z"
    },
    "slideshow": {
     "slide_type": "subslide"
    },
    "tags": []
   },
   "outputs": [
    {
     "name": "stdout",
     "output_type": "stream",
     "text": [
      "import cp.\r\n",
      "\r\n",
      "color_map(Territories) =>\r\n",
      "    % variables\r\n",
      "    Territories = [WA, NT, SA, Q, NSW, V, T],\r\n",
      "    Territories :: 1..4,\r\n",
      "\r\n",
      "    % constraints\r\n",
      "    WA #!= NT,\r\n",
      "    WA #!= SA,\r\n",
      "    NT #!= SA,\r\n",
      "    NT #!= Q,\r\n",
      "    SA #!= Q,\r\n",
      "    SA #!= NSW,\r\n",
      "    SA #!= V,\r\n",
      "    Q  #!= NSW,\r\n",
      "    V  #!= NSW.\r\n",
      "\r\n",
      "\r\n",
      "main =>\r\n",
      "    color_map(Territories),\r\n",
      "    solve(Territories),\r\n",
      "    println(Territories).\r\n"
     ]
    }
   ],
   "source": [
    "!cat map-coloring/map-coloring-baseline.pi"
   ]
  },
  {
   "cell_type": "code",
   "execution_count": null,
   "id": "5fe3f856-8da1-46bb-8d2c-ca5cc23a0eb1",
   "metadata": {
    "editable": true,
    "slideshow": {
     "slide_type": ""
    },
    "tags": []
   },
   "outputs": [],
   "source": []
  },
  {
   "cell_type": "markdown",
   "id": "936a9f26",
   "metadata": {
    "editable": false,
    "slideshow": {
     "slide_type": "subslide"
    },
    "tags": []
   },
   "source": [
    "How can we improve the model?"
   ]
  },
  {
   "cell_type": "code",
   "execution_count": 3,
   "id": "8194d685",
   "metadata": {
    "editable": true,
    "execution": {
     "iopub.execute_input": "2024-10-29T15:03:51.545756Z",
     "iopub.status.busy": "2024-10-29T15:03:51.545619Z",
     "iopub.status.idle": "2024-10-29T15:03:51.666227Z",
     "shell.execute_reply": "2024-10-29T15:03:51.665692Z"
    },
    "slideshow": {
     "slide_type": "fragment"
    },
    "tags": []
   },
   "outputs": [
    {
     "name": "stdout",
     "output_type": "stream",
     "text": [
      "Western Australia is red.\r\n",
      "Northern Territory is green.\r\n",
      "South Australia is blue.\r\n",
      "Queensland is red.\r\n",
      "New South Wales is green.\r\n",
      "Victoria is red.\r\n",
      "Tasmania is red.\r\n"
     ]
    }
   ],
   "source": [
    "!picat map-coloring/map-coloring-improved"
   ]
  },
  {
   "cell_type": "code",
   "execution_count": 4,
   "id": "18677cda",
   "metadata": {
    "editable": true,
    "execution": {
     "iopub.execute_input": "2024-10-29T15:03:51.668239Z",
     "iopub.status.busy": "2024-10-29T15:03:51.667834Z",
     "iopub.status.idle": "2024-10-29T15:03:51.778996Z",
     "shell.execute_reply": "2024-10-29T15:03:51.778574Z"
    },
    "slideshow": {
     "slide_type": "subslide"
    },
    "tags": []
   },
   "outputs": [
    {
     "name": "stdout",
     "output_type": "stream",
     "text": [
      "import cp.\r\n",
      "\r\n",
      "color_map(Territories) =>\r\n",
      "    % variables\r\n",
      "    Territories = [WA, NT, SA, Q, NSW, V, T],\r\n",
      "    Territories :: 1..8,\r\n",
      "\r\n",
      "    % constraints\r\n",
      "    Edges = [\r\n",
      "        {WA,NT},\r\n",
      "        {WA,SA},\r\n",
      "        {NT,SA},\r\n",
      "        {NT,Q},\r\n",
      "        {SA,Q},\r\n",
      "        {SA,NSW},\r\n",
      "        {SA,V},\r\n",
      "        {Q ,NSW},\r\n",
      "        {V ,NSW}\r\n",
      "    ],\r\n",
      "    foreach(E in Edges)        \r\n",
      "        E[1] #!= E[2]\r\n",
      "    end.\r\n",
      "\r\n",
      "% symmetry breaking constraints\r\n",
      "precolor(Territories) =>\r\n",
      "    WA #= 1,\r\n",
      "    NT #= 2,\r\n",
      "    SA #= 3.\r\n",
      "\r\n",
      "% better output than `println(Territories)` (we could also use a map, i.e. a dictionary)\r\n",
      "output(Territories) =>\r\n",
      "    Color_names = [\"red\", \"green\", \"blue\", \"yellow\"],\r\n",
      "    Territory_names = [\"Western Australia\", \"Northern Territory\", \"South Australia\", \"Queensland\", \"New South Wales\", \"Victoria\", \"Tasmania\"],\r\n",
      "    foreach(I in 1..Territories.length)\r\n",
      "        writef(\"%s is %s.\\n\", Territory_names[I], Color_names[Territories[I]])\r\n",
      "    end.\r\n",
      "\r\n",
      "\r\n",
      "main =>\r\n",
      "    color_map(Territories),\r\n",
      "    % precolor(Territories),\r\n",
      "    solve(Territories), \r\n",
      "    output(Territories).\r\n"
     ]
    }
   ],
   "source": [
    "!cat map-coloring/map-coloring-improved.pi"
   ]
  },
  {
   "cell_type": "markdown",
   "id": "26b4354b",
   "metadata": {
    "editable": false,
    "slideshow": {
     "slide_type": "fragment"
    },
    "tags": []
   },
   "source": [
    "What else is wrong with this model? We always want to separate the model from the data. (See the exercise Graph-coloring below.)"
   ]
  },
  {
   "cell_type": "markdown",
   "id": "28e5579c",
   "metadata": {
    "editable": false,
    "slideshow": {
     "slide_type": "slide"
    },
    "tags": []
   },
   "source": [
    "## Choosing a solver"
   ]
  },
  {
   "cell_type": "markdown",
   "id": "8d2186a6",
   "metadata": {
    "editable": false,
    "slideshow": {
     "slide_type": "fragment"
    },
    "tags": []
   },
   "source": [
    "Picat provides the following four solvers (implemented as modules):\n",
    "* cp\n",
    "* sat\n",
    "* smt\n",
    "* mip\n",
    "\n",
    "What are the differences?"
   ]
  },
  {
   "cell_type": "markdown",
   "id": "a7000289",
   "metadata": {
    "editable": false,
    "slideshow": {
     "slide_type": "slide"
    },
    "tags": []
   },
   "source": [
    "### Example: Balanced diet (optimization)"
   ]
  },
  {
   "cell_type": "markdown",
   "id": "43e46221",
   "metadata": {
    "editable": false,
    "slideshow": {
     "slide_type": "fragment"
    },
    "tags": []
   },
   "source": [
    "This is (one of?) the first optimization problem for which Linear programming was used. Given a list of food items together with their nutritional values and prices, the goal is to choose a balanced diet---one that contains required minimal amounts of nutrients---while minimizing total price.\n",
    "\n",
    "Note how we pass options to the solver: `solve($[min(XSum)],Xs)` The $ sign tells the solver to interpret the following as a term, rather than evaluating it as a function.\n",
    "\n",
    "We will use the `mip` solver. It requires an external MIP solver. Here we use the Computational Infrastructure for Operations Research (COIN-OR)'s Cbc (branch and cut)."
   ]
  },
  {
   "cell_type": "markdown",
   "id": "97527257",
   "metadata": {
    "editable": false,
    "slideshow": {
     "slide_type": "subslide"
    },
    "tags": []
   },
   "source": [
    "\n",
    "First, we need to install the Cbc package.\n",
    "```\n",
    "sudo apt-get install  coinor-cbc coinor-libcbc-dev\n",
    "```\n",
    "Or without root privileges:\n",
    "```\n",
    "wget https://raw.githubusercontent.com/coin-or/coinbrew/master/coinbrew\n",
    "chmod u+x coinbrew\n",
    "./coinbrew fetch Cbc@master\n",
    "./coinbrew build Cbc\n",
    "export PATH=$PATH:~/coinbrew/dist/bin\n",
    "```"
   ]
  },
  {
   "cell_type": "code",
   "execution_count": 5,
   "id": "a461b667",
   "metadata": {
    "editable": true,
    "execution": {
     "iopub.execute_input": "2024-10-29T15:03:51.781077Z",
     "iopub.status.busy": "2024-10-29T15:03:51.780918Z",
     "iopub.status.idle": "2024-10-29T15:03:51.910158Z",
     "shell.execute_reply": "2024-10-29T15:03:51.909636Z"
    },
    "scrolled": true,
    "slideshow": {
     "slide_type": "subslide"
    },
    "tags": []
   },
   "outputs": [
    {
     "name": "stdout",
     "output_type": "stream",
     "text": [
      "'Done'\r\n",
      "GLPSOL--GLPK LP/MIP Solver 5.0\r\n",
      "Parameter(s) specified in the command line:\r\n",
      " --cpxlp -o __tmp.sol __tmp.lp\r\n",
      "Reading problem data from '__tmp.lp'...\r\n",
      "23 rows, 9 columns, 41 non-zeros\r\n",
      "9 integer variables, none of which are binary\r\n",
      "47 lines were read\r\n",
      "GLPK Integer Optimizer 5.0\r\n",
      "23 rows, 9 columns, 41 non-zeros\r\n",
      "9 integer variables, none of which are binary\r\n",
      "Preprocessing...\r\n",
      "5 rows, 9 columns, 23 non-zeros\r\n",
      "9 integer variables, none of which are binary\r\n",
      "Scaling...\r\n",
      " A: min|aij| =  1.000e+00  max|aij| =  5.000e+02  ratio =  5.000e+02\r\n",
      "GM: min|aij| =  5.946e-01  max|aij| =  1.682e+00  ratio =  2.828e+00\r\n",
      "EQ: min|aij| =  3.536e-01  max|aij| =  1.000e+00  ratio =  2.828e+00\r\n",
      "2N: min|aij| =  2.500e-01  max|aij| =  1.562e+00  ratio =  6.250e+00\r\n",
      "Constructing initial basis...\r\n",
      "Size of triangular part is 5\r\n",
      "Solving LP relaxation...\r\n",
      "GLPK Simplex Optimizer 5.0\r\n",
      "5 rows, 9 columns, 23 non-zeros\r\n",
      "      0: obj =   0.000000000e+00 inf =   1.512e+02 (4)\r\n",
      "      4: obj =   1.266666667e+02 inf =   0.000e+00 (0)\r\n",
      "*     5: obj =   9.000000000e+01 inf =   0.000e+00 (0)\r\n",
      "OPTIMAL LP SOLUTION FOUND\r\n",
      "Integer optimization begins...\r\n",
      "Long-step dual simplex will be used\r\n",
      "+     5: mip =     not found yet >=              -inf        (1; 0)\r\n",
      "+     5: >>>>>   9.000000000e+01 >=   9.000000000e+01   0.0% (1; 0)\r\n",
      "+     5: mip =   9.000000000e+01 >=     tree is empty   0.0% (0; 1)\r\n",
      "INTEGER OPTIMAL SOLUTION FOUND\r\n",
      "Time used:   0.0 secs\r\n",
      "Memory used: 0.1 Mb (62497 bytes)\r\n",
      "Writing MIP solution to '__tmp.sol'...\r\n",
      "{0,3,1,0}\r\n"
     ]
    }
   ],
   "source": [
    " !picat balanced-diet/balanced-diet"
   ]
  },
  {
   "cell_type": "code",
   "execution_count": 6,
   "id": "3c33a62e",
   "metadata": {
    "editable": true,
    "execution": {
     "iopub.execute_input": "2024-10-29T15:03:51.912861Z",
     "iopub.status.busy": "2024-10-29T15:03:51.912583Z",
     "iopub.status.idle": "2024-10-29T15:03:52.024438Z",
     "shell.execute_reply": "2024-10-29T15:03:52.023911Z"
    },
    "scrolled": true,
    "slideshow": {
     "slide_type": "subslide"
    },
    "tags": []
   },
   "outputs": [
    {
     "name": "stdout",
     "output_type": "stream",
     "text": [
      "% adapted from Constraint Solving and Planning with Picat, Springer \r\n",
      "% by Neng-Fa Zhou, Hakan Kjellerstrand, and Jonathan Fruhman \r\n",
      "\r\n",
      "import mip.\r\n",
      "\r\n",
      "main =>\r\n",
      "  data(Prices,Limits,Nutrients),\r\n",
      "  Len = length(Prices),\r\n",
      "  Xs = new_array(Len),\r\n",
      "  Xs :: 0..10,\r\n",
      "  foreach (I in 1..Nutrients.length)\r\n",
      "    scalar_product(Nutrients[I],Xs,#>=,Limits[I])\r\n",
      "  end,\r\n",
      "  scalar_product(Prices,Xs,XSum),\r\n",
      "  solve($[min(XSum)],Xs),\r\n",
      "  writeln(Xs).\r\n",
      "\r\n",
      "% plain scalar product\r\n",
      "scalar_product(A,Xs,Product) => \r\n",
      "  Product #= sum([A[I]*Xs[I] : I in 1..A.length]).\r\n",
      "\r\n",
      "scalar_product(A,Xs,Rel,Product) => \r\n",
      "  scalar_product(A,Xs,P),\r\n",
      "  call(Rel,P,Product).\r\n",
      "\r\n",
      "data(Prices,Limits,Nutrition) =>\r\n",
      "  % prices in cents for each product\r\n",
      "  Prices = {50,20,30,80},\r\n",
      "  % required amount for each nutrition type \r\n",
      "  Limits = {500,6,10,8},  \r\n",
      "\r\n",
      "  % nutrition for each product\r\n",
      "  Nutrition = \r\n",
      "    {{400,200,150,500},  % calories\r\n",
      "     {  3,  2,  0,  0},  % chocolate\r\n",
      "     {  2,  2,  4,  4},  % sugar\r\n",
      "     {  2,  4,  1,  5}}. % fat\r\n"
     ]
    }
   ],
   "source": [
    "!cat balanced-diet/balanced-diet.pi"
   ]
  },
  {
   "cell_type": "code",
   "execution_count": 7,
   "id": "5df5bde8-a4c6-4e3c-a64c-b2744cd6a785",
   "metadata": {
    "editable": true,
    "execution": {
     "iopub.execute_input": "2024-10-29T15:03:52.026757Z",
     "iopub.status.busy": "2024-10-29T15:03:52.026600Z",
     "iopub.status.idle": "2024-10-29T15:03:52.137667Z",
     "shell.execute_reply": "2024-10-29T15:03:52.137268Z"
    },
    "scrolled": true,
    "slideshow": {
     "slide_type": "subslide"
    },
    "tags": []
   },
   "outputs": [
    {
     "name": "stdout",
     "output_type": "stream",
     "text": [
      "Minimize\r\n",
      " obj: X0\r\n",
      "Subject To\r\n",
      " -X0 >= -1800\r\n",
      " X0 >= 0\r\n",
      " -X1 >= -10\r\n",
      " X1 >= 0\r\n",
      " -2 X1 - 2 X2 - 4 X3 - 4 X4 + X6 = 0\r\n",
      " -X2 >= -10\r\n",
      " X2 >= 0\r\n",
      " -2 X2 - 3 X1 + X7 = 0\r\n",
      " -20 X2 - 30 X3 - 50 X1 - 80 X4 + X0 = 0\r\n",
      " -X3 >= -10\r\n",
      " X3 >= 0\r\n",
      " -150 X3 - 200 X2 - 400 X1 - 500 X4 + X8 = 0\r\n",
      " -X3 - 2 X1 - 4 X2 - 5 X4 + X5 = 0\r\n",
      " -X4 >= -10\r\n",
      " X4 >= 0\r\n",
      " -X5 >= -120\r\n",
      " X5 >= 8\r\n",
      " -X6 >= -120\r\n",
      " X6 >= 10\r\n",
      " -X7 >= -50\r\n",
      " X7 >= 6\r\n",
      " -X8 >= -12500\r\n",
      " X8 >= 500\r\n",
      "Bounds\r\n",
      " 0 <= X0 <= 1800\r\n",
      " 0 <= X1 <= 10\r\n",
      " 0 <= X2 <= 10\r\n",
      " 0 <= X3 <= 10\r\n",
      " 0 <= X4 <= 10\r\n",
      " 8 <= X5 <= 120\r\n",
      " 10 <= X6 <= 120\r\n",
      " 6 <= X7 <= 50\r\n",
      " 500 <= X8 <= 12500\r\n",
      "Integers\r\n",
      " X0\r\n",
      " X1\r\n",
      " X2\r\n",
      " X3\r\n",
      " X4\r\n",
      " X5\r\n",
      " X6\r\n",
      " X7\r\n",
      " X8\r\n",
      "End\r\n"
     ]
    }
   ],
   "source": [
    "!cat __tmp.lp"
   ]
  },
  {
   "cell_type": "code",
   "execution_count": 8,
   "id": "9b4821f1-ac85-4726-90d0-a92418c1e43a",
   "metadata": {
    "editable": true,
    "execution": {
     "iopub.execute_input": "2024-10-29T15:03:52.139670Z",
     "iopub.status.busy": "2024-10-29T15:03:52.139522Z",
     "iopub.status.idle": "2024-10-29T15:03:52.250786Z",
     "shell.execute_reply": "2024-10-29T15:03:52.250390Z"
    },
    "slideshow": {
     "slide_type": "subslide"
    },
    "tags": []
   },
   "outputs": [
    {
     "name": "stdout",
     "output_type": "stream",
     "text": [
      "Problem:    \r\n",
      "Rows:       23\r\n",
      "Columns:    9 (9 integer, 0 binary)\r\n",
      "Non-zeros:  41\r\n",
      "Status:     INTEGER OPTIMAL\r\n",
      "Objective:  obj = 90 (MINimum)\r\n",
      "\r\n",
      "   No.   Row name        Activity     Lower bound   Upper bound\r\n",
      "------ ------------    ------------- ------------- -------------\r\n",
      "     1 r.4                       -90         -1800               \r\n",
      "     2 r.5                        90             0               \r\n",
      "     3 r.6                         0           -10               \r\n",
      "     4 r.7                         0             0               \r\n",
      "     5 r.8                         0             0             = \r\n",
      "     6 r.9                        -3           -10               \r\n",
      "     7 r.10                        3             0               \r\n",
      "     8 r.11                        0             0             = \r\n",
      "     9 r.12                        0             0             = \r\n",
      "    10 r.13                       -1           -10               \r\n",
      "    11 r.14                        1             0               \r\n",
      "    12 r.15                        0             0             = \r\n",
      "    13 r.16                        0             0             = \r\n",
      "    14 r.17                        0           -10               \r\n",
      "    15 r.18                        0             0               \r\n",
      "    16 r.19                      -13          -120               \r\n",
      "    17 r.20                       13             8               \r\n",
      "    18 r.21                      -10          -120               \r\n",
      "    19 r.22                       10            10               \r\n",
      "    20 r.23                       -6           -50               \r\n",
      "    21 r.24                        6             6               \r\n",
      "    22 r.25                     -750        -12500               \r\n",
      "    23 r.26                      750           500               \r\n",
      "\r\n",
      "   No. Column name       Activity     Lower bound   Upper bound\r\n",
      "------ ------------    ------------- ------------- -------------\r\n",
      "     1 X0           *             90             0          1800 \r\n",
      "     2 X1           *              0             0            10 \r\n",
      "     3 X2           *              3             0            10 \r\n",
      "     4 X3           *              1             0            10 \r\n",
      "     5 X4           *              0             0            10 \r\n",
      "     6 X6           *             10            10           120 \r\n",
      "     7 X7           *              6             6            50 \r\n",
      "     8 X8           *            750           500         12500 \r\n",
      "     9 X5           *             13             8           120 \r\n",
      "\r\n",
      "Integer feasibility conditions:\r\n",
      "\r\n",
      "KKT.PE: max.abs.err = 0.00e+00 on row 0\r\n",
      "        max.rel.err = 0.00e+00 on row 0\r\n",
      "        High quality\r\n",
      "\r\n",
      "KKT.PB: max.abs.err = 0.00e+00 on row 0\r\n",
      "        max.rel.err = 0.00e+00 on row 0\r\n",
      "        High quality\r\n",
      "\r\n",
      "End of output\r\n"
     ]
    }
   ],
   "source": [
    "!cat __tmp.sol"
   ]
  },
  {
   "cell_type": "markdown",
   "id": "1b0efef2",
   "metadata": {
    "editable": false,
    "slideshow": {
     "slide_type": "slide"
    },
    "tags": []
   },
   "source": [
    "## Exercises"
   ]
  },
  {
   "cell_type": "markdown",
   "id": "66497e46",
   "metadata": {
    "editable": false,
    "slideshow": {
     "slide_type": "subslide"
    },
    "tags": []
   },
   "source": [
    "### Exercise: Coins grid\n",
    "\n",
    "Place coins on a $31\\times 31$ board such that each row and each column contain exactly 14 coins, minimize the sum of quadratic horizontal distances of all coins from the main diagonal. (Source: Tony Hurlimann, \"A coin puzzle - SVOR-contest 2007\")"
   ]
  },
  {
   "cell_type": "markdown",
   "id": "f3724512",
   "metadata": {
    "editable": false,
    "slideshow": {
     "slide_type": "subslide"
    },
    "tags": []
   },
   "source": [
    "### Exercise: Sudoku\n",
    "A traditional constraint satisfaction example: solve an $n\\times n$ sudoku puzzle. Try the following simple instance (from [the book](http://picat-lang.org/picatbook2015/constraint_solving_and_planning_with_picat.pdf)):\n",
    "```\n",
    "Board = {\n",
    "    {4, _,  _, _},\n",
    "    {_, 1,  _, _},\n",
    "    {_, _,  _, 1},\n",
    "    {_, _,  _, 2}\n",
    "}.\n",
    "```"
   ]
  },
  {
   "cell_type": "markdown",
   "id": "136e2632",
   "metadata": {
    "editable": false,
    "jp-MarkdownHeadingCollapsed": true,
    "slideshow": {
     "slide_type": "subslide"
    },
    "tags": []
   },
   "source": [
    "### Exercise: Graph-coloring\n",
    "1. Write a program that solves the (directed) graph 3-coloring problem with a given number of colors and a given graph. The graph is given by a list of edges, each edge is a 2-element array. We assume that vertices of the graph are $1,\\dots,n$ where $n$ is the maximum number appearing in the list. \n",
    "2. Generalize your program to graph $k$-coloring where $k$ is a positive integer given on the input.\n",
    "3. Modify your program to accept the incidence matrix (a 2D array) instead of the list of edges.\n",
    "4. Add the flag `-n` to output the minimum number of colors (the chromatic number) of a given graph.\n",
    "For example:\n",
    "```\n",
    "picat graph-coloring \"[{1,2},{2,3},{3,4},{4,1}]\"\n",
    "picat graph-coloring \"[{1,2},{2,3},{3,1}]\" 4\n",
    "picat graph-coloring \"{{0,1,1},{1,0,1},{1,1,0}}\" 4\n",
    "picat graph-coloring -n \"[{1,2},{2,3},{3,4},{4,1}]\"\n",
    "```"
   ]
  }
 ],
 "metadata": {
  "celltoolbar": "Slideshow",
  "kernelspec": {
   "display_name": "Python 3 (ipykernel)",
   "language": "python",
   "name": "python3"
  },
  "language_info": {
   "codemirror_mode": {
    "name": "ipython",
    "version": 3
   },
   "file_extension": ".py",
   "mimetype": "text/x-python",
   "name": "python",
   "nbconvert_exporter": "python",
   "pygments_lexer": "ipython3",
   "version": "3.12.7"
  },
  "rise": {
   "theme": "sky"
  },
  "vscode": {
   "interpreter": {
    "hash": "916dbcbb3f70747c44a77c7bcd40155683ae19c65e1c03b4aa3499c5328201f1"
   }
  }
 },
 "nbformat": 4,
 "nbformat_minor": 5
}
