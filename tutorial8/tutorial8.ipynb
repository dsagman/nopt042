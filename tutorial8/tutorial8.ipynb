{
 "cells": [
  {
   "cell_type": "markdown",
   "id": "0d8742c9",
   "metadata": {
    "editable": true,
    "slideshow": {
     "slide_type": "slide"
    },
    "tags": []
   },
   "source": [
    "# NOPT042 Constraint programming: Tutorial 8 - Global constraints"
   ]
  },
  {
   "cell_type": "code",
   "execution_count": 1,
   "id": "ebb50602",
   "metadata": {
    "execution": {
     "iopub.execute_input": "2024-10-07T08:50:39.870328Z",
     "iopub.status.busy": "2024-10-07T08:50:39.868179Z",
     "iopub.status.idle": "2024-10-07T08:50:39.916519Z",
     "shell.execute_reply": "2024-10-07T08:50:39.915644Z"
    },
    "slideshow": {
     "slide_type": "skip"
    }
   },
   "outputs": [
    {
     "data": {
      "application/javascript": [
       "\"use strict\";\n",
       "\n",
       "CodeMirror.defineMode(\"text/picat\", function(config) {\n",
       "\n",
       "  var isOperatorChar = /[+\\-*=\\@\\&|\\:#<>\\/]/;\n",
       "\n",
       "  var keywords = {\"else\":true,\n",
       "  \"end\":true,\n",
       "  \"foreach\":true,\n",
       "  \"if\":true,\n",
       "  \"in\":true,\n",
       "  \"then\":true\n",
       "  }\n",
       "\n",
       "  var specials = {\"acyclic_term\":true,\n",
       "  \"and_to_list\":true,\n",
       "  \"append\":true,\n",
       "  \"apply\":true,\n",
       "  \"arity\":true,\n",
       "  \"array\":true,\n",
       "  \"atom\":true,\n",
       "  \"atom_chars\":true,\n",
       "  \"atom_codes\":true,\n",
       "  \"atomic\":true,\n",
       "  \"attr_var\":true,\n",
       "  \"between\":true,\n",
       "  \"bind_vars\":true,\n",
       "  \"call\":true,\n",
       "  \"call_cleanup\":true,\n",
       "  \"catch\":true,\n",
       "  \"char\":true,\n",
       "  \"chr\":true,\n",
       "  \"clear\":true,\n",
       "  \"compare_terms\":true,\n",
       "  \"compound\":true,\n",
       "  \"copy_term\":true,\n",
       "  \"count_all\":true,\n",
       "  \"delete\":true,\n",
       "  \"delete_all\":true,\n",
       "  \"different_term\":true,\n",
       "  \"digit\":true,\n",
       "  \"div\":true,\n",
       "  \"dvar\":true,\n",
       "  \"dvar_or_int\":true,\n",
       "//   \"end\":true,\n",
       "  \"fail\":true,\n",
       "  \"false\":true,\n",
       "  \"find_all\":true,\n",
       "  \"findall\":true,\n",
       "  \"first\":true,\n",
       "  \"flatten\":true,\n",
       "  \"float\":true,\n",
       "  \"fold\":true,\n",
       "//   \"foreach\":true,\n",
       "  \"freeze\":true,\n",
       "  \"get\":true,\n",
       "  \"get_attr\":true,\n",
       "  \"get_global_map\":true,\n",
       "  \"get_heap_map\":true,\n",
       "  \"get_table_map\":true,\n",
       "  \"ground\":true,\n",
       "  \"handle_exception\":true,\n",
       "  \"has_key\":true,\n",
       "  \"hash_code\":true,\n",
       "  \"head\":true,\n",
       "  \"heap_is_empty\":true,\n",
       "  \"heap_pop\":true,\n",
       "  \"heap_push\":true,\n",
       "  \"heap_size\":true,\n",
       "  \"heap_to_list\":true,\n",
       "  \"heap_top\":true,\n",
       "  \"import\":true,    \n",
       "//   \"in\":true,\n",
       "  \"insert\":true,\n",
       "  \"insert_all\":true,\n",
       "  \"insert_ordered\":true,\n",
       "  \"insert_ordered_down\":true,\n",
       "  \"int\":true,\n",
       "  \"integer\":true,\n",
       "  \"is\":true,\n",
       "  \"keys\":true,\n",
       "  \"last\":true,\n",
       "  \"len\":true,\n",
       "  \"length\":true,\n",
       "  \"list\":true,\n",
       "  \"list_to_and\":true,\n",
       "  \"lowercase\":true,\n",
       "  \"map\":true,\n",
       "  \"map_to_list\":true,\n",
       "  \"max\":true,\n",
       "  \"maxint_small\":true,\n",
       "  \"maxof\":true,\n",
       "  \"maxof_inc\":true,\n",
       "  \"membchk\":true,\n",
       "  \"member\":true,\n",
       "  \"min\":true,\n",
       "  \"minint_small\":true,\n",
       "  \"minof\":true,\n",
       "  \"minof_inc\":true,\n",
       "  \"mod\":true,\n",
       "  \"name\":true,\n",
       "  \"new_array\":true,\n",
       "  \"new_list\":true,\n",
       "  \"new_map\":true,\n",
       "  \"new_max_heap\":true,\n",
       "  \"new_min_heap\":true,\n",
       "  \"new_set\":true,\n",
       "  \"new_struct\":true,\n",
       "  \"nonvar\":true,\n",
       "  \"not\":true,\n",
       "  \"notin\":true,\n",
       "  \"nth\":true,\n",
       "  \"number\":true,\n",
       "  \"number_char\":true,\n",
       "  \"number_codes\":true,\n",
       "  \"number_vars\":true,\n",
       "  \"once\":true,\n",
       "  \"ord\":true,\n",
       "  \"parse_radix_string\":true,\n",
       "  \"parse_term\":true,\n",
       "  \"post_event\":true,\n",
       "  \"post_event_any\":true,\n",
       "  \"post_event_bound\":true,\n",
       "  \"post_event_dom\":true,\n",
       "  \"post_event_ins\":true,\n",
       "  \"print\":true,\n",
       "  \"println\":true,\n",
       "  \"prod\":true,\n",
       "  \"put\":true,\n",
       "  \"put_attr\":true,\n",
       "  \"real\":true,\n",
       "  \"reduce\":true,\n",
       "  \"rem\":true,\n",
       "  \"remove_dumps\":true,\n",
       "  \"repeat\":true,\n",
       "  \"reverse\":true,\n",
       "  \"second\":true,\n",
       "  \"select\":true,\n",
       "  \"size\":true,\n",
       "  \"slice\":true,\n",
       "  \"sort\":true,\n",
       "  \"sort_down\":true,\n",
       "  \"sort_down_remove_dups\":true,\n",
       "  \"sort_remove_dups\":true,\n",
       "  \"sorted\":true,\n",
       "  \"sorted_down\":true,\n",
       "  \"string\":true,\n",
       "  \"struct\":true,\n",
       "  \"subsumes\":true,\n",
       "  \"sum\":true,\n",
       "  \"tail\":true,\n",
       "  \"throw\":true,\n",
       "  \"to_array\":true,\n",
       "  \"to_atom\":true,\n",
       "  \"to_binary_string\":true,\n",
       "  \"to_code\":true,\n",
       "  \"to_fstring\":true,\n",
       "  \"to_hex_string\":true,\n",
       "  \"to_int\":true,\n",
       "  \"to_integer\":true,\n",
       "  \"to_list\":true,\n",
       "  \"to_lowercase\":true,\n",
       "  \"to_number\":true,\n",
       "  \"to_oct_string\":true,\n",
       "  \"to_radix_string\":true,\n",
       "  \"to_real\":true,\n",
       "  \"to_string\":true,\n",
       "  \"to_uppercase\":true,\n",
       "  \"true\":true,\n",
       "  \"uppercase\":true,\n",
       "  \"values\":true,\n",
       "  \"var\":true,\n",
       "  \"variant\":true,\n",
       "  \"vars\":true,\n",
       "  \"zip\":true,\n",
       "\n",
       "  \"abs\":true,\n",
       "  \"acos\":true,\n",
       "  \"acosh\":true,\n",
       "  \"acot\":true,\n",
       "  \"acoth\":true,\n",
       "  \"acsc\":true,\n",
       "  \"acsch\":true,\n",
       "  \"asec\":true,\n",
       "  \"asech\":true,\n",
       "  \"asin\":true,\n",
       "  \"asinh\":true,\n",
       "  \"atan\":true,\n",
       "  \"atan2\":true,\n",
       "  \"atanh\":true,\n",
       "  \"ceiling\":true,\n",
       "  \"cos\":true,\n",
       "  \"cosh\":true,\n",
       "  \"cot\":true,\n",
       "  \"coth\":true,\n",
       "  \"csc\":true,\n",
       "  \"csch\":true,\n",
       "  \"e\":true,\n",
       "  \"even\":true,\n",
       "  \"exp\":true,\n",
       "  \"floor\":true,\n",
       "  \"frand\":true,\n",
       "  \"gcd\":true,\n",
       "  \"log\":true,\n",
       "  \"log10\":true,\n",
       "  \"log2\":true,\n",
       "  \"modf\":true,\n",
       "  \"odd\":true,\n",
       "  \"pi\":true,\n",
       "  \"pow\":true,\n",
       "  \"pow_mod\":true,\n",
       "  \"prime\":true,\n",
       "  \"primes\":true,\n",
       "  \"max\":true,\n",
       "  \"random\":true,\n",
       "  \"random2\":true,\n",
       "  \"round\":true,\n",
       "  \"sec\":true,\n",
       "  \"sech\":true,\n",
       "  \"sign\":true,\n",
       "  \"sin\":true,\n",
       "  \"sinh\":true,\n",
       "  \"sqrt\":true,\n",
       "  \"tan\":true,\n",
       "  \"tanh\":true,\n",
       "  \"to_degrees\":true,\n",
       "  \"to_radians\":true,\n",
       "  \"truncate\":true,\n",
       "    \n",
       " \n",
       "  \"xor\":true};\n",
       "\n",
       "  var punc = \":;,.(){}[]\";\n",
       "\n",
       "  function tokenBase(stream, state) {\n",
       "    var ch = stream.next();\n",
       "    if (ch == '\"') {\n",
       "      state.tokenize.push(tokenString);\n",
       "      return tokenString(stream, state);\n",
       "    }\n",
       "    if (/[\\d\\.]/.test(ch)) {\n",
       "      if (ch == \".\") {\n",
       "        stream.match(/^[0-9]+([eE][\\-+]?[0-9]+)?/);\n",
       "      } else if (ch == \"0\") {\n",
       "        stream.match(/^[xX][0-9a-fA-F]+/) || stream.match(/^0[0-7]+/);\n",
       "      } else {\n",
       "        stream.match(/^[0-9]*\\.?[0-9]*([eE][\\-+]?[0-9]+)?/);\n",
       "      }\n",
       "      return \"number\";\n",
       "    }\n",
       "    if (ch == \"/\") {\n",
       "      if (stream.eat(\"*\")) {\n",
       "        state.tokenize.push(tokenComment);\n",
       "        return tokenComment(stream, state);\n",
       "      }\n",
       "    }\n",
       "    if (ch == \"%\") {\n",
       "      stream.skipToEnd();\n",
       "      return \"comment\";\n",
       "    }\n",
       "    if (isOperatorChar.test(ch)) {\n",
       "      stream.eatWhile(isOperatorChar);\n",
       "      return \"operator\";\n",
       "    }\n",
       "    if (punc.indexOf(ch) > -1) {\n",
       "      return \"punctuation\";\n",
       "    }\n",
       "    stream.eatWhile(/[\\w\\$_\\xa1-\\uffff]/);\n",
       "    var cur = stream.current();\n",
       "    if (keywords.propertyIsEnumerable(cur)) {\n",
       "      return \"keyword\";\n",
       "    }\n",
       "    return \"variable\";\n",
       "  }\n",
       "\n",
       "  function tokenComment(stream, state) {\n",
       "    var maybeEnd = false, ch;\n",
       "    while (ch = stream.next()) {\n",
       "      if (ch == \"/\" && maybeEnd) {\n",
       "        state.tokenize.pop();\n",
       "        break;\n",
       "      }\n",
       "      maybeEnd = (ch == \"*\");\n",
       "    }\n",
       "    return \"comment\";\n",
       "  }\n",
       "\n",
       "  function tokenUntilClosingParen() {\n",
       "    var depth = 0;\n",
       "    return function(stream, state, prev) {\n",
       "      var inner = tokenBase(stream, state, prev);\n",
       "      console.log(\"untilClosing\",inner,stream.current());\n",
       "      if (inner == \"punctuation\") {\n",
       "        if (stream.current() == \"(\") {\n",
       "          ++depth;\n",
       "        } else if (stream.current() == \")\") {\n",
       "          if (depth == 0) {\n",
       "            stream.backUp(1)\n",
       "            state.tokenize.pop()\n",
       "            return state.tokenize[state.tokenize.length - 1](stream, state)\n",
       "          } else {\n",
       "            --depth;\n",
       "          }\n",
       "        }\n",
       "      }\n",
       "      return inner;\n",
       "    }\n",
       "  }\n",
       "\n",
       "  function tokenString(stream, state) {\n",
       "    var escaped = false, next, end = false;\n",
       "    while ((next = stream.next()) != null) {\n",
       "      if (next=='(' && escaped) {\n",
       "        state.tokenize.push(tokenUntilClosingParen());\n",
       "        return \"string\";\n",
       "      }\n",
       "      if (next == '\"' && !escaped) {end = true; break;}\n",
       "      escaped = !escaped && next == \"\\\\\";\n",
       "    }\n",
       "    if (end || !escaped)\n",
       "      state.tokenize.pop();\n",
       "    return \"string\";\n",
       "  }\n",
       "\n",
       "  return {\n",
       "    startState: function(basecolumn) {\n",
       "      return {\n",
       "        tokenize: []\n",
       "      };\n",
       "    },\n",
       "\n",
       "    token: function(stream, state) {\n",
       "      if (stream.eatSpace()) return null;\n",
       "      var style = (state.tokenize[state.tokenize.length - 1] || tokenBase)(stream, state);\n",
       "      console.log(\"token\",style);\n",
       "      return style;\n",
       "    },\n",
       "\n",
       "    blockCommentStart: \"/*\",\n",
       "    blockCommentEnd: \"*/\",\n",
       "    lineComment: \"%\"\n",
       "  };\n",
       "});\n",
       "\n",
       "CodeMirror.defineMIME(\"text/picat\", \"text/picat\");\n",
       "\n",
       "Jupyter.CodeCell.options_default.highlight_modes['magic_text/picat'] = {'reg':[/^%%picat/]} ;\n",
       "\n",
       "Jupyter.notebook.get_cells().map(function(cell){\n",
       "  if (cell.cell_type == 'code'){ cell.auto_highlight(); }\n",
       "}) ;"
      ],
      "text/plain": [
       "<IPython.core.display.Javascript object>"
      ]
     },
     "metadata": {},
     "output_type": "display_data"
    },
    {
     "name": "stdout",
     "output_type": "stream",
     "text": [
      "Picat version 3.7\n"
     ]
    }
   ],
   "source": [
    "%load_ext ipicat"
   ]
  },
  {
   "cell_type": "markdown",
   "id": "85c3fd0f",
   "metadata": {
    "slideshow": {
     "slide_type": "slide"
    }
   },
   "source": [
    "## Example: Magic sequence\n",
    "\n",
    "A magic sequence of length $n$ is a sequence of integers $x_0,\\dots,x_{n−1}$ between $0$ and $n-1$, such\n",
    "that for all $i\\in\\{0,\\dots,n-1\\}$, the number $i$ occurs exactly $x_i$-times in the sequence. For instance,\n",
    "6,2,1,0,0,0,1,0,0,0 is a magic sequence since 0 occurs 6 times in it, 1 occurs twice, etc.\n",
    "\n",
    "(Problem from [the book](http://picat-lang.org/picatbook2015/constraint_solving_and_planning_with_picat.pdf).)\n",
    "\n",
    "Let's maximize the sum of the numbers in the sequence."
   ]
  },
  {
   "cell_type": "code",
   "execution_count": 2,
   "id": "71439a72",
   "metadata": {
    "execution": {
     "iopub.execute_input": "2024-10-07T08:50:39.920360Z",
     "iopub.status.busy": "2024-10-07T08:50:39.919841Z",
     "iopub.status.idle": "2024-10-07T08:50:41.004683Z",
     "shell.execute_reply": "2024-10-07T08:50:41.001794Z"
    },
    "scrolled": true,
    "slideshow": {
     "slide_type": "fragment"
    }
   },
   "outputs": [
    {
     "name": "stdout",
     "output_type": "stream",
     "text": [
      "\r\n",
      "CPU time 0.001 seconds. Backtracks: 20\r\n",
      "\r\n",
      "[4,2,1,0,1,0,0,0]\r\n",
      "\r\n",
      "real\t0m0.026s\r\n",
      "user\t0m0.015s\r\n",
      "sys\t0m0.006s\r\n"
     ]
    }
   ],
   "source": [
    "!time picat magic-sequence/magic-sequence.pi 8"
   ]
  },
  {
   "cell_type": "markdown",
   "id": "29c94f8e",
   "metadata": {
    "slideshow": {
     "slide_type": "subslide"
    }
   },
   "source": [
    "## The constraint `global_cardinality`\n",
    "\n",
    "```\n",
    "global_cardinality(List, Pairs)\n",
    "```\n",
    "Let `List` be a list of integer-domain variables\n",
    "`[X1, . . ., Xd]`, and `Pairs` be a list of pairs `[K1-V1, . . ., Kn-Vn]`, where each key\n",
    "`Ki` is a unique integer, and each `Vi` is an integer-domain variable. The constraint is true if\n",
    "every element of List is equal to some key, and, for each pair `Ki-Vi`, exactly `Vi` elements\n",
    "of `List` are equal to `Ki`. This constraint can be defined as follows:\n",
    "\n",
    "```\n",
    "global_cardinality(List,Pairs) =>\n",
    "    foreach($Key-V in Pairs) \n",
    "        sum([B : E in List, B#<=>(E#=Key)]) #= V\n",
    "    end.\n",
    "```\n",
    "\n",
    "---from [the guide](http://picat-lang.org/download/picat_guide.pdf)\n",
    "\n"
   ]
  },
  {
   "cell_type": "code",
   "execution_count": 3,
   "id": "1739bacf",
   "metadata": {
    "execution": {
     "iopub.execute_input": "2024-10-07T08:50:41.012900Z",
     "iopub.status.busy": "2024-10-07T08:50:41.012132Z",
     "iopub.status.idle": "2024-10-07T08:50:42.058869Z",
     "shell.execute_reply": "2024-10-07T08:50:42.056271Z"
    },
    "scrolled": true,
    "slideshow": {
     "slide_type": "subslide"
    }
   },
   "outputs": [
    {
     "name": "stdout",
     "output_type": "stream",
     "text": [
      "/***********************************************************\r\n",
      "  Adapted from\r\n",
      "  magic_sequence.pi\r\n",
      "  from Constraint Solving and Planning with Picat, Springer \r\n",
      "  by Neng-Fa Zhou, Hakan Kjellerstrand, and Jonathan Fruhman \r\n",
      "***********************************************************/\r\n",
      "import cp.\r\n",
      "\r\n",
      "main([N]) =>\r\n",
      "  N := N.to_int,\r\n",
      "  magic_sequence(N,Sequence),\r\n",
      "  println(Sequence).\r\n",
      "\r\n",
      "magic_sequence(N, Sequence) =>\r\n",
      "  Sequence = new_list(N),\r\n",
      "  Sequence :: 0..N-1,\r\n",
      "\r\n",
      "  % create list: [0-Sequence[1], 1-Sequence[2], ...]\r\n",
      "  Pairs = [$I-Sequence[I+1] : I in 0..N-1],\r\n",
      "  global_cardinality(Sequence,Pairs),\r\n",
      "\r\n",
      "  time2(solve(Sequence)).\r\n"
     ]
    }
   ],
   "source": [
    "!cat magic-sequence/magic-sequence.pi"
   ]
  },
  {
   "cell_type": "code",
   "execution_count": 4,
   "id": "39f8864e",
   "metadata": {
    "execution": {
     "iopub.execute_input": "2024-10-07T08:50:42.067234Z",
     "iopub.status.busy": "2024-10-07T08:50:42.066246Z",
     "iopub.status.idle": "2024-10-07T08:50:51.490787Z",
     "shell.execute_reply": "2024-10-07T08:50:51.489563Z"
    },
    "slideshow": {
     "slide_type": "subslide"
    }
   },
   "outputs": [
    {
     "name": "stdout",
     "output_type": "stream",
     "text": [
      "\r\n",
      "CPU time 0.008 seconds. Backtracks: 7\r\n",
      "\r\n",
      "[60,2,1,0,0,0,0,0,0,0,0,0,0,0,0,0,0,0,0,0,0,0,0,0,0,0,0,0,0,0,0,0,0,0,0,0,0,0,0,0,0,0,0,0,0,0,0,0,0,0,0,0,0,0,0,0,0,0,0,0,1,0,0,0]\r\n",
      "\r\n",
      "real\t0m0.042s\r\n",
      "user\t0m0.034s\r\n",
      "sys\t0m0.004s\r\n"
     ]
    },
    {
     "name": "stdout",
     "output_type": "stream",
     "text": [
      "\r\n",
      "CPU time 0.256 seconds. Backtracks: 7\r\n",
      "\r\n",
      "[396,2,1,0,0,0,0,0,0,0,0,0,0,0,0,0,0,0,0,0,0,0,0,0,0,0,0,0,0,0,0,0,0,0,0,0,0,0,0,0,0,0,0,0,0,0,0,0,0,0,0,0,0,0,0,0,0,0,0,0,0,0,0,0,0,0,0,0,0,0,0,0,0,0,0,0,0,0,0,0,0,0,0,0,0,0,0,0,0,0,0,0,0,0,0,0,0,0,0,0,0,0,0,0,0,0,0,0,0,0,0,0,0,0,0,0,0,0,0,0,0,0,0,0,0,0,0,0,0,0,0,0,0,0,0,0,0,0,0,0,0,0,0,0,0,0,0,0,0,0,0,0,0,0,0,0,0,0,0,0,0,0,0,0,0,0,0,0,0,0,0,0,0,0,0,0,0,0,0,0,0,0,0,0,0,0,0,0,0,0,0,0,0,0,0,0,0,0,0,0,0,0,0,0,0,0,0,0,0,0,0,0,0,0,0,0,0,0,0,0,0,0,0,0,0,0,0,0,0,0,0,0,0,0,0,0,0,0,0,0,0,0,0,0,0,0,0,0,0,0,0,0,0,0,0,0,0,0,0,0,0,0,0,0,0,0,0,0,0,0,0,0,0,0,0,0,0,0,0,0,0,0,0,0,0,0,0,0,0,0,0,0,0,0,0,0,0,0,0,0,0,0,0,0,0,0,0,0,0,0,0,0,0,0,0,0,0,0,0,0,0,0,0,0,0,0,0,0,0,0,0,0,0,0,0,0,0,0,0,0,0,0,0,0,0,0,0,0,0,0,0,0,0,0,0,0,0,0,0,0,0,0,0,0,0,0,0,0,0,0,0,0,0,0,0,0,0,0,0,0,0,0,0,0,0,0,0,0,0,0,0,0,0,0,0,0,1,0,0,0]\r\n",
      "\r\n",
      "real\t0m7.417s\r\n",
      "user\t0m7.071s\r\n",
      "sys\t0m0.344s\r\n"
     ]
    }
   ],
   "source": [
    "!time picat magic-sequence/magic-sequence2.pi 64\n",
    "!time picat magic-sequence/magic-sequence2.pi 400"
   ]
  },
  {
   "cell_type": "code",
   "execution_count": 5,
   "id": "e6d75260",
   "metadata": {
    "execution": {
     "iopub.execute_input": "2024-10-07T08:50:51.494522Z",
     "iopub.status.busy": "2024-10-07T08:50:51.493926Z",
     "iopub.status.idle": "2024-10-07T08:50:52.517306Z",
     "shell.execute_reply": "2024-10-07T08:50:52.514330Z"
    },
    "slideshow": {
     "slide_type": "subslide"
    }
   },
   "outputs": [
    {
     "name": "stdout",
     "output_type": "stream",
     "text": [
      "/***********************************************************\r\n",
      "  Adapted from\r\n",
      "  magic_sequence.pi\r\n",
      "  from Constraint Solving and Planning with Picat, Springer \r\n",
      "  by Neng-Fa Zhou, Hakan Kjellerstrand, and Jonathan Fruhman \r\n",
      "***********************************************************/\r\n",
      "import cp.\r\n",
      "\r\n",
      "main([N]) =>\r\n",
      "  N := N.to_int,\r\n",
      "  magic_sequence(N,Sequence),\r\n",
      "  println(Sequence).\r\n",
      "\r\n",
      "magic_sequence(N, Sequence) =>\r\n",
      "  Sequence = new_list(N),\r\n",
      "  Sequence :: 0..N-1,\r\n",
      "\r\n",
      "  % % create list: [0-Sequence[1], 1-Sequence[2], ...]\r\n",
      "  Pairs = [$I-Sequence[I+1] : I in 0..N-1],\r\n",
      "  global_cardinality(Sequence,Pairs),\r\n",
      "\r\n",
      "  % extra/redudant (implicit) constraints to speed up the model\r\n",
      "  N #= sum(Sequence),\r\n",
      "  Integers = [I : I in 0..N-1],\r\n",
      "  scalar_product(Integers, Sequence, N),\r\n",
      "\r\n",
      "  time2(solve([ff], Sequence)).\r\n"
     ]
    }
   ],
   "source": [
    "!cat magic-sequence/magic-sequence2.pi"
   ]
  },
  {
   "cell_type": "code",
   "execution_count": 6,
   "id": "fa2b4e4b",
   "metadata": {
    "execution": {
     "iopub.execute_input": "2024-10-07T08:50:52.524829Z",
     "iopub.status.busy": "2024-10-07T08:50:52.524100Z",
     "iopub.status.idle": "2024-10-07T08:50:58.993159Z",
     "shell.execute_reply": "2024-10-07T08:50:58.990364Z"
    },
    "scrolled": true,
    "slideshow": {
     "slide_type": "subslide"
    }
   },
   "outputs": [
    {
     "name": "stdout",
     "output_type": "stream",
     "text": [
      "\r\n",
      "CPU time 0.103 seconds. Backtracks: 7\r\n",
      "\r\n",
      "[396,2,1,0,0,0,0,0,0,0,0,0,0,0,0,0,0,0,0,0,0,0,0,0,0,0,0,0,0,0,0,0,0,0,0,0,0,0,0,0,0,0,0,0,0,0,0,0,0,0,0,0,0,0,0,0,0,0,0,0,0,0,0,0,0,0,0,0,0,0,0,0,0,0,0,0,0,0,0,0,0,0,0,0,0,0,0,0,0,0,0,0,0,0,0,0,0,0,0,0,0,0,0,0,0,0,0,0,0,0,0,0,0,0,0,0,0,0,0,0,0,0,0,0,0,0,0,0,0,0,0,0,0,0,0,0,0,0,0,0,0,0,0,0,0,0,0,0,0,0,0,0,0,0,0,0,0,0,0,0,0,0,0,0,0,0,0,0,0,0,0,0,0,0,0,0,0,0,0,0,0,0,0,0,0,0,0,0,0,0,0,0,0,0,0,0,0,0,0,0,0,0,0,0,0,0,0,0,0,0,0,0,0,0,0,0,0,0,0,0,0,0,0,0,0,0,0,0,0,0,0,0,0,0,0,0,0,0,0,0,0,0,0,0,0,0,0,0,0,0,0,0,0,0,0,0,0,0,0,0,0,0,0,0,0,0,0,0,0,0,0,0,0,0,0,0,0,0,0,0,0,0,0,0,0,0,0,0,0,0,0,0,0,0,0,0,0,0,0,0,0,0,0,0,0,0,0,0,0,0,0,0,0,0,0,0,0,0,0,0,0,0,0,0,0,0,0,0,0,0,0,0,0,0,0,0,0,0,0,0,0,0,0,0,0,0,0,0,0,0,0,0,0,0,0,0,0,0,0,0,0,0,0,0,0,0,0,0,0,0,0,0,0,0,0,0,0,0,0,0,0,0,0,0,0,0,0,0,0,0,0,0,0,0,0,0,1,0,0,0]\r\n",
      "\r\n",
      "real\t0m0.333s\r\n",
      "user\t0m0.268s\r\n",
      "sys\t0m0.053s\r\n"
     ]
    },
    {
     "name": "stdout",
     "output_type": "stream",
     "text": [
      "\r\n",
      "CPU time 0.487 seconds. Backtracks: 7\r\n",
      "\r\n",
      "[1020,2,1,0,0,0,0,0,0,0,0,0,0,0,0,0,0,0,0,0,0,0,0,0,0,0,0,0,0,0,0,0,0,0,0,0,0,0,0,0,0,0,0,0,0,0,0,0,0,0,0,0,0,0,0,0,0,0,0,0,0,0,0,0,0,0,0,0,0,0,0,0,0,0,0,0,0,0,0,0,0,0,0,0,0,0,0,0,0,0,0,0,0,0,0,0,0,0,0,0,0,0,0,0,0,0,0,0,0,0,0,0,0,0,0,0,0,0,0,0,0,0,0,0,0,0,0,0,0,0,0,0,0,0,0,0,0,0,0,0,0,0,0,0,0,0,0,0,0,0,0,0,0,0,0,0,0,0,0,0,0,0,0,0,0,0,0,0,0,0,0,0,0,0,0,0,0,0,0,0,0,0,0,0,0,0,0,0,0,0,0,0,0,0,0,0,0,0,0,0,0,0,0,0,0,0,0,0,0,0,0,0,0,0,0,0,0,0,0,0,0,0,0,0,0,0,0,0,0,0,0,0,0,0,0,0,0,0,0,0,0,0,0,0,0,0,0,0,0,0,0,0,0,0,0,0,0,0,0,0,0,0,0,0,0,0,0,0,0,0,0,0,0,0,0,0,0,0,0,0,0,0,0,0,0,0,0,0,0,0,0,0,0,0,0,0,0,0,0,0,0,0,0,0,0,0,0,0,0,0,0,0,0,0,0,0,0,0,0,0,0,0,0,0,0,0,0,0,0,0,0,0,0,0,0,0,0,0,0,0,0,0,0,0,0,0,0,0,0,0,0,0,0,0,0,0,0,0,0,0,0,0,0,0,0,0,0,0,0,0,0,0,0,0,0,0,0,0,0,0,0,0,0,0,0,0,0,0,0,0,0,0,0,0,0,0,0,0,0,0,0,0,0,0,0,0,0,0,0,0,0,0,0,0,0,0,0,0,0,0,0,0,0,0,0,0,0,0,0,0,0,0,0,0,0,0,0,0,0,0,0,0,0,0,0,0,0,0,0,0,0,0,0,0,0,0,0,0,0,0,0,0,0,0,0,0,0,0,0,0,0,0,0,0,0,0,0,0,0,0,0,0,0,0,0,0,0,0,0,0,0,0,0,0,0,0,0,0,0,0,0,0,0,0,0,0,0,0,0,0,0,0,0,0,0,0,0,0,0,0,0,0,0,0,0,0,0,0,0,0,0,0,0,0,0,0,0,0,0,0,0,0,0,0,0,0,0,0,0,0,0,0,0,0,0,0,0,0,0,0,0,0,0,0,0,0,0,0,0,0,0,0,0,0,0,0,0,0,0,0,0,0,0,0,0,0,0,0,0,0,0,0,0,0,0,0,0,0,0,0,0,0,0,0,0,0,0,0,0,0,0,0,0,0,0,0,0,0,0,0,0,0,0,0,0,0,0,0,0,0,0,0,0,0,0,0,0,0,0,0,0,0,0,0,0,0,0,0,0,0,0,0,0,0,0,0,0,0,0,0,0,0,0,0,0,0,0,0,0,0,0,0,0,0,0,0,0,0,0,0,0,0,0,0,0,0,0,0,0,0,0,0,0,0,0,0,0,0,0,0,0,0,0,0,0,0,0,0,0,0,0,0,0,0,0,0,0,0,0,0,0,0,0,0,0,0,0,0,0,0,0,0,0,0,0,0,0,0,0,0,0,0,0,0,0,0,0,0,0,0,0,0,0,0,0,0,0,0,0,0,0,0,0,0,0,0,0,0,0,0,0,0,0,0,0,0,0,0,0,0,0,0,0,0,0,0,0,0,0,0,0,0,0,0,0,0,0,0,0,0,0,0,0,0,0,0,0,0,0,0,0,0,0,0,0,0,0,0,0,0,0,0,0,0,0,0,0,0,0,0,0,0,0,0,0,0,0,0,0,0,0,0,0,0,0,0,0,0,0,0,0,0,0,0,0,0,0,0,0,0,0,0,0,0,0,0,0,0,0,0,0,0,0,0,0,0,0,0,0,0,0,0,0,0,0,0,0,0,0,0,0,0,0,0,0,0,0,0,0,0,0,0,0,0,0,0,0,0,0,0,0,0,0,0,0,0,0,0,0,0,0,0,0,0,0,0,0,0,0,0,0,0,0,0,0,0,0,0,0,0,0,0,0,0,0,0,0,0,0,0,0,0,0,0,0,0,0,0,0,0,0,0,0,0,0,0,0,0,0,0,0,0,0,0,0,0,0,0,0,0,0,0,0,0,0,0,0,0,0,0,0,0,0,0,0,0,0,0,0,0,0,0,0,0,0,0,0,0,0,0,0,0,0,0,0,0,0,0,0,0,1,0,0,0]\r\n",
      "\r\n",
      "real\t0m4.072s\r\n",
      "user\t0m3.797s\r\n",
      "sys\t0m0.272s\r\n"
     ]
    }
   ],
   "source": [
    "!time picat magic-sequence/magic-sequence3.pi 400\n",
    "!time picat magic-sequence/magic-sequence3.pi 1024"
   ]
  },
  {
   "cell_type": "code",
   "execution_count": 7,
   "id": "084c900b",
   "metadata": {
    "execution": {
     "iopub.execute_input": "2024-10-07T08:50:59.000457Z",
     "iopub.status.busy": "2024-10-07T08:50:58.999705Z",
     "iopub.status.idle": "2024-10-07T08:50:59.976779Z",
     "shell.execute_reply": "2024-10-07T08:50:59.974000Z"
    },
    "scrolled": true,
    "slideshow": {
     "slide_type": "subslide"
    }
   },
   "outputs": [
    {
     "name": "stdout",
     "output_type": "stream",
     "text": [
      "/***********************************************************\r\n",
      "  Adapted from\r\n",
      "  magic_sequence.pi\r\n",
      "  from Constraint Solving and Planning with Picat, Springer \r\n",
      "  by Neng-Fa Zhou, Hakan Kjellerstrand, and Jonathan Fruhman \r\n",
      "***********************************************************/\r\n",
      "import cp.\r\n",
      "\r\n",
      "main([N]) =>\r\n",
      "  N := N.to_int,\r\n",
      "  magic_sequence(N,Sequence),\r\n",
      "  println(Sequence).\r\n",
      "\r\n",
      "magic_sequence(N, Sequence) =>\r\n",
      "  Sequence = new_list(N),\r\n",
      "  Sequence :: 0..N-1,\r\n",
      "\r\n",
      "  % extra/redudant (implicit) constraints to speed up the model\r\n",
      "  N #= sum(Sequence),\r\n",
      "  Integers = [I : I in 0..N-1],\r\n",
      "  scalar_product(Integers, Sequence, N),\r\n",
      "\r\n",
      "  % % create list: [0-Sequence[1], 1-Sequence[2], ...]\r\n",
      "  Pairs = [$I-Sequence[I+1] : I in 0..N-1],\r\n",
      "  global_cardinality(Sequence,Pairs),\r\n",
      "\r\n",
      "  time2(solve([ff], Sequence)).\r\n"
     ]
    }
   ],
   "source": [
    "!cat magic-sequence/magic-sequence3.pi"
   ]
  },
  {
   "cell_type": "markdown",
   "id": "6473ec2d",
   "metadata": {
    "slideshow": {
     "slide_type": "slide"
    }
   },
   "source": [
    "## The order of constraints\n",
    "\n",
    "The order might matter to the solver, the above model is an example. When the `cp` solver parses a constraint, it tries to reduce their domains. The implicit (redundant) constranint using `scalar_product` can reduce the model a lot, which is much better to do before parsing `global_cardinality`. (Note: e.g. MiniZinc doesn't preserve the order of constraints during compilation, the behaviour is a bit unpredictable.)\n",
    "\n",
    "(Heuristic: easy constraints and constraints that are strong [in reducing the search space] should go first??)"
   ]
  },
  {
   "cell_type": "markdown",
   "id": "d565ab18",
   "metadata": {
    "slideshow": {
     "slide_type": "slide"
    }
   },
   "source": [
    "## Example: Knight tour\n",
    "\n",
    "Given an integer $N$, plan a tour of the knight on an $N\\times N$ chessboard such that the knight visits every field exactly once and then returns to the starting field. You can assume that $N$ is even.\n",
    "\n",
    "Hint: For a matrix `M` is a matrix, use `M.vars()` to extract its elements into a list."
   ]
  },
  {
   "cell_type": "code",
   "execution_count": 8,
   "id": "e926d5b0",
   "metadata": {
    "execution": {
     "iopub.execute_input": "2024-10-07T08:50:59.984609Z",
     "iopub.status.busy": "2024-10-07T08:50:59.983836Z",
     "iopub.status.idle": "2024-10-07T08:51:00.981677Z",
     "shell.execute_reply": "2024-10-07T08:51:00.978985Z"
    },
    "slideshow": {
     "slide_type": "subslide"
    }
   },
   "outputs": [
    {
     "name": "stdout",
     "output_type": "stream",
     "text": [
      "\r\n",
      "CPU time 0.001 seconds. Backtracks: 0\r\n",
      "\r\n",
      "x = {{11,12,13,10,15,21,22,14},{3,20,26,18,23,4,30,6},{2,1,29,5,27,32,8,7},{19,9,37,34,35,40,16,38},{43,17,50,53,52,28,24,46},{51,25,49,61,60,36,62,31},{59,33,57,58,63,64,45,39},{42,41,44,54,55,56,48,47}}\r\n",
      "X:\r\n",
      " 11 12 13 10 15 21 22 14\r\n",
      "  3 20 26 18 23  4 30  6\r\n",
      "  2  1 29  5 27 32  8  7\r\n",
      " 19  9 37 34 35 40 16 38\r\n",
      " 43 17 50 53 52 28 24 46\r\n",
      " 51 25 49 61 60 36 62 31\r\n",
      " 59 33 57 58 63 64 45 39\r\n",
      " 42 41 44 54 55 56 48 47\r\n",
      "\r\n",
      "Tour:\r\n",
      "  1 62  5 10 13 24 55  8\r\n",
      "  4 11  2 63  6  9 14 23\r\n",
      " 61 64 35 12 25 56  7 54\r\n",
      " 34  3 26 59 36 15 22 57\r\n",
      " 39 60 37 18 27 58 53 16\r\n",
      " 30 33 40 43 46 17 50 21\r\n",
      " 41 38 31 28 19 48 45 52\r\n",
      " 32 29 42 47 44 51 20 49\r\n",
      "\r\n"
     ]
    }
   ],
   "source": [
    "!picat knight-tour/knight-tour.pi 8"
   ]
  },
  {
   "cell_type": "markdown",
   "id": "02519751",
   "metadata": {
    "slideshow": {
     "slide_type": "subslide"
    }
   },
   "source": [
    "## The `circuit` constraint\n",
    "\n",
    "The constraint `circuit(L)` requires that the list $L$ represents a permutation of $1,\\dots,n$ consisting of a single cycle, i.e., the graph with edges $i\\to L[i]$ is a cycle. A similar constraint is `subcircuit(L)` which requires that elements for which $L[i]\\neq i$ form a cycle."
   ]
  },
  {
   "cell_type": "code",
   "execution_count": 9,
   "id": "9bb6197f",
   "metadata": {
    "execution": {
     "iopub.execute_input": "2024-10-07T08:51:00.989239Z",
     "iopub.status.busy": "2024-10-07T08:51:00.988480Z",
     "iopub.status.idle": "2024-10-07T08:51:01.961827Z",
     "shell.execute_reply": "2024-10-07T08:51:01.959117Z"
    },
    "scrolled": true,
    "slideshow": {
     "slide_type": "subslide"
    }
   },
   "outputs": [
    {
     "name": "stdout",
     "output_type": "stream",
     "text": [
      "/***********************************************************\r\n",
      "  Adapted from\r\n",
      "  knight_tour.pi\r\n",
      "  from Constraint Solving and Planning with Picat, Springer \r\n",
      "  by Neng-Fa Zhou, Hakan Kjellerstrand, and Jonathan Fruhman \r\n",
      "***********************************************************/\r\n",
      "import cp.\r\n",
      "\r\n",
      "main([N]) =>\r\n",
      "  N := N.to_int,\r\n",
      "  knight(N,X),\r\n",
      "  println(x=X),\r\n",
      "  println(\"X:\"),\r\n",
      "  print_matrix(X),\r\n",
      "  extract_tour(X,Tour),\r\n",
      "  println(\"Tour:\"),\r\n",
      "  print_matrix(Tour).\r\n",
      "\r\n",
      "% Knight's tour for even N*N.\r\n",
      "knight(N, X) =>\r\n",
      "  X = new_array(N,N),\r\n",
      "  X :: 1..N*N,\r\n",
      "  XVars = X.vars(),\r\n",
      "  % restrict the domains of each square\r\n",
      "  foreach (I in 1..N, J in 1..N)\r\n",
      "     D = [-1,-2,1,2],\r\n",
      "     Dom = [(I+A-1)*N + J+B : A in D, B in D, \r\n",
      "             abs(A) + abs(B) == 3, \r\n",
      "             member(I+A,1..N), member(J+B,1..N)],\r\n",
      "     Dom.length > 0,\r\n",
      "     X[I,J] :: Dom\r\n",
      "  end,\r\n",
      "  circuit(XVars),\r\n",
      "  time2(solve([ff,split],XVars)). \r\n",
      "\r\n",
      "extract_tour(X,Tour) =>\r\n",
      "  N = X.length,\r\n",
      "  Tour = new_array(N,N),\r\n",
      "  K = 1,\r\n",
      "  Tour[1,1] := K,\r\n",
      "  Next = X[1,1],\r\n",
      "  while (K < N*N) \r\n",
      "    K := K + 1,\r\n",
      "    I = 1+((Next-1) div N),\r\n",
      "    J = 1+((Next-1) mod N),\r\n",
      "    Tour[I,J] := K,\r\n",
      "    Next := X[I,J]\r\n",
      "  end.\r\n",
      "  \r\n",
      "print_matrix(M) =>\r\n",
      "  N = M.length,\r\n",
      "  V = (N*N).to_string().length,\r\n",
      "  Format = \"% \" ++ (V+1).to_string() ++ \"d\",\r\n",
      "  foreach(I in 1..N)\r\n",
      "     foreach(J in 1..N)\r\n",
      "        printf(Format,M[I,J])\r\n",
      "     end,\r\n",
      "     nl\r\n",
      "  end,\r\n",
      "  nl.\r\n"
     ]
    }
   ],
   "source": [
    "!cat knight-tour/knight-tour.pi"
   ]
  }
 ],
 "metadata": {
  "celltoolbar": "Slideshow",
  "kernelspec": {
   "display_name": "Python 3 (ipykernel)",
   "language": "python",
   "name": "python3"
  },
  "language_info": {
   "codemirror_mode": {
    "name": "ipython",
    "version": 3
   },
   "file_extension": ".py",
   "mimetype": "text/x-python",
   "name": "python",
   "nbconvert_exporter": "python",
   "pygments_lexer": "ipython3",
   "version": "3.11.4"
  },
  "vscode": {
   "interpreter": {
    "hash": "916dbcbb3f70747c44a77c7bcd40155683ae19c65e1c03b4aa3499c5328201f1"
   }
  }
 },
 "nbformat": 4,
 "nbformat_minor": 5
}
