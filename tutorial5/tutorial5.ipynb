{
 "cells": [
  {
   "cell_type": "markdown",
   "id": "0d8742c9",
   "metadata": {},
   "source": [
    "# NOPT042 Constraint programming: Tutorial 5 – Advanced constraint modelling"
   ]
  },
  {
   "cell_type": "code",
   "execution_count": 1,
   "id": "1a103abf",
   "metadata": {
    "execution": {
     "iopub.execute_input": "2023-10-03T09:42:01.421982Z",
     "iopub.status.busy": "2023-10-03T09:42:01.421397Z",
     "iopub.status.idle": "2023-10-03T09:42:01.438838Z",
     "shell.execute_reply": "2023-10-03T09:42:01.438354Z"
    },
    "scrolled": true
   },
   "outputs": [
    {
     "data": {
      "application/javascript": [
       "\"use strict\";\n",
       "\n",
       "CodeMirror.defineMode(\"text/picat\", function(config) {\n",
       "\n",
       "  var isOperatorChar = /[+\\-*=\\@\\&|\\:#<>\\/]/;\n",
       "\n",
       "  var keywords = {\"else\":true,\n",
       "  \"end\":true,\n",
       "  \"foreach\":true,\n",
       "  \"if\":true,\n",
       "  \"in\":true,\n",
       "  \"then\":true\n",
       "  }\n",
       "\n",
       "  var specials = {\"acyclic_term\":true,\n",
       "  \"and_to_list\":true,\n",
       "  \"append\":true,\n",
       "  \"apply\":true,\n",
       "  \"arity\":true,\n",
       "  \"array\":true,\n",
       "  \"atom\":true,\n",
       "  \"atom_chars\":true,\n",
       "  \"atom_codes\":true,\n",
       "  \"atomic\":true,\n",
       "  \"attr_var\":true,\n",
       "  \"between\":true,\n",
       "  \"bind_vars\":true,\n",
       "  \"call\":true,\n",
       "  \"call_cleanup\":true,\n",
       "  \"catch\":true,\n",
       "  \"char\":true,\n",
       "  \"chr\":true,\n",
       "  \"clear\":true,\n",
       "  \"compare_terms\":true,\n",
       "  \"compound\":true,\n",
       "  \"copy_term\":true,\n",
       "  \"count_all\":true,\n",
       "  \"delete\":true,\n",
       "  \"delete_all\":true,\n",
       "  \"different_term\":true,\n",
       "  \"digit\":true,\n",
       "  \"div\":true,\n",
       "  \"dvar\":true,\n",
       "  \"dvar_or_int\":true,\n",
       "//   \"end\":true,\n",
       "  \"fail\":true,\n",
       "  \"false\":true,\n",
       "  \"find_all\":true,\n",
       "  \"findall\":true,\n",
       "  \"first\":true,\n",
       "  \"flatten\":true,\n",
       "  \"float\":true,\n",
       "  \"fold\":true,\n",
       "//   \"foreach\":true,\n",
       "  \"freeze\":true,\n",
       "  \"get\":true,\n",
       "  \"get_attr\":true,\n",
       "  \"get_global_map\":true,\n",
       "  \"get_heap_map\":true,\n",
       "  \"get_table_map\":true,\n",
       "  \"ground\":true,\n",
       "  \"handle_exception\":true,\n",
       "  \"has_key\":true,\n",
       "  \"hash_code\":true,\n",
       "  \"head\":true,\n",
       "  \"heap_is_empty\":true,\n",
       "  \"heap_pop\":true,\n",
       "  \"heap_push\":true,\n",
       "  \"heap_size\":true,\n",
       "  \"heap_to_list\":true,\n",
       "  \"heap_top\":true,\n",
       "  \"import\":true,    \n",
       "//   \"in\":true,\n",
       "  \"insert\":true,\n",
       "  \"insert_all\":true,\n",
       "  \"insert_ordered\":true,\n",
       "  \"insert_ordered_down\":true,\n",
       "  \"int\":true,\n",
       "  \"integer\":true,\n",
       "  \"is\":true,\n",
       "  \"keys\":true,\n",
       "  \"last\":true,\n",
       "  \"len\":true,\n",
       "  \"length\":true,\n",
       "  \"list\":true,\n",
       "  \"list_to_and\":true,\n",
       "  \"lowercase\":true,\n",
       "  \"map\":true,\n",
       "  \"map_to_list\":true,\n",
       "  \"max\":true,\n",
       "  \"maxint_small\":true,\n",
       "  \"maxof\":true,\n",
       "  \"maxof_inc\":true,\n",
       "  \"membchk\":true,\n",
       "  \"member\":true,\n",
       "  \"min\":true,\n",
       "  \"minint_small\":true,\n",
       "  \"minof\":true,\n",
       "  \"minof_inc\":true,\n",
       "  \"mod\":true,\n",
       "  \"name\":true,\n",
       "  \"new_array\":true,\n",
       "  \"new_list\":true,\n",
       "  \"new_map\":true,\n",
       "  \"new_max_heap\":true,\n",
       "  \"new_min_heap\":true,\n",
       "  \"new_set\":true,\n",
       "  \"new_struct\":true,\n",
       "  \"nonvar\":true,\n",
       "  \"not\":true,\n",
       "  \"notin\":true,\n",
       "  \"nth\":true,\n",
       "  \"number\":true,\n",
       "  \"number_char\":true,\n",
       "  \"number_codes\":true,\n",
       "  \"number_vars\":true,\n",
       "  \"once\":true,\n",
       "  \"ord\":true,\n",
       "  \"parse_radix_string\":true,\n",
       "  \"parse_term\":true,\n",
       "  \"post_event\":true,\n",
       "  \"post_event_any\":true,\n",
       "  \"post_event_bound\":true,\n",
       "  \"post_event_dom\":true,\n",
       "  \"post_event_ins\":true,\n",
       "  \"print\":true,\n",
       "  \"println\":true,\n",
       "  \"prod\":true,\n",
       "  \"put\":true,\n",
       "  \"put_attr\":true,\n",
       "  \"real\":true,\n",
       "  \"reduce\":true,\n",
       "  \"rem\":true,\n",
       "  \"remove_dumps\":true,\n",
       "  \"repeat\":true,\n",
       "  \"reverse\":true,\n",
       "  \"second\":true,\n",
       "  \"select\":true,\n",
       "  \"size\":true,\n",
       "  \"slice\":true,\n",
       "  \"sort\":true,\n",
       "  \"sort_down\":true,\n",
       "  \"sort_down_remove_dups\":true,\n",
       "  \"sort_remove_dups\":true,\n",
       "  \"sorted\":true,\n",
       "  \"sorted_down\":true,\n",
       "  \"string\":true,\n",
       "  \"struct\":true,\n",
       "  \"subsumes\":true,\n",
       "  \"sum\":true,\n",
       "  \"tail\":true,\n",
       "  \"throw\":true,\n",
       "  \"to_array\":true,\n",
       "  \"to_atom\":true,\n",
       "  \"to_binary_string\":true,\n",
       "  \"to_code\":true,\n",
       "  \"to_fstring\":true,\n",
       "  \"to_hex_string\":true,\n",
       "  \"to_int\":true,\n",
       "  \"to_integer\":true,\n",
       "  \"to_list\":true,\n",
       "  \"to_lowercase\":true,\n",
       "  \"to_number\":true,\n",
       "  \"to_oct_string\":true,\n",
       "  \"to_radix_string\":true,\n",
       "  \"to_real\":true,\n",
       "  \"to_string\":true,\n",
       "  \"to_uppercase\":true,\n",
       "  \"true\":true,\n",
       "  \"uppercase\":true,\n",
       "  \"values\":true,\n",
       "  \"var\":true,\n",
       "  \"variant\":true,\n",
       "  \"vars\":true,\n",
       "  \"zip\":true,\n",
       "\n",
       "  \"abs\":true,\n",
       "  \"acos\":true,\n",
       "  \"acosh\":true,\n",
       "  \"acot\":true,\n",
       "  \"acoth\":true,\n",
       "  \"acsc\":true,\n",
       "  \"acsch\":true,\n",
       "  \"asec\":true,\n",
       "  \"asech\":true,\n",
       "  \"asin\":true,\n",
       "  \"asinh\":true,\n",
       "  \"atan\":true,\n",
       "  \"atan2\":true,\n",
       "  \"atanh\":true,\n",
       "  \"ceiling\":true,\n",
       "  \"cos\":true,\n",
       "  \"cosh\":true,\n",
       "  \"cot\":true,\n",
       "  \"coth\":true,\n",
       "  \"csc\":true,\n",
       "  \"csch\":true,\n",
       "  \"e\":true,\n",
       "  \"even\":true,\n",
       "  \"exp\":true,\n",
       "  \"floor\":true,\n",
       "  \"frand\":true,\n",
       "  \"gcd\":true,\n",
       "  \"log\":true,\n",
       "  \"log10\":true,\n",
       "  \"log2\":true,\n",
       "  \"modf\":true,\n",
       "  \"odd\":true,\n",
       "  \"pi\":true,\n",
       "  \"pow\":true,\n",
       "  \"pow_mod\":true,\n",
       "  \"prime\":true,\n",
       "  \"primes\":true,\n",
       "  \"max\":true,\n",
       "  \"random\":true,\n",
       "  \"random2\":true,\n",
       "  \"round\":true,\n",
       "  \"sec\":true,\n",
       "  \"sech\":true,\n",
       "  \"sign\":true,\n",
       "  \"sin\":true,\n",
       "  \"sinh\":true,\n",
       "  \"sqrt\":true,\n",
       "  \"tan\":true,\n",
       "  \"tanh\":true,\n",
       "  \"to_degrees\":true,\n",
       "  \"to_radians\":true,\n",
       "  \"truncate\":true,\n",
       "    \n",
       " \n",
       "  \"xor\":true};\n",
       "\n",
       "  var punc = \":;,.(){}[]\";\n",
       "\n",
       "  function tokenBase(stream, state) {\n",
       "    var ch = stream.next();\n",
       "    if (ch == '\"') {\n",
       "      state.tokenize.push(tokenString);\n",
       "      return tokenString(stream, state);\n",
       "    }\n",
       "    if (/[\\d\\.]/.test(ch)) {\n",
       "      if (ch == \".\") {\n",
       "        stream.match(/^[0-9]+([eE][\\-+]?[0-9]+)?/);\n",
       "      } else if (ch == \"0\") {\n",
       "        stream.match(/^[xX][0-9a-fA-F]+/) || stream.match(/^0[0-7]+/);\n",
       "      } else {\n",
       "        stream.match(/^[0-9]*\\.?[0-9]*([eE][\\-+]?[0-9]+)?/);\n",
       "      }\n",
       "      return \"number\";\n",
       "    }\n",
       "    if (ch == \"/\") {\n",
       "      if (stream.eat(\"*\")) {\n",
       "        state.tokenize.push(tokenComment);\n",
       "        return tokenComment(stream, state);\n",
       "      }\n",
       "    }\n",
       "    if (ch == \"%\") {\n",
       "      stream.skipToEnd();\n",
       "      return \"comment\";\n",
       "    }\n",
       "    if (isOperatorChar.test(ch)) {\n",
       "      stream.eatWhile(isOperatorChar);\n",
       "      return \"operator\";\n",
       "    }\n",
       "    if (punc.indexOf(ch) > -1) {\n",
       "      return \"punctuation\";\n",
       "    }\n",
       "    stream.eatWhile(/[\\w\\$_\\xa1-\\uffff]/);\n",
       "    var cur = stream.current();\n",
       "    if (keywords.propertyIsEnumerable(cur)) {\n",
       "      return \"keyword\";\n",
       "    }\n",
       "    return \"variable\";\n",
       "  }\n",
       "\n",
       "  function tokenComment(stream, state) {\n",
       "    var maybeEnd = false, ch;\n",
       "    while (ch = stream.next()) {\n",
       "      if (ch == \"/\" && maybeEnd) {\n",
       "        state.tokenize.pop();\n",
       "        break;\n",
       "      }\n",
       "      maybeEnd = (ch == \"*\");\n",
       "    }\n",
       "    return \"comment\";\n",
       "  }\n",
       "\n",
       "  function tokenUntilClosingParen() {\n",
       "    var depth = 0;\n",
       "    return function(stream, state, prev) {\n",
       "      var inner = tokenBase(stream, state, prev);\n",
       "      console.log(\"untilClosing\",inner,stream.current());\n",
       "      if (inner == \"punctuation\") {\n",
       "        if (stream.current() == \"(\") {\n",
       "          ++depth;\n",
       "        } else if (stream.current() == \")\") {\n",
       "          if (depth == 0) {\n",
       "            stream.backUp(1)\n",
       "            state.tokenize.pop()\n",
       "            return state.tokenize[state.tokenize.length - 1](stream, state)\n",
       "          } else {\n",
       "            --depth;\n",
       "          }\n",
       "        }\n",
       "      }\n",
       "      return inner;\n",
       "    }\n",
       "  }\n",
       "\n",
       "  function tokenString(stream, state) {\n",
       "    var escaped = false, next, end = false;\n",
       "    while ((next = stream.next()) != null) {\n",
       "      if (next=='(' && escaped) {\n",
       "        state.tokenize.push(tokenUntilClosingParen());\n",
       "        return \"string\";\n",
       "      }\n",
       "      if (next == '\"' && !escaped) {end = true; break;}\n",
       "      escaped = !escaped && next == \"\\\\\";\n",
       "    }\n",
       "    if (end || !escaped)\n",
       "      state.tokenize.pop();\n",
       "    return \"string\";\n",
       "  }\n",
       "\n",
       "  return {\n",
       "    startState: function(basecolumn) {\n",
       "      return {\n",
       "        tokenize: []\n",
       "      };\n",
       "    },\n",
       "\n",
       "    token: function(stream, state) {\n",
       "      if (stream.eatSpace()) return null;\n",
       "      var style = (state.tokenize[state.tokenize.length - 1] || tokenBase)(stream, state);\n",
       "      console.log(\"token\",style);\n",
       "      return style;\n",
       "    },\n",
       "\n",
       "    blockCommentStart: \"/*\",\n",
       "    blockCommentEnd: \"*/\",\n",
       "    lineComment: \"%\"\n",
       "  };\n",
       "});\n",
       "\n",
       "CodeMirror.defineMIME(\"text/picat\", \"text/picat\");\n",
       "\n",
       "Jupyter.CodeCell.options_default.highlight_modes['magic_text/picat'] = {'reg':[/^%%picat/]} ;\n",
       "\n",
       "Jupyter.notebook.get_cells().map(function(cell){\n",
       "  if (cell.cell_type == 'code'){ cell.auto_highlight(); }\n",
       "}) ;"
      ],
      "text/plain": [
       "<IPython.core.display.Javascript object>"
      ]
     },
     "metadata": {},
     "output_type": "display_data"
    },
    {
     "name": "stdout",
     "output_type": "stream",
     "text": [
      "Picat version 3.5#5\n"
     ]
    }
   ],
   "source": [
    "%load_ext ipicat"
   ]
  },
  {
   "cell_type": "markdown",
   "id": "f7243c29",
   "metadata": {},
   "source": [
    "## The element constraint\n",
    "\n",
    "Picat doesn't support indexation in constraints, e.g. `X #= L[I]`. Instead, it implements the `element` constraint:\n",
    "```\n",
    "element(I, L, X)\n",
    "```\n",
    "(\"X is on the Ith position in the list L\"). But this constraint can also be used for \"reverse indexing\": when we have X and want to find its position in L. The constraint doesn't care about the direction; this is called _bidirectionality_.\n",
    "\n",
    "For matrices (2D arrays), `Matrix[I,J]#=X` is expressed using the following constraint:\n",
    "```\n",
    "matrix_element(Matrix,I,J,X)\n",
    "```"
   ]
  },
  {
   "cell_type": "markdown",
   "id": "0a4c6a3d",
   "metadata": {},
   "source": [
    "## Example: Langford's number problem"
   ]
  },
  {
   "cell_type": "markdown",
   "id": "6e1b4d69",
   "metadata": {},
   "source": [
    "Consider the following problem (formulation slightly modified from [the book](http://picat-lang.org/picatbook2015/constraint_solving_and_planning_with_picat.pdf)):\n",
    "\n",
    "> Consider two sets of the numbers from 1 to $N$. The problem is to arrange the $2N$ numbers\n",
    "in the two sets into a single sequence in which the two 1’s appear one number apart, the\n",
    "two 2’s appear two numbers apart, the two 3’s appear three numbers apart, etc."
   ]
  },
  {
   "cell_type": "markdown",
   "id": "b56e43c5",
   "metadata": {},
   "source": [
    "Try to formulate a model for this problem."
   ]
  },
  {
   "cell_type": "code",
   "execution_count": 2,
   "id": "2c387706",
   "metadata": {
    "execution": {
     "iopub.execute_input": "2023-10-03T09:42:01.441183Z",
     "iopub.status.busy": "2023-10-03T09:42:01.441031Z",
     "iopub.status.idle": "2023-10-03T09:42:01.581430Z",
     "shell.execute_reply": "2023-10-03T09:42:01.578566Z"
    }
   },
   "outputs": [
    {
     "name": "stdout",
     "output_type": "stream",
     "text": [
      "\r\n",
      "CPU time 0.0 seconds. Backtracks: 9\r\n",
      "\r\n",
      "{2,3,4,2,1,3,1,4}\r\n"
     ]
    }
   ],
   "source": [
    "!picat langford/langford.pi 4"
   ]
  },
  {
   "cell_type": "code",
   "execution_count": 3,
   "id": "ef6a0dc3",
   "metadata": {
    "execution": {
     "iopub.execute_input": "2023-10-03T09:42:01.590214Z",
     "iopub.status.busy": "2023-10-03T09:42:01.589489Z",
     "iopub.status.idle": "2023-10-03T09:42:01.756581Z",
     "shell.execute_reply": "2023-10-03T09:42:01.753929Z"
    },
    "scrolled": true
   },
   "outputs": [
    {
     "name": "stdout",
     "output_type": "stream",
     "text": [
      "\r\n",
      "CPU time 0.001 seconds. Backtracks: 55\r\n",
      "\r\n",
      "solution = [1,3,1,6,7,3,8,5,2,4,6,2,7,5,4,8]\r\n",
      "position = [1,9,2,10,8,4,5,7,3,12,6,15,14,11,13,16]\r\n"
     ]
    }
   ],
   "source": [
    "!picat langford/langford2.pi 8"
   ]
  },
  {
   "cell_type": "code",
   "execution_count": 4,
   "id": "3fb9f6d7",
   "metadata": {
    "execution": {
     "iopub.execute_input": "2023-10-03T09:42:01.765707Z",
     "iopub.status.busy": "2023-10-03T09:42:01.764985Z",
     "iopub.status.idle": "2023-10-03T09:42:01.960718Z",
     "shell.execute_reply": "2023-10-03T09:42:01.957924Z"
    },
    "scrolled": true
   },
   "outputs": [
    {
     "name": "stdout",
     "output_type": "stream",
     "text": [
      "\r\n",
      "CPU time 0.028 seconds. Backtracks: 1346\r\n",
      "\r\n",
      "solution = [1,2,1,3,2,8,9,3,10,11,12,5,7,4,8,6,9,5,4,10,7,11,6,12]\r\n",
      "position = [1,2,4,14,12,16,13,6,7,9,10,11,3,5,8,19,18,23,21,15,17,20,22,24]\r\n"
     ]
    }
   ],
   "source": [
    "!picat langford/langford2.pi 12"
   ]
  },
  {
   "cell_type": "code",
   "execution_count": 5,
   "id": "091e4c89",
   "metadata": {
    "execution": {
     "iopub.execute_input": "2023-10-03T09:42:01.967624Z",
     "iopub.status.busy": "2023-10-03T09:42:01.967427Z",
     "iopub.status.idle": "2023-10-03T09:42:07.071416Z",
     "shell.execute_reply": "2023-10-03T09:42:07.068915Z"
    }
   },
   "outputs": [
    {
     "name": "stdout",
     "output_type": "stream",
     "text": [
      "\r\n",
      "CPU time 1.852 seconds. Backtracks: 250746\r\n",
      "\r\n",
      "\r\n",
      "CPU time 0.0 seconds. Backtracks: 0\r\n",
      "\r\n",
      "{1,1,1,1,1,1,1,1,3,4,5,6,7,8,9,10}\r\n",
      "\r\n",
      "CPU time 2.834 seconds. Backtracks: 250746\r\n",
      "\r\n",
      "{1,3,1,6,7,3,8,5,2,4,6,2,7,5,4,8}\r\n",
      "{1,9,2,10,8,4,5,7,3,12,6,15,14,11,13,16}\r\n"
     ]
    }
   ],
   "source": [
    "!picat langford/langford-primal.pi 8\n",
    "!picat langford/langford-dual.pi 8\n",
    "!picat langford/langford-channeling.pi 8"
   ]
  },
  {
   "cell_type": "code",
   "execution_count": null,
   "id": "12d34541",
   "metadata": {},
   "outputs": [],
   "source": []
  },
  {
   "cell_type": "markdown",
   "id": "81a2e135",
   "metadata": {},
   "source": [
    "## The assignment problem\n",
    "\n",
    "From [Wikipedia](https://en.wikipedia.org/wiki/Assignment_problem):\n",
    "\n",
    "The assignment problem is a fundamental combinatorial optimization problem. In its most general form, the problem is as follows:\n",
    "\n",
    "> The problem instance has a number of agents and a number of tasks. Any agent can be assigned to perform any task, incurring some cost that may vary depending on the agent-task assignment. It is required to perform as many tasks as possible by assigning at most one agent to each task and at most one task to each agent, in such a way that the total cost of the assignment is minimized.\n",
    "\n",
    "Alternatively, describing the problem using graph theory:\n",
    "\n",
    ">The assignment problem consists of finding, in a weighted bipartite graph, a matching of a given size, in which the sum of weights of the edges is minimum.\n",
    "\n",
    "If the numbers of agents and tasks are equal, then the problem is called balanced assignment.\n"
   ]
  },
  {
   "cell_type": "markdown",
   "id": "9f69da4c",
   "metadata": {},
   "source": [
    "### Example: Swimmers\n",
    "(From: W. Winston, Operations Research: Applications & Algorithms.)\n",
    "\n",
    "In medley swimming relay, a team of four swimmers must swim 4x100m, each swimmer using a different style: breaststroke, backstroke, butterfly, or freestyle. The table below gives their average times for 100m in each style. Which swimmer should swim which stroke to minimize total time?\n",
    "\n",
    "| Swimmer | Free | Breast | Fly | Back |\n",
    "|---------|------|--------|-----|------|\n",
    "| A       | 54   | 54     | 51  | 53   |\n",
    "| B       | 51   | 57     | 52  | 52   |\n",
    "| C       | 50   | 53     | 54  | 56   |\n",
    "| D       | 56   | 54     | 55  | 53   |"
   ]
  },
  {
   "cell_type": "markdown",
   "id": "821140e4",
   "metadata": {},
   "source": [
    "Write a general model, generate larger instances, and try to make your model as efficient as possible."
   ]
  },
  {
   "cell_type": "code",
   "execution_count": 6,
   "id": "dc616bbc",
   "metadata": {
    "execution": {
     "iopub.execute_input": "2023-10-03T09:42:07.078812Z",
     "iopub.status.busy": "2023-10-03T09:42:07.078618Z",
     "iopub.status.idle": "2023-10-03T09:42:07.213857Z",
     "shell.execute_reply": "2023-10-03T09:42:07.211014Z"
    },
    "scrolled": false
   },
   "outputs": [
    {
     "name": "stdout",
     "output_type": "stream",
     "text": [
      "{A,B,C,D}\r\n",
      "{Free,Breast,Fly,Back}\r\n",
      "{{54,54,51,53},{51,57,52,52},{50,53,54,56},{56,54,55,53}}\r\n",
      "{Swimmer1,Swimmer2,Swimmer3,Swimmer4,Swimmer5}\r\n",
      "{Style1,Style2,Style3,Style4,Style5,Style6,Style7}\r\n",
      "{{46,49,54,64,53,55,55},{54,60,55,47,64,65,49},{65,52,48,60,61,61,62},{59,57,54,47,50,50,58},{46,64,50,45,48,57,62}}\r\n"
     ]
    }
   ],
   "source": [
    "!cd swimmers && picat instances.pi"
   ]
  },
  {
   "cell_type": "code",
   "execution_count": 7,
   "id": "38239251",
   "metadata": {
    "execution": {
     "iopub.execute_input": "2023-10-03T09:42:07.222883Z",
     "iopub.status.busy": "2023-10-03T09:42:07.222161Z",
     "iopub.status.idle": "2023-10-03T09:42:07.358139Z",
     "shell.execute_reply": "2023-10-03T09:42:07.355416Z"
    }
   },
   "outputs": [
    {
     "name": "stdout",
     "output_type": "stream",
     "text": [
      "\r\n",
      "Primal model:\r\n",
      "Swimmer A is swims Fly\r\n",
      "Swimmer B is swims Back\r\n",
      "Swimmer C is swims Free\r\n",
      "Swimmer D is swims Breast\r\n",
      "\r\n",
      "Dual model:\r\n",
      "Style Free is swum  by C\r\n",
      "Style Breast is swum  by D\r\n",
      "Style Fly is swum  by A\r\n",
      "Style Back is swum  by B\r\n",
      "\r\n",
      "Channeling model:\r\n",
      "Swimmer A is swims Fly\r\n",
      "Swimmer B is swims Back\r\n",
      "Swimmer C is swims Free\r\n",
      "Swimmer D is swims Breast\r\n",
      "or in the dual view\r\n",
      "Style Free is swum  by C\r\n",
      "Style Breast is swum  by D\r\n",
      "Style Fly is swum  by A\r\n",
      "Style Back is swum  by B\r\n"
     ]
    }
   ],
   "source": [
    "!cd swimmers && picat swimmers.pi"
   ]
  },
  {
   "cell_type": "markdown",
   "id": "43fc226b",
   "metadata": {},
   "source": [
    "## Modelling functions\n",
    "\n",
    "In general, how to model a function (mapping) $f:A\\to B$? Let's say $A=\\{1,\\dots,n\\}$ and $B=\\{1,\\dots,k\\}$.\n",
    "\n",
    "* as an array: \n",
    "```\n",
    "F = new_array(N},\n",
    "F :: 1..K.\n",
    "```\n",
    "* _injective_: `all_different(F)`\n",
    "* _surjective_: a partition of $A$ into classes labelled by $B$, to each element of $B$ map a set of elements of $A$. In Picat we can model set as their characteristic vectors. More on modelling with sets later.\n",
    "* _partial function_: a dummy value for undefined inputs\n",
    "* _dual model_: switch the role of variables and values (not a function unless $F$ injective, see above)\n",
    "* _channelling_: combine the primal and dual models, if it is a bijection, then use `assignment(F, FInv)`"
   ]
  },
  {
   "cell_type": "code",
   "execution_count": 8,
   "id": "00c4fc61",
   "metadata": {
    "execution": {
     "iopub.execute_input": "2023-10-03T09:42:07.367092Z",
     "iopub.status.busy": "2023-10-03T09:42:07.366334Z",
     "iopub.status.idle": "2023-10-03T09:42:07.534596Z",
     "shell.execute_reply": "2023-10-03T09:42:07.531736Z"
    },
    "scrolled": true
   },
   "outputs": [
    {
     "name": "stdout",
     "output_type": "stream",
     "text": [
      "*** error(existence_error([f,u,n,c,t,i,o,n,s,.,p,i]),picat)\r\n",
      "\r\n"
     ]
    }
   ],
   "source": [
    "!picat functions.pi 4 4"
   ]
  },
  {
   "cell_type": "markdown",
   "id": "1b0efef2",
   "metadata": {},
   "source": [
    "## Exercises"
   ]
  },
  {
   "cell_type": "markdown",
   "id": "8c257de4",
   "metadata": {},
   "source": [
    "# Homework: stable-marriage\n",
    "\n",
    "\n",
    "## Stable marriage\n",
    "Given $n$ men and $n$ women, where each person has ranked all members of the opposite sex in order of preference, marry the men and women together such that there are no two people of opposite sex who would both rather have each other than their current partners. (When there are no such pairs, the matching is stable.)\n",
    "\n",
    "The input is the name of a file defining an instance as in the following example. The output should be a list of pairs (2-el arrays) Husband-Wife.\n",
    "\n",
    "Try the following instance which is given in `stable-marriage-instance.pi` \n",
    "* A:YZX,   \n",
    "* B:ZYX,   \n",
    "* C:XZY,  \n",
    "* X:BAC,   \n",
    "* Y:CBA,   \n",
    "* Z:ACB\n",
    "\n",
    "The output of `picat stable-marriage.pi stable-marriage-instance.pi` should be `[{1,3},{2,1},{3,2}]` (meaning that the 1st Man, i.e., A, is married to the third woman, i.e. Z, etc.)\n"
   ]
  },
  {
   "cell_type": "code",
   "execution_count": 9,
   "id": "77485139",
   "metadata": {
    "execution": {
     "iopub.execute_input": "2023-10-03T09:42:07.543760Z",
     "iopub.status.busy": "2023-10-03T09:42:07.543034Z",
     "iopub.status.idle": "2023-10-03T09:42:07.670909Z",
     "shell.execute_reply": "2023-10-03T09:42:07.668103Z"
    }
   },
   "outputs": [
    {
     "name": "stdout",
     "output_type": "stream",
     "text": [
      "instance(N, RankOfWomenByMen, RankOfMenByWomen) =>\r\n",
      "    N = 3,\r\n",
      "\r\n",
      "    % RankOfWomenByMen[2, 3] = 1 means that Woman 3 is the most preferred woman of Man 2\r\n",
      "    RankOfWomenByMen = {\r\n",
      "        {2, 3, 1},\r\n",
      "        {3, 2, 1},\r\n",
      "        {1, 3, 2}\r\n",
      "    },\r\n",
      "    RankOfMenByWomen = {\r\n",
      "        {2, 1, 3},\r\n",
      "        {3, 2, 1},\r\n",
      "        {1, 3, 2}\r\n",
      "    }."
     ]
    }
   ],
   "source": [
    "!cat stable-marriage-instance.pi"
   ]
  }
 ],
 "metadata": {
  "kernelspec": {
   "display_name": "Python 3 (ipykernel)",
   "language": "python",
   "name": "python3"
  },
  "language_info": {
   "codemirror_mode": {
    "name": "ipython",
    "version": 3
   },
   "file_extension": ".py",
   "mimetype": "text/x-python",
   "name": "python",
   "nbconvert_exporter": "python",
   "pygments_lexer": "ipython3",
   "version": "3.11.5"
  },
  "vscode": {
   "interpreter": {
    "hash": "916dbcbb3f70747c44a77c7bcd40155683ae19c65e1c03b4aa3499c5328201f1"
   }
  }
 },
 "nbformat": 4,
 "nbformat_minor": 5
}
