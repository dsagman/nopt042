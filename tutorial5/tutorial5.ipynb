{
 "cells": [
  {
   "cell_type": "markdown",
   "id": "0d8742c9",
   "metadata": {
    "slideshow": {
     "slide_type": "slide"
    }
   },
   "source": [
    "# NOPT042 Constraint programming: Tutorial 5 – Advanced constraint modelling"
   ]
  },
  {
   "cell_type": "markdown",
   "id": "f7243c29",
   "metadata": {
    "slideshow": {
     "slide_type": "slide"
    }
   },
   "source": [
    " ## The element constraint\n",
    "\n",
    "Picat doesn't support indexation in constraints, e.g. `X #= L[I]`. Instead, it implements the `element` constraint:\n",
    "```\n",
    "element(I, L, X)\n",
    "```\n",
    "(\"X is on the Ith position in the list L\"). But this constraint can also be used for \"reverse indexing\": when we have X and want to find its position in L. The constraint doesn't care about the direction; this is called _bidirectionality_.\n",
    "\n",
    "For matrices (2D arrays), `Matrix[I,J]#=X` is expressed using the following constraint:\n",
    "```\n",
    "matrix_element(Matrix,I,J,X)\n",
    "```"
   ]
  },
  {
   "cell_type": "code",
   "execution_count": 1,
   "id": "1a103abf",
   "metadata": {
    "execution": {
     "iopub.execute_input": "2024-10-07T08:48:56.966005Z",
     "iopub.status.busy": "2024-10-07T08:48:56.965311Z",
     "iopub.status.idle": "2024-10-07T08:48:57.021657Z",
     "shell.execute_reply": "2024-10-07T08:48:57.019328Z"
    },
    "scrolled": true,
    "slideshow": {
     "slide_type": "subslide"
    }
   },
   "outputs": [
    {
     "data": {
      "application/javascript": [
       "\"use strict\";\n",
       "\n",
       "CodeMirror.defineMode(\"text/picat\", function(config) {\n",
       "\n",
       "  var isOperatorChar = /[+\\-*=\\@\\&|\\:#<>\\/]/;\n",
       "\n",
       "  var keywords = {\"else\":true,\n",
       "  \"end\":true,\n",
       "  \"foreach\":true,\n",
       "  \"if\":true,\n",
       "  \"in\":true,\n",
       "  \"then\":true\n",
       "  }\n",
       "\n",
       "  var specials = {\"acyclic_term\":true,\n",
       "  \"and_to_list\":true,\n",
       "  \"append\":true,\n",
       "  \"apply\":true,\n",
       "  \"arity\":true,\n",
       "  \"array\":true,\n",
       "  \"atom\":true,\n",
       "  \"atom_chars\":true,\n",
       "  \"atom_codes\":true,\n",
       "  \"atomic\":true,\n",
       "  \"attr_var\":true,\n",
       "  \"between\":true,\n",
       "  \"bind_vars\":true,\n",
       "  \"call\":true,\n",
       "  \"call_cleanup\":true,\n",
       "  \"catch\":true,\n",
       "  \"char\":true,\n",
       "  \"chr\":true,\n",
       "  \"clear\":true,\n",
       "  \"compare_terms\":true,\n",
       "  \"compound\":true,\n",
       "  \"copy_term\":true,\n",
       "  \"count_all\":true,\n",
       "  \"delete\":true,\n",
       "  \"delete_all\":true,\n",
       "  \"different_term\":true,\n",
       "  \"digit\":true,\n",
       "  \"div\":true,\n",
       "  \"dvar\":true,\n",
       "  \"dvar_or_int\":true,\n",
       "//   \"end\":true,\n",
       "  \"fail\":true,\n",
       "  \"false\":true,\n",
       "  \"find_all\":true,\n",
       "  \"findall\":true,\n",
       "  \"first\":true,\n",
       "  \"flatten\":true,\n",
       "  \"float\":true,\n",
       "  \"fold\":true,\n",
       "//   \"foreach\":true,\n",
       "  \"freeze\":true,\n",
       "  \"get\":true,\n",
       "  \"get_attr\":true,\n",
       "  \"get_global_map\":true,\n",
       "  \"get_heap_map\":true,\n",
       "  \"get_table_map\":true,\n",
       "  \"ground\":true,\n",
       "  \"handle_exception\":true,\n",
       "  \"has_key\":true,\n",
       "  \"hash_code\":true,\n",
       "  \"head\":true,\n",
       "  \"heap_is_empty\":true,\n",
       "  \"heap_pop\":true,\n",
       "  \"heap_push\":true,\n",
       "  \"heap_size\":true,\n",
       "  \"heap_to_list\":true,\n",
       "  \"heap_top\":true,\n",
       "  \"import\":true,    \n",
       "//   \"in\":true,\n",
       "  \"insert\":true,\n",
       "  \"insert_all\":true,\n",
       "  \"insert_ordered\":true,\n",
       "  \"insert_ordered_down\":true,\n",
       "  \"int\":true,\n",
       "  \"integer\":true,\n",
       "  \"is\":true,\n",
       "  \"keys\":true,\n",
       "  \"last\":true,\n",
       "  \"len\":true,\n",
       "  \"length\":true,\n",
       "  \"list\":true,\n",
       "  \"list_to_and\":true,\n",
       "  \"lowercase\":true,\n",
       "  \"map\":true,\n",
       "  \"map_to_list\":true,\n",
       "  \"max\":true,\n",
       "  \"maxint_small\":true,\n",
       "  \"maxof\":true,\n",
       "  \"maxof_inc\":true,\n",
       "  \"membchk\":true,\n",
       "  \"member\":true,\n",
       "  \"min\":true,\n",
       "  \"minint_small\":true,\n",
       "  \"minof\":true,\n",
       "  \"minof_inc\":true,\n",
       "  \"mod\":true,\n",
       "  \"name\":true,\n",
       "  \"new_array\":true,\n",
       "  \"new_list\":true,\n",
       "  \"new_map\":true,\n",
       "  \"new_max_heap\":true,\n",
       "  \"new_min_heap\":true,\n",
       "  \"new_set\":true,\n",
       "  \"new_struct\":true,\n",
       "  \"nonvar\":true,\n",
       "  \"not\":true,\n",
       "  \"notin\":true,\n",
       "  \"nth\":true,\n",
       "  \"number\":true,\n",
       "  \"number_char\":true,\n",
       "  \"number_codes\":true,\n",
       "  \"number_vars\":true,\n",
       "  \"once\":true,\n",
       "  \"ord\":true,\n",
       "  \"parse_radix_string\":true,\n",
       "  \"parse_term\":true,\n",
       "  \"post_event\":true,\n",
       "  \"post_event_any\":true,\n",
       "  \"post_event_bound\":true,\n",
       "  \"post_event_dom\":true,\n",
       "  \"post_event_ins\":true,\n",
       "  \"print\":true,\n",
       "  \"println\":true,\n",
       "  \"prod\":true,\n",
       "  \"put\":true,\n",
       "  \"put_attr\":true,\n",
       "  \"real\":true,\n",
       "  \"reduce\":true,\n",
       "  \"rem\":true,\n",
       "  \"remove_dumps\":true,\n",
       "  \"repeat\":true,\n",
       "  \"reverse\":true,\n",
       "  \"second\":true,\n",
       "  \"select\":true,\n",
       "  \"size\":true,\n",
       "  \"slice\":true,\n",
       "  \"sort\":true,\n",
       "  \"sort_down\":true,\n",
       "  \"sort_down_remove_dups\":true,\n",
       "  \"sort_remove_dups\":true,\n",
       "  \"sorted\":true,\n",
       "  \"sorted_down\":true,\n",
       "  \"string\":true,\n",
       "  \"struct\":true,\n",
       "  \"subsumes\":true,\n",
       "  \"sum\":true,\n",
       "  \"tail\":true,\n",
       "  \"throw\":true,\n",
       "  \"to_array\":true,\n",
       "  \"to_atom\":true,\n",
       "  \"to_binary_string\":true,\n",
       "  \"to_code\":true,\n",
       "  \"to_fstring\":true,\n",
       "  \"to_hex_string\":true,\n",
       "  \"to_int\":true,\n",
       "  \"to_integer\":true,\n",
       "  \"to_list\":true,\n",
       "  \"to_lowercase\":true,\n",
       "  \"to_number\":true,\n",
       "  \"to_oct_string\":true,\n",
       "  \"to_radix_string\":true,\n",
       "  \"to_real\":true,\n",
       "  \"to_string\":true,\n",
       "  \"to_uppercase\":true,\n",
       "  \"true\":true,\n",
       "  \"uppercase\":true,\n",
       "  \"values\":true,\n",
       "  \"var\":true,\n",
       "  \"variant\":true,\n",
       "  \"vars\":true,\n",
       "  \"zip\":true,\n",
       "\n",
       "  \"abs\":true,\n",
       "  \"acos\":true,\n",
       "  \"acosh\":true,\n",
       "  \"acot\":true,\n",
       "  \"acoth\":true,\n",
       "  \"acsc\":true,\n",
       "  \"acsch\":true,\n",
       "  \"asec\":true,\n",
       "  \"asech\":true,\n",
       "  \"asin\":true,\n",
       "  \"asinh\":true,\n",
       "  \"atan\":true,\n",
       "  \"atan2\":true,\n",
       "  \"atanh\":true,\n",
       "  \"ceiling\":true,\n",
       "  \"cos\":true,\n",
       "  \"cosh\":true,\n",
       "  \"cot\":true,\n",
       "  \"coth\":true,\n",
       "  \"csc\":true,\n",
       "  \"csch\":true,\n",
       "  \"e\":true,\n",
       "  \"even\":true,\n",
       "  \"exp\":true,\n",
       "  \"floor\":true,\n",
       "  \"frand\":true,\n",
       "  \"gcd\":true,\n",
       "  \"log\":true,\n",
       "  \"log10\":true,\n",
       "  \"log2\":true,\n",
       "  \"modf\":true,\n",
       "  \"odd\":true,\n",
       "  \"pi\":true,\n",
       "  \"pow\":true,\n",
       "  \"pow_mod\":true,\n",
       "  \"prime\":true,\n",
       "  \"primes\":true,\n",
       "  \"max\":true,\n",
       "  \"random\":true,\n",
       "  \"random2\":true,\n",
       "  \"round\":true,\n",
       "  \"sec\":true,\n",
       "  \"sech\":true,\n",
       "  \"sign\":true,\n",
       "  \"sin\":true,\n",
       "  \"sinh\":true,\n",
       "  \"sqrt\":true,\n",
       "  \"tan\":true,\n",
       "  \"tanh\":true,\n",
       "  \"to_degrees\":true,\n",
       "  \"to_radians\":true,\n",
       "  \"truncate\":true,\n",
       "    \n",
       " \n",
       "  \"xor\":true};\n",
       "\n",
       "  var punc = \":;,.(){}[]\";\n",
       "\n",
       "  function tokenBase(stream, state) {\n",
       "    var ch = stream.next();\n",
       "    if (ch == '\"') {\n",
       "      state.tokenize.push(tokenString);\n",
       "      return tokenString(stream, state);\n",
       "    }\n",
       "    if (/[\\d\\.]/.test(ch)) {\n",
       "      if (ch == \".\") {\n",
       "        stream.match(/^[0-9]+([eE][\\-+]?[0-9]+)?/);\n",
       "      } else if (ch == \"0\") {\n",
       "        stream.match(/^[xX][0-9a-fA-F]+/) || stream.match(/^0[0-7]+/);\n",
       "      } else {\n",
       "        stream.match(/^[0-9]*\\.?[0-9]*([eE][\\-+]?[0-9]+)?/);\n",
       "      }\n",
       "      return \"number\";\n",
       "    }\n",
       "    if (ch == \"/\") {\n",
       "      if (stream.eat(\"*\")) {\n",
       "        state.tokenize.push(tokenComment);\n",
       "        return tokenComment(stream, state);\n",
       "      }\n",
       "    }\n",
       "    if (ch == \"%\") {\n",
       "      stream.skipToEnd();\n",
       "      return \"comment\";\n",
       "    }\n",
       "    if (isOperatorChar.test(ch)) {\n",
       "      stream.eatWhile(isOperatorChar);\n",
       "      return \"operator\";\n",
       "    }\n",
       "    if (punc.indexOf(ch) > -1) {\n",
       "      return \"punctuation\";\n",
       "    }\n",
       "    stream.eatWhile(/[\\w\\$_\\xa1-\\uffff]/);\n",
       "    var cur = stream.current();\n",
       "    if (keywords.propertyIsEnumerable(cur)) {\n",
       "      return \"keyword\";\n",
       "    }\n",
       "    return \"variable\";\n",
       "  }\n",
       "\n",
       "  function tokenComment(stream, state) {\n",
       "    var maybeEnd = false, ch;\n",
       "    while (ch = stream.next()) {\n",
       "      if (ch == \"/\" && maybeEnd) {\n",
       "        state.tokenize.pop();\n",
       "        break;\n",
       "      }\n",
       "      maybeEnd = (ch == \"*\");\n",
       "    }\n",
       "    return \"comment\";\n",
       "  }\n",
       "\n",
       "  function tokenUntilClosingParen() {\n",
       "    var depth = 0;\n",
       "    return function(stream, state, prev) {\n",
       "      var inner = tokenBase(stream, state, prev);\n",
       "      console.log(\"untilClosing\",inner,stream.current());\n",
       "      if (inner == \"punctuation\") {\n",
       "        if (stream.current() == \"(\") {\n",
       "          ++depth;\n",
       "        } else if (stream.current() == \")\") {\n",
       "          if (depth == 0) {\n",
       "            stream.backUp(1)\n",
       "            state.tokenize.pop()\n",
       "            return state.tokenize[state.tokenize.length - 1](stream, state)\n",
       "          } else {\n",
       "            --depth;\n",
       "          }\n",
       "        }\n",
       "      }\n",
       "      return inner;\n",
       "    }\n",
       "  }\n",
       "\n",
       "  function tokenString(stream, state) {\n",
       "    var escaped = false, next, end = false;\n",
       "    while ((next = stream.next()) != null) {\n",
       "      if (next=='(' && escaped) {\n",
       "        state.tokenize.push(tokenUntilClosingParen());\n",
       "        return \"string\";\n",
       "      }\n",
       "      if (next == '\"' && !escaped) {end = true; break;}\n",
       "      escaped = !escaped && next == \"\\\\\";\n",
       "    }\n",
       "    if (end || !escaped)\n",
       "      state.tokenize.pop();\n",
       "    return \"string\";\n",
       "  }\n",
       "\n",
       "  return {\n",
       "    startState: function(basecolumn) {\n",
       "      return {\n",
       "        tokenize: []\n",
       "      };\n",
       "    },\n",
       "\n",
       "    token: function(stream, state) {\n",
       "      if (stream.eatSpace()) return null;\n",
       "      var style = (state.tokenize[state.tokenize.length - 1] || tokenBase)(stream, state);\n",
       "      console.log(\"token\",style);\n",
       "      return style;\n",
       "    },\n",
       "\n",
       "    blockCommentStart: \"/*\",\n",
       "    blockCommentEnd: \"*/\",\n",
       "    lineComment: \"%\"\n",
       "  };\n",
       "});\n",
       "\n",
       "CodeMirror.defineMIME(\"text/picat\", \"text/picat\");\n",
       "\n",
       "Jupyter.CodeCell.options_default.highlight_modes['magic_text/picat'] = {'reg':[/^%%picat/]} ;\n",
       "\n",
       "Jupyter.notebook.get_cells().map(function(cell){\n",
       "  if (cell.cell_type == 'code'){ cell.auto_highlight(); }\n",
       "}) ;"
      ],
      "text/plain": [
       "<IPython.core.display.Javascript object>"
      ]
     },
     "metadata": {},
     "output_type": "display_data"
    },
    {
     "name": "stdout",
     "output_type": "stream",
     "text": [
      "Picat version 3.7\n"
     ]
    }
   ],
   "source": [
    "%load_ext ipicat"
   ]
  },
  {
   "cell_type": "code",
   "execution_count": 2,
   "id": "ce4bc516",
   "metadata": {
    "execution": {
     "iopub.execute_input": "2024-10-07T08:48:57.025523Z",
     "iopub.status.busy": "2024-10-07T08:48:57.025141Z",
     "iopub.status.idle": "2024-10-07T08:48:57.058712Z",
     "shell.execute_reply": "2024-10-07T08:48:57.058107Z"
    },
    "slideshow": {
     "slide_type": "fragment"
    }
   },
   "outputs": [
    {
     "name": "stdout",
     "output_type": "stream",
     "text": [
      "{0,1,2,3,4,6,7,8,9,5}\n",
      "\n"
     ]
    }
   ],
   "source": [
    "%%picat\n",
    "import cp.\n",
    "\n",
    "main =>\n",
    "    L = new_array(10),\n",
    "    L :: 0..9,\n",
    "    all_different(L),\n",
    "    % X #= L[I], % this does not work, use element instead\n",
    "    element(I, L, X),    \n",
    "    X #= 5,\n",
    "    solve($[max(I)],L),\n",
    "    println(L)."
   ]
  },
  {
   "cell_type": "markdown",
   "id": "0a4c6a3d",
   "metadata": {
    "slideshow": {
     "slide_type": "slide"
    }
   },
   "source": [
    "## Example: Langford's number problem"
   ]
  },
  {
   "cell_type": "markdown",
   "id": "6e1b4d69",
   "metadata": {
    "slideshow": {
     "slide_type": "fragment"
    }
   },
   "source": [
    "Consider the following problem (formulation slightly modified from [the book](http://picat-lang.org/picatbook2015/constraint_solving_and_planning_with_picat.pdf)):\n",
    "\n",
    "> Consider two sets of the numbers from 1 to $N$. The problem is to arrange the $2N$ numbers\n",
    "in the two sets into a single sequence in which the two 1’s appear one number apart, the\n",
    "two 2’s appear two numbers apart, the two 3’s appear three numbers apart, etc."
   ]
  },
  {
   "cell_type": "markdown",
   "id": "b56e43c5",
   "metadata": {
    "slideshow": {
     "slide_type": "fragment"
    }
   },
   "source": [
    "Try to formulate a model for this problem."
   ]
  },
  {
   "cell_type": "code",
   "execution_count": 3,
   "id": "aca50d8d",
   "metadata": {
    "execution": {
     "iopub.execute_input": "2024-10-07T08:48:57.060849Z",
     "iopub.status.busy": "2024-10-07T08:48:57.060650Z",
     "iopub.status.idle": "2024-10-07T08:48:58.254204Z",
     "shell.execute_reply": "2024-10-07T08:48:58.251516Z"
    },
    "scrolled": false,
    "slideshow": {
     "slide_type": "subslide"
    }
   },
   "outputs": [
    {
     "name": "stdout",
     "output_type": "stream",
     "text": [
      "\r\n",
      "CPU time 0.117 seconds. Backtracks: 9160\r\n",
      "\r\n",
      "{2,4,7,2,8,6,4,1,5,1,7,3,6,8,5,3}\r\n"
     ]
    }
   ],
   "source": [
    "!picat langford/langford.pi 8"
   ]
  },
  {
   "cell_type": "code",
   "execution_count": 4,
   "id": "ef6a0dc3",
   "metadata": {
    "execution": {
     "iopub.execute_input": "2024-10-07T08:48:58.263223Z",
     "iopub.status.busy": "2024-10-07T08:48:58.261313Z",
     "iopub.status.idle": "2024-10-07T08:48:59.344967Z",
     "shell.execute_reply": "2024-10-07T08:48:59.342274Z"
    },
    "scrolled": true,
    "slideshow": {
     "slide_type": "fragment"
    }
   },
   "outputs": [
    {
     "name": "stdout",
     "output_type": "stream",
     "text": [
      "\r\n",
      "CPU time 0.034 seconds. Backtracks: 1346\r\n",
      "\r\n",
      "solution = [1,2,1,3,2,8,9,3,10,11,12,5,7,4,8,6,9,5,4,10,7,11,6,12]\r\n",
      "position = [1,2,4,14,12,16,13,6,7,9,10,11,3,5,8,19,18,23,21,15,17,20,22,24]\r\n"
     ]
    }
   ],
   "source": [
    "!picat langford/langford2.pi 12"
   ]
  },
  {
   "cell_type": "code",
   "execution_count": 5,
   "id": "3fb9f6d7",
   "metadata": {
    "execution": {
     "iopub.execute_input": "2024-10-07T08:48:59.352299Z",
     "iopub.status.busy": "2024-10-07T08:48:59.351487Z",
     "iopub.status.idle": "2024-10-07T08:49:00.412771Z",
     "shell.execute_reply": "2024-10-07T08:49:00.409537Z"
    },
    "scrolled": true,
    "slideshow": {
     "slide_type": "skip"
    }
   },
   "outputs": [
    {
     "name": "stdout",
     "output_type": "stream",
     "text": [
      "\r\n",
      "CPU time 0.027 seconds. Backtracks: 1346\r\n",
      "\r\n",
      "solution = [1,2,1,3,2,8,9,3,10,11,12,5,7,4,8,6,9,5,4,10,7,11,6,12]\r\n",
      "position = [1,2,4,14,12,16,13,6,7,9,10,11,3,5,8,19,18,23,21,15,17,20,22,24]\r\n"
     ]
    }
   ],
   "source": [
    "!picat langford/langford2.pi 12"
   ]
  },
  {
   "cell_type": "code",
   "execution_count": 6,
   "id": "091e4c89",
   "metadata": {
    "execution": {
     "iopub.execute_input": "2024-10-07T08:49:00.420658Z",
     "iopub.status.busy": "2024-10-07T08:49:00.419284Z",
     "iopub.status.idle": "2024-10-07T08:49:08.791141Z",
     "shell.execute_reply": "2024-10-07T08:49:08.788416Z"
    },
    "scrolled": false,
    "slideshow": {
     "slide_type": "fragment"
    }
   },
   "outputs": [
    {
     "name": "stdout",
     "output_type": "stream",
     "text": [
      "\r\n",
      "CPU time 2.06 seconds. Backtracks: 250746\r\n",
      "\r\n"
     ]
    },
    {
     "name": "stdout",
     "output_type": "stream",
     "text": [
      "\r\n",
      "CPU time 0.002 seconds. Backtracks: 970\r\n",
      "\r\n",
      "{1,2,4,10,11,13,16,14,12,7,9,6,3,5,8,15,17,20,24,23,22,18,21,19}\r\n"
     ]
    },
    {
     "name": "stdout",
     "output_type": "stream",
     "text": [
      "\r\n",
      "CPU time 3.12 seconds. Backtracks: 250746\r\n",
      "\r\n",
      "{1,3,1,6,7,3,8,5,2,4,6,2,7,5,4,8}\r\n",
      "{1,9,2,10,8,4,5,7,3,12,6,15,14,11,13,16}\r\n"
     ]
    }
   ],
   "source": [
    "!picat langford/langford-primal.pi 8\n",
    "!picat langford/langford-dual.pi 12\n",
    "!picat langford/langford-channeling.pi 8"
   ]
  },
  {
   "cell_type": "markdown",
   "id": "81a2e135",
   "metadata": {
    "slideshow": {
     "slide_type": "slide"
    }
   },
   "source": [
    "## The assignment problem\n",
    "\n",
    "From [Wikipedia](https://en.wikipedia.org/wiki/Assignment_problem):\n",
    "\n",
    "The assignment problem is a fundamental combinatorial optimization problem. In its most general form, the problem is as follows:\n",
    "\n",
    "> The problem instance has a number of agents and a number of tasks. Any agent can be assigned to perform any task, incurring some cost that may vary depending on the agent-task assignment. It is required to perform as many tasks as possible by assigning at most one agent to each task and at most one task to each agent, in such a way that the total cost of the assignment is minimized.\n",
    "\n",
    "Alternatively, describing the problem using graph theory:\n",
    "\n",
    ">The assignment problem consists of finding, in a weighted bipartite graph, a matching of a given size, in which the sum of weights of the edges is minimum.\n",
    "\n",
    "If the numbers of agents and tasks are equal, then the problem is called balanced assignment.\n"
   ]
  },
  {
   "cell_type": "markdown",
   "id": "9f69da4c",
   "metadata": {
    "slideshow": {
     "slide_type": "slide"
    }
   },
   "source": [
    "### Example: Swimmers\n",
    "(From: W. Winston, Operations Research: Applications & Algorithms.)\n",
    "\n",
    "In medley swimming relay, a team of four swimmers must swim 4x100m, each swimmer using a different style: breaststroke, backstroke, butterfly, or freestyle. The table below gives their average times for 100m in each style. Which swimmer should swim which stroke to minimize total time?\n",
    "\n",
    "| Swimmer | Free | Breast | Fly | Back |\n",
    "|---------|------|--------|-----|------|\n",
    "| A       | 54   | 54     | 51  | 53   |\n",
    "| B       | 51   | 57     | 52  | 52   |\n",
    "| C       | 50   | 53     | 54  | 56   |\n",
    "| D       | 56   | 54     | 55  | 53   |"
   ]
  },
  {
   "cell_type": "markdown",
   "id": "821140e4",
   "metadata": {
    "slideshow": {
     "slide_type": "fragment"
    }
   },
   "source": [
    "Write a general model, generate larger instances, and try to make your model as efficient as possible."
   ]
  },
  {
   "cell_type": "code",
   "execution_count": 7,
   "id": "dc616bbc",
   "metadata": {
    "execution": {
     "iopub.execute_input": "2024-10-07T08:49:08.799162Z",
     "iopub.status.busy": "2024-10-07T08:49:08.798386Z",
     "iopub.status.idle": "2024-10-07T08:49:09.876715Z",
     "shell.execute_reply": "2024-10-07T08:49:09.873850Z"
    },
    "scrolled": false,
    "slideshow": {
     "slide_type": "subslide"
    }
   },
   "outputs": [
    {
     "name": "stdout",
     "output_type": "stream",
     "text": [
      "Sample instance:\r\n",
      "{A,B,C,D}\r\n",
      "{Free,Breast,Fly,Back}\r\n",
      "{{54,54,51,53},{51,57,52,52},{50,53,54,56},{56,54,55,53}}\r\n",
      "\r\n",
      "Random instance:\r\n",
      "{Swimmer1,Swimmer2,Swimmer3,Swimmer4,Swimmer5,Swimmer6,Swimmer7,Swimmer8}\r\n",
      "{Style1,Style2,Style3,Style4,Style5,Style6,Style7,Style8}\r\n",
      "{{46,49,54,64,53,55,55,54},{60,55,47,64,65,49,65,52},{48,60,61,61,62,59,57,54},{47,50,50,58,46,64,50,45},{48,57,62,54,46,52,61,61},{60,63,57,59,65,55,65,47},{47,60,62,64,52,53,53,54},{56,56,46,55,54,51,56,57}}\r\n"
     ]
    }
   ],
   "source": [
    "!cd swimmers && picat instances.pi"
   ]
  },
  {
   "cell_type": "code",
   "execution_count": 8,
   "id": "38239251",
   "metadata": {
    "execution": {
     "iopub.execute_input": "2024-10-07T08:49:09.884047Z",
     "iopub.status.busy": "2024-10-07T08:49:09.883233Z",
     "iopub.status.idle": "2024-10-07T08:50:10.830050Z",
     "shell.execute_reply": "2024-10-07T08:50:10.827410Z"
    },
    "slideshow": {
     "slide_type": "subslide"
    }
   },
   "outputs": [
    {
     "name": "stdout",
     "output_type": "stream",
     "text": [
      "\r\n",
      "CPU time 57.455 seconds. Backtracks: 417964\r\n",
      "\r\n"
     ]
    }
   ],
   "source": [
    "!cd swimmers && picat swimmers.pi"
   ]
  },
  {
   "cell_type": "code",
   "execution_count": 9,
   "id": "b5ef5b11",
   "metadata": {
    "execution": {
     "iopub.execute_input": "2024-10-07T08:50:10.837612Z",
     "iopub.status.busy": "2024-10-07T08:50:10.836827Z",
     "iopub.status.idle": "2024-10-07T08:50:11.896607Z",
     "shell.execute_reply": "2024-10-07T08:50:11.893645Z"
    },
    "slideshow": {
     "slide_type": "subslide"
    }
   },
   "outputs": [
    {
     "name": "stdout",
     "output_type": "stream",
     "text": [
      "import cp.\r\n",
      "\r\n",
      "main =>\r\n",
      "    cl(sample_instance),\r\n",
      "    sample_instance(SwimmerNames, StyleNames, Times),\r\n",
      "    % go(SwimmerNames, StyleNames, Times),\r\n",
      "\r\n",
      "    M = 1000,\r\n",
      "    time2(test(M)).\r\n",
      "    \r\n",
      "test(M) =>\r\n",
      "    cl(random_instance),\r\n",
      "    MinTime = 45,\r\n",
      "    MaxTime = 65,\r\n",
      "    N = 12,\r\n",
      "    K = 12,\r\n",
      "    foreach(_ in 1..M)\r\n",
      "        random_instance(N, K, MinTime, MaxTime, SwimmerNames, StyleNames, Times),\r\n",
      "        primal_model(StyleOfSwimmer, Times, TotalTime),\r\n",
      "        solve([$min(TotalTime), StyleOfSwimmer]),\r\n",
      "        % dual_model(SwimmerOfStyle, Times, TotalTime),\r\n",
      "        % solve([$min(TotalTime), SwimmerOfStyle]),\r\n",
      "        % channeling_model(StyleOfSwimmer, SwimmerOfStyle, Times, TotalTime),\r\n",
      "        % solve([$min(TotalTime), StyleOfSwimmer ++ SwimmerOfStyle])\r\n",
      "    end.\r\n",
      "    \r\n",
      " \r\n",
      "go(SwimmerNames, StyleNames, Times) =>\r\n",
      "    primal_model(StyleOfSwimmer, Times, TotalTime),\r\n",
      "    time2(solve([$min(TotalTime), StyleOfSwimmer])),\r\n",
      "    println(\"\\nPrimal model:\"),\r\n",
      "    foreach(I in 1..SwimmerNames.length)\r\n",
      "        printf(\"Swimmer %w is swims %w\\n\", SwimmerNames[I], StyleNames[StyleOfSwimmer[I]])\r\n",
      "    end,\r\n",
      "\r\n",
      "    dual_model(SwimmerOfStyle, Times, TotalTime),\r\n",
      "    time2(solve([$min(TotalTime), SwimmerOfStyle])),\r\n",
      "    println(\"\\nDual model:\"),\r\n",
      "    foreach(J in 1..StyleNames.length)\r\n",
      "        printf(\"Style %w is swum  by %w\\n\", StyleNames[J], SwimmerNames[SwimmerOfStyle[J]])\r\n",
      "    end,\r\n",
      "\r\n",
      "    channeling_model(StyleOfSwimmer, SwimmerOfStyle, Times, TotalTime),\r\n",
      "    time2(solve([$min(TotalTime), StyleOfSwimmer ++ SwimmerOfStyle])),\r\n",
      "    println(\"\\nChanneling model:\"),\r\n",
      "    foreach(I in 1..SwimmerNames.length)\r\n",
      "        printf(\"Swimmer %w is swims %w\\n\", SwimmerNames[I], StyleNames[StyleOfSwimmer[I]])\r\n",
      "    end,\r\n",
      "    println(\"or in the dual view\"),\r\n",
      "    foreach(J in 1..StyleNames.length)\r\n",
      "        printf(\"Style %w is swum  by %w\\n\", StyleNames[J], SwimmerNames[SwimmerOfStyle[J]])\r\n",
      "    end.\r\n",
      "\r\n",
      "\r\n",
      "primal_model(StyleOfSwimmer, Times, TotalTime) =>\r\n",
      "    N = Times.length,\r\n",
      "    %K = Times[1].length,\r\n",
      "    K = N,\r\n",
      "    StyleOfSwimmer = new_array(N),\r\n",
      "    StyleOfSwimmer :: 1..K,\r\n",
      "    all_different(StyleOfSwimmer),\r\n",
      "\r\n",
      "    TimeOfSwimmer = new_array(N),\r\n",
      "    foreach(I in 1..N)\r\n",
      "        matrix_element(Times, I, StyleOfSwimmer[I], TimeOfSwimmer[I])\r\n",
      "    end,\r\n",
      "    TotalTime #= sum(TimeOfSwimmer).\r\n",
      "\r\n",
      "\r\n",
      "dual_model(SwimmerOfStyle, Times, TotalTime) =>\r\n",
      "    N = Times.length,\r\n",
      "    K = N,\r\n",
      "    SwimmerOfStyle = new_array(K),\r\n",
      "    SwimmerOfStyle :: 1..N,\r\n",
      "    all_different(SwimmerOfStyle),\r\n",
      "\r\n",
      "    TimeOfStyle = new_array(K),\r\n",
      "    foreach(J in 1..K)\r\n",
      "        matrix_element(Times, J, SwimmerOfStyle[J], TimeOfStyle[J])\r\n",
      "    end,\r\n",
      "    TotalTime #= sum(TimeOfStyle).\r\n",
      "\r\n",
      "\r\n",
      "channeling_model(StyleOfSwimmer, SwimmerOfStyle, Times, TotalTime) =>    \r\n",
      "    primal_model(StyleOfSwimmer, Times, TotalTime),\r\n",
      "    dual_model(SwimmerOfStyle, Times, TotalTime),\r\n",
      "    assignment(StyleOfSwimmer, SwimmerOfStyle).  %chanelling constraint\r\n",
      "\r\n"
     ]
    }
   ],
   "source": [
    "!cd swimmers && cat swimmers.pi"
   ]
  },
  {
   "cell_type": "markdown",
   "id": "43fc226b",
   "metadata": {
    "slideshow": {
     "slide_type": "slide"
    }
   },
   "source": [
    "## Modelling functions\n",
    "\n",
    "In general, how to model a function (mapping) $f:A\\to B$? Let's say $A=\\{1,\\dots,n\\}$ and $B=\\{1,\\dots,k\\}$.\n",
    "\n",
    "* as an array: \n",
    "```\n",
    "F = new_array(N},\n",
    "F :: 1..K.\n",
    "```\n",
    "* _injective_: `all_different(F)`\n",
    "* _surjective_: a partition of $A$ into classes labelled by $B$, to each element of $B$ map a set of elements of $A$. In Picat we can model set as their characteristic vectors. More on modelling with sets later.\n",
    "* _partial function_: a dummy value for undefined inputs\n",
    "* _dual model_: switch the role of variables and values (not a function unless $F$ injective, see above)\n",
    "* _channelling_: combine the primal and dual models, if it is a bijection, then use `assignment(F, FInv)`"
   ]
  },
  {
   "cell_type": "code",
   "execution_count": 10,
   "id": "475f02e1",
   "metadata": {
    "execution": {
     "iopub.execute_input": "2024-10-07T08:50:11.904388Z",
     "iopub.status.busy": "2024-10-07T08:50:11.903619Z",
     "iopub.status.idle": "2024-10-07T08:50:12.948401Z",
     "shell.execute_reply": "2024-10-07T08:50:12.945442Z"
    },
    "scrolled": true,
    "slideshow": {
     "slide_type": "subslide"
    }
   },
   "outputs": [
    {
     "name": "stdout",
     "output_type": "stream",
     "text": [
      "{1,2,3,4}\r\n",
      "{1,2,3,4}\r\n"
     ]
    }
   ],
   "source": [
    "!picat functions.pi 4 4"
   ]
  },
  {
   "cell_type": "code",
   "execution_count": 11,
   "id": "cdb80197",
   "metadata": {
    "execution": {
     "iopub.execute_input": "2024-10-07T08:50:12.955677Z",
     "iopub.status.busy": "2024-10-07T08:50:12.954913Z",
     "iopub.status.idle": "2024-10-07T08:50:13.973018Z",
     "shell.execute_reply": "2024-10-07T08:50:13.970293Z"
    },
    "slideshow": {
     "slide_type": "fragment"
    }
   },
   "outputs": [
    {
     "name": "stdout",
     "output_type": "stream",
     "text": [
      "import cp.\r\n",
      "\r\n",
      "main([N, K]) =>\r\n",
      "    N := N.to_int,\r\n",
      "    K := K.to_int,\r\n",
      "    \r\n",
      "    % function\r\n",
      "    F = new_array(N),\r\n",
      "    F :: 1..K,\r\n",
      "    \r\n",
      "    % injective\r\n",
      "    all_different(F),\r\n",
      "\r\n",
      "    % dual model if it is a bijection (K=N and injective)\r\n",
      "    FInv = new_array(K),\r\n",
      "    FInv :: 1..N,\r\n",
      "\r\n",
      "    % channeling if it is a bijection (K=N and injective)\r\n",
      "    assignment(F, FInv),\r\n",
      "\r\n",
      "\r\n",
      "\r\n",
      "    % % dual model in general\r\n",
      "    % FInv = new_array(K, N),\r\n",
      "    % FInv :: 0..1,\r\n",
      "  \r\n",
      "    % % surjective in general\r\n",
      "    % foreach(J in 1..N)\r\n",
      "    %     sum([FInv[I, J]: I in 1..K]) #>= 1\r\n",
      "    % end,\r\n",
      "\r\n",
      "    % % channeling in general\r\n",
      "    % foreach(I in 1..N)\r\n",
      "    %     foreach(J in 1..N)\r\n",
      "    %         (FInv[J, I] #= 1) #<=> (F[I] #= J)\r\n",
      "    %     end\r\n",
      "    % end,\r\n",
      "\r\n",
      "    solve(F ++ FInv),\r\n",
      "    println(F),\r\n",
      "    println(FInv).\r\n",
      "\r\n",
      "\r\n",
      "\r\n",
      "\r\n",
      "\r\n",
      "\r\n"
     ]
    }
   ],
   "source": [
    "!cat functions.pi"
   ]
  }
 ],
 "metadata": {
  "celltoolbar": "Slideshow",
  "kernelspec": {
   "display_name": "Python 3 (ipykernel)",
   "language": "python",
   "name": "python3"
  },
  "language_info": {
   "codemirror_mode": {
    "name": "ipython",
    "version": 3
   },
   "file_extension": ".py",
   "mimetype": "text/x-python",
   "name": "python",
   "nbconvert_exporter": "python",
   "pygments_lexer": "ipython3",
   "version": "3.11.4"
  },
  "vscode": {
   "interpreter": {
    "hash": "916dbcbb3f70747c44a77c7bcd40155683ae19c65e1c03b4aa3499c5328201f1"
   }
  }
 },
 "nbformat": 4,
 "nbformat_minor": 5
}
