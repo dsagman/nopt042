{
 "cells": [
  {
   "cell_type": "markdown",
   "id": "0d8742c9",
   "metadata": {},
   "source": [
    "# NOPT042 Constraint programming: Tutorial 5 – Advanced constraint modelling"
   ]
  },
  {
   "cell_type": "code",
   "execution_count": 2,
   "id": "1a103abf",
   "metadata": {
    "execution": {
     "iopub.execute_input": "2022-11-01T19:31:17.258384Z",
     "iopub.status.busy": "2022-11-01T19:31:17.258073Z",
     "iopub.status.idle": "2022-11-01T19:31:17.292488Z",
     "shell.execute_reply": "2022-11-01T19:31:17.291481Z"
    },
    "scrolled": true
   },
   "outputs": [
    {
     "name": "stdout",
     "output_type": "stream",
     "text": [
      "The ipicat extension is already loaded. To reload it, use:\n",
      "  %reload_ext ipicat\n"
     ]
    }
   ],
   "source": [
    "%load_ext ipicat"
   ]
  },
  {
   "cell_type": "markdown",
   "id": "f7243c29",
   "metadata": {},
   "source": [
    "## The element constraint\n",
    "\n",
    "Picat doesn't support indexation in constraints, e.g. `X #= L[I]`. Instead, it implements the `element` constraint:\n",
    "```\n",
    "element(I, L, X)\n",
    "```\n",
    "(\"X is on the Ith position in the list L\"). But this constraint can also be used for \"reverse indexing\": when we have X and want to find its position in L. The constraint doesn't care about the direction; this is called _bidirectionality_.\n",
    "\n",
    "For matrices (2D arrays), `Matrix[I,J]#=X` is expressed using the following constraint:\n",
    "```\n",
    "matrix_element(Matrix,I,J,X)\n",
    "```"
   ]
  },
  {
   "cell_type": "markdown",
   "id": "0a4c6a3d",
   "metadata": {},
   "source": [
    "## Example: Langford's number problem"
   ]
  },
  {
   "cell_type": "markdown",
   "id": "6e1b4d69",
   "metadata": {},
   "source": [
    "Consider the following problem (formulation slightly modified from [the book](http://picat-lang.org/picatbook2015/constraint_solving_and_planning_with_picat.pdf)):\n",
    "\n",
    "> Consider two sets of the numbers from 1 to $N$. The problem is to arrange the $2N$ numbers\n",
    "in the two sets into a single sequence in which the two 1’s appear one number apart, the\n",
    "two 2’s appear two numbers apart, the two 3’s appear three numbers apart, etc."
   ]
  },
  {
   "cell_type": "markdown",
   "id": "b56e43c5",
   "metadata": {},
   "source": [
    "Try to formulate a model for this problem."
   ]
  },
  {
   "cell_type": "code",
   "execution_count": 6,
   "id": "2c387706",
   "metadata": {
    "execution": {
     "iopub.execute_input": "2022-11-01T19:31:17.296170Z",
     "iopub.status.busy": "2022-11-01T19:31:17.295857Z",
     "iopub.status.idle": "2022-11-01T19:31:19.400330Z",
     "shell.execute_reply": "2022-11-01T19:31:19.399303Z"
    }
   },
   "outputs": [
    {
     "name": "stdout",
     "output_type": "stream",
     "text": [
      "\r\n",
      "CPU time 0.0 seconds. Backtracks: 9\r\n",
      "\r\n",
      "[2,3,4,2,1,3,1,4]\r\n"
     ]
    }
   ],
   "source": [
    "!picat langford/langford.pi 4"
   ]
  },
  {
   "cell_type": "code",
   "execution_count": 3,
   "id": "ef6a0dc3",
   "metadata": {
    "execution": {
     "iopub.execute_input": "2022-11-01T19:31:19.403929Z",
     "iopub.status.busy": "2022-11-01T19:31:19.403625Z",
     "iopub.status.idle": "2022-11-01T19:31:19.530878Z",
     "shell.execute_reply": "2022-11-01T19:31:19.528926Z"
    },
    "scrolled": true
   },
   "outputs": [
    {
     "name": "stdout",
     "output_type": "stream",
     "text": [
      "\r\n",
      "CPU time 0.001 seconds. Backtracks: 55\r\n",
      "\r\n",
      "solution = [1,3,1,6,7,3,8,5,2,4,6,2,7,5,4,8]\r\n",
      "position = [1,9,2,10,8,4,5,7,3,12,6,15,14,11,13,16]\r\n"
     ]
    }
   ],
   "source": [
    "!picat langford/langford2.pi 8"
   ]
  },
  {
   "cell_type": "code",
   "execution_count": 4,
   "id": "3fb9f6d7",
   "metadata": {
    "execution": {
     "iopub.execute_input": "2022-11-01T19:31:19.535268Z",
     "iopub.status.busy": "2022-11-01T19:31:19.534802Z",
     "iopub.status.idle": "2022-11-01T19:31:19.697107Z",
     "shell.execute_reply": "2022-11-01T19:31:19.694056Z"
    },
    "scrolled": true
   },
   "outputs": [
    {
     "name": "stdout",
     "output_type": "stream",
     "text": [
      "\r\n",
      "CPU time 0.027 seconds. Backtracks: 1346\r\n",
      "\r\n",
      "solution = [1,2,1,3,2,8,9,3,10,11,12,5,7,4,8,6,9,5,4,10,7,11,6,12]\r\n",
      "position = [1,2,4,14,12,16,13,6,7,9,10,11,3,5,8,19,18,23,21,15,17,20,22,24]\r\n"
     ]
    }
   ],
   "source": [
    "!picat langford/langford2.pi 12"
   ]
  },
  {
   "cell_type": "code",
   "execution_count": null,
   "id": "091e4c89",
   "metadata": {},
   "outputs": [],
   "source": [
    "!picat langford/langford-primal.pi 8\n",
    "!picat langford/langford-dual.pi 8\n",
    "!picat langford/langford-channeling.pi 8"
   ]
  },
  {
   "cell_type": "code",
   "execution_count": null,
   "id": "12d34541",
   "metadata": {},
   "outputs": [],
   "source": []
  },
  {
   "cell_type": "markdown",
   "id": "81a2e135",
   "metadata": {},
   "source": [
    "## The assignment problem\n",
    "\n",
    "From [Wikipedia](https://en.wikipedia.org/wiki/Assignment_problem):\n",
    "\n",
    "The assignment problem is a fundamental combinatorial optimization problem. In its most general form, the problem is as follows:\n",
    "\n",
    "> The problem instance has a number of agents and a number of tasks. Any agent can be assigned to perform any task, incurring some cost that may vary depending on the agent-task assignment. It is required to perform as many tasks as possible by assigning at most one agent to each task and at most one task to each agent, in such a way that the total cost of the assignment is minimized.\n",
    "\n",
    "Alternatively, describing the problem using graph theory:\n",
    "\n",
    ">The assignment problem consists of finding, in a weighted bipartite graph, a matching of a given size, in which the sum of weights of the edges is minimum.\n",
    "\n",
    "If the numbers of agents and tasks are equal, then the problem is called balanced assignment.\n"
   ]
  },
  {
   "cell_type": "markdown",
   "id": "9f69da4c",
   "metadata": {},
   "source": [
    "### Example: Swimmers\n",
    "(From: W. Winston, Operations Research: Applications & Algorithms.)\n",
    "\n",
    "In medley swimming relay, a team of four swimmers must swim 4x100m, each swimmer using a different style: breaststroke, backstroke, butterfly, or freestyle. The table below gives their average times for 100m in each style. Which swimmer should swim which stroke to minimize total time?\n",
    "\n",
    "| Swimmer | Free | Breast | Fly | Back |\n",
    "|---------|------|--------|-----|------|\n",
    "| A       | 54   | 54     | 51  | 53   |\n",
    "| B       | 51   | 57     | 52  | 52   |\n",
    "| C       | 50   | 53     | 54  | 56   |\n",
    "| D       | 56   | 54     | 55  | 53   |"
   ]
  },
  {
   "cell_type": "markdown",
   "id": "821140e4",
   "metadata": {},
   "source": [
    "Write a general model, generate larger instances, and try to make your model as efficient as possible."
   ]
  },
  {
   "cell_type": "code",
   "execution_count": 8,
   "id": "dc616bbc",
   "metadata": {
    "execution": {
     "iopub.execute_input": "2022-11-01T19:31:19.704869Z",
     "iopub.status.busy": "2022-11-01T19:31:19.704430Z",
     "iopub.status.idle": "2022-11-01T19:31:19.830491Z",
     "shell.execute_reply": "2022-11-01T19:31:19.828552Z"
    },
    "scrolled": false
   },
   "outputs": [
    {
     "name": "stdout",
     "output_type": "stream",
     "text": [
      "{A,B,C,D}\r\n",
      "{Free,Breast,Fly,Back}\r\n",
      "{{54,54,51,53},{51,57,52,52},{50,53,54,56},{56,54,55,53}}\r\n",
      "{Swimmer1,Swimmer2,Swimmer3,Swimmer4,Swimmer5}\r\n",
      "{Style1,Style2,Style3,Style4,Style5,Style6,Style7}\r\n",
      "{{46,49,54,64,53,55,55},{54,60,55,47,64,65,49},{65,52,48,60,61,61,62},{59,57,54,47,50,50,58},{46,64,50,45,48,57,62}}\r\n"
     ]
    }
   ],
   "source": [
    "!cd swimmers && picat instances.pi"
   ]
  },
  {
   "cell_type": "code",
   "execution_count": 9,
   "id": "38239251",
   "metadata": {
    "execution": {
     "iopub.execute_input": "2022-11-01T19:31:19.835300Z",
     "iopub.status.busy": "2022-11-01T19:31:19.834839Z",
     "iopub.status.idle": "2022-11-01T19:31:19.965021Z",
     "shell.execute_reply": "2022-11-01T19:31:19.963306Z"
    }
   },
   "outputs": [
    {
     "name": "stdout",
     "output_type": "stream",
     "text": [
      "\r\n",
      "Primal model:\r\n",
      "Swimmer A is swims Fly\r\n",
      "Swimmer B is swims Back\r\n",
      "Swimmer C is swims Free\r\n",
      "Swimmer D is swims Breast\r\n",
      "\r\n",
      "Dual model:\r\n",
      "Style Free is swum  by C\r\n",
      "Style Breast is swum  by D\r\n",
      "Style Fly is swum  by A\r\n",
      "Style Back is swum  by B\r\n",
      "\r\n",
      "Channeling model:\r\n",
      "Swimmer A is swims Fly\r\n",
      "Swimmer B is swims Back\r\n",
      "Swimmer C is swims Free\r\n",
      "Swimmer D is swims Breast\r\n",
      "or in the dual view\r\n",
      "Style Free is swum  by C\r\n",
      "Style Breast is swum  by D\r\n",
      "Style Fly is swum  by A\r\n",
      "Style Back is swum  by B\r\n"
     ]
    }
   ],
   "source": [
    "!cd swimmers && picat swimmers.pi"
   ]
  },
  {
   "cell_type": "markdown",
   "id": "43fc226b",
   "metadata": {},
   "source": [
    "## Modelling functions\n",
    "\n",
    "In general, how to model a function (mapping) $f:A\\to B$? Let's say $A=\\{1,\\dots,n\\}$ and $B=\\{1,\\dots,k\\}$.\n",
    "\n",
    "* as an array: \n",
    "```\n",
    "F = new_array(N},\n",
    "F :: 1..K.\n",
    "```\n",
    "* _injective_: `all_different(F)`\n",
    "* _surjective_: a partition of $A$ into classes labelled by $B$, to each element of $B$ map a set of elements of $A$. In Picat we can model set as their characteristic vectors. More on modelling with sets later.\n",
    "* _partial function_: a dummy value for undefined inputs\n",
    "* _dual model_: switch the role of variables and values (not a function unless $F$ injective, see above)\n",
    "* _channelling_: combine the primal and dual models, if it is a bijection, then use `assignment(F, FInv)`"
   ]
  },
  {
   "cell_type": "code",
   "execution_count": 7,
   "id": "00c4fc61",
   "metadata": {
    "execution": {
     "iopub.execute_input": "2022-11-01T19:31:19.969696Z",
     "iopub.status.busy": "2022-11-01T19:31:19.969378Z",
     "iopub.status.idle": "2022-11-01T19:31:20.095983Z",
     "shell.execute_reply": "2022-11-01T19:31:20.092575Z"
    },
    "scrolled": true
   },
   "outputs": [
    {
     "name": "stdout",
     "output_type": "stream",
     "text": [
      "{1,2,3,4}\r\n",
      "{1,2,3,4}\r\n"
     ]
    }
   ],
   "source": [
    "!picat functions.pi 4 4"
   ]
  },
  {
   "cell_type": "markdown",
   "id": "1b0efef2",
   "metadata": {},
   "source": [
    "## Exercises"
   ]
  },
  {
   "cell_type": "markdown",
   "id": "8c257de4",
   "metadata": {},
   "source": [
    "# Homework: stable-marriage\n",
    "\n",
    "\n",
    "## Stable marriage\n",
    "Given $n$ men and $n$ women, where each person has ranked all members of the opposite sex in order of preference, marry the men and women together such that there are no two people of opposite sex who would both rather have each other than their current partners. (When there are no such pairs, the matching is stable.)\n",
    "\n",
    "The input is the name of a file defining an instance as in the following example. The output should be a list of pairs (2-el arrays) Husband-Wife.\n",
    "\n",
    "Try the following instance which is given in `stable-marriage-instance.pi` \n",
    "* A:YZX,   \n",
    "* B:ZYX,   \n",
    "* C:XZY,  \n",
    "* X:BAC,   \n",
    "* Y:CBA,   \n",
    "* Z:ACB\n",
    "\n",
    "The output of `picat stable-marriage.pi stable-marriage-instance.pi` should be `[{1,3},{2,1},{3,2}]` (meaning that the 1st Man, i.e., A, is married to the third woman, i.e. Z, etc.)\n"
   ]
  },
  {
   "cell_type": "code",
   "execution_count": 10,
   "id": "77485139",
   "metadata": {
    "execution": {
     "iopub.execute_input": "2022-11-01T19:31:20.102627Z",
     "iopub.status.busy": "2022-11-01T19:31:20.102173Z",
     "iopub.status.idle": "2022-11-01T19:31:20.219768Z",
     "shell.execute_reply": "2022-11-01T19:31:20.216964Z"
    }
   },
   "outputs": [
    {
     "name": "stdout",
     "output_type": "stream",
     "text": [
      "instance(N, RankOfWomenByMen, RankOfMenByWomen) =>\r\n",
      "    N = 3,\r\n",
      "\r\n",
      "    % RankOfWomenByMen[2, 3] = 1 means that Woman 3 is the most preferred woman of Man 2\r\n",
      "    RankOfWomenByMen = {\r\n",
      "        {2, 3, 1},\r\n",
      "        {3, 2, 1},\r\n",
      "        {1, 3, 2}\r\n",
      "    },\r\n",
      "    RankOfMenByWomen = {\r\n",
      "        {2, 1, 3},\r\n",
      "        {3, 2, 1},\r\n",
      "        {1, 3, 2}\r\n",
      "    }."
     ]
    }
   ],
   "source": [
    "!cat stable-marriage-instance.pi"
   ]
  }
 ],
 "metadata": {
  "kernelspec": {
   "display_name": "Python 3 (ipykernel)",
   "language": "python",
   "name": "python3"
  },
  "language_info": {
   "codemirror_mode": {
    "name": "ipython",
    "version": 3
   },
   "file_extension": ".py",
   "mimetype": "text/x-python",
   "name": "python",
   "nbconvert_exporter": "python",
   "pygments_lexer": "ipython3",
   "version": "3.8.10"
  },
  "vscode": {
   "interpreter": {
    "hash": "916dbcbb3f70747c44a77c7bcd40155683ae19c65e1c03b4aa3499c5328201f1"
   }
  }
 },
 "nbformat": 4,
 "nbformat_minor": 5
}
