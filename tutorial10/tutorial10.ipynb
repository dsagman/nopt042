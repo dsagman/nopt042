{
 "cells": [
  {
   "cell_type": "markdown",
   "id": "0d8742c9",
   "metadata": {},
   "source": [
    "# NOPT042 Constraint programming: Tutorial 10 - Modeling with sets\n"
   ]
  },
  {
   "cell_type": "code",
   "execution_count": 2,
   "id": "ebb50602",
   "metadata": {
    "execution": {
     "iopub.execute_input": "2022-11-30T14:05:46.573950Z",
     "iopub.status.busy": "2022-11-30T14:05:46.573114Z",
     "iopub.status.idle": "2022-11-30T14:05:46.607880Z",
     "shell.execute_reply": "2022-11-30T14:05:46.606762Z"
    },
    "scrolled": true
   },
   "outputs": [
    {
     "name": "stdout",
     "output_type": "stream",
     "text": [
      "The ipicat extension is already loaded. To reload it, use:\n",
      "  %reload_ext ipicat\n"
     ]
    }
   ],
   "source": [
    "%load_ext ipicat"
   ]
  },
  {
   "cell_type": "markdown",
   "id": "29c94f8e",
   "metadata": {},
   "source": [
    "## Modelling with sets\n",
    "\n",
    "In Picat, the cp solver doesn't work natively with sets and set constraints (unlike e.g. MiniZinc). Instead, we can model a set as an array (or a list) representing its characteristic vector. For a collection of sets, we can use a matrix or a list of lists.\n",
    "\n",
    "* A subset $S\\subseteq\\{1,\\dots,n\\}$: `S = new_array(N), S :: 0..1`\n",
    "* Fixed cardinality subset: `exactly(K, S, 1)`\n",
    "* Bounded cardinality subset: `at_most(K, S, 1)`, `at_least(K, S, 1)` (or we could use `sum`)\n",
    "\n",
    "Set operations can be computed using bitwise logical constraints, e.g.\n",
    "```\n",
    "SintersectT = [S[I] #/\\ T[I] : I in 1..N]\n",
    "```\n",
    "Alternatively, we could use a list of elements and require that the list is strictly increasing. In that case, we need to declare a list of length $N$ and have a decision variable for the length of the list. We can use 0 as a dummy value denoting that there are no more elements\n",
    "```\n",
    "S = new_list(N),\n",
    "S :: 0..N,\n",
    "SizeOfS :: 0..N,\n",
    "increasing_strict(S[I] : I in 1..SizeOfS),\n",
    "foreach(I in SizeOfS+1..N)\n",
    "    S[I] #= 0\n",
    "end\n",
    "```\n",
    "A partition of $\\{1,\\dots,n\\}$ with $k$ classes can be modelled as a function $\\{1,\\dots,n\\}\\to\\{1,\\dots,k\\}$:\n",
    "```\n",
    "Partition = new_array(N), \n",
    "Partition :: 1..K\n",
    "```\n",
    "Do not forget about symmetry breaking, e.g. `Partition[1] #= 1` or\n",
    "```\n",
    "foreach(I in 1..K)\n",
    "    Partition[I] #<= I\n",
    "end.\n",
    "```\n",
    "Similarly for a collection of $k$ pairwise disjoint subsets---using 0 to denote that an element is not covered by any subset."
   ]
  },
  {
   "cell_type": "markdown",
   "id": "955fe509",
   "metadata": {},
   "source": [
    "## Example: Finite projective plane\n",
    "\n",
    "> A projective plane geometry is a nonempty set X (whose elements are called \"points\"), along with a nonempty collection L of subsets of X (whose elements are called \"lines\"), such that:\n",
    "> * For every two distinct points, there is exactly one line that contains both points.\n",
    "> * The intersection of any two distinct lines contains exactly one point.\n",
    "> * There exists a set of four points, no three of which belong to the same line.\n",
    "\n",
    "(from [Wikipedia](https://en.wikipedia.org/wiki/Finite_geometry#Finite_projective_planes))\n",
    "\n",
    "A projective plane of __order__ `N` has $M=N^2+N+1$ points and the same number of lines, each line must have $K=N+1$ points and each point must lie on $K$ lines. A famous example is the [Fano plane](https://en.wikipedia.org/wiki/Fano_plane) where $N=2$, $M=7$, and $K=3$.\n",
    "\n",
    "If the order $N$ is a power of a prime power, it is easy to construct a projective plane of order $N$. It is conjectured otherwise, no projective plane exists. For $N=10$ this was famously proved by a computer-assisted proof (that finished in 1989). The case $N=12$ remains open."
   ]
  },
  {
   "cell_type": "markdown",
   "id": "85c3fd0f",
   "metadata": {},
   "source": [
    "## Example: Ramsay's partition\n",
    "\n",
    "Partition the integers 1 to $n$ into three parts, such that for no part are there three different numbers with two adding to the third. For which $n$ is it possible?"
   ]
  },
  {
   "cell_type": "markdown",
   "id": "1c6211d9",
   "metadata": {},
   "source": [
    "# Homework: golfers\n",
    "\n",
    "The [Social Golfer Problem](https://en.wikipedia.org/wiki/Social_golfer_problem), see also problem description on [CSPLib](https://www.csplib.org/Problems/prob010/).\n",
    "\n",
    "There are $n=g\\times s$ golfers who play golf once per week. Each week they play in $g$ groups of $s$ golfers per group. Create a schedule for $w$ weeks such that __no golfer plays in the same group as any other golfer on more than one occasion__, i.e., maximum socialization. If it is possible, output `yes` and some reasonable representation of the schedule.\n",
    "\n",
    "\n",
    "An instance is given by the triple of parameters $(g, s, w)$. Running\n",
    "\n",
    "```\n",
    "picat golfers.pi 3 2 5\n",
    "```\n",
    "should output `yes` and a valid schedule in some reasonable representation, for example:\n",
    "```\n",
    "yes\n",
    "[1,1,1,1,1]\n",
    "[1,2,2,2,2]\n",
    "[2,1,2,3,3]\n",
    "[2,3,3,1,2]\n",
    "[3,2,3,3,1]\n",
    "[3,3,1,2,3]\n",
    "```\n",
    "where each row represents a schedule for one golfer (there are 6 golfers), the numbers are the groups. The output of \n",
    "```\n",
    "picat golfers.pi 2 2 4\n",
    "```\n",
    "should include `failed` (it can be in stderr as Picat normally does).\n",
    "\n",
    "(This is a hard problem, so don't be surprised if your model won't be able to solve even relatively small instances. The instanc e `8 4 10` was a somewhat well-known open problem, solved only in 1996.)"
   ]
  }
 ],
 "metadata": {
  "kernelspec": {
   "display_name": "Python 3 (ipykernel)",
   "language": "python",
   "name": "python3"
  },
  "language_info": {
   "codemirror_mode": {
    "name": "ipython",
    "version": 3
   },
   "file_extension": ".py",
   "mimetype": "text/x-python",
   "name": "python",
   "nbconvert_exporter": "python",
   "pygments_lexer": "ipython3",
   "version": "3.10.8"
  },
  "vscode": {
   "interpreter": {
    "hash": "916dbcbb3f70747c44a77c7bcd40155683ae19c65e1c03b4aa3499c5328201f1"
   }
  }
 },
 "nbformat": 4,
 "nbformat_minor": 5
}
