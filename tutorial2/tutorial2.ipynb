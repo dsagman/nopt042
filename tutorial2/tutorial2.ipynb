{
 "cells": [
  {
   "cell_type": "markdown",
   "id": "3687d7a5",
   "metadata": {},
   "source": [
    "# NOPT042 Constraint programming: Tutorial 2 – Intro to CP"
   ]
  },
  {
   "cell_type": "markdown",
   "id": "689af1a0",
   "metadata": {},
   "source": [
    "## Constraint programming aka modeling\n",
    "Discrete (‘combinatorial’, as opposed to ‘continuous’) optimization, constraint satisfaction\n",
    "* a form of decision making, many everyday problems\n",
    "* solve Sudoku\n",
    "* schedule classes\n",
    "* schedule trains\n",
    "* coordinate multi-facility production\n",
    "* logistics of product transportation\n",
    "* ...\n",
    "\n",
    "> Assign values to variables subject to **constraints**, satisfy/optimize.\n",
    "\n",
    "### We will learn to...\n",
    "* solve complex problems \"without even knowing how\"\n",
    "* state the problem in a high-level language, use a constraint solver to \"automagically\" solve it (magic explained in the lectures)\n",
    "* techniques and tricks to build efficient constraint models\n",
    "* best practices, testing and debugging\n",
    "\n",
    "### Why constraint programming?\n",
    "* the ‘holy grail’ of programming: tell the computer what you want, not how to do it\n",
    "* an order of magnitude easier than programming algorithms\n",
    "* huge engineering investment in constraint solvers, highly optimized, \n",
    "* often faster than your own algorithm would be (especially in “mixed” NP-complete problems), heuristic approach\n",
    "* easier for molecular biologists to learn to specify their problems in a formal language, than for programmers to learn molecular biology\n",
    "\n",
    "### History and (folk) etymology\n",
    "* prográphō (\"I set forth as a public notice\"), from pró (\"towards\") + gráphō (\"I write\")\n",
    "* program of a political movement\n",
    "* program of a concert, broadcast programming, tv program\n",
    "* computer program (1940s)\n",
    "Independently:\n",
    "* U.S. Army operational programs (1940s)\n",
    "* \"linear programming\" (1946) Maximize $\\mathbf{c}^T\\mathbf x$ (objective function) subject to $A\\mathbf{x}\\leq\\mathbf{b}$, $\\mathbf{x}\\geq 0$ (constraints).\n",
    "* integer programming (1964),\n",
    "* logic programming (late 1960s)\n",
    "* constraint logic programming (1987)\n",
    "* constraint programming (early 1990s)\n",
    "* Modeling (USA) vs. Modelling (Commonwealth)\n",
    "\n",
    "### Why Picat?\n",
    "From a high-level point of view, all constraint programming languages are quite similar. Picat is:\n",
    "* modern, simple yet powerful\n",
    "* easier syntax and better utils than SICStus Prolog\n",
    "* more flexible than MiniZinc\n",
    "* fast: won several CP competitions (see [Picat homepage](http://picat-lang.org/))\n"
   ]
  },
  {
   "cell_type": "markdown",
   "id": "d5959959",
   "metadata": {},
   "source": [
    "### Recall the basics of constraint programming:\n",
    "\n",
    "* **decision variables** vs. **parameters**\n",
    "* **domains**\n",
    "* **constraints**\n",
    "* **solution**\n",
    "* **constraint propagation**\n",
    "* **search space**\n",
    "* **decision** vs. **optimization**\n",
    "* modeling strategies\n",
    "\n",
    "TODO, see the [slides](http://ktiml.mff.cuni.cz/~bartak/AAAI2017/slides.pdf) (pages 27-34)."
   ]
  },
  {
   "cell_type": "code",
   "execution_count": 28,
   "id": "16ad0d6d",
   "metadata": {
    "vscode": {
     "languageId": "picat"
    }
   },
   "outputs": [
    {
     "name": "stdout",
     "output_type": "stream",
     "text": [
      "The ipicat extension is already loaded. To reload it, use:\n",
      "  %reload_ext ipicat\n"
     ]
    }
   ],
   "source": [
    "%load_ext ipicat"
   ]
  },
  {
   "cell_type": "markdown",
   "id": "bb8ddd63",
   "metadata": {},
   "source": [
    "## Structure of a constraint program"
   ]
  },
  {
   "cell_type": "markdown",
   "id": "0e29bd5f",
   "metadata": {},
   "source": [
    "Typically, the structure of a constraint program looks like this (code inspired by the [tutorial](http://ktiml.mff.cuni.cz/~bartak/AAAI2017/slides.pdf)):\n",
    "```\n",
    "import cp. \n",
    "\n",
    "problem(Variables) =>\n",
    "    declare_variables(Variables),\n",
    "    post_constraints(Variables).\n",
    "\n",
    "main =>\n",
    "    problem(Variables),\n",
    "    solve(Variables).    \n",
    "```\n",
    "Instead of `cp` we can use another solver, e.g. `mip` or `sat`. If the problem is parametrized, then we can pass the `Parameters` as an argument, e.g. `problem(Variables, Parameters)` or we can have a separate function `get_instance(Parameters) = Variables`.\n"
   ]
  },
  {
   "cell_type": "markdown",
   "id": "5dc3b00f",
   "metadata": {},
   "source": [
    "## Introductory examples"
   ]
  },
  {
   "cell_type": "markdown",
   "id": "5ba3c889",
   "metadata": {},
   "source": [
    "### Example: Chinese remainder"
   ]
  },
  {
   "cell_type": "markdown",
   "id": "19334bdb",
   "metadata": {},
   "source": [
    "After an indecisive battle, general Han Xin wanted to know how\n",
    "many soldiers of his 42000-strong army remained. In order to\n",
    "prevent enemy spies hidden among his soldiers to learn the\n",
    "number, he decided to use modular algebra: He ordered his soldiers\n",
    "to form rows of 5 and 3 soldiers remained. Then rows of 7; 2\n",
    "remained. Then rows of 9; 4 remained. Then rows of 11; 10\n",
    "remained. Finally, rows of 13; 1 remained."
   ]
  },
  {
   "cell_type": "markdown",
   "id": "a8ac7459",
   "metadata": {},
   "source": [
    "* What are the **parameters** of our problem?\n",
    "* Identify the decision variables: type, domains (as small as possible).\n",
    "* What are the constraints? (Are there some implicit constraints?)\n",
    "* Is this a satisfaction or an optimization problem?\n",
    "* Find a solution using Picat.\n",
    "* Is the last condition (rows of 13) needed?\n"
   ]
  },
  {
   "cell_type": "code",
   "execution_count": 50,
   "id": "32627a8a",
   "metadata": {},
   "outputs": [],
   "source": [
    "%%picat -n chinese\n",
    "import cp.\n",
    "\n",
    "chinese(X) =>\n",
    "    % variables\n",
    "    X :: 1..42000,\n",
    "\n",
    "    % constraints\n",
    "    X mod 5 #= 3,\n",
    "    X mod 7 #= 2,\n",
    "    X mod 9 #= 4,\n",
    "    \n",
    "    X mod 11 #= 10.\n",
    "    \n",
    "%     X mod 11 #= 10,\n",
    "%     X mod 13 #= 1.  "
   ]
  },
  {
   "cell_type": "code",
   "execution_count": 51,
   "id": "95a70650",
   "metadata": {
    "scrolled": true
   },
   "outputs": [
    {
     "name": "stdout",
     "output_type": "stream",
     "text": [
      "373\n",
      "\n"
     ]
    }
   ],
   "source": [
    "%%picat\n",
    "main =>   \n",
    "    chinese(X),\n",
    "    \n",
    "    % solve\n",
    "    solve(X),\n",
    "    \n",
    "    % output\n",
    "    println(X)."
   ]
  },
  {
   "cell_type": "code",
   "execution_count": 52,
   "id": "55f7c7f5",
   "metadata": {},
   "outputs": [
    {
     "name": "stdout",
     "output_type": "stream",
     "text": [
      "373\n",
      "3838\n",
      "7303\n",
      "10768\n",
      "14233\n",
      "17698\n",
      "21163\n",
      "24628\n",
      "28093\n",
      "31558\n",
      "35023\n",
      "38488\n",
      "41953\n",
      "\n"
     ]
    }
   ],
   "source": [
    "%%picat\n",
    "main =>   \n",
    "    chinese(X),\n",
    "    solve_all(X) = Solutions,\n",
    "    foreach (Solution in Solutions)\n",
    "        println(Solution)\n",
    "    end."
   ]
  },
  {
   "cell_type": "code",
   "execution_count": 112,
   "id": "c9aecc5b",
   "metadata": {},
   "outputs": [
    {
     "name": "stdout",
     "output_type": "stream",
     "text": [
      "35023\n",
      "*** illegal_arguments\n",
      "\n",
      "373\n",
      "3838\n",
      "7303\n",
      "10768\n",
      "14233\n",
      "17698\n",
      "21163\n",
      "24628\n",
      "28093\n",
      "31558\n",
      "35023\n",
      "38488\n",
      "41953\n"
     ]
    }
   ],
   "source": [
    "!picat chinese-remainder/chinese-remainder.pi\n",
    "!picat chinese-remainder/chinese-remainder.pi 5 [2,3] [4]\n",
    "!picat chinese-remainder/chinese-remainder.pi 42000 [5,7,9,11] [3,2,4,10]"
   ]
  },
  {
   "cell_type": "code",
   "execution_count": 113,
   "id": "0dfdc47a",
   "metadata": {
    "scrolled": false
   },
   "outputs": [
    {
     "name": "stdout",
     "output_type": "stream",
     "text": [
      "import cp.\r\n",
      "\r\n",
      "\r\n",
      "chinese(X, Parameters) =>\r\n",
      "    % parameters\r\n",
      "    [Max, Primes, Moduli] = Parameters,\r\n",
      "    \r\n",
      "    % here we could test input data\r\n",
      "    if Primes.length != Moduli.length then\r\n",
      "        throw(illegal_arguments)\r\n",
      "    end,\r\n",
      "\r\n",
      "    % variables\r\n",
      "    X :: 1..Max,\r\n",
      "\r\n",
      "    % constraints\r\n",
      "    foreach(I in 1..Primes.length)        \r\n",
      "        X mod Primes[I] #= Moduli[I]\r\n",
      "    end.\r\n",
      "\r\n",
      "\r\n",
      "solve_and_output(Parameters) =>\r\n",
      "    chinese(X, Parameters),\r\n",
      "    solve_all(X) = Solutions,\r\n",
      "    foreach (Solution in Solutions)\r\n",
      "        println(Solution)\r\n",
      "    end.\r\n",
      "\r\n",
      "\r\n",
      "main =>\r\n",
      "    Parameters = [42000, [5,7,9,11,13], [3,2,4,10,1]],\r\n",
      "    solve_and_output(Parameters).\r\n",
      "\r\n",
      "\r\n",
      "main(Parameters_as_Strings) =>\r\n",
      "    Parameters = map(parse_term, Parameters_as_Strings),\r\n",
      "    solve_and_output(Parameters).\r\n"
     ]
    }
   ],
   "source": [
    "!cat chinese-remainder/chinese-remainder.pi"
   ]
  },
  {
   "cell_type": "markdown",
   "id": "57084bc1",
   "metadata": {},
   "source": [
    "### Example: Crypt-arithmetic"
   ]
  },
  {
   "cell_type": "markdown",
   "id": "261b8354",
   "metadata": {},
   "source": [
    "Solve the crypt-arithmetic puzzle (each letter represents a different base-10 digit):\n",
    "> SEND + MORE = MONEY"
   ]
  },
  {
   "cell_type": "code",
   "execution_count": 114,
   "id": "1fc1f777",
   "metadata": {},
   "outputs": [
    {
     "name": "stdout",
     "output_type": "stream",
     "text": [
      "*** error(existence_error([c,r,y,p,t,-,a,r,i,t,h,m,e,t,i,c,/,c,r,y,p,t,-,a,r,i,t,h,m,e,t,i,c,.,p,i]),picat)\r\n",
      "\r\n"
     ]
    }
   ],
   "source": [
    "!picat crypt-arithmetic/crypt-arithmetic.pi"
   ]
  },
  {
   "cell_type": "markdown",
   "id": "ed0d6766",
   "metadata": {},
   "source": [
    "### Example: Map coloring (only if we have enough time)"
   ]
  },
  {
   "cell_type": "markdown",
   "id": "85cc88b1",
   "metadata": {},
   "source": [
    "Create a model to color the map of Australian states and territories 7 with four colors (cf. The 4-color Theorem). (We exclude the Australian Capital Territory, the Jervis Bay Territory, and the external territories. Map coloring is a special case of [graph coloring](https://en.wikipedia.org/wiki/Graph_coloring), see [this map](map-coloring/countries.jpeg).\n",
    "\n",
    "![Map of Australia](map-coloring/australia.png)\n",
    "\n",
    "Let's use the following decision variables:\n",
    "```\n",
    "Territories = [WA, NT, SA, Q, NSW, V, T]\n",
    "```"
   ]
  },
  {
   "cell_type": "code",
   "execution_count": 140,
   "id": "32f64c76",
   "metadata": {
    "scrolled": true
   },
   "outputs": [
    {
     "name": "stdout",
     "output_type": "stream",
     "text": [
      "Western Australia is red.\r\n",
      "Northern Territory is green.\r\n",
      "South Australia is blue.\r\n",
      "Queensland is red.\r\n",
      "New South Wales is green.\r\n",
      "Victoria is red.\r\n",
      "Tasmania is red.\r\n"
     ]
    }
   ],
   "source": [
    "!picat map-coloring/map-coloring.pi"
   ]
  },
  {
   "cell_type": "code",
   "execution_count": 141,
   "id": "3eadd0a8",
   "metadata": {},
   "outputs": [
    {
     "name": "stdout",
     "output_type": "stream",
     "text": [
      "import cp.\r\n",
      "\r\n",
      "color_map(Territories) =>\r\n",
      "    % variables\r\n",
      "    Territories = [WA, NT, SA, Q, NSW, V, T],\r\n",
      "    Territories :: 1..4,\r\n",
      "\r\n",
      "    % constraints\r\n",
      "    WA #!= NT,\r\n",
      "    WA #!= SA,\r\n",
      "    NT #!= SA,\r\n",
      "    NT #!= Q,\r\n",
      "    SA #!= Q,\r\n",
      "    SA #!= NSW,\r\n",
      "    SA #!= V,\r\n",
      "    Q  #!= NSW,\r\n",
      "    V  #!= NSW.\r\n",
      "\r\n",
      "% optional: symmetry breaking\r\n",
      "precolor(Territories) =>\r\n",
      "    WA #= 1,\r\n",
      "    NT #= 2,\r\n",
      "    SA #= 3.\r\n",
      "\r\n",
      "% optional: better output than `println(Territories)` (we could also use a map, i.e. a dictionary)\r\n",
      "output(Territories) =>\r\n",
      "    Color_names = [\"red\", \"green\", \"blue\", \"yellow\"],\r\n",
      "    Territory_names = [\"Western Australia\", \"Northern Territory\", \"South Australia\", \"Queensland\", \"New South Wales\", \"Victoria\", \"Tasmania\"],\r\n",
      "    foreach(I in 1..Territories.length)\r\n",
      "        writef(\"%s is %s.\\n\", Territory_names[I], Color_names[Territories[I]])\r\n",
      "    end.\r\n",
      "\r\n",
      "\r\n",
      "main =>\r\n",
      "    color_map(Territories),\r\n",
      "    precolor(Territories), % optional\r\n",
      "    solve(Territories),\r\n",
      "    \r\n",
      "    % println(Territories)    \r\n",
      "    output(Territories).\r\n"
     ]
    }
   ],
   "source": [
    "!cat map-coloring/map-coloring.pi"
   ]
  },
  {
   "cell_type": "markdown",
   "id": "f47f0575",
   "metadata": {},
   "source": [
    "What is wrong with this model? We always want to separate the model from the data. (See the exercises below.)"
   ]
  },
  {
   "cell_type": "markdown",
   "id": "1bc7a360",
   "metadata": {},
   "source": [
    "## Exercises"
   ]
  },
  {
   "cell_type": "markdown",
   "id": "93a1cc65",
   "metadata": {},
   "source": [
    "### Exercise: Pythagorean triples\n",
    "1. Generate all Pythagorean triples up to a given parameter, i.e. positive integers such that $a^2+b^2=c^2$, where $a\\leq b$ (an example of [symmetry breaking](https://en.wikipedia.org/wiki/Symmetry-breaking_constraints)). \n",
    "2. Modify your program to accept the flag -c to output the number of solutions.\n",
    "```\n",
    "picat pythagorean.pi 42\n",
    "picat pythagorean.pi -c 42\n",
    "```"
   ]
  },
  {
   "cell_type": "markdown",
   "id": "e791aefb",
   "metadata": {},
   "source": [
    "### Exercise: Crypt-aritmetic with carry bits\n",
    "Write a better constraint model for the SEND+MORE=MONEY crypt-arithmetic puzzle based on carry bits. Why is it better?"
   ]
  },
  {
   "cell_type": "markdown",
   "id": "7085a414",
   "metadata": {},
   "source": [
    "### Exercise: Graph-coloring (only if we have enough time)\n",
    "1. Write a program that solves the (directed) graph 3-coloring problem with a given number of colors and a given graph. The graph is given by a list of edges, each edge is a 2-element list. We assume that vertices of the graph are $1,\\dots,n$ where $n$ is the maximum number appearing in the list. \n",
    "2. Generalize your program to graph $k$-coloring where $k$ is a positive integer given on the input.\n",
    "3. Modify your program to accept the incidence matrix (a 2D array) instead of the list of edges.\n",
    "4. Add the flag `-n` to output the minimum number of colors (the chromatic number) of a given graph.\n",
    "For example:\n",
    "```\n",
    "picat graph-coloring.pi [[1,2],[2,3],[3,4],[4,1]]\n",
    "picat graph-coloring.pi [[1,2],[2,3],[3,1]] 4\n",
    "picat graph-coloring.pi \"{{0,1,1},{1,0,1},{1,1,0}}\" 4\n",
    "picat graph-coloring.pi -n [[1,2],[2,3],[3,4],[4,1]]\n",
    "```"
   ]
  },
  {
   "cell_type": "markdown",
   "id": "ec8c723c",
   "metadata": {},
   "source": [
    "### Homework: general crypt-arithmetic\n",
    "\n",
    "1. Write a program that accepts a crypt-arithmetic puzzle on the input and outputs a solution as a string where letters are replaced by digits, e.g.\n",
    "```\n",
    "picat crypt-arithmetic.pi SEND MORE MONEY\n",
    "```\n",
    "should output `9567 + 1085 = 10652` (since this is the only solution). Don't forget to include the spaces.\n",
    "\n",
    "2. Ignore case, e.g. accept also:\n",
    "```\n",
    "picat crypt-arithmetic.pi Donald Gerard Robert\n",
    "picat crypt-arithmetic.pi baijjajiiahfcfebbjea dhfgabcdidbiffagfeje gjegacddhfafjbfiheef\n",
    "```\n",
    "(source of the last instance: [Hakan Kjellerstrand's library](http://www.hakank.org/))\n",
    "\n",
    "2. Modify your program to accept the flag `-c` to output the number of solutions instead, e.g.\n",
    "```\n",
    "picat crypt-arithmetic.pi -c send more money\n",
    "```\n",
    "should output `1`.\n",
    "\n",
    "Your model must be reasonably efficient, e.g. use the carry bit implementation.\n",
    "\n",
    "See the assignment on GitHub Classroom."
   ]
  },
  {
   "cell_type": "markdown",
   "id": "5f88b80d",
   "metadata": {},
   "source": [
    "## Playground"
   ]
  },
  {
   "cell_type": "code",
   "execution_count": null,
   "id": "d8a9ab3a",
   "metadata": {},
   "outputs": [],
   "source": []
  }
 ],
 "metadata": {
  "kernelspec": {
   "display_name": "Python 3 (ipykernel)",
   "language": "python",
   "name": "python3"
  },
  "language_info": {
   "codemirror_mode": {
    "name": "ipython",
    "version": 3
   },
   "file_extension": ".py",
   "mimetype": "text/x-python",
   "name": "python",
   "nbconvert_exporter": "python",
   "pygments_lexer": "ipython3",
   "version": "3.8.10"
  }
 },
 "nbformat": 4,
 "nbformat_minor": 5
}
