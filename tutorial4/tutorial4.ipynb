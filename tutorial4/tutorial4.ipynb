{
 "cells": [
  {
   "cell_type": "markdown",
   "id": "0d8742c9",
   "metadata": {
    "slideshow": {
     "slide_type": "slide"
    }
   },
   "source": [
    "# NOPT042 Constraint programming: Tutorial 4 – Search strategies"
   ]
  },
  {
   "cell_type": "markdown",
   "id": "4e38da66",
   "metadata": {
    "slideshow": {
     "slide_type": "subslide"
    }
   },
   "source": [
    "### From last week:\n",
    "\n",
    "* Solution to the Coin grid problem.\n",
    "* Best model and solver for the problem? MIP, naturally expressed as an integer program\n",
    "* Unsatisfiable instances - LP works well.\n",
    "* For sparse solution sets heuristic approaches may be slow."
   ]
  },
  {
   "cell_type": "markdown",
   "id": "0a4c6a3d",
   "metadata": {
    "slideshow": {
     "slide_type": "slide"
    }
   },
   "source": [
    "## Example: N-queens"
   ]
  },
  {
   "cell_type": "markdown",
   "id": "6e1b4d69",
   "metadata": {
    "slideshow": {
     "slide_type": "fragment"
    }
   },
   "source": [
    "Place $n$ queens on an $n\\times n$ board so that none attack another. How to choose the decision variables?\n",
    "\n",
    "* How large is the search space?\n",
    "* Can we use symmetry breaking?\n",
    "* Consider the _dual_ model."
   ]
  },
  {
   "cell_type": "code",
   "execution_count": 1,
   "id": "ae0a7fa1",
   "metadata": {
    "execution": {
     "iopub.execute_input": "2024-10-02T12:40:24.087109Z",
     "iopub.status.busy": "2024-10-02T12:40:24.086769Z",
     "iopub.status.idle": "2024-10-02T12:40:24.223148Z",
     "shell.execute_reply": "2024-10-02T12:40:24.220591Z"
    },
    "scrolled": true,
    "slideshow": {
     "slide_type": "subslide"
    }
   },
   "outputs": [
    {
     "name": "stdout",
     "output_type": "stream",
     "text": [
      ".....Q..\r\n",
      "...Q....\r\n",
      ".Q......\r\n",
      ".......Q\r\n",
      "....Q...\r\n",
      "......Q.\r\n",
      "Q.......\r\n",
      "..Q.....\r\n",
      "\r\n",
      "real\t0m0.015s\r\n",
      "user\t0m0.007s\r\n",
      "sys\t0m0.007s\r\n"
     ]
    }
   ],
   "source": [
    "!time picat queens/queens-primal.pi 8"
   ]
  },
  {
   "cell_type": "code",
   "execution_count": 2,
   "id": "7d93de7e",
   "metadata": {
    "execution": {
     "iopub.execute_input": "2024-10-02T12:40:24.227616Z",
     "iopub.status.busy": "2024-10-02T12:40:24.227336Z",
     "iopub.status.idle": "2024-10-02T12:40:24.342436Z",
     "shell.execute_reply": "2024-10-02T12:40:24.340396Z"
    },
    "slideshow": {
     "slide_type": "subslide"
    }
   },
   "outputs": [
    {
     "name": "stdout",
     "output_type": "stream",
     "text": [
      "% n-queens, primal model\r\n",
      "import sat.\r\n",
      "\r\n",
      "main([N]) =>\r\n",
      "    N := to_int(N),\r\n",
      "    queens(N, Q),\r\n",
      "    solve(Q),\r\n",
      "    if N <= 32 then\r\n",
      "        output(Q)\r\n",
      "    end.\r\n",
      "\r\n",
      "\r\n",
      "queens(N, Q) =>\r\n",
      "    Q = new_array(N),\r\n",
      "    Q :: 1..N,\r\n",
      "    all_different(Q),\r\n",
      "    all_different([$Q[I] - I : I in 1..N]),\r\n",
      "    all_different([$Q[I] + I : I in 1..N]).\r\n",
      "\r\n",
      "\r\n",
      "output(Q) =>\r\n",
      "    N = Q.length,\r\n",
      "    foreach(I in 1..N)\r\n",
      "        foreach (J in 1..N)\r\n",
      "            if Q[I] = J then\r\n",
      "                print(\"Q\")\r\n",
      "            else\r\n",
      "                print(\".\")\r\n",
      "            end\r\n",
      "        end,\r\n",
      "        print(\"\\n\")\r\n",
      "    end.\r\n"
     ]
    }
   ],
   "source": [
    "!cat queens/queens-primal.pi"
   ]
  },
  {
   "cell_type": "code",
   "execution_count": 3,
   "id": "120f787f",
   "metadata": {
    "collapsed": true,
    "execution": {
     "iopub.execute_input": "2024-10-02T12:40:24.346503Z",
     "iopub.status.busy": "2024-10-02T12:40:24.346157Z",
     "iopub.status.idle": "2024-10-02T12:40:24.586624Z",
     "shell.execute_reply": "2024-10-02T12:40:24.584065Z"
    },
    "slideshow": {
     "slide_type": "subslide"
    }
   },
   "outputs": [
    {
     "name": "stdout",
     "output_type": "stream",
     "text": [
      "*** error(existence_error(mip_solver),solve)\r\n",
      "\r\n",
      "\r\n",
      "real\t0m0.125s\r\n",
      "user\t0m0.053s\r\n",
      "sys\t0m0.011s\r\n"
     ]
    }
   ],
   "source": [
    "!time picat queens/queens-dual.pi 64"
   ]
  },
  {
   "cell_type": "code",
   "execution_count": 4,
   "id": "c71385c2",
   "metadata": {
    "execution": {
     "iopub.execute_input": "2024-10-02T12:40:24.590927Z",
     "iopub.status.busy": "2024-10-02T12:40:24.590506Z",
     "iopub.status.idle": "2024-10-02T12:40:24.702778Z",
     "shell.execute_reply": "2024-10-02T12:40:24.701805Z"
    },
    "scrolled": true,
    "slideshow": {
     "slide_type": "subslide"
    }
   },
   "outputs": [
    {
     "name": "stdout",
     "output_type": "stream",
     "text": [
      "% n-queens, dual model\r\n",
      "import mip.\r\n",
      "\r\n",
      "main([N]) =>\r\n",
      "    N := to_int(N),\r\n",
      "    queens(N, Board),\r\n",
      "    solve(Board),\r\n",
      "    if N <= 32 then\r\n",
      "        output(Q)\r\n",
      "    end.\r\n",
      "\r\n",
      "\r\n",
      "queens(N, Board) =>\r\n",
      "    Board = new_array(N, N),\r\n",
      "    Board :: 0..1,\r\n",
      "    \r\n",
      "    sum([Board[I, J] : I in 1..N, J in 1..N]) #= N,\r\n",
      "    \r\n",
      "    % rows\r\n",
      "    foreach(I in 1..N)\r\n",
      "        sum([Board[I, J] : J in 1..N]) #<= 1\r\n",
      "    end,\r\n",
      "    \r\n",
      "    % cols\r\n",
      "    foreach(J in 1..N)\r\n",
      "        sum([Board[I, J] : I in 1..N]) #<= 1\r\n",
      "    end,\r\n",
      "\r\n",
      "    % diags\r\n",
      "    foreach(K in 1-N..N-1)\r\n",
      "        sum([Board[I,J] : I in 1..N, J in 1..N, I-J = K ]) #<= 1\r\n",
      "    end,\r\n",
      "    foreach(K in 2..2*N)\r\n",
      "        sum([Board[I,J] : I in 1..N, J in 1..N, I+J = K ]) #<= 1\r\n",
      "    end.\r\n",
      "    \r\n",
      "\r\n",
      "output(Board) =>\r\n",
      "    N = Board.length,\r\n",
      "    foreach(I in 1..N)\r\n",
      "        foreach (J in 1..N)\r\n",
      "            if Board[I, J] = 1 then\r\n",
      "                print(\"Q\")\r\n",
      "            else\r\n",
      "                print(\".\")\r\n",
      "            end\r\n",
      "        end,\r\n",
      "        print(\"\\n\")\r\n",
      "    end.\r\n"
     ]
    }
   ],
   "source": [
    "!cat queens/queens-dual.pi"
   ]
  },
  {
   "cell_type": "markdown",
   "id": "8eea2632",
   "metadata": {
    "slideshow": {
     "slide_type": "subslide"
    }
   },
   "source": [
    "Sometimes it is best to model the problem in both ways and add _channelling constraints_. (Here it does not help.)"
   ]
  },
  {
   "cell_type": "code",
   "execution_count": 5,
   "id": "0ee505a5",
   "metadata": {
    "execution": {
     "iopub.execute_input": "2024-10-02T12:40:24.706683Z",
     "iopub.status.busy": "2024-10-02T12:40:24.706292Z",
     "iopub.status.idle": "2024-10-02T12:40:27.919595Z",
     "shell.execute_reply": "2024-10-02T12:40:27.914146Z"
    },
    "slideshow": {
     "slide_type": "fragment"
    }
   },
   "outputs": [
    {
     "name": "stdout",
     "output_type": "stream",
     "text": [
      "\r\n",
      "real\t0m3.094s\r\n",
      "user\t0m3.063s\r\n",
      "sys\t0m0.031s\r\n"
     ]
    }
   ],
   "source": [
    "!time picat queens/queens-channeling.pi 128"
   ]
  },
  {
   "cell_type": "code",
   "execution_count": 6,
   "id": "b310eb5c",
   "metadata": {
    "execution": {
     "iopub.execute_input": "2024-10-02T12:40:27.928375Z",
     "iopub.status.busy": "2024-10-02T12:40:27.927288Z",
     "iopub.status.idle": "2024-10-02T12:40:28.050631Z",
     "shell.execute_reply": "2024-10-02T12:40:28.047487Z"
    },
    "scrolled": true,
    "slideshow": {
     "slide_type": "subslide"
    }
   },
   "outputs": [
    {
     "name": "stdout",
     "output_type": "stream",
     "text": [
      "% n-queens, primal model\r\n",
      "import sat.\r\n",
      "\r\n",
      "main([N]) =>\r\n",
      "    N := to_int(N),\r\n",
      "    queens(N, Q, Board),\r\n",
      "    solve(Q ++ Board),\r\n",
      "    if N <= 32 then   \r\n",
      "        output(Q)\r\n",
      "    end.\r\n",
      "\r\n",
      "\r\n",
      "queens(N, Q, Board) =>    \r\n",
      "    % primal\r\n",
      "    Q = new_array(N),\r\n",
      "    Q :: 1..N,\r\n",
      "    all_different(Q),\r\n",
      "    all_different([$Q[I] - I : I in 1..N]),\r\n",
      "    all_different([$Q[I] + I : I in 1..N]),\r\n",
      "\r\n",
      "    % dual\r\n",
      "    Board = new_array(N, N),\r\n",
      "    Board :: 0..1,    \r\n",
      "    sum([Board[I, J] : I in 1..N, J in 1..N]) #= N,\r\n",
      "    foreach(I in 1..N)\r\n",
      "        sum([Board[I, J] : J in 1..N]) #<= 1\r\n",
      "    end,\r\n",
      "    foreach(J in 1..N)\r\n",
      "        sum([Board[I, J] : I in 1..N]) #<= 1\r\n",
      "    end,\r\n",
      "    foreach(K in 1-N..N-1)\r\n",
      "        sum([Board[I, J] : I in 1..N, J in 1..N, I - J = K ]) #<= 1\r\n",
      "    end,\r\n",
      "    foreach(K in 2..2*N)\r\n",
      "        sum([Board[I, J] : I in 1..N, J in 1..N, I + J = K ]) #<= 1\r\n",
      "    end,\r\n",
      "    \r\n",
      "    % channeling\r\n",
      "    foreach(I in 1..N, J in 1..N)\r\n",
      "        (Board[I,J] #= 1) #<=> (Q[I] #= J)\r\n",
      "    end.\r\n",
      "\r\n",
      "\r\n",
      "output(Q) =>\r\n",
      "    N = Q.length,\r\n",
      "    foreach(I in 1..N)\r\n",
      "        foreach (J in 1..N)\r\n",
      "            if Q[I] = J then\r\n",
      "                print(\"Q\")\r\n",
      "            else\r\n",
      "                print(\".\")\r\n",
      "            end\r\n",
      "        end,\r\n",
      "        print(\"\\n\")\r\n",
      "    end.\r\n"
     ]
    }
   ],
   "source": [
    "!cat queens/queens-channeling.pi"
   ]
  },
  {
   "cell_type": "markdown",
   "id": "8477f039",
   "metadata": {
    "slideshow": {
     "slide_type": "subslide"
    }
   },
   "source": [
    "Can the models be improved using symmetry breaking?"
   ]
  },
  {
   "cell_type": "markdown",
   "id": "eb3eced9",
   "metadata": {
    "slideshow": {
     "slide_type": "subslide"
    }
   },
   "source": [
    "## Search strategies\n",
    "And other solver options: see [Picat guide](http://picat-lang.org/download/picat_guide.pdf) (Section 12.6) and the [book](http://picat-lang.org/picatbook2015/constraint_solving_and_planning_with_picat.pdf) (Section 3.5)"
   ]
  },
  {
   "cell_type": "code",
   "execution_count": 7,
   "id": "1a103abf",
   "metadata": {
    "execution": {
     "iopub.execute_input": "2024-10-02T12:40:28.059334Z",
     "iopub.status.busy": "2024-10-02T12:40:28.058247Z",
     "iopub.status.idle": "2024-10-02T12:40:28.129551Z",
     "shell.execute_reply": "2024-10-02T12:40:28.123985Z"
    },
    "slideshow": {
     "slide_type": "fragment"
    }
   },
   "outputs": [
    {
     "data": {
      "application/javascript": [
       "\"use strict\";\n",
       "\n",
       "CodeMirror.defineMode(\"text/picat\", function(config) {\n",
       "\n",
       "  var isOperatorChar = /[+\\-*=\\@\\&|\\:#<>\\/]/;\n",
       "\n",
       "  var keywords = {\"else\":true,\n",
       "  \"end\":true,\n",
       "  \"foreach\":true,\n",
       "  \"if\":true,\n",
       "  \"in\":true,\n",
       "  \"then\":true\n",
       "  }\n",
       "\n",
       "  var specials = {\"acyclic_term\":true,\n",
       "  \"and_to_list\":true,\n",
       "  \"append\":true,\n",
       "  \"apply\":true,\n",
       "  \"arity\":true,\n",
       "  \"array\":true,\n",
       "  \"atom\":true,\n",
       "  \"atom_chars\":true,\n",
       "  \"atom_codes\":true,\n",
       "  \"atomic\":true,\n",
       "  \"attr_var\":true,\n",
       "  \"between\":true,\n",
       "  \"bind_vars\":true,\n",
       "  \"call\":true,\n",
       "  \"call_cleanup\":true,\n",
       "  \"catch\":true,\n",
       "  \"char\":true,\n",
       "  \"chr\":true,\n",
       "  \"clear\":true,\n",
       "  \"compare_terms\":true,\n",
       "  \"compound\":true,\n",
       "  \"copy_term\":true,\n",
       "  \"count_all\":true,\n",
       "  \"delete\":true,\n",
       "  \"delete_all\":true,\n",
       "  \"different_term\":true,\n",
       "  \"digit\":true,\n",
       "  \"div\":true,\n",
       "  \"dvar\":true,\n",
       "  \"dvar_or_int\":true,\n",
       "//   \"end\":true,\n",
       "  \"fail\":true,\n",
       "  \"false\":true,\n",
       "  \"find_all\":true,\n",
       "  \"findall\":true,\n",
       "  \"first\":true,\n",
       "  \"flatten\":true,\n",
       "  \"float\":true,\n",
       "  \"fold\":true,\n",
       "//   \"foreach\":true,\n",
       "  \"freeze\":true,\n",
       "  \"get\":true,\n",
       "  \"get_attr\":true,\n",
       "  \"get_global_map\":true,\n",
       "  \"get_heap_map\":true,\n",
       "  \"get_table_map\":true,\n",
       "  \"ground\":true,\n",
       "  \"handle_exception\":true,\n",
       "  \"has_key\":true,\n",
       "  \"hash_code\":true,\n",
       "  \"head\":true,\n",
       "  \"heap_is_empty\":true,\n",
       "  \"heap_pop\":true,\n",
       "  \"heap_push\":true,\n",
       "  \"heap_size\":true,\n",
       "  \"heap_to_list\":true,\n",
       "  \"heap_top\":true,\n",
       "  \"import\":true,    \n",
       "//   \"in\":true,\n",
       "  \"insert\":true,\n",
       "  \"insert_all\":true,\n",
       "  \"insert_ordered\":true,\n",
       "  \"insert_ordered_down\":true,\n",
       "  \"int\":true,\n",
       "  \"integer\":true,\n",
       "  \"is\":true,\n",
       "  \"keys\":true,\n",
       "  \"last\":true,\n",
       "  \"len\":true,\n",
       "  \"length\":true,\n",
       "  \"list\":true,\n",
       "  \"list_to_and\":true,\n",
       "  \"lowercase\":true,\n",
       "  \"map\":true,\n",
       "  \"map_to_list\":true,\n",
       "  \"max\":true,\n",
       "  \"maxint_small\":true,\n",
       "  \"maxof\":true,\n",
       "  \"maxof_inc\":true,\n",
       "  \"membchk\":true,\n",
       "  \"member\":true,\n",
       "  \"min\":true,\n",
       "  \"minint_small\":true,\n",
       "  \"minof\":true,\n",
       "  \"minof_inc\":true,\n",
       "  \"mod\":true,\n",
       "  \"name\":true,\n",
       "  \"new_array\":true,\n",
       "  \"new_list\":true,\n",
       "  \"new_map\":true,\n",
       "  \"new_max_heap\":true,\n",
       "  \"new_min_heap\":true,\n",
       "  \"new_set\":true,\n",
       "  \"new_struct\":true,\n",
       "  \"nonvar\":true,\n",
       "  \"not\":true,\n",
       "  \"notin\":true,\n",
       "  \"nth\":true,\n",
       "  \"number\":true,\n",
       "  \"number_char\":true,\n",
       "  \"number_codes\":true,\n",
       "  \"number_vars\":true,\n",
       "  \"once\":true,\n",
       "  \"ord\":true,\n",
       "  \"parse_radix_string\":true,\n",
       "  \"parse_term\":true,\n",
       "  \"post_event\":true,\n",
       "  \"post_event_any\":true,\n",
       "  \"post_event_bound\":true,\n",
       "  \"post_event_dom\":true,\n",
       "  \"post_event_ins\":true,\n",
       "  \"print\":true,\n",
       "  \"println\":true,\n",
       "  \"prod\":true,\n",
       "  \"put\":true,\n",
       "  \"put_attr\":true,\n",
       "  \"real\":true,\n",
       "  \"reduce\":true,\n",
       "  \"rem\":true,\n",
       "  \"remove_dumps\":true,\n",
       "  \"repeat\":true,\n",
       "  \"reverse\":true,\n",
       "  \"second\":true,\n",
       "  \"select\":true,\n",
       "  \"size\":true,\n",
       "  \"slice\":true,\n",
       "  \"sort\":true,\n",
       "  \"sort_down\":true,\n",
       "  \"sort_down_remove_dups\":true,\n",
       "  \"sort_remove_dups\":true,\n",
       "  \"sorted\":true,\n",
       "  \"sorted_down\":true,\n",
       "  \"string\":true,\n",
       "  \"struct\":true,\n",
       "  \"subsumes\":true,\n",
       "  \"sum\":true,\n",
       "  \"tail\":true,\n",
       "  \"throw\":true,\n",
       "  \"to_array\":true,\n",
       "  \"to_atom\":true,\n",
       "  \"to_binary_string\":true,\n",
       "  \"to_code\":true,\n",
       "  \"to_fstring\":true,\n",
       "  \"to_hex_string\":true,\n",
       "  \"to_int\":true,\n",
       "  \"to_integer\":true,\n",
       "  \"to_list\":true,\n",
       "  \"to_lowercase\":true,\n",
       "  \"to_number\":true,\n",
       "  \"to_oct_string\":true,\n",
       "  \"to_radix_string\":true,\n",
       "  \"to_real\":true,\n",
       "  \"to_string\":true,\n",
       "  \"to_uppercase\":true,\n",
       "  \"true\":true,\n",
       "  \"uppercase\":true,\n",
       "  \"values\":true,\n",
       "  \"var\":true,\n",
       "  \"variant\":true,\n",
       "  \"vars\":true,\n",
       "  \"zip\":true,\n",
       "\n",
       "  \"abs\":true,\n",
       "  \"acos\":true,\n",
       "  \"acosh\":true,\n",
       "  \"acot\":true,\n",
       "  \"acoth\":true,\n",
       "  \"acsc\":true,\n",
       "  \"acsch\":true,\n",
       "  \"asec\":true,\n",
       "  \"asech\":true,\n",
       "  \"asin\":true,\n",
       "  \"asinh\":true,\n",
       "  \"atan\":true,\n",
       "  \"atan2\":true,\n",
       "  \"atanh\":true,\n",
       "  \"ceiling\":true,\n",
       "  \"cos\":true,\n",
       "  \"cosh\":true,\n",
       "  \"cot\":true,\n",
       "  \"coth\":true,\n",
       "  \"csc\":true,\n",
       "  \"csch\":true,\n",
       "  \"e\":true,\n",
       "  \"even\":true,\n",
       "  \"exp\":true,\n",
       "  \"floor\":true,\n",
       "  \"frand\":true,\n",
       "  \"gcd\":true,\n",
       "  \"log\":true,\n",
       "  \"log10\":true,\n",
       "  \"log2\":true,\n",
       "  \"modf\":true,\n",
       "  \"odd\":true,\n",
       "  \"pi\":true,\n",
       "  \"pow\":true,\n",
       "  \"pow_mod\":true,\n",
       "  \"prime\":true,\n",
       "  \"primes\":true,\n",
       "  \"max\":true,\n",
       "  \"random\":true,\n",
       "  \"random2\":true,\n",
       "  \"round\":true,\n",
       "  \"sec\":true,\n",
       "  \"sech\":true,\n",
       "  \"sign\":true,\n",
       "  \"sin\":true,\n",
       "  \"sinh\":true,\n",
       "  \"sqrt\":true,\n",
       "  \"tan\":true,\n",
       "  \"tanh\":true,\n",
       "  \"to_degrees\":true,\n",
       "  \"to_radians\":true,\n",
       "  \"truncate\":true,\n",
       "    \n",
       " \n",
       "  \"xor\":true};\n",
       "\n",
       "  var punc = \":;,.(){}[]\";\n",
       "\n",
       "  function tokenBase(stream, state) {\n",
       "    var ch = stream.next();\n",
       "    if (ch == '\"') {\n",
       "      state.tokenize.push(tokenString);\n",
       "      return tokenString(stream, state);\n",
       "    }\n",
       "    if (/[\\d\\.]/.test(ch)) {\n",
       "      if (ch == \".\") {\n",
       "        stream.match(/^[0-9]+([eE][\\-+]?[0-9]+)?/);\n",
       "      } else if (ch == \"0\") {\n",
       "        stream.match(/^[xX][0-9a-fA-F]+/) || stream.match(/^0[0-7]+/);\n",
       "      } else {\n",
       "        stream.match(/^[0-9]*\\.?[0-9]*([eE][\\-+]?[0-9]+)?/);\n",
       "      }\n",
       "      return \"number\";\n",
       "    }\n",
       "    if (ch == \"/\") {\n",
       "      if (stream.eat(\"*\")) {\n",
       "        state.tokenize.push(tokenComment);\n",
       "        return tokenComment(stream, state);\n",
       "      }\n",
       "    }\n",
       "    if (ch == \"%\") {\n",
       "      stream.skipToEnd();\n",
       "      return \"comment\";\n",
       "    }\n",
       "    if (isOperatorChar.test(ch)) {\n",
       "      stream.eatWhile(isOperatorChar);\n",
       "      return \"operator\";\n",
       "    }\n",
       "    if (punc.indexOf(ch) > -1) {\n",
       "      return \"punctuation\";\n",
       "    }\n",
       "    stream.eatWhile(/[\\w\\$_\\xa1-\\uffff]/);\n",
       "    var cur = stream.current();\n",
       "    if (keywords.propertyIsEnumerable(cur)) {\n",
       "      return \"keyword\";\n",
       "    }\n",
       "    return \"variable\";\n",
       "  }\n",
       "\n",
       "  function tokenComment(stream, state) {\n",
       "    var maybeEnd = false, ch;\n",
       "    while (ch = stream.next()) {\n",
       "      if (ch == \"/\" && maybeEnd) {\n",
       "        state.tokenize.pop();\n",
       "        break;\n",
       "      }\n",
       "      maybeEnd = (ch == \"*\");\n",
       "    }\n",
       "    return \"comment\";\n",
       "  }\n",
       "\n",
       "  function tokenUntilClosingParen() {\n",
       "    var depth = 0;\n",
       "    return function(stream, state, prev) {\n",
       "      var inner = tokenBase(stream, state, prev);\n",
       "      console.log(\"untilClosing\",inner,stream.current());\n",
       "      if (inner == \"punctuation\") {\n",
       "        if (stream.current() == \"(\") {\n",
       "          ++depth;\n",
       "        } else if (stream.current() == \")\") {\n",
       "          if (depth == 0) {\n",
       "            stream.backUp(1)\n",
       "            state.tokenize.pop()\n",
       "            return state.tokenize[state.tokenize.length - 1](stream, state)\n",
       "          } else {\n",
       "            --depth;\n",
       "          }\n",
       "        }\n",
       "      }\n",
       "      return inner;\n",
       "    }\n",
       "  }\n",
       "\n",
       "  function tokenString(stream, state) {\n",
       "    var escaped = false, next, end = false;\n",
       "    while ((next = stream.next()) != null) {\n",
       "      if (next=='(' && escaped) {\n",
       "        state.tokenize.push(tokenUntilClosingParen());\n",
       "        return \"string\";\n",
       "      }\n",
       "      if (next == '\"' && !escaped) {end = true; break;}\n",
       "      escaped = !escaped && next == \"\\\\\";\n",
       "    }\n",
       "    if (end || !escaped)\n",
       "      state.tokenize.pop();\n",
       "    return \"string\";\n",
       "  }\n",
       "\n",
       "  return {\n",
       "    startState: function(basecolumn) {\n",
       "      return {\n",
       "        tokenize: []\n",
       "      };\n",
       "    },\n",
       "\n",
       "    token: function(stream, state) {\n",
       "      if (stream.eatSpace()) return null;\n",
       "      var style = (state.tokenize[state.tokenize.length - 1] || tokenBase)(stream, state);\n",
       "      console.log(\"token\",style);\n",
       "      return style;\n",
       "    },\n",
       "\n",
       "    blockCommentStart: \"/*\",\n",
       "    blockCommentEnd: \"*/\",\n",
       "    lineComment: \"%\"\n",
       "  };\n",
       "});\n",
       "\n",
       "CodeMirror.defineMIME(\"text/picat\", \"text/picat\");\n",
       "\n",
       "Jupyter.CodeCell.options_default.highlight_modes['magic_text/picat'] = {'reg':[/^%%picat/]} ;\n",
       "\n",
       "Jupyter.notebook.get_cells().map(function(cell){\n",
       "  if (cell.cell_type == 'code'){ cell.auto_highlight(); }\n",
       "}) ;"
      ],
      "text/plain": [
       "<IPython.core.display.Javascript object>"
      ]
     },
     "metadata": {},
     "output_type": "display_data"
    },
    {
     "name": "stdout",
     "output_type": "stream",
     "text": [
      "Picat version 3.7\n"
     ]
    }
   ],
   "source": [
    "%load_ext ipicat"
   ]
  },
  {
   "cell_type": "code",
   "execution_count": 8,
   "id": "bbdfa128",
   "metadata": {
    "execution": {
     "iopub.execute_input": "2024-10-02T12:40:28.145206Z",
     "iopub.status.busy": "2024-10-02T12:40:28.142528Z",
     "iopub.status.idle": "2024-10-02T12:40:28.157027Z",
     "shell.execute_reply": "2024-10-02T12:40:28.154453Z"
    },
    "slideshow": {
     "slide_type": "fragment"
    }
   },
   "outputs": [],
   "source": [
    "%%picat -n queens\n",
    "import cp. %try sat, try also mip with the other model\n",
    "\n",
    "queens(N, Q) =>\n",
    "    Q = new_array(N),\n",
    "    Q :: 1..N,\n",
    "    all_different(Q),\n",
    "    all_different([$Q[I] - I : I in 1..N]),\n",
    "    all_different([$Q[I] + I : I in 1..N])."
   ]
  },
  {
   "cell_type": "markdown",
   "id": "2b98ce37",
   "metadata": {
    "slideshow": {
     "slide_type": "subslide"
    }
   },
   "source": [
    "The predicate `time2` also outputs the number of backtracks during the search - a good measure of complexity."
   ]
  },
  {
   "cell_type": "code",
   "execution_count": 9,
   "id": "56ecdd57",
   "metadata": {
    "execution": {
     "iopub.execute_input": "2024-10-02T12:40:28.166699Z",
     "iopub.status.busy": "2024-10-02T12:40:28.164010Z",
     "iopub.status.idle": "2024-10-02T12:41:03.289373Z",
     "shell.execute_reply": "2024-10-02T12:41:03.288191Z"
    },
    "slideshow": {
     "slide_type": "fragment"
    }
   },
   "outputs": [
    {
     "name": "stdout",
     "output_type": "stream",
     "text": [
      "\n",
      "CPU time 35.066 seconds. Backtracks: 11461548\n",
      "\n",
      "\n"
     ]
    }
   ],
   "source": [
    "%%picat\n",
    "main =>\n",
    "    N = 32,\n",
    "    queens(N, Q),\n",
    "    time2(solve(Q))."
   ]
  },
  {
   "cell_type": "markdown",
   "id": "4fa5e5ec",
   "metadata": {
    "slideshow": {
     "slide_type": "subslide"
    }
   },
   "source": [
    "Which search strategy could work well for our model?"
   ]
  },
  {
   "cell_type": "markdown",
   "id": "f1adecbe",
   "metadata": {
    "slideshow": {
     "slide_type": "fragment"
    }
   },
   "source": [
    "Here's how we can test multiple search strategies (code adapted from [the book](https://picat-lang.org/picatbook2015/constraint_solving_and_planning_with_picat.pdf)):"
   ]
  },
  {
   "cell_type": "code",
   "execution_count": 10,
   "id": "f5adf2d7",
   "metadata": {
    "collapsed": true,
    "execution": {
     "iopub.execute_input": "2024-10-02T12:41:03.293780Z",
     "iopub.status.busy": "2024-10-02T12:41:03.293184Z",
     "iopub.status.idle": "2024-10-02T12:44:47.607954Z",
     "shell.execute_reply": "2024-10-02T12:44:47.574038Z"
    },
    "slideshow": {
     "slide_type": "fragment"
    }
   },
   "outputs": [
    {
     "name": "stdout",
     "output_type": "stream",
     "text": [
      "\n"
     ]
    }
   ],
   "source": [
    "%%picat\n",
    "\n",
    "% Variable selection\n",
    "selection(VarSels) =>\n",
    "    VarSels = [backward,constr,degree,ff,ffc,ffd,forward,inout,leftmost,max,min,up].\n",
    "    \n",
    "% Value selection\n",
    "choice(ValSels) =>\n",
    "    ValSels = [down,reverse_split,split,up,updown].\n",
    "\n",
    "main =>\n",
    "    selection(VarSels),\n",
    "    choice(ValSels),\n",
    "    Timeout = 1000, % Timeout in milliseconds\n",
    "    %Timeout = 10000, % Timeout in milliseconds\n",
    "    Ns = [64, 128, 256],\n",
    "    \n",
    "    foreach (N in Ns, VarSel in VarSels, ValSel in ValSels)\n",
    "        queens(N,Q),\n",
    "        time2(time_out(solve([VarSel,ValSel], Q),Timeout,Status)),\n",
    "        println([N,VarSel,ValSel,Status])\n",
    "    end."
   ]
  },
  {
   "cell_type": "markdown",
   "id": "1b0efef2",
   "metadata": {
    "slideshow": {
     "slide_type": "slide"
    }
   },
   "source": [
    "## Exercises"
   ]
  },
  {
   "cell_type": "markdown",
   "id": "ebfdf5f6",
   "metadata": {
    "slideshow": {
     "slide_type": "subslide"
    }
   },
   "source": [
    "### Exercise: Magic square\n",
    "Arrange numbers $1,2,\\dots,n^2$ in a square such that every row, every column, and the two main diagonals all sum to the same quantity. \n",
    "\n",
    "* Try to find the best model, solver and search strategy.\n",
    "* How many magic squares are there for a given $n$? \n",
    "* Allow also for a partially filled instance. "
   ]
  },
  {
   "cell_type": "markdown",
   "id": "b210b4d4",
   "metadata": {
    "slideshow": {
     "slide_type": "subslide"
    }
   },
   "source": [
    "### Exercise: Minesweeper\n",
    "Identify the positions of all mines in a given board. Try the following instance (from [the book](http://picat-lang.org/picatbook2015/constraint_solving_and_planning_with_picat.pdf)):\n",
    "```\n",
    "Instance = {\n",
    "    {_,_,2,_,3,_},\n",
    "    {2,_,_,_,_,_},\n",
    "    {_,_,2,4,_,3},\n",
    "    {1,_,3,4,_,_},\n",
    "    {_,_,_,_,_,3},\n",
    "    {_,3,_,3,_,_}\n",
    "}.\n",
    "```"
   ]
  },
  {
   "cell_type": "markdown",
   "id": "66497e46",
   "metadata": {
    "slideshow": {
     "slide_type": "subslide"
    }
   },
   "source": [
    "### Exercise: Graph-coloring\n",
    "1. Write a program that solves the (directed) graph 3-coloring problem with a given number of colors and a given graph. The graph is given by a list of edges, each edge is a 2-element list. We assume that vertices of the graph are $1,\\dots,n$ where $n$ is the maximum number appearing in the list. \n",
    "2. Generalize your program to graph $k$-coloring where $k$ is a positive integer given on the input.\n",
    "3. Modify your program to accept the incidence matrix (a 2D array) instead of the list of edges.\n",
    "4. Add the flag `-n` to output the minimum number of colors (the chromatic number) of a given graph.\n",
    "For example:\n",
    "```\n",
    "picat graph-coloring.pi [[1,2],[2,3],[3,4],[4,1]]\n",
    "picat graph-coloring.pi [[1,2],[2,3],[3,1]] 4\n",
    "picat graph-coloring.pi \"{{0,1,1},{1,0,1},{1,1,0}}\" 4\n",
    "picat graph-coloring.pi -n [[1,2],[2,3],[3,4],[4,1]]\n",
    "```"
   ]
  },
  {
   "cell_type": "markdown",
   "id": "8c257de4",
   "metadata": {
    "slideshow": {
     "slide_type": "slide"
    }
   },
   "source": [
    "# Knapsack\n",
    "\n",
    "There are two common versions of the problem: the general __knapsack__ problem:\n",
    "\n",
    "> Given a set of items, each with a weight and a value, determine __how many of each item__ to include in a collection so that the total weight is less than or equal to a given limit and the total value is as large as possible.\n",
    "\n",
    "And the __0-1 knapsack__ problem:\n",
    "\n",
    "\n",
    "> Given a set of items, each with a weight and a value, determine __which items__ to include in a collection so that the total weight is less than or equal to a given limit and the total value is as large as possible.\n",
    "\n",
    "(In a general knapsack problem, we can take any number of each item, in the 0-1 version we can take at most one of each.)"
   ]
  },
  {
   "cell_type": "markdown",
   "id": "b642ed55",
   "metadata": {
    "slideshow": {
     "slide_type": "subslide"
    }
   },
   "source": [
    "#### Example of an instance:\n",
    "\n",
    "A thief breaks into a department store (general knapsack) or into a home (0-1 knapsack). They can carry 23kg. Which items (and how many of each, in the general version) should they take to maximize profit? There are the following items:\n",
    "\n",
    "* a TV (weighs 15kg, costs \\$500),\n",
    "* a desktop computer (weighs 11kg, costs \\$350)\n",
    "* a laptop (weighs 5kg, costs \\$230), \n",
    "* a tablet (weighs 1kg, costs \\$115),\n",
    "* an antique vase (weighs 7kg, costs \\$180), \n",
    "* a bottle of whisky (weighs 3kg, costs \\$75), and \n",
    "* a leather jacket (weighs 4kg, costs \\$125).\n",
    "\n",
    "This instance is given in the file `data.pi`."
   ]
  },
  {
   "cell_type": "code",
   "execution_count": 11,
   "id": "fdbad1d3",
   "metadata": {
    "execution": {
     "iopub.execute_input": "2024-10-02T12:44:47.907208Z",
     "iopub.status.busy": "2024-10-02T12:44:47.902809Z",
     "iopub.status.idle": "2024-10-02T12:44:48.146911Z",
     "shell.execute_reply": "2024-10-02T12:44:48.145216Z"
    },
    "scrolled": true,
    "slideshow": {
     "slide_type": "subslide"
    }
   },
   "outputs": [
    {
     "name": "stdout",
     "output_type": "stream",
     "text": [
      "instance(Items, Capacity, Values, Weights) =>\r\n",
      "    Items = {\"tv\", \"desktop\", \"laptop\", \"tablet\", \"vase\", \"bottle\", \"jacket\"},\r\n",
      "    Capacity = 23,\r\n",
      "    Values = {500,350,230,115,180,75,125},\r\n",
      "    Weights = {15,11,5,1,7,3,4}."
     ]
    }
   ],
   "source": [
    "!cat knapsack/data.pi"
   ]
  }
 ],
 "metadata": {
  "celltoolbar": "Slideshow",
  "kernelspec": {
   "display_name": "Python 3 (ipykernel)",
   "language": "python",
   "name": "python3"
  },
  "language_info": {
   "codemirror_mode": {
    "name": "ipython",
    "version": 3
   },
   "file_extension": ".py",
   "mimetype": "text/x-python",
   "name": "python",
   "nbconvert_exporter": "python",
   "pygments_lexer": "ipython3",
   "version": "3.10.12"
  },
  "vscode": {
   "interpreter": {
    "hash": "916dbcbb3f70747c44a77c7bcd40155683ae19c65e1c03b4aa3499c5328201f1"
   }
  }
 },
 "nbformat": 4,
 "nbformat_minor": 5
}
