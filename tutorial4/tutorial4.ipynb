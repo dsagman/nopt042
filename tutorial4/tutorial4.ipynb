{
 "cells": [
  {
   "cell_type": "markdown",
   "id": "0d8742c9",
   "metadata": {
    "editable": false,
    "slideshow": {
     "slide_type": "slide"
    },
    "tags": []
   },
   "source": [
    "# NOPT042 Constraint programming: Tutorial 4 – Search strategies"
   ]
  },
  {
   "cell_type": "markdown",
   "id": "52af0aef-a82d-4bd0-ad52-8bfd7deacac0",
   "metadata": {
    "editable": false,
    "slideshow": {
     "slide_type": "subslide"
    },
    "tags": []
   },
   "source": [
    "### What was in the lecture? Nothing, the lecture was canceled."
   ]
  },
  {
   "cell_type": "markdown",
   "id": "4e38da66",
   "metadata": {
    "editable": false,
    "jp-MarkdownHeadingCollapsed": true,
    "slideshow": {
     "slide_type": "fragment"
    },
    "tags": []
   },
   "source": [
    "### From last week:\n",
    "\n",
    "* Solution to the Coin grid problem.\n",
    "* Best model and solver for the problem? MIP, naturally expressed as an integer program\n",
    "* Unsatisfiable instances - LP works well.\n",
    "* For sparse solution sets heuristic approaches may be slow."
   ]
  },
  {
   "cell_type": "markdown",
   "id": "41a63fb4-43a1-48cc-995d-dc6d56dc1e7d",
   "metadata": {
    "editable": false,
    "slideshow": {
     "slide_type": "subslide"
    },
    "tags": []
   },
   "source": [
    "### Today: search strategies\n",
    "\n",
    "Recall backtracking and friends from the lecture.\n",
    "* How to explore the search tree?\n",
    "* E.g., how to select the variable for the next level,\n",
    "* and the order of values (children nodes)?\n",
    "\n",
    "The _First Fail_ principle: try to prove failure of the subtree as fast as possible, focus on hard variables first."
   ]
  },
  {
   "cell_type": "markdown",
   "id": "a835e315-9c79-4272-8e50-6707d7decbe4",
   "metadata": {
    "editable": false,
    "slideshow": {
     "slide_type": "fragment"
    },
    "tags": []
   },
   "source": [
    "The predicate `time2` also outputs the number of backtracks during the search - a good measure of complexity."
   ]
  },
  {
   "cell_type": "markdown",
   "id": "0a4c6a3d",
   "metadata": {
    "editable": false,
    "slideshow": {
     "slide_type": "slide"
    },
    "tags": []
   },
   "source": [
    "## Example: N-queens"
   ]
  },
  {
   "cell_type": "markdown",
   "id": "6e1b4d69",
   "metadata": {
    "editable": false,
    "slideshow": {
     "slide_type": "fragment"
    },
    "tags": []
   },
   "source": [
    "Place $n$ queens on an $n\\times n$ board so that none attack another. How to choose the decision variables?\n",
    "\n",
    "* How large is the search space?\n",
    "* Can we use symmetry breaking?\n",
    "* Consider the _dual_ model."
   ]
  },
  {
   "cell_type": "code",
   "execution_count": 1,
   "id": "ae0a7fa1",
   "metadata": {
    "editable": true,
    "execution": {
     "iopub.execute_input": "2024-10-09T14:32:22.344017Z",
     "iopub.status.busy": "2024-10-09T14:32:22.343791Z",
     "iopub.status.idle": "2024-10-09T14:32:22.477045Z",
     "shell.execute_reply": "2024-10-09T14:32:22.474076Z"
    },
    "scrolled": true,
    "slideshow": {
     "slide_type": "subslide"
    },
    "tags": []
   },
   "outputs": [
    {
     "name": "stdout",
     "output_type": "stream",
     "text": [
      "\r\n",
      "CPU time 0.0 seconds. Backtracks: 24\r\n",
      "\r\n",
      "Q.......\r\n",
      "....Q...\r\n",
      ".......Q\r\n",
      ".....Q..\r\n",
      "..Q.....\r\n",
      "......Q.\r\n",
      ".Q......\r\n",
      "...Q....\r\n"
     ]
    }
   ],
   "source": [
    "!picat queens/queens-primal 8"
   ]
  },
  {
   "cell_type": "code",
   "execution_count": 2,
   "id": "7d93de7e",
   "metadata": {
    "editable": true,
    "execution": {
     "iopub.execute_input": "2024-10-09T14:32:22.485632Z",
     "iopub.status.busy": "2024-10-09T14:32:22.484784Z",
     "iopub.status.idle": "2024-10-09T14:32:22.626199Z",
     "shell.execute_reply": "2024-10-09T14:32:22.623293Z"
    },
    "scrolled": true,
    "slideshow": {
     "slide_type": "subslide"
    },
    "tags": []
   },
   "outputs": [
    {
     "name": "stdout",
     "output_type": "stream",
     "text": [
      "% n-queens, primal model\r\n",
      "import cp.\r\n",
      "\r\n",
      "queens_primal(N, Q) =>\r\n",
      "    Q = new_array(N),\r\n",
      "    Q :: 1..N,\r\n",
      "    all_different(Q),\r\n",
      "    all_different([$Q[I] - I : I in 1..N]),\r\n",
      "    all_different([$Q[I] + I : I in 1..N]).\r\n",
      "\r\n",
      "main([N]) =>\r\n",
      "    N := to_int(N),\r\n",
      "    queens_primal(N, Q),\r\n",
      "    time2(solve(Q)),\r\n",
      "    if N <= 32 then\r\n",
      "        output(Q)\r\n",
      "    end.\r\n",
      "\r\n",
      "output(Q) =>\r\n",
      "    N = Q.length,\r\n",
      "    foreach(I in 1..N)\r\n",
      "        foreach (J in 1..N)\r\n",
      "            if Q[I] = J then\r\n",
      "                print(\"Q\")\r\n",
      "            else\r\n",
      "                print(\".\")\r\n",
      "            end\r\n",
      "        end,\r\n",
      "        print(\"\\n\")\r\n",
      "    end.\r\n"
     ]
    }
   ],
   "source": [
    "!cat queens/queens-primal.pi"
   ]
  },
  {
   "cell_type": "code",
   "execution_count": 3,
   "id": "120f787f",
   "metadata": {
    "editable": true,
    "execution": {
     "iopub.execute_input": "2024-10-09T14:32:22.634372Z",
     "iopub.status.busy": "2024-10-09T14:32:22.633535Z",
     "iopub.status.idle": "2024-10-09T14:32:22.842074Z",
     "shell.execute_reply": "2024-10-09T14:32:22.838572Z"
    },
    "slideshow": {
     "slide_type": "subslide"
    },
    "tags": []
   },
   "outputs": [
    {
     "name": "stdout",
     "output_type": "stream",
     "text": [
      "\r\n",
      "CPU time 0.036 seconds. Backtracks: 8540\r\n",
      "\r\n",
      ".......Q\r\n",
      "...Q....\r\n",
      "Q.......\r\n",
      "..Q.....\r\n",
      ".....Q..\r\n",
      ".Q......\r\n",
      "......Q.\r\n",
      "....Q...\r\n"
     ]
    }
   ],
   "source": [
    "!picat queens/queens-dual 8"
   ]
  },
  {
   "cell_type": "code",
   "execution_count": 4,
   "id": "c71385c2",
   "metadata": {
    "editable": true,
    "execution": {
     "iopub.execute_input": "2024-10-09T14:32:22.852721Z",
     "iopub.status.busy": "2024-10-09T14:32:22.851771Z",
     "iopub.status.idle": "2024-10-09T14:32:22.982270Z",
     "shell.execute_reply": "2024-10-09T14:32:22.979272Z"
    },
    "scrolled": true,
    "slideshow": {
     "slide_type": "subslide"
    },
    "tags": []
   },
   "outputs": [
    {
     "name": "stdout",
     "output_type": "stream",
     "text": [
      "% n-queens, dual model\r\n",
      "import cp.\r\n",
      "\r\n",
      "queens_dual(N, Board) =>\r\n",
      "    Board = new_array(N, N),\r\n",
      "    Board :: 0..1,\r\n",
      "\r\n",
      "    sum([Board[I, J] : I in 1..N, J in 1..N]) #= N,\r\n",
      "\r\n",
      "    % rows\r\n",
      "    foreach(I in 1..N)\r\n",
      "        sum([Board[I, J] : J in 1..N]) #<= 1\r\n",
      "    end,\r\n",
      "    % cols\r\n",
      "    foreach(J in 1..N)\r\n",
      "        sum([Board[I, J] : I in 1..N]) #<= 1\r\n",
      "    end,\r\n",
      "    % diags\r\n",
      "    foreach(K in 1-N..N-1)\r\n",
      "        sum([Board[I,J] : I in 1..N, J in 1..N, I-J = K ]) #<= 1\r\n",
      "    end,\r\n",
      "    foreach(K in 2..2*N)\r\n",
      "        sum([Board[I,J] : I in 1..N, J in 1..N, I+J = K ]) #<= 1\r\n",
      "    end.\r\n",
      "\r\n",
      "main([N]) =>\r\n",
      "    N := to_int(N),\r\n",
      "    queens_dual(N, Board),\r\n",
      "    time2(solve(Board)),\r\n",
      "    if N <= 32 then\r\n",
      "        output(Board)\r\n",
      "    end.\r\n",
      "\r\n",
      "output(Board) =>\r\n",
      "    N = Board.length,\r\n",
      "    foreach(I in 1..N)\r\n",
      "        foreach (J in 1..N)\r\n",
      "            if Board[I, J] = 1 then\r\n",
      "                print(\"Q\")\r\n",
      "            else\r\n",
      "                print(\".\")\r\n",
      "            end\r\n",
      "        end,\r\n",
      "        print(\"\\n\")\r\n",
      "    end.\r\n"
     ]
    }
   ],
   "source": [
    "!cat queens/queens-dual.pi"
   ]
  },
  {
   "cell_type": "markdown",
   "id": "8eea2632",
   "metadata": {
    "editable": false,
    "slideshow": {
     "slide_type": "subslide"
    },
    "tags": []
   },
   "source": [
    "Sometimes it is best to model the problem in both ways and add _channelling constraints_. (Here it does not help.)"
   ]
  },
  {
   "cell_type": "code",
   "execution_count": 5,
   "id": "0ee505a5",
   "metadata": {
    "editable": true,
    "execution": {
     "iopub.execute_input": "2024-10-09T14:32:22.991087Z",
     "iopub.status.busy": "2024-10-09T14:32:22.990195Z",
     "iopub.status.idle": "2024-10-09T14:32:23.159159Z",
     "shell.execute_reply": "2024-10-09T14:32:23.156232Z"
    },
    "slideshow": {
     "slide_type": "fragment"
    },
    "tags": []
   },
   "outputs": [
    {
     "name": "stdout",
     "output_type": "stream",
     "text": [
      "\r\n",
      "CPU time 0.0 seconds. Backtracks: 24\r\n",
      "\r\n",
      "Q.......\r\n",
      "....Q...\r\n",
      ".......Q\r\n",
      ".....Q..\r\n",
      "..Q.....\r\n",
      "......Q.\r\n",
      ".Q......\r\n",
      "...Q....\r\n"
     ]
    }
   ],
   "source": [
    "!picat queens/queens-channeling 8"
   ]
  },
  {
   "cell_type": "code",
   "execution_count": 6,
   "id": "b310eb5c",
   "metadata": {
    "editable": true,
    "execution": {
     "iopub.execute_input": "2024-10-09T14:32:23.167646Z",
     "iopub.status.busy": "2024-10-09T14:32:23.166800Z",
     "iopub.status.idle": "2024-10-09T14:32:23.307049Z",
     "shell.execute_reply": "2024-10-09T14:32:23.304012Z"
    },
    "scrolled": true,
    "slideshow": {
     "slide_type": "subslide"
    },
    "tags": []
   },
   "outputs": [
    {
     "name": "stdout",
     "output_type": "stream",
     "text": [
      "% n-queens, primal and dual models with channeling\r\n",
      "import cp.\r\n",
      "\r\n",
      "queens(N, Q, Board) =>    \r\n",
      "    % primal\r\n",
      "    queens_primal(N, Q),\r\n",
      "    queens_dual(N, Board),\r\n",
      "    \r\n",
      "    % channeling\r\n",
      "    foreach(I in 1..N, J in 1..N)\r\n",
      "        (Board[I,J] #= 1) #<=> (Q[I] #= J)\r\n",
      "    end.\r\n",
      "\r\n",
      "main([N]) =>\r\n",
      "    N := to_int(N),\r\n",
      "    queens(N, Q, Board),\r\n",
      "    time2(solve(Q ++ Board)),\r\n",
      "    if N <= 32 then   \r\n",
      "        output(Q)\r\n",
      "    end.\r\n",
      "\r\n",
      "queens_primal(N, Q) =>\r\n",
      "    Q = new_array(N),\r\n",
      "    Q :: 1..N,\r\n",
      "    all_different(Q),\r\n",
      "    all_different([$Q[I] - I : I in 1..N]),\r\n",
      "    all_different([$Q[I] + I : I in 1..N]).\r\n",
      "\r\n",
      "queens_dual(N, Board) =>\r\n",
      "    Board = new_array(N, N),\r\n",
      "    Board :: 0..1,\r\n",
      "\r\n",
      "    sum([Board[I, J] : I in 1..N, J in 1..N]) #= N,\r\n",
      "        \r\n",
      "    % rows\r\n",
      "    foreach(I in 1..N)\r\n",
      "        sum([Board[I, J] : J in 1..N]) #<= 1\r\n",
      "    end,\r\n",
      "    % cols\r\n",
      "    foreach(J in 1..N)\r\n",
      "        sum([Board[I, J] : I in 1..N]) #<= 1\r\n",
      "    end,\r\n",
      "    % diags\r\n",
      "    foreach(K in 1-N..N-1)\r\n",
      "        sum([Board[I,J] : I in 1..N, J in 1..N, I-J = K ]) #<= 1\r\n",
      "    end,\r\n",
      "    foreach(K in 2..2*N)\r\n",
      "        sum([Board[I,J] : I in 1..N, J in 1..N, I+J = K ]) #<= 1\r\n",
      "    end.\r\n",
      "\r\n",
      "output(Q) =>\r\n",
      "    N = Q.length,\r\n",
      "    foreach(I in 1..N)\r\n",
      "        foreach (J in 1..N)\r\n",
      "            if Q[I] = J then\r\n",
      "                print(\"Q\")\r\n",
      "            else\r\n",
      "                print(\".\")\r\n",
      "            end\r\n",
      "        end,\r\n",
      "        print(\"\\n\")\r\n",
      "    end.\r\n"
     ]
    }
   ],
   "source": [
    "!cat queens/queens-channeling.pi"
   ]
  },
  {
   "cell_type": "markdown",
   "id": "8477f039",
   "metadata": {
    "editable": true,
    "slideshow": {
     "slide_type": "fragment"
    },
    "tags": []
   },
   "source": [
    "Can the models be improved using symmetry breaking?"
   ]
  },
  {
   "cell_type": "markdown",
   "id": "eb3eced9",
   "metadata": {
    "editable": false,
    "slideshow": {
     "slide_type": "subslide"
    },
    "tags": []
   },
   "source": [
    "## Search strategies\n",
    "And other solver options: see [Picat guide](http://picat-lang.org/download/picat_guide.pdf) (Section 12.6) and the [book](http://picat-lang.org/picatbook2015/constraint_solving_and_planning_with_picat.pdf) (Section 3.5)"
   ]
  },
  {
   "cell_type": "code",
   "execution_count": 7,
   "id": "1a103abf",
   "metadata": {
    "editable": true,
    "execution": {
     "iopub.execute_input": "2024-10-09T14:32:23.316031Z",
     "iopub.status.busy": "2024-10-09T14:32:23.315196Z",
     "iopub.status.idle": "2024-10-09T14:32:23.384945Z",
     "shell.execute_reply": "2024-10-09T14:32:23.383338Z"
    },
    "slideshow": {
     "slide_type": "fragment"
    },
    "tags": []
   },
   "outputs": [
    {
     "data": {
      "application/javascript": [
       "\"use strict\";\n",
       "\n",
       "CodeMirror.defineMode(\"text/picat\", function(config) {\n",
       "\n",
       "  var isOperatorChar = /[+\\-*=\\@\\&|\\:#<>\\/]/;\n",
       "\n",
       "  var keywords = {\"else\":true,\n",
       "  \"end\":true,\n",
       "  \"foreach\":true,\n",
       "  \"if\":true,\n",
       "  \"in\":true,\n",
       "  \"then\":true\n",
       "  }\n",
       "\n",
       "  var specials = {\"acyclic_term\":true,\n",
       "  \"and_to_list\":true,\n",
       "  \"append\":true,\n",
       "  \"apply\":true,\n",
       "  \"arity\":true,\n",
       "  \"array\":true,\n",
       "  \"atom\":true,\n",
       "  \"atom_chars\":true,\n",
       "  \"atom_codes\":true,\n",
       "  \"atomic\":true,\n",
       "  \"attr_var\":true,\n",
       "  \"between\":true,\n",
       "  \"bind_vars\":true,\n",
       "  \"call\":true,\n",
       "  \"call_cleanup\":true,\n",
       "  \"catch\":true,\n",
       "  \"char\":true,\n",
       "  \"chr\":true,\n",
       "  \"clear\":true,\n",
       "  \"compare_terms\":true,\n",
       "  \"compound\":true,\n",
       "  \"copy_term\":true,\n",
       "  \"count_all\":true,\n",
       "  \"delete\":true,\n",
       "  \"delete_all\":true,\n",
       "  \"different_term\":true,\n",
       "  \"digit\":true,\n",
       "  \"div\":true,\n",
       "  \"dvar\":true,\n",
       "  \"dvar_or_int\":true,\n",
       "//   \"end\":true,\n",
       "  \"fail\":true,\n",
       "  \"false\":true,\n",
       "  \"find_all\":true,\n",
       "  \"findall\":true,\n",
       "  \"first\":true,\n",
       "  \"flatten\":true,\n",
       "  \"float\":true,\n",
       "  \"fold\":true,\n",
       "//   \"foreach\":true,\n",
       "  \"freeze\":true,\n",
       "  \"get\":true,\n",
       "  \"get_attr\":true,\n",
       "  \"get_global_map\":true,\n",
       "  \"get_heap_map\":true,\n",
       "  \"get_table_map\":true,\n",
       "  \"ground\":true,\n",
       "  \"handle_exception\":true,\n",
       "  \"has_key\":true,\n",
       "  \"hash_code\":true,\n",
       "  \"head\":true,\n",
       "  \"heap_is_empty\":true,\n",
       "  \"heap_pop\":true,\n",
       "  \"heap_push\":true,\n",
       "  \"heap_size\":true,\n",
       "  \"heap_to_list\":true,\n",
       "  \"heap_top\":true,\n",
       "  \"import\":true,    \n",
       "//   \"in\":true,\n",
       "  \"insert\":true,\n",
       "  \"insert_all\":true,\n",
       "  \"insert_ordered\":true,\n",
       "  \"insert_ordered_down\":true,\n",
       "  \"int\":true,\n",
       "  \"integer\":true,\n",
       "  \"is\":true,\n",
       "  \"keys\":true,\n",
       "  \"last\":true,\n",
       "  \"len\":true,\n",
       "  \"length\":true,\n",
       "  \"list\":true,\n",
       "  \"list_to_and\":true,\n",
       "  \"lowercase\":true,\n",
       "  \"map\":true,\n",
       "  \"map_to_list\":true,\n",
       "  \"max\":true,\n",
       "  \"maxint_small\":true,\n",
       "  \"maxof\":true,\n",
       "  \"maxof_inc\":true,\n",
       "  \"membchk\":true,\n",
       "  \"member\":true,\n",
       "  \"min\":true,\n",
       "  \"minint_small\":true,\n",
       "  \"minof\":true,\n",
       "  \"minof_inc\":true,\n",
       "  \"mod\":true,\n",
       "  \"name\":true,\n",
       "  \"new_array\":true,\n",
       "  \"new_list\":true,\n",
       "  \"new_map\":true,\n",
       "  \"new_max_heap\":true,\n",
       "  \"new_min_heap\":true,\n",
       "  \"new_set\":true,\n",
       "  \"new_struct\":true,\n",
       "  \"nonvar\":true,\n",
       "  \"not\":true,\n",
       "  \"notin\":true,\n",
       "  \"nth\":true,\n",
       "  \"number\":true,\n",
       "  \"number_char\":true,\n",
       "  \"number_codes\":true,\n",
       "  \"number_vars\":true,\n",
       "  \"once\":true,\n",
       "  \"ord\":true,\n",
       "  \"parse_radix_string\":true,\n",
       "  \"parse_term\":true,\n",
       "  \"post_event\":true,\n",
       "  \"post_event_any\":true,\n",
       "  \"post_event_bound\":true,\n",
       "  \"post_event_dom\":true,\n",
       "  \"post_event_ins\":true,\n",
       "  \"print\":true,\n",
       "  \"println\":true,\n",
       "  \"prod\":true,\n",
       "  \"put\":true,\n",
       "  \"put_attr\":true,\n",
       "  \"real\":true,\n",
       "  \"reduce\":true,\n",
       "  \"rem\":true,\n",
       "  \"remove_dumps\":true,\n",
       "  \"repeat\":true,\n",
       "  \"reverse\":true,\n",
       "  \"second\":true,\n",
       "  \"select\":true,\n",
       "  \"size\":true,\n",
       "  \"slice\":true,\n",
       "  \"sort\":true,\n",
       "  \"sort_down\":true,\n",
       "  \"sort_down_remove_dups\":true,\n",
       "  \"sort_remove_dups\":true,\n",
       "  \"sorted\":true,\n",
       "  \"sorted_down\":true,\n",
       "  \"string\":true,\n",
       "  \"struct\":true,\n",
       "  \"subsumes\":true,\n",
       "  \"sum\":true,\n",
       "  \"tail\":true,\n",
       "  \"throw\":true,\n",
       "  \"to_array\":true,\n",
       "  \"to_atom\":true,\n",
       "  \"to_binary_string\":true,\n",
       "  \"to_code\":true,\n",
       "  \"to_fstring\":true,\n",
       "  \"to_hex_string\":true,\n",
       "  \"to_int\":true,\n",
       "  \"to_integer\":true,\n",
       "  \"to_list\":true,\n",
       "  \"to_lowercase\":true,\n",
       "  \"to_number\":true,\n",
       "  \"to_oct_string\":true,\n",
       "  \"to_radix_string\":true,\n",
       "  \"to_real\":true,\n",
       "  \"to_string\":true,\n",
       "  \"to_uppercase\":true,\n",
       "  \"true\":true,\n",
       "  \"uppercase\":true,\n",
       "  \"values\":true,\n",
       "  \"var\":true,\n",
       "  \"variant\":true,\n",
       "  \"vars\":true,\n",
       "  \"zip\":true,\n",
       "\n",
       "  \"abs\":true,\n",
       "  \"acos\":true,\n",
       "  \"acosh\":true,\n",
       "  \"acot\":true,\n",
       "  \"acoth\":true,\n",
       "  \"acsc\":true,\n",
       "  \"acsch\":true,\n",
       "  \"asec\":true,\n",
       "  \"asech\":true,\n",
       "  \"asin\":true,\n",
       "  \"asinh\":true,\n",
       "  \"atan\":true,\n",
       "  \"atan2\":true,\n",
       "  \"atanh\":true,\n",
       "  \"ceiling\":true,\n",
       "  \"cos\":true,\n",
       "  \"cosh\":true,\n",
       "  \"cot\":true,\n",
       "  \"coth\":true,\n",
       "  \"csc\":true,\n",
       "  \"csch\":true,\n",
       "  \"e\":true,\n",
       "  \"even\":true,\n",
       "  \"exp\":true,\n",
       "  \"floor\":true,\n",
       "  \"frand\":true,\n",
       "  \"gcd\":true,\n",
       "  \"log\":true,\n",
       "  \"log10\":true,\n",
       "  \"log2\":true,\n",
       "  \"modf\":true,\n",
       "  \"odd\":true,\n",
       "  \"pi\":true,\n",
       "  \"pow\":true,\n",
       "  \"pow_mod\":true,\n",
       "  \"prime\":true,\n",
       "  \"primes\":true,\n",
       "  \"max\":true,\n",
       "  \"random\":true,\n",
       "  \"random2\":true,\n",
       "  \"round\":true,\n",
       "  \"sec\":true,\n",
       "  \"sech\":true,\n",
       "  \"sign\":true,\n",
       "  \"sin\":true,\n",
       "  \"sinh\":true,\n",
       "  \"sqrt\":true,\n",
       "  \"tan\":true,\n",
       "  \"tanh\":true,\n",
       "  \"to_degrees\":true,\n",
       "  \"to_radians\":true,\n",
       "  \"truncate\":true,\n",
       "    \n",
       " \n",
       "  \"xor\":true};\n",
       "\n",
       "  var punc = \":;,.(){}[]\";\n",
       "\n",
       "  function tokenBase(stream, state) {\n",
       "    var ch = stream.next();\n",
       "    if (ch == '\"') {\n",
       "      state.tokenize.push(tokenString);\n",
       "      return tokenString(stream, state);\n",
       "    }\n",
       "    if (/[\\d\\.]/.test(ch)) {\n",
       "      if (ch == \".\") {\n",
       "        stream.match(/^[0-9]+([eE][\\-+]?[0-9]+)?/);\n",
       "      } else if (ch == \"0\") {\n",
       "        stream.match(/^[xX][0-9a-fA-F]+/) || stream.match(/^0[0-7]+/);\n",
       "      } else {\n",
       "        stream.match(/^[0-9]*\\.?[0-9]*([eE][\\-+]?[0-9]+)?/);\n",
       "      }\n",
       "      return \"number\";\n",
       "    }\n",
       "    if (ch == \"/\") {\n",
       "      if (stream.eat(\"*\")) {\n",
       "        state.tokenize.push(tokenComment);\n",
       "        return tokenComment(stream, state);\n",
       "      }\n",
       "    }\n",
       "    if (ch == \"%\") {\n",
       "      stream.skipToEnd();\n",
       "      return \"comment\";\n",
       "    }\n",
       "    if (isOperatorChar.test(ch)) {\n",
       "      stream.eatWhile(isOperatorChar);\n",
       "      return \"operator\";\n",
       "    }\n",
       "    if (punc.indexOf(ch) > -1) {\n",
       "      return \"punctuation\";\n",
       "    }\n",
       "    stream.eatWhile(/[\\w\\$_\\xa1-\\uffff]/);\n",
       "    var cur = stream.current();\n",
       "    if (keywords.propertyIsEnumerable(cur)) {\n",
       "      return \"keyword\";\n",
       "    }\n",
       "    return \"variable\";\n",
       "  }\n",
       "\n",
       "  function tokenComment(stream, state) {\n",
       "    var maybeEnd = false, ch;\n",
       "    while (ch = stream.next()) {\n",
       "      if (ch == \"/\" && maybeEnd) {\n",
       "        state.tokenize.pop();\n",
       "        break;\n",
       "      }\n",
       "      maybeEnd = (ch == \"*\");\n",
       "    }\n",
       "    return \"comment\";\n",
       "  }\n",
       "\n",
       "  function tokenUntilClosingParen() {\n",
       "    var depth = 0;\n",
       "    return function(stream, state, prev) {\n",
       "      var inner = tokenBase(stream, state, prev);\n",
       "      console.log(\"untilClosing\",inner,stream.current());\n",
       "      if (inner == \"punctuation\") {\n",
       "        if (stream.current() == \"(\") {\n",
       "          ++depth;\n",
       "        } else if (stream.current() == \")\") {\n",
       "          if (depth == 0) {\n",
       "            stream.backUp(1)\n",
       "            state.tokenize.pop()\n",
       "            return state.tokenize[state.tokenize.length - 1](stream, state)\n",
       "          } else {\n",
       "            --depth;\n",
       "          }\n",
       "        }\n",
       "      }\n",
       "      return inner;\n",
       "    }\n",
       "  }\n",
       "\n",
       "  function tokenString(stream, state) {\n",
       "    var escaped = false, next, end = false;\n",
       "    while ((next = stream.next()) != null) {\n",
       "      if (next=='(' && escaped) {\n",
       "        state.tokenize.push(tokenUntilClosingParen());\n",
       "        return \"string\";\n",
       "      }\n",
       "      if (next == '\"' && !escaped) {end = true; break;}\n",
       "      escaped = !escaped && next == \"\\\\\";\n",
       "    }\n",
       "    if (end || !escaped)\n",
       "      state.tokenize.pop();\n",
       "    return \"string\";\n",
       "  }\n",
       "\n",
       "  return {\n",
       "    startState: function(basecolumn) {\n",
       "      return {\n",
       "        tokenize: []\n",
       "      };\n",
       "    },\n",
       "\n",
       "    token: function(stream, state) {\n",
       "      if (stream.eatSpace()) return null;\n",
       "      var style = (state.tokenize[state.tokenize.length - 1] || tokenBase)(stream, state);\n",
       "      console.log(\"token\",style);\n",
       "      return style;\n",
       "    },\n",
       "\n",
       "    blockCommentStart: \"/*\",\n",
       "    blockCommentEnd: \"*/\",\n",
       "    lineComment: \"%\"\n",
       "  };\n",
       "});\n",
       "\n",
       "CodeMirror.defineMIME(\"text/picat\", \"text/picat\");\n",
       "\n",
       "Jupyter.CodeCell.options_default.highlight_modes['magic_text/picat'] = {'reg':[/^%%picat/]} ;\n",
       "\n",
       "Jupyter.notebook.get_cells().map(function(cell){\n",
       "  if (cell.cell_type == 'code'){ cell.auto_highlight(); }\n",
       "}) ;"
      ],
      "text/plain": [
       "<IPython.core.display.Javascript object>"
      ]
     },
     "metadata": {},
     "output_type": "display_data"
    },
    {
     "name": "stdout",
     "output_type": "stream",
     "text": [
      "Picat version 3.7\n"
     ]
    }
   ],
   "source": [
    "%load_ext ipicat"
   ]
  },
  {
   "cell_type": "code",
   "execution_count": 8,
   "id": "bbdfa128",
   "metadata": {
    "editable": true,
    "execution": {
     "iopub.execute_input": "2024-10-09T14:32:23.388602Z",
     "iopub.status.busy": "2024-10-09T14:32:23.388174Z",
     "iopub.status.idle": "2024-10-09T14:32:23.394433Z",
     "shell.execute_reply": "2024-10-09T14:32:23.393565Z"
    },
    "slideshow": {
     "slide_type": "fragment"
    },
    "tags": []
   },
   "outputs": [],
   "source": [
    "%%picat -n queens\n",
    "import cp. % try sat, also try mip with the dual model\n",
    "queens(N, Q) =>\n",
    "    Q = new_array(N),\n",
    "    Q :: 1..N,\n",
    "    all_different(Q),\n",
    "    all_different([$Q[I] - I : I in 1..N]),\n",
    "    all_different([$Q[I] + I : I in 1..N])."
   ]
  },
  {
   "cell_type": "code",
   "execution_count": 9,
   "id": "56ecdd57",
   "metadata": {
    "editable": true,
    "execution": {
     "iopub.execute_input": "2024-10-09T14:32:23.397203Z",
     "iopub.status.busy": "2024-10-09T14:32:23.396930Z",
     "iopub.status.idle": "2024-10-09T14:32:23.551397Z",
     "shell.execute_reply": "2024-10-09T14:32:23.550773Z"
    },
    "slideshow": {
     "slide_type": "fragment"
    },
    "tags": []
   },
   "outputs": [
    {
     "name": "stdout",
     "output_type": "stream",
     "text": [
      "\n",
      "CPU time 0.128 seconds. Backtracks: 63778\n",
      "\n",
      "\n"
     ]
    }
   ],
   "source": [
    "%%picat\n",
    "main =>\n",
    "    N = 24,\n",
    "    queens(N, Q),\n",
    "    time2(solve(Q))."
   ]
  },
  {
   "cell_type": "markdown",
   "id": "4fa5e5ec",
   "metadata": {
    "editable": false,
    "slideshow": {
     "slide_type": "subslide"
    },
    "tags": []
   },
   "source": [
    "Which search strategy could work well for our model?"
   ]
  },
  {
   "cell_type": "markdown",
   "id": "f1adecbe",
   "metadata": {
    "editable": false,
    "slideshow": {
     "slide_type": "subslide"
    },
    "tags": []
   },
   "source": [
    "Here's how we can test multiple search strategies (code adapted from [the book](https://picat-lang.org/picatbook2015/constraint_solving_and_planning_with_picat.pdf)):"
   ]
  },
  {
   "cell_type": "code",
   "execution_count": 10,
   "id": "f5adf2d7",
   "metadata": {
    "editable": true,
    "execution": {
     "iopub.execute_input": "2024-10-09T14:32:23.553627Z",
     "iopub.status.busy": "2024-10-09T14:32:23.553401Z",
     "iopub.status.idle": "2024-10-09T14:37:23.385699Z",
     "shell.execute_reply": "2024-10-09T14:37:23.384489Z"
    },
    "slideshow": {
     "slide_type": "fragment"
    },
    "tags": []
   },
   "outputs": [
    {
     "name": "stdout",
     "output_type": "stream",
     "text": [
      "[80,ff,down]\n",
      "[80,ff,reverse_split]\n",
      "[80,ff,split]\n",
      "[80,ff,up]\n",
      "[80,ff,updown]\n",
      "[80,ffc,down]\n",
      "[80,ffc,reverse_split]\n",
      "[80,ffc,split]\n",
      "[80,ffc,up]\n",
      "[80,ffc,updown]\n",
      "[80,ffd,down]\n",
      "[80,ffd,reverse_split]\n",
      "[80,ffd,split]\n",
      "[80,ffd,up]\n",
      "[100,ff,down]\n",
      "[100,ff,reverse_split]\n",
      "[100,ff,split]\n",
      "[100,ff,up]\n",
      "[100,ff,updown]\n",
      "[100,ffc,down]\n",
      "[100,ffc,reverse_split]\n",
      "[100,ffc,split]\n",
      "[100,ffc,up]\n",
      "[100,ffc,updown]\n",
      "[100,ffd,down]\n",
      "[100,ffd,reverse_split]\n",
      "[100,ffd,split]\n",
      "[100,ffd,up]\n",
      "[100,ffd,updown]\n",
      "[120,ff,updown]\n",
      "[120,ffc,updown]\n",
      "[120,ffd,down]\n",
      "[120,ffd,reverse_split]\n",
      "[120,ffd,split]\n",
      "[120,ffd,up]\n",
      "[120,ffd,updown]\n",
      "\n"
     ]
    }
   ],
   "source": [
    "%%picat\n",
    "\n",
    "selection(VarSels) => VarSels = [backward,constr,degree,ff,ffc,ffd,forward,inout,leftmost,max,min,up].\n",
    "choice(ValSels) => ValSels = [down,reverse_split,split,up,updown].\n",
    "\n",
    "main =>\n",
    "    selection(VarSels),\n",
    "    choice(ValSels),\n",
    "    Timeout = 2000,\n",
    "    Ns = [80, 100, 120],\n",
    "    \n",
    "    foreach (N in Ns, VarSel in VarSels, ValSel in ValSels)\n",
    "        queens(N,Q),\n",
    "        time_out(solve([VarSel,ValSel], Q),Timeout,Status),\n",
    "        if Status = success then\n",
    "            println([N,VarSel,ValSel])\n",
    "        end\n",
    "    end."
   ]
  },
  {
   "cell_type": "markdown",
   "id": "1b0efef2",
   "metadata": {
    "editable": false,
    "slideshow": {
     "slide_type": "slide"
    },
    "tags": []
   },
   "source": [
    "## Exercises"
   ]
  },
  {
   "cell_type": "markdown",
   "id": "ebfdf5f6",
   "metadata": {
    "editable": false,
    "slideshow": {
     "slide_type": "subslide"
    },
    "tags": []
   },
   "source": [
    "### Exercise: Magic square\n",
    "Arrange numbers $1,2,\\dots,n^2$ in a square such that every row, every column, and the two main diagonals all sum to the same quantity. \n",
    "\n",
    "* Try to find the best model, solver and search strategy.\n",
    "* How many magic squares are there for a given $n$? \n",
    "* Allow also for a partially filled instance. "
   ]
  },
  {
   "cell_type": "markdown",
   "id": "b210b4d4",
   "metadata": {
    "editable": false,
    "slideshow": {
     "slide_type": "subslide"
    },
    "tags": []
   },
   "source": [
    "### Exercise: Minesweeper\n",
    "Identify the positions of all mines in a given board. Try the following instance (from [the book](http://picat-lang.org/picatbook2015/constraint_solving_and_planning_with_picat.pdf)):\n",
    "```\n",
    "Board = {\n",
    "    {_,_,2,_,3,_},\n",
    "    {2,_,_,_,_,_},\n",
    "    {_,_,2,4,_,3},\n",
    "    {1,_,3,4,_,_},\n",
    "    {_,_,_,_,_,3},\n",
    "    {_,3,_,3,_,_}\n",
    "}.\n",
    "```"
   ]
  },
  {
   "cell_type": "markdown",
   "id": "8c257de4",
   "metadata": {
    "editable": false,
    "slideshow": {
     "slide_type": "slide"
    },
    "tags": []
   },
   "source": [
    "# Knapsack\n",
    "\n",
    "There are two common versions of the problem: the general __knapsack__ problem:\n",
    "\n",
    "> Given a set of items, each with a weight and a value, determine __how many of each item__ to include in a collection so that the total weight is less than or equal to a given limit and the total value is as large as possible.\n",
    "\n",
    "And the __0-1 knapsack__ problem:\n",
    "\n",
    "\n",
    "> Given a set of items, each with a weight and a value, determine __which items__ to include in a collection so that the total weight is less than or equal to a given limit and the total value is as large as possible.\n",
    "\n",
    "(In a general knapsack problem, we can take any number of each item, in the 0-1 version we can take at most one of each.)"
   ]
  },
  {
   "cell_type": "markdown",
   "id": "b642ed55",
   "metadata": {
    "editable": false,
    "slideshow": {
     "slide_type": "subslide"
    },
    "tags": []
   },
   "source": [
    "#### Example of an instance:\n",
    "\n",
    "A thief breaks into a department store (general knapsack) or into a home (0-1 knapsack). They can carry 23kg. Which items (and how many of each, in the general version) should they take to maximize profit? There are the following items:\n",
    "\n",
    "* a TV (weighs 15kg, costs \\$500),\n",
    "* a desktop computer (weighs 11kg, costs \\$350)\n",
    "* a laptop (weighs 5kg, costs \\$230), \n",
    "* a tablet (weighs 1kg, costs \\$115),\n",
    "* an antique vase (weighs 7kg, costs \\$180), \n",
    "* a bottle of whisky (weighs 3kg, costs \\$75), and \n",
    "* a leather jacket (weighs 4kg, costs \\$125).\n",
    "\n",
    "This instance is given in the file `data.pi`."
   ]
  },
  {
   "cell_type": "code",
   "execution_count": 11,
   "id": "fdbad1d3",
   "metadata": {
    "editable": false,
    "execution": {
     "iopub.execute_input": "2024-10-09T14:37:23.388862Z",
     "iopub.status.busy": "2024-10-09T14:37:23.388604Z",
     "iopub.status.idle": "2024-10-09T14:37:23.506526Z",
     "shell.execute_reply": "2024-10-09T14:37:23.503483Z"
    },
    "scrolled": true,
    "slideshow": {
     "slide_type": "subslide"
    },
    "tags": []
   },
   "outputs": [
    {
     "name": "stdout",
     "output_type": "stream",
     "text": [
      "instance(Items, Capacity, Values, Weights) =>\r\n",
      "    Items = {\"tv\", \"desktop\", \"laptop\", \"tablet\", \"vase\", \"bottle\", \"jacket\"},\r\n",
      "    Capacity = 23,\r\n",
      "    Values = {500,350,230,115,180,75,125},\r\n",
      "    Weights = {15,11,5,1,7,3,4}."
     ]
    }
   ],
   "source": [
    "!cat knapsack/data.pi"
   ]
  },
  {
   "cell_type": "markdown",
   "id": "d8b4a5d5-f568-48e6-8e87-3e9978040dd5",
   "metadata": {
    "editable": false,
    "slideshow": {
     "slide_type": "fragment"
    },
    "tags": []
   },
   "source": [
    "What search strategies could be suitable for Knapsack?"
   ]
  }
 ],
 "metadata": {
  "celltoolbar": "Slideshow",
  "kernelspec": {
   "display_name": "Python 3 (ipykernel)",
   "language": "python",
   "name": "python3"
  },
  "language_info": {
   "codemirror_mode": {
    "name": "ipython",
    "version": 3
   },
   "file_extension": ".py",
   "mimetype": "text/x-python",
   "name": "python",
   "nbconvert_exporter": "python",
   "pygments_lexer": "ipython3",
   "version": "3.9.20"
  },
  "rise": {
   "theme": "sky"
  },
  "vscode": {
   "interpreter": {
    "hash": "916dbcbb3f70747c44a77c7bcd40155683ae19c65e1c03b4aa3499c5328201f1"
   }
  }
 },
 "nbformat": 4,
 "nbformat_minor": 5
}
