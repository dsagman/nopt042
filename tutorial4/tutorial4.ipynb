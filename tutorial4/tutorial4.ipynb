{
 "cells": [
  {
   "cell_type": "markdown",
   "id": "0d8742c9",
   "metadata": {},
   "source": [
    "# NOPT042 Constraint programming: Tutorial 3 – Search strategies"
   ]
  },
  {
   "cell_type": "markdown",
   "id": "bcb1a81e",
   "metadata": {},
   "source": [
    "Let's look at the following problem. First, we create a baseline model, then we will try to improve it using:\n",
    "\n",
    "* **gobal constraints**: e.g. `all_different`\n",
    "* **symmetry breaking**: if there is a symmetry \n"
   ]
  },
  {
   "cell_type": "markdown",
   "id": "4233fbc3",
   "metadata": {},
   "source": [
    "### Example: Map coloring"
   ]
  },
  {
   "cell_type": "markdown",
   "id": "6621fbb2",
   "metadata": {},
   "source": [
    "Create a model to color the map of Australian states and territories 7 with four colors (cf. The 4-color Theorem). (We exclude the Australian Capital Territory, the Jervis Bay Territory, and the external territories. Map coloring is a special case of [graph coloring](https://en.wikipedia.org/wiki/Graph_coloring), see [this map](map-coloring/countries.jpeg).\n",
    "\n",
    "![Map of Australia](map-coloring/australia.png)\n",
    "\n",
    "Let's use the following decision variables:\n",
    "```\n",
    "Territories = [WA, NT, SA, Q, NSW, V, T]\n",
    "```"
   ]
  },
  {
   "cell_type": "code",
   "execution_count": 1,
   "id": "be9979ef",
   "metadata": {
    "execution": {
     "iopub.execute_input": "2022-10-06T22:32:58.161141Z",
     "iopub.status.busy": "2022-10-06T22:32:58.160640Z",
     "iopub.status.idle": "2022-10-06T22:32:58.291965Z",
     "shell.execute_reply": "2022-10-06T22:32:58.290031Z"
    },
    "scrolled": false
   },
   "outputs": [
    {
     "name": "stdout",
     "output_type": "stream",
     "text": [
      "Western Australia is red.\r\n",
      "Northern Territory is green.\r\n",
      "South Australia is blue.\r\n",
      "Queensland is red.\r\n",
      "New South Wales is green.\r\n",
      "Victoria is red.\r\n",
      "Tasmania is red.\r\n"
     ]
    }
   ],
   "source": [
    "!picat map-coloring/map-coloring.pi"
   ]
  },
  {
   "cell_type": "code",
   "execution_count": 2,
   "id": "46e0c6f5",
   "metadata": {
    "execution": {
     "iopub.execute_input": "2022-10-06T22:32:58.296578Z",
     "iopub.status.busy": "2022-10-06T22:32:58.296221Z",
     "iopub.status.idle": "2022-10-06T22:32:58.412193Z",
     "shell.execute_reply": "2022-10-06T22:32:58.410848Z"
    },
    "scrolled": true
   },
   "outputs": [
    {
     "name": "stdout",
     "output_type": "stream",
     "text": [
      "import cp.\r\n",
      "\r\n",
      "color_map(Territories) =>\r\n",
      "    % variables\r\n",
      "    Territories = [WA, NT, SA, Q, NSW, V, T],\r\n",
      "    Territories :: 1..4,\r\n",
      "\r\n",
      "    % constraints\r\n",
      "    WA #!= NT,\r\n",
      "    WA #!= SA,\r\n",
      "    NT #!= SA,\r\n",
      "    NT #!= Q,\r\n",
      "    SA #!= Q,\r\n",
      "    SA #!= NSW,\r\n",
      "    SA #!= V,\r\n",
      "    Q  #!= NSW,\r\n",
      "    V  #!= NSW.\r\n",
      "\r\n",
      "% optional: symmetry breaking\r\n",
      "precolor(Territories) =>\r\n",
      "    WA #= 1,\r\n",
      "    NT #= 2,\r\n",
      "    SA #= 3.\r\n",
      "\r\n",
      "% optional: better output than `println(Territories)` (we could also use a map, i.e. a dictionary)\r\n",
      "output(Territories) =>\r\n",
      "    Color_names = [\"red\", \"green\", \"blue\", \"yellow\"],\r\n",
      "    Territory_names = [\"Western Australia\", \"Northern Territory\", \"South Australia\", \"Queensland\", \"New South Wales\", \"Victoria\", \"Tasmania\"],\r\n",
      "    foreach(I in 1..Territories.length)\r\n",
      "        writef(\"%s is %s.\\n\", Territory_names[I], Color_names[Territories[I]])\r\n",
      "    end.\r\n",
      "\r\n",
      "\r\n",
      "main =>\r\n",
      "    color_map(Territories),\r\n",
      "    precolor(Territories), % optional\r\n",
      "    solve(Territories),\r\n",
      "    \r\n",
      "    % println(Territories)    \r\n",
      "    output(Territories).\r\n"
     ]
    }
   ],
   "source": [
    "!cat map-coloring/map-coloring.pi"
   ]
  },
  {
   "cell_type": "markdown",
   "id": "26b4354b",
   "metadata": {},
   "source": [
    "What is wrong with this model? We always want to separate the model from the data. (See the exercises below.)"
   ]
  },
  {
   "cell_type": "markdown",
   "id": "1575c77d",
   "metadata": {},
   "source": []
  },
  {
   "cell_type": "markdown",
   "id": "1b0efef2",
   "metadata": {},
   "source": [
    "## Exercises"
   ]
  },
  {
   "cell_type": "markdown",
   "id": "66497e46",
   "metadata": {},
   "source": [
    "### Exercise: Graph-coloring\n",
    "1. Write a program that solves the (directed) graph 3-coloring problem with a given number of colors and a given graph. The graph is given by a list of edges, each edge is a 2-element list. We assume that vertices of the graph are $1,\\dots,n$ where $n$ is the maximum number appearing in the list. \n",
    "2. Generalize your program to graph $k$-coloring where $k$ is a positive integer given on the input.\n",
    "3. Modify your program to accept the incidence matrix (a 2D array) instead of the list of edges.\n",
    "4. Add the flag `-n` to output the minimum number of colors (the chromatic number) of a given graph.\n",
    "For example:\n",
    "```\n",
    "picat graph-coloring.pi [[1,2],[2,3],[3,4],[4,1]]\n",
    "picat graph-coloring.pi [[1,2],[2,3],[3,1]] 4\n",
    "picat graph-coloring.pi \"{{0,1,1},{1,0,1},{1,1,0}}\" 4\n",
    "picat graph-coloring.pi -n [[1,2],[2,3],[3,4],[4,1]]\n",
    "```"
   ]
  },
  {
   "cell_type": "markdown",
   "id": "44b434f6",
   "metadata": {},
   "source": [
    "### Homework: boardomino"
   ]
  },
  {
   "cell_type": "markdown",
   "id": "8c257de4",
   "metadata": {},
   "source": [
    "In the _boardomino_ puzzle, the goal is to cover an $n\\times n$ chess board with some fields missing by domino tiles, if it is possible. The input is given by a positive integer $n$ (the size of the board) and a list of pairs of missing fileds. The first line of the output should be `yes` or `no`. If a covering exists, some reasonble representation of it should be output as well.\n",
    "\n",
    "1. Write a picat program for this puzzle. Here are some sample instances (the first one is unsatisfiable):\n",
    "```\n",
    "picat boardomino.pi 4 [[1,1],[4,4]]\n",
    "picat boardomino.pi 8 [[1,1],[1,2]]\n",
    "```\n",
    "2. Try various solvers and solver settings (and you can try different models as well) and choose the best option based on the performance on the unsatisfiable instances of the form `n [1,1] [n,n]`."
   ]
  }
 ],
 "metadata": {
  "kernelspec": {
   "display_name": "Python 3 (ipykernel)",
   "language": "python",
   "name": "python3"
  },
  "language_info": {
   "codemirror_mode": {
    "name": "ipython",
    "version": 3
   },
   "file_extension": ".py",
   "mimetype": "text/x-python",
   "name": "python",
   "nbconvert_exporter": "python",
   "pygments_lexer": "ipython3",
   "version": "3.8.10"
  },
  "vscode": {
   "interpreter": {
    "hash": "916dbcbb3f70747c44a77c7bcd40155683ae19c65e1c03b4aa3499c5328201f1"
   }
  }
 },
 "nbformat": 4,
 "nbformat_minor": 5
}
