{
 "cells": [
  {
   "cell_type": "markdown",
   "id": "0d8742c9",
   "metadata": {},
   "source": [
    "# NOPT042 Constraint programming: Tutorial 6 – Scheduling"
   ]
  },
  {
   "cell_type": "code",
   "execution_count": 2,
   "id": "1a103abf",
   "metadata": {
    "execution": {
     "iopub.execute_input": "2022-11-07T11:32:48.537221Z",
     "iopub.status.busy": "2022-11-07T11:32:48.536864Z",
     "iopub.status.idle": "2022-11-07T11:32:48.577815Z",
     "shell.execute_reply": "2022-11-07T11:32:48.575557Z"
    },
    "scrolled": true
   },
   "outputs": [
    {
     "name": "stdout",
     "output_type": "stream",
     "text": [
      "The ipicat extension is already loaded. To reload it, use:\n",
      "  %reload_ext ipicat\n"
     ]
    }
   ],
   "source": [
    "%load_ext ipicat"
   ]
  },
  {
   "cell_type": "markdown",
   "id": "9f69da4c",
   "metadata": {},
   "source": [
    "### Example from the last tutorial: Swimmers\n",
    "(From: W. Winston, Operations Research: Applications & Algorithms.)\n",
    "\n",
    "In medley swimming relay, a team of four swimmers must swim 4x100m, each swimmer using a different style: breaststroke, backstroke, butterfly, or freestyle. The table below gives their average times for 100m in each style. Which swimmer should swim which stroke to minimize total time?\n",
    "\n",
    "| Swimmer | Free | Breast | Fly | Back |\n",
    "|---------|------|--------|-----|------|\n",
    "| A       | 54   | 54     | 51  | 53   |\n",
    "| B       | 51   | 57     | 52  | 52   |\n",
    "| C       | 50   | 53     | 54  | 56   |\n",
    "| D       | 56   | 54     | 55  | 53   |"
   ]
  },
  {
   "cell_type": "markdown",
   "id": "821140e4",
   "metadata": {},
   "source": [
    "Write a general model, generate larger instances, and try to make your model as efficient as possible."
   ]
  },
  {
   "cell_type": "code",
   "execution_count": 15,
   "id": "dc616bbc",
   "metadata": {
    "execution": {
     "iopub.execute_input": "2022-11-07T11:32:48.584602Z",
     "iopub.status.busy": "2022-11-07T11:32:48.583881Z",
     "iopub.status.idle": "2022-11-07T11:32:48.717111Z",
     "shell.execute_reply": "2022-11-07T11:32:48.714313Z"
    },
    "scrolled": false
   },
   "outputs": [
    {
     "name": "stdout",
     "output_type": "stream",
     "text": [
      "{A,B,C,D}\r\n",
      "{Free,Breast,Fly,Back}\r\n",
      "{{54,54,51,53},{51,57,52,52},{50,53,54,56},{56,54,55,53}}\r\n",
      "{Swimmer1,Swimmer2,Swimmer3,Swimmer4,Swimmer5}\r\n",
      "{Style1,Style2,Style3,Style4,Style5,Style6,Style7}\r\n",
      "{{46,49,54,64,53,55,55},{54,60,55,47,64,65,49},{65,52,48,60,61,61,62},{59,57,54,47,50,50,58},{46,64,50,45,48,57,62}}\r\n"
     ]
    }
   ],
   "source": [
    "!cd swimmers && picat instances.pi"
   ]
  },
  {
   "cell_type": "code",
   "execution_count": 17,
   "id": "38239251",
   "metadata": {
    "execution": {
     "iopub.execute_input": "2022-11-07T11:32:48.724328Z",
     "iopub.status.busy": "2022-11-07T11:32:48.723639Z",
     "iopub.status.idle": "2022-11-07T11:32:48.857395Z",
     "shell.execute_reply": "2022-11-07T11:32:48.855781Z"
    },
    "scrolled": false
   },
   "outputs": [
    {
     "name": "stdout",
     "output_type": "stream",
     "text": [
      "\r\n",
      "Primal model:\r\n",
      "Swimmer A is swims Fly\r\n",
      "Swimmer B is swims Back\r\n",
      "Swimmer C is swims Free\r\n",
      "Swimmer D is swims Breast\r\n",
      "\r\n",
      "Dual model:\r\n",
      "Style Free is swum  by A\r\n",
      "Style Breast is swum  by B\r\n",
      "Style Fly is swum  by D\r\n",
      "Style Back is swum  by C\r\n",
      "\r\n",
      "Channeling model:\r\n",
      "Swimmer A is swims Fly\r\n",
      "Swimmer B is swims Back\r\n",
      "Swimmer C is swims Free\r\n",
      "Swimmer D is swims Breast\r\n",
      "or in the dual view\r\n",
      "Style Free is swum  by C\r\n",
      "Style Breast is swum  by D\r\n",
      "Style Fly is swum  by A\r\n",
      "Style Back is swum  by B\r\n"
     ]
    }
   ],
   "source": [
    "!cd swimmers && picat swimmers.pi"
   ]
  },
  {
   "cell_type": "code",
   "execution_count": 18,
   "id": "2795f9eb",
   "metadata": {
    "execution": {
     "iopub.execute_input": "2022-11-07T11:32:48.861742Z",
     "iopub.status.busy": "2022-11-07T11:32:48.861316Z",
     "iopub.status.idle": "2022-11-07T11:32:48.979455Z",
     "shell.execute_reply": "2022-11-07T11:32:48.977455Z"
    }
   },
   "outputs": [
    {
     "name": "stdout",
     "output_type": "stream",
     "text": [
      "import cp.\r\n",
      "\r\n",
      "main =>\r\n",
      "    cl(sample_instance),\r\n",
      "    solve_primal,\r\n",
      "    solve_dual,\r\n",
      "    solve_channeling.\r\n",
      "\r\n",
      "solve_primal =>\r\n",
      "    sample_instance(SwimmerNames, StyleNames, Times),\r\n",
      "    primal_model(StyleOfSwimmer, Times, TotalTime),\r\n",
      "    solve([$min(TotalTime)], StyleOfSwimmer),\r\n",
      "    println(\"\\nPrimal model:\"),\r\n",
      "    foreach(I in 1..SwimmerNames.length)\r\n",
      "        printf(\"Swimmer %w is swims %w\\n\", SwimmerNames[I], StyleNames[StyleOfSwimmer[I]])\r\n",
      "    end.\r\n",
      "\r\n",
      "solve_dual =>\r\n",
      "    sample_instance(SwimmerNames, StyleNames, Times),\r\n",
      "    dual_model(SwimmerOfStyle, Times, TotalTime),\r\n",
      "    solve([$max(TotalTime)], SwimmerOfStyle),\r\n",
      "    println(\"\\nDual model:\"),\r\n",
      "    foreach(J in 1..StyleNames.length)\r\n",
      "        printf(\"Style %w is swum  by %w\\n\", StyleNames[J], SwimmerNames[SwimmerOfStyle[J]])\r\n",
      "    end.\r\n",
      "\r\n",
      "solve_channeling =>\r\n",
      "    sample_instance(SwimmerNames, StyleNames, Times),\r\n",
      "    channeling_model(StyleOfSwimmer, SwimmerOfStyle, Times, TotalTime),\r\n",
      "    solve([$min(TotalTime)], StyleOfSwimmer ++ SwimmerOfStyle),\r\n",
      "    println(\"\\nChanneling model:\"),\r\n",
      "    foreach(I in 1..SwimmerNames.length)\r\n",
      "        printf(\"Swimmer %w is swims %w\\n\", SwimmerNames[I], StyleNames[StyleOfSwimmer[I]])\r\n",
      "    end,\r\n",
      "    println(\"or in the dual view\"),\r\n",
      "    foreach(J in 1..StyleNames.length)\r\n",
      "        printf(\"Style %w is swum  by %w\\n\", StyleNames[J], SwimmerNames[SwimmerOfStyle[J]])\r\n",
      "    end.\r\n",
      "\r\n",
      "\r\n",
      "primal_model(StyleOfSwimmer, Times, TotalTime) =>\r\n",
      "    N = Times.length,\r\n",
      "    %K = Times[1].length,\r\n",
      "    K = N,\r\n",
      "    StyleOfSwimmer = new_array(N),\r\n",
      "    StyleOfSwimmer :: 1..K,\r\n",
      "    all_different(StyleOfSwimmer),\r\n",
      "\r\n",
      "    TimeOfSwimmer = new_array(N),\r\n",
      "    foreach(I in 1..N)\r\n",
      "        matrix_element(Times, I, StyleOfSwimmer[I], TimeOfSwimmer[I]) \r\n",
      "        % matrix_element(Matrix, I, J, Entry)\r\n",
      "    end,\r\n",
      "    TotalTime #= sum(TimeOfSwimmer).\r\n",
      "\r\n",
      "\r\n",
      "dual_model(SwimmerOfStyle, Times, TotalTime) =>\r\n",
      "    N = Times.length,\r\n",
      "    K = N,\r\n",
      "    SwimmerOfStyle = new_array(K),\r\n",
      "    SwimmerOfStyle :: 1..N,\r\n",
      "    all_different(SwimmerOfStyle),\r\n",
      "\r\n",
      "    TimeOfStyle = new_array(K),\r\n",
      "    foreach(J in 1..K)\r\n",
      "        matrix_element(Times, J, SwimmerOfStyle[J], TimeOfStyle[J])\r\n",
      "    end,\r\n",
      "    TotalTime #= sum(TimeOfStyle).\r\n",
      "\r\n",
      "\r\n",
      "channeling_model(StyleOfSwimmer, SwimmerOfStyle, Times, TotalTime) =>    \r\n",
      "    primal_model(StyleOfSwimmer, Times, TotalTime),\r\n",
      "    dual_model(SwimmerOfStyle, Times, TotalTime),\r\n",
      "    assignment(StyleOfSwimmer, SwimmerOfStyle).  %chanelling constraint\r\n",
      "\r\n"
     ]
    }
   ],
   "source": [
    "!cat swimmers/swimmers.pi"
   ]
  },
  {
   "cell_type": "markdown",
   "id": "43fc226b",
   "metadata": {},
   "source": [
    "## Modelling functions\n",
    "\n",
    "In general, how to model a function (mapping) $f:A\\to B$? Let's say $A=\\{1,\\dots,n\\}$ and $B=\\{1,\\dots,k\\}$.\n",
    "\n",
    "* as an array: \n",
    "```\n",
    "F = new_array(N),\n",
    "F :: 1..K.\n",
    "```\n",
    "* _injective_: `all_different(F)`\n",
    "* _dual model_: switch the role of variables and values (not a function unless $F$ injective, see above): a partition of $A$ into classes labelled by $B$, to each element of $B$ map a set of elements of $A$. In Picat we can model set as their characteristic vectors. The sum of the vectors should be all 1s. More on modelling with sets later.\n",
    "* _surjective_: No characteristic vector can be all 0s.\n",
    "* _partial function_: a dummy value for undefined inputs\n",
    "\n",
    "* _channelling_: combine the primal and dual models, if it is a bijection, then use `assignment(F, FInv)`"
   ]
  },
  {
   "cell_type": "code",
   "execution_count": 13,
   "id": "00c4fc61",
   "metadata": {
    "execution": {
     "iopub.execute_input": "2022-11-07T11:32:48.984614Z",
     "iopub.status.busy": "2022-11-07T11:32:48.984001Z",
     "iopub.status.idle": "2022-11-07T11:32:49.111953Z",
     "shell.execute_reply": "2022-11-07T11:32:49.109028Z"
    },
    "scrolled": false
   },
   "outputs": [
    {
     "name": "stdout",
     "output_type": "stream",
     "text": [
      "{1,2,3,4}\r\n",
      "{1,2,3,4}\r\n"
     ]
    }
   ],
   "source": [
    "!picat functions.pi 4 4"
   ]
  },
  {
   "cell_type": "markdown",
   "id": "f1411b50",
   "metadata": {},
   "source": [
    "# Scheduling"
   ]
  },
  {
   "cell_type": "markdown",
   "id": "b687e048",
   "metadata": {},
   "source": [
    "## Example: moving\n",
    "\n",
    "A simple scheduling problem: Four friends are moving. The table shows how\n",
    "much time and how many people are necessary to move each item. Schedule the moving to minimize total time. (Adapted from R. Barták's tutorial; check the SICStus Prolog model.)\n",
    "\n",
    "| Item  | Time (min) | People |\n",
    "|-------|------------|--------|\n",
    "| piano | 45         | 4      |\n",
    "| chair | 10         | 1      |\n",
    "| bed   | 25         | 3      |\n",
    "| table | 15         | 2      |\n",
    "| couch | 30         | 3      |\n",
    "| cat   | 15         | 1      |"
   ]
  },
  {
   "cell_type": "code",
   "execution_count": 14,
   "id": "22b8a838",
   "metadata": {
    "execution": {
     "iopub.execute_input": "2022-11-07T11:32:49.118537Z",
     "iopub.status.busy": "2022-11-07T11:32:49.118155Z",
     "iopub.status.idle": "2022-11-07T11:32:49.237776Z",
     "shell.execute_reply": "2022-11-07T11:32:49.234440Z"
    },
    "scrolled": false
   },
   "outputs": [
    {
     "name": "stdout",
     "output_type": "stream",
     "text": [
      "instance(NumPeople, Items, Duration, People) =>\r\n",
      "    NumPeople = 4,\r\n",
      "    Items = [\"piano\", \"chair\", \"bed\", \"table\", \"couch\", \"cat\"],\r\n",
      "    Duration = [45, 10, 25, 15, 30, 15],\r\n",
      "    People = [4, 1, 3, 2, 3, 1].\r\n",
      "\r\n",
      "\r\n"
     ]
    }
   ],
   "source": [
    "!cat moving/instance.pi"
   ]
  },
  {
   "cell_type": "markdown",
   "id": "fe6b086b",
   "metadata": {},
   "source": [
    "## The `cummulative` global constraint\n",
    "\n",
    "For the above problem we can use the following global constraint:\n",
    "```\n",
    "cumulative(StartTimes, Durations, Resources, Limit)\n",
    "```\n",
    "which means that we have `Limit` of resource available, each item starts at `StartTimes[i]`, takes `Durations[i]` time and consumes `Resources[i]` of the resource.\n"
   ]
  },
  {
   "cell_type": "markdown",
   "id": "8c257de4",
   "metadata": {},
   "source": [
    "# Homework: moving\n",
    "\n",
    "Generalize the moving problem from the tutorial to include:\n",
    "* trolleys: some items require a one or more trolleys to be moved; we have a certain amount of trolleys\n",
    "* precedence: some items need to be moved before other items (given as a list of pairs), `[item1,item2]` means that moving of item1 must be finished before moving of item2 starts.\n",
    "\n",
    "See the `hw-instance.pi`. Your model should accept a filename, e.g.\n",
    "```\n",
    "picat moving.pi hw-instance.pi\n",
    "```\n",
    "The autograder will only test for the presence of the optimal time (in minutes) in the output but include also some reasonable output of the schedule."
   ]
  },
  {
   "cell_type": "code",
   "execution_count": 19,
   "id": "de9e01c4",
   "metadata": {
    "execution": {
     "iopub.execute_input": "2022-11-07T11:32:49.244648Z",
     "iopub.status.busy": "2022-11-07T11:32:49.244170Z",
     "iopub.status.idle": "2022-11-07T11:32:49.363886Z",
     "shell.execute_reply": "2022-11-07T11:32:49.361278Z"
    },
    "scrolled": false
   },
   "outputs": [
    {
     "name": "stdout",
     "output_type": "stream",
     "text": [
      "% moving with trolleys and precedence (for the homework)\r\n",
      "instance(NumPeople, NumTrolleys, Items, Duration, People, Trolleys, Precedence) =>\r\n",
      "    NumPeople = 4,\r\n",
      "    NumTrolleys = 2,\r\n",
      "    Items = [\"piano\", \"chair\", \"bed\", \"table\", \"couch\", \"cat\", \"fridge\"],\r\n",
      "    Duration = [50, 10, 25, 15, 30, 15, 60],\r\n",
      "    People = [4, 1, 3, 2, 3, 1, 2],\r\n",
      "    Trolleys = [2, 0, 2, 1, 2, 0, 1],\r\n",
      "    Precedence = [[\"couch\", \"cat\"], [\"fridge\", \"cat\"], [\"bed\", \"piano\"]]. % finish moving the couch before starting moving the cat"
     ]
    }
   ],
   "source": [
    "!cat moving/hw-instance.pi"
   ]
  }
 ],
 "metadata": {
  "kernelspec": {
   "display_name": "Python 3 (ipykernel)",
   "language": "python",
   "name": "python3"
  },
  "language_info": {
   "codemirror_mode": {
    "name": "ipython",
    "version": 3
   },
   "file_extension": ".py",
   "mimetype": "text/x-python",
   "name": "python",
   "nbconvert_exporter": "python",
   "pygments_lexer": "ipython3",
   "version": "3.8.10"
  },
  "vscode": {
   "interpreter": {
    "hash": "916dbcbb3f70747c44a77c7bcd40155683ae19c65e1c03b4aa3499c5328201f1"
   }
  }
 },
 "nbformat": 4,
 "nbformat_minor": 5
}
