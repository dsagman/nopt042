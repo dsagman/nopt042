




















!picat queens/queens-primal 8


!cat queens/queens-primal.pi


!picat queens/queens-dual 8


!cat queens/queens-dual.pi





!picat queens/queens-channeling 8


!cat queens/queens-channeling.pi








%load_ext ipicat


%%picat -n queens
import cp. % try sat, also try mip with the dual model
queens(N, Q) =>
    Q = new_array(N),
    Q :: 1..N,
    all_different(Q),
    all_different([$Q[I] - I : I in 1..N]),
    all_different([$Q[I] + I : I in 1..N]).


%%picat
main =>
    N = 24,
    queens(N, Q),
    time2(solve(Q)).








%%picat

% variable selection strategies
selection(VarSels) => VarSels = [backward,constr,degree,ff,ffc,ffd,forward,inout,leftmost,max,min,up].

% value choice strategies
choice(ValChoices) => ValChoices = [down,reverse_split,split,up,updown].

main =>
    selection(VarSels),
    choice(ValChoices),    
    
    Strategies = [[VarSel, ValChoice] : VarSel in VarSels, ValChoice in ValChoices],    
    Timeout = 10000,
    Ns = [100, 110, 120, 130, 140, 150, 160, 170, 180, 190, 200],
    
    println("Successful strategies:"),
    foreach (N in Ns)        
        foreach(Strategy in Strategies)
            queens(N,Q),
            time_out(solve(Strategy, Q),Timeout,Status),
            if Status != success then
                Strategies := delete(Strategies, Strategy)
            end            
        end,
        printf("N=%d: %w\n", N, Strategies)
    end.

















!cat knapsack/data.pi



