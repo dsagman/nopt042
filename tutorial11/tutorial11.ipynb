{
 "cells": [
  {
   "cell_type": "markdown",
   "id": "4873446f",
   "metadata": {},
   "source": [
    "## Homework: Three jugs\n",
    "\n",
    "Implement the three jugs problem (exercise 3.12/8 in [the book](http://picat-lang.org/picatbook2015/constraint_solving_and_planning_with_picat.pdf)):\n",
    "\n",
    "> There are 3 water jugs. The first jug can hold 3 liters of water, the second jug can hold\n",
    "5 liters, and the third jug is an 8-liter container that is full of water. At the start, the\n",
    "first and second jugs are empty. The goal is to get exactly 4 liters of water in one of the\n",
    "containers."
   ]
  }
 ],
 "metadata": {
  "kernelspec": {
   "display_name": "Python 3 (ipykernel)",
   "language": "python",
   "name": "python3"
  },
  "language_info": {
   "codemirror_mode": {
    "name": "ipython",
    "version": 3
   },
   "file_extension": ".py",
   "mimetype": "text/x-python",
   "name": "python",
   "nbconvert_exporter": "python",
   "pygments_lexer": "ipython3",
   "version": "3.9.12"
  }
 },
 "nbformat": 4,
 "nbformat_minor": 5
}
