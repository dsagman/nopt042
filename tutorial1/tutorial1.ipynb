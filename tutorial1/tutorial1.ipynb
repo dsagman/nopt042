{
 "cells": [
  {
   "cell_type": "markdown",
   "id": "3687d7a5",
   "metadata": {},
   "source": [
    "# NOPT042 Constraint programming: Tutorial 1 - Introduction to Picat"
   ]
  },
  {
   "cell_type": "markdown",
   "id": "5a2b147a",
   "metadata": {},
   "source": [
    "## Installation\n",
    "\n",
    "You can install [Picat](http://picat-lang.org/) like this (check if there's a newer version of Picat):\n",
    "\n",
    "```bash\n",
    "cd ~\n",
    "wget http://picat-lang.org/download/picat328_linux64.tar.gz\n",
    "tar -xf picat328_linux64.tar.gz\n",
    "```\n",
    "\n",
    "Then add the executable to `$PATH` (assuming we use bash):\n",
    "\n",
    "```bash\n",
    "echo 'export PATH=\"$HOME/Picat:$PATH\"' >> ~/.bashrc\n",
    "source ~/.bashrc\n",
    "```\n",
    "\n",
    "Then the command `picat` runs the Picat interpreter.\n",
    "\n",
    "If you want to execute the notebooks, install jupyter notebook with [picat kernel](https://pypi.org/project/picat-kernel/) (if you want to install them locally, add `--user`):\n",
    "\n",
    "```bash\n",
    "pip install jupyter\n",
    "pip install metakernel\n",
    "pip install picat-kernel\n",
    "```\n",
    "\n",
    "Then run `jupyter notebook`. A picat kernel should be available (New > picat)."
   ]
  },
  {
   "cell_type": "markdown",
   "id": "5ba3c889",
   "metadata": {},
   "source": [
    "## Hello world"
   ]
  },
  {
   "cell_type": "code",
   "execution_count": 13,
   "id": "261b3fc1",
   "metadata": {
    "vscode": {
     "languageId": "picat"
    }
   },
   "outputs": [
    {
     "name": "stdout",
     "output_type": "stream",
     "text": []
    }
   ],
   "source": [
    "%bash \n",
    "println(\"Hello, World!\")."
   ]
  },
  {
   "cell_type": "code",
   "execution_count": 11,
   "id": "ae71a3b8",
   "metadata": {
    "vscode": {
     "languageId": "picat"
    }
   },
   "outputs": [
    {
     "name": "stdout",
     "output_type": "stream",
     "text": []
    }
   ],
   "source": [
    "%%lsmagic"
   ]
  },
  {
   "cell_type": "code",
   "execution_count": 15,
   "id": "8c3e2319",
   "metadata": {},
   "outputs": [
    {
     "name": "stdout",
     "output_type": "stream",
     "text": []
    }
   ],
   "source": [
    "%bash touch tmp.txt"
   ]
  },
  {
   "cell_type": "code",
   "execution_count": null,
   "id": "1e8ac3f2",
   "metadata": {},
   "outputs": [],
   "source": []
  }
 ],
 "metadata": {
  "kernelspec": {
   "display_name": "Picat",
   "language": "picat",
   "name": "picat"
  },
  "language_info": {
   "codemirror_mode": "scheme",
   "file_extension": ".pi",
   "mimetype": "text/plain",
   "name": "Picat"
  }
 },
 "nbformat": 4,
 "nbformat_minor": 5
}
