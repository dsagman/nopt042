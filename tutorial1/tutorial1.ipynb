{
 "cells": [
  {
   "cell_type": "markdown",
   "id": "3687d7a5",
   "metadata": {
    "editable": false,
    "slideshow": {
     "slide_type": "slide"
    },
    "tags": []
   },
   "source": [
    "# NOPT042 Constraint programming: Tutorial 1 – Introduction to Picat"
   ]
  },
  {
   "cell_type": "markdown",
   "id": "ba08f833",
   "metadata": {
    "editable": false,
    "slideshow": {
     "slide_type": "fragment"
    },
    "tags": []
   },
   "source": [
    "* See the [tutorial website](https://jbulin.github.io/teaching/fall/nopt042/) for program of classes, credit requirements, and a list of useful resources.\n",
    "* Check out our [GitHub repository](https://github.com/jbulin-mff-uk/nopt042) for the notebooks, code examples, and solutions to some exercises (will be updated throughout the semester).\n",
    "* Join our [ReCodEx](https://recodex.mff.cuni.cz/) group for homework assignments."
   ]
  },
  {
   "cell_type": "markdown",
   "id": "b3b94c69-dba1-414a-9137-978a11c0dea1",
   "metadata": {
    "editable": false,
    "slideshow": {
     "slide_type": "slide"
    },
    "tags": []
   },
   "source": [
    "## What was in the lecture?"
   ]
  },
  {
   "cell_type": "markdown",
   "id": "a8693a97-30a4-48e4-b7cf-14e5eff59e6d",
   "metadata": {
    "editable": false,
    "slideshow": {
     "slide_type": "fragment"
    },
    "tags": []
   },
   "source": [
    "This tutorial does not follow the contents of the lecture. This is by design:\n",
    "* In the lecture, we learn how constraint solvers work.\n",
    "* In the tutorial, we learn how to create efficient constraint models, how to think in \"declarative\", \"constraint programming\" mode.\n",
    "\n",
    "While in your future careers you are much more likely to be using an industry-grade constraint solver than to be developing one, being able to write efficient models requires sufficient understanding of the solver's inner workings."
   ]
  },
  {
   "cell_type": "markdown",
   "id": "9c22c8a7-6043-47be-9b17-fae00b769a5d",
   "metadata": {
    "editable": false,
    "slideshow": {
     "slide_type": "fragment"
    },
    "tags": []
   },
   "source": [
    "However, at the beginning of each tutorial we will briefly review what was covered in the last lecture."
   ]
  },
  {
   "cell_type": "markdown",
   "id": "2a5c2a80-0d18-4051-bbfc-1f7a0c68b39b",
   "metadata": {
    "slideshow": {
     "slide_type": ""
    },
    "tags": []
   },
   "source": [
    "### What was in Lecture 1?\n",
    "\n",
    "* course overview\n",
    "* history\n",
    "* examples (Sudoku, map coloring, N-queens, ...)\n",
    "* applications\n",
    "* how CP fits within optimization\n",
    "* the definition of the CSP, basic terminology\n",
    "* advantages and limitations\n",
    "* binarization of constraints"
   ]
  },
  {
   "cell_type": "markdown",
   "id": "c00820ef-0550-44c4-8240-704fac33e19d",
   "metadata": {
    "editable": false,
    "slideshow": {
     "slide_type": "slide"
    },
    "tags": []
   },
   "source": [
    "## In this tutorial:\n",
    "\n",
    "* getting started with the Picat programming language\n",
    "* overview of Picat in general (not specific to constraint programming)\n",
    "* a demonstration of basic constraint solving in Picat"
   ]
  },
  {
   "cell_type": "markdown",
   "id": "20244f36-5802-40ae-95b2-a811c8f33bde",
   "metadata": {
    "editable": false,
    "slideshow": {
     "slide_type": "slide"
    },
    "tags": []
   },
   "source": [
    "## About Picat"
   ]
  },
  {
   "cell_type": "markdown",
   "id": "c93c28af-12c3-42f7-b2e5-e1069673ded6",
   "metadata": {
    "editable": false,
    "slideshow": {
     "slide_type": "fragment"
    },
    "tags": []
   },
   "source": [
    "**Picat** is a logic-based multiparadigm general-purpose programming language.\n",
    "\n",
    "* **Pattern-matching**: predicates defined with pattern-matching rules\n",
    "* **Intuitive**: incorporates declarative language syntax, e.g. for scripting, mimics for-loops, ...\n",
    "* **Constraints**: designed with constraint programming in mind, provides 4 solvers, `cp, sat, smt, mip`\n",
    "* **Actors**: action rules for event-driven behaviour; constraint propagators are implemented as actors\n",
    "* **Tabling**: store subresults, dynamic programming, module `planner`"
   ]
  },
  {
   "cell_type": "markdown",
   "id": "e8adc6db-8a2d-429e-a0df-a662cbf8e991",
   "metadata": {
    "editable": false,
    "slideshow": {
     "slide_type": "fragment"
    },
    "tags": []
   },
   "source": [
    "Why Picat?"
   ]
  },
  {
   "cell_type": "markdown",
   "id": "5a2b147a",
   "metadata": {
    "editable": false,
    "slideshow": {
     "slide_type": "slide"
    },
    "tags": []
   },
   "source": [
    "## Installation"
   ]
  },
  {
   "cell_type": "markdown",
   "id": "db85396b",
   "metadata": {
    "editable": false,
    "slideshow": {
     "slide_type": "fragment"
    },
    "tags": []
   },
   "source": [
    "You can install [Picat](http://picat-lang.org/) like this (check if there's a newer version of Picat):\n",
    "```bash\n",
    "cd ~\n",
    "wget http://picat-lang.org/download/picat37_linux64.tar.gz\n",
    "tar -xf picat37_linux64.tar.gz\n",
    "```\n",
    "\n",
    "Then add the executable to `$PATH` (assuming we use bash):\n",
    "\n",
    "```bash\n",
    "echo 'export PATH=\"$HOME/Picat:$PATH\"' >> ~/.bashrc\n",
    "source ~/.bashrc\n",
    "```\n",
    "\n",
    "Then the command `picat` runs the Picat interpreter."
   ]
  },
  {
   "cell_type": "markdown",
   "id": "a59f6578",
   "metadata": {
    "editable": false,
    "slideshow": {
     "slide_type": "subslide"
    },
    "tags": []
   },
   "source": [
    "If you want to execute the notebooks, install [Jupyter Notebook](https://jupyter.org/) with [ipicat extension](https://pypi.org/project/picat-kernel/) (if you want to install them locally, add `--user`):\n",
    "\n",
    "```bash\n",
    "pip install jupyter\n",
    "pip install ipicat\n",
    "```\n",
    "\n",
    "Then run `jupyter notebook`. Once the extension is loaded you can use `%%picat` cell magic or execute picat files: `%picat -e hello-world.pi`."
   ]
  },
  {
   "cell_type": "markdown",
   "id": "2f4dc422",
   "metadata": {
    "editable": false,
    "slideshow": {
     "slide_type": "fragment"
    },
    "tags": []
   },
   "source": [
    "To view the slideshow, install the RISE extension: \n",
    "```\n",
    "pip install RISE\n",
    "```"
   ]
  },
  {
   "cell_type": "code",
   "execution_count": 2,
   "id": "bde2b3f6",
   "metadata": {},
   "outputs": [
    {
     "name": "stdout",
     "output_type": "stream",
     "text": [
      "Collecting ipicat\n",
      "  Downloading ipicat-0.2.0-py3-none-any.whl.metadata (2.1 kB)\n",
      "Collecting jupyter (from ipicat)\n",
      "  Downloading jupyter-1.1.1-py2.py3-none-any.whl.metadata (2.0 kB)\n",
      "Collecting notebook (from jupyter->ipicat)\n",
      "  Downloading notebook-7.4.3-py3-none-any.whl.metadata (10 kB)\n",
      "Collecting jupyter-console (from jupyter->ipicat)\n",
      "  Downloading jupyter_console-6.6.3-py3-none-any.whl.metadata (5.8 kB)\n",
      "Collecting nbconvert (from jupyter->ipicat)\n",
      "  Downloading nbconvert-7.16.6-py3-none-any.whl.metadata (8.5 kB)\n",
      "Requirement already satisfied: ipykernel in /home/agman/Documents/GitHub/nopt042/.venv/lib/python3.13/site-packages (from jupyter->ipicat) (6.29.5)\n",
      "Collecting ipywidgets (from jupyter->ipicat)\n",
      "  Downloading ipywidgets-8.1.7-py3-none-any.whl.metadata (2.4 kB)\n",
      "Collecting jupyterlab (from jupyter->ipicat)\n",
      "  Downloading jupyterlab-4.4.3-py3-none-any.whl.metadata (16 kB)\n",
      "Requirement already satisfied: comm>=0.1.1 in /home/agman/Documents/GitHub/nopt042/.venv/lib/python3.13/site-packages (from ipykernel->jupyter->ipicat) (0.2.2)\n",
      "Requirement already satisfied: debugpy>=1.6.5 in /home/agman/Documents/GitHub/nopt042/.venv/lib/python3.13/site-packages (from ipykernel->jupyter->ipicat) (1.8.14)\n",
      "Requirement already satisfied: ipython>=7.23.1 in /home/agman/Documents/GitHub/nopt042/.venv/lib/python3.13/site-packages (from ipykernel->jupyter->ipicat) (9.3.0)\n",
      "Requirement already satisfied: jupyter-client>=6.1.12 in /home/agman/Documents/GitHub/nopt042/.venv/lib/python3.13/site-packages (from ipykernel->jupyter->ipicat) (8.6.3)\n",
      "Requirement already satisfied: jupyter-core!=5.0.*,>=4.12 in /home/agman/Documents/GitHub/nopt042/.venv/lib/python3.13/site-packages (from ipykernel->jupyter->ipicat) (5.8.1)\n",
      "Requirement already satisfied: matplotlib-inline>=0.1 in /home/agman/Documents/GitHub/nopt042/.venv/lib/python3.13/site-packages (from ipykernel->jupyter->ipicat) (0.1.7)\n",
      "Requirement already satisfied: nest-asyncio in /home/agman/Documents/GitHub/nopt042/.venv/lib/python3.13/site-packages (from ipykernel->jupyter->ipicat) (1.6.0)\n",
      "Requirement already satisfied: packaging in /home/agman/Documents/GitHub/nopt042/.venv/lib/python3.13/site-packages (from ipykernel->jupyter->ipicat) (25.0)\n",
      "Requirement already satisfied: psutil in /home/agman/Documents/GitHub/nopt042/.venv/lib/python3.13/site-packages (from ipykernel->jupyter->ipicat) (7.0.0)\n",
      "Requirement already satisfied: pyzmq>=24 in /home/agman/Documents/GitHub/nopt042/.venv/lib/python3.13/site-packages (from ipykernel->jupyter->ipicat) (26.4.0)\n",
      "Requirement already satisfied: tornado>=6.1 in /home/agman/Documents/GitHub/nopt042/.venv/lib/python3.13/site-packages (from ipykernel->jupyter->ipicat) (6.5.1)\n",
      "Requirement already satisfied: traitlets>=5.4.0 in /home/agman/Documents/GitHub/nopt042/.venv/lib/python3.13/site-packages (from ipykernel->jupyter->ipicat) (5.14.3)\n",
      "Requirement already satisfied: decorator in /home/agman/Documents/GitHub/nopt042/.venv/lib/python3.13/site-packages (from ipython>=7.23.1->ipykernel->jupyter->ipicat) (5.2.1)\n",
      "Requirement already satisfied: ipython-pygments-lexers in /home/agman/Documents/GitHub/nopt042/.venv/lib/python3.13/site-packages (from ipython>=7.23.1->ipykernel->jupyter->ipicat) (1.1.1)\n",
      "Requirement already satisfied: jedi>=0.16 in /home/agman/Documents/GitHub/nopt042/.venv/lib/python3.13/site-packages (from ipython>=7.23.1->ipykernel->jupyter->ipicat) (0.19.2)\n",
      "Requirement already satisfied: pexpect>4.3 in /home/agman/Documents/GitHub/nopt042/.venv/lib/python3.13/site-packages (from ipython>=7.23.1->ipykernel->jupyter->ipicat) (4.9.0)\n",
      "Requirement already satisfied: prompt_toolkit<3.1.0,>=3.0.41 in /home/agman/Documents/GitHub/nopt042/.venv/lib/python3.13/site-packages (from ipython>=7.23.1->ipykernel->jupyter->ipicat) (3.0.51)\n",
      "Requirement already satisfied: pygments>=2.4.0 in /home/agman/Documents/GitHub/nopt042/.venv/lib/python3.13/site-packages (from ipython>=7.23.1->ipykernel->jupyter->ipicat) (2.19.1)\n",
      "Requirement already satisfied: stack_data in /home/agman/Documents/GitHub/nopt042/.venv/lib/python3.13/site-packages (from ipython>=7.23.1->ipykernel->jupyter->ipicat) (0.6.3)\n",
      "Requirement already satisfied: wcwidth in /home/agman/Documents/GitHub/nopt042/.venv/lib/python3.13/site-packages (from prompt_toolkit<3.1.0,>=3.0.41->ipython>=7.23.1->ipykernel->jupyter->ipicat) (0.2.13)\n",
      "Requirement already satisfied: parso<0.9.0,>=0.8.4 in /home/agman/Documents/GitHub/nopt042/.venv/lib/python3.13/site-packages (from jedi>=0.16->ipython>=7.23.1->ipykernel->jupyter->ipicat) (0.8.4)\n",
      "Requirement already satisfied: python-dateutil>=2.8.2 in /home/agman/Documents/GitHub/nopt042/.venv/lib/python3.13/site-packages (from jupyter-client>=6.1.12->ipykernel->jupyter->ipicat) (2.9.0.post0)\n",
      "Requirement already satisfied: platformdirs>=2.5 in /home/agman/Documents/GitHub/nopt042/.venv/lib/python3.13/site-packages (from jupyter-core!=5.0.*,>=4.12->ipykernel->jupyter->ipicat) (4.3.8)\n",
      "Requirement already satisfied: ptyprocess>=0.5 in /home/agman/Documents/GitHub/nopt042/.venv/lib/python3.13/site-packages (from pexpect>4.3->ipython>=7.23.1->ipykernel->jupyter->ipicat) (0.7.0)\n",
      "Requirement already satisfied: six>=1.5 in /home/agman/Documents/GitHub/nopt042/.venv/lib/python3.13/site-packages (from python-dateutil>=2.8.2->jupyter-client>=6.1.12->ipykernel->jupyter->ipicat) (1.17.0)\n",
      "Collecting widgetsnbextension~=4.0.14 (from ipywidgets->jupyter->ipicat)\n",
      "  Downloading widgetsnbextension-4.0.14-py3-none-any.whl.metadata (1.6 kB)\n",
      "Collecting jupyterlab_widgets~=3.0.15 (from ipywidgets->jupyter->ipicat)\n",
      "  Downloading jupyterlab_widgets-3.0.15-py3-none-any.whl.metadata (20 kB)\n",
      "Collecting async-lru>=1.0.0 (from jupyterlab->jupyter->ipicat)\n",
      "  Downloading async_lru-2.0.5-py3-none-any.whl.metadata (4.5 kB)\n",
      "Collecting httpx>=0.25.0 (from jupyterlab->jupyter->ipicat)\n",
      "  Downloading httpx-0.28.1-py3-none-any.whl.metadata (7.1 kB)\n",
      "Collecting jinja2>=3.0.3 (from jupyterlab->jupyter->ipicat)\n",
      "  Downloading jinja2-3.1.6-py3-none-any.whl.metadata (2.9 kB)\n",
      "Collecting jupyter-lsp>=2.0.0 (from jupyterlab->jupyter->ipicat)\n",
      "  Downloading jupyter_lsp-2.2.5-py3-none-any.whl.metadata (1.8 kB)\n",
      "Collecting jupyter-server<3,>=2.4.0 (from jupyterlab->jupyter->ipicat)\n",
      "  Downloading jupyter_server-2.16.0-py3-none-any.whl.metadata (8.5 kB)\n",
      "Collecting jupyterlab-server<3,>=2.27.1 (from jupyterlab->jupyter->ipicat)\n",
      "  Downloading jupyterlab_server-2.27.3-py3-none-any.whl.metadata (5.9 kB)\n",
      "Collecting notebook-shim>=0.2 (from jupyterlab->jupyter->ipicat)\n",
      "  Downloading notebook_shim-0.2.4-py3-none-any.whl.metadata (4.0 kB)\n",
      "Collecting setuptools>=41.1.0 (from jupyterlab->jupyter->ipicat)\n",
      "  Downloading setuptools-80.9.0-py3-none-any.whl.metadata (6.6 kB)\n",
      "Collecting anyio>=3.1.0 (from jupyter-server<3,>=2.4.0->jupyterlab->jupyter->ipicat)\n",
      "  Downloading anyio-4.9.0-py3-none-any.whl.metadata (4.7 kB)\n",
      "Collecting argon2-cffi>=21.1 (from jupyter-server<3,>=2.4.0->jupyterlab->jupyter->ipicat)\n",
      "  Downloading argon2_cffi-25.1.0-py3-none-any.whl.metadata (4.1 kB)\n",
      "Collecting jupyter-events>=0.11.0 (from jupyter-server<3,>=2.4.0->jupyterlab->jupyter->ipicat)\n",
      "  Downloading jupyter_events-0.12.0-py3-none-any.whl.metadata (5.8 kB)\n",
      "Collecting jupyter-server-terminals>=0.4.4 (from jupyter-server<3,>=2.4.0->jupyterlab->jupyter->ipicat)\n",
      "  Downloading jupyter_server_terminals-0.5.3-py3-none-any.whl.metadata (5.6 kB)\n",
      "Collecting nbformat>=5.3.0 (from jupyter-server<3,>=2.4.0->jupyterlab->jupyter->ipicat)\n",
      "  Downloading nbformat-5.10.4-py3-none-any.whl.metadata (3.6 kB)\n",
      "Collecting overrides>=5.0 (from jupyter-server<3,>=2.4.0->jupyterlab->jupyter->ipicat)\n",
      "  Downloading overrides-7.7.0-py3-none-any.whl.metadata (5.8 kB)\n",
      "Collecting prometheus-client>=0.9 (from jupyter-server<3,>=2.4.0->jupyterlab->jupyter->ipicat)\n",
      "  Downloading prometheus_client-0.22.1-py3-none-any.whl.metadata (1.9 kB)\n",
      "Collecting send2trash>=1.8.2 (from jupyter-server<3,>=2.4.0->jupyterlab->jupyter->ipicat)\n",
      "  Downloading Send2Trash-1.8.3-py3-none-any.whl.metadata (4.0 kB)\n",
      "Collecting terminado>=0.8.3 (from jupyter-server<3,>=2.4.0->jupyterlab->jupyter->ipicat)\n",
      "  Downloading terminado-0.18.1-py3-none-any.whl.metadata (5.8 kB)\n",
      "Collecting websocket-client>=1.7 (from jupyter-server<3,>=2.4.0->jupyterlab->jupyter->ipicat)\n",
      "  Downloading websocket_client-1.8.0-py3-none-any.whl.metadata (8.0 kB)\n",
      "Collecting babel>=2.10 (from jupyterlab-server<3,>=2.27.1->jupyterlab->jupyter->ipicat)\n",
      "  Downloading babel-2.17.0-py3-none-any.whl.metadata (2.0 kB)\n",
      "Collecting json5>=0.9.0 (from jupyterlab-server<3,>=2.27.1->jupyterlab->jupyter->ipicat)\n",
      "  Downloading json5-0.12.0-py3-none-any.whl.metadata (36 kB)\n",
      "Collecting jsonschema>=4.18.0 (from jupyterlab-server<3,>=2.27.1->jupyterlab->jupyter->ipicat)\n",
      "  Downloading jsonschema-4.24.0-py3-none-any.whl.metadata (7.8 kB)\n",
      "Collecting requests>=2.31 (from jupyterlab-server<3,>=2.27.1->jupyterlab->jupyter->ipicat)\n",
      "  Downloading requests-2.32.3-py3-none-any.whl.metadata (4.6 kB)\n",
      "Collecting idna>=2.8 (from anyio>=3.1.0->jupyter-server<3,>=2.4.0->jupyterlab->jupyter->ipicat)\n",
      "  Downloading idna-3.10-py3-none-any.whl.metadata (10 kB)\n",
      "Collecting sniffio>=1.1 (from anyio>=3.1.0->jupyter-server<3,>=2.4.0->jupyterlab->jupyter->ipicat)\n",
      "  Downloading sniffio-1.3.1-py3-none-any.whl.metadata (3.9 kB)\n",
      "Collecting argon2-cffi-bindings (from argon2-cffi>=21.1->jupyter-server<3,>=2.4.0->jupyterlab->jupyter->ipicat)\n",
      "  Downloading argon2_cffi_bindings-21.2.0-cp36-abi3-manylinux_2_17_x86_64.manylinux2014_x86_64.whl.metadata (6.7 kB)\n",
      "Collecting certifi (from httpx>=0.25.0->jupyterlab->jupyter->ipicat)\n",
      "  Downloading certifi-2025.4.26-py3-none-any.whl.metadata (2.5 kB)\n",
      "Collecting httpcore==1.* (from httpx>=0.25.0->jupyterlab->jupyter->ipicat)\n",
      "  Downloading httpcore-1.0.9-py3-none-any.whl.metadata (21 kB)\n",
      "Collecting h11>=0.16 (from httpcore==1.*->httpx>=0.25.0->jupyterlab->jupyter->ipicat)\n",
      "  Downloading h11-0.16.0-py3-none-any.whl.metadata (8.3 kB)\n",
      "Collecting MarkupSafe>=2.0 (from jinja2>=3.0.3->jupyterlab->jupyter->ipicat)\n",
      "  Downloading MarkupSafe-3.0.2-cp313-cp313-manylinux_2_17_x86_64.manylinux2014_x86_64.whl.metadata (4.0 kB)\n",
      "Collecting attrs>=22.2.0 (from jsonschema>=4.18.0->jupyterlab-server<3,>=2.27.1->jupyterlab->jupyter->ipicat)\n",
      "  Downloading attrs-25.3.0-py3-none-any.whl.metadata (10 kB)\n",
      "Collecting jsonschema-specifications>=2023.03.6 (from jsonschema>=4.18.0->jupyterlab-server<3,>=2.27.1->jupyterlab->jupyter->ipicat)\n",
      "  Downloading jsonschema_specifications-2025.4.1-py3-none-any.whl.metadata (2.9 kB)\n",
      "Collecting referencing>=0.28.4 (from jsonschema>=4.18.0->jupyterlab-server<3,>=2.27.1->jupyterlab->jupyter->ipicat)\n",
      "  Downloading referencing-0.36.2-py3-none-any.whl.metadata (2.8 kB)\n",
      "Collecting rpds-py>=0.7.1 (from jsonschema>=4.18.0->jupyterlab-server<3,>=2.27.1->jupyterlab->jupyter->ipicat)\n",
      "  Downloading rpds_py-0.25.1-cp313-cp313-manylinux_2_17_x86_64.manylinux2014_x86_64.whl.metadata (4.1 kB)\n",
      "Collecting python-json-logger>=2.0.4 (from jupyter-events>=0.11.0->jupyter-server<3,>=2.4.0->jupyterlab->jupyter->ipicat)\n",
      "  Downloading python_json_logger-3.3.0-py3-none-any.whl.metadata (4.0 kB)\n",
      "Collecting pyyaml>=5.3 (from jupyter-events>=0.11.0->jupyter-server<3,>=2.4.0->jupyterlab->jupyter->ipicat)\n",
      "  Downloading PyYAML-6.0.2-cp313-cp313-manylinux_2_17_x86_64.manylinux2014_x86_64.whl.metadata (2.1 kB)\n",
      "Collecting rfc3339-validator (from jupyter-events>=0.11.0->jupyter-server<3,>=2.4.0->jupyterlab->jupyter->ipicat)\n",
      "  Downloading rfc3339_validator-0.1.4-py2.py3-none-any.whl.metadata (1.5 kB)\n",
      "Collecting rfc3986-validator>=0.1.1 (from jupyter-events>=0.11.0->jupyter-server<3,>=2.4.0->jupyterlab->jupyter->ipicat)\n",
      "  Downloading rfc3986_validator-0.1.1-py2.py3-none-any.whl.metadata (1.7 kB)\n",
      "Collecting fqdn (from jsonschema[format-nongpl]>=4.18.0->jupyter-events>=0.11.0->jupyter-server<3,>=2.4.0->jupyterlab->jupyter->ipicat)\n",
      "  Downloading fqdn-1.5.1-py3-none-any.whl.metadata (1.4 kB)\n",
      "Collecting isoduration (from jsonschema[format-nongpl]>=4.18.0->jupyter-events>=0.11.0->jupyter-server<3,>=2.4.0->jupyterlab->jupyter->ipicat)\n",
      "  Downloading isoduration-20.11.0-py3-none-any.whl.metadata (5.7 kB)\n",
      "Collecting jsonpointer>1.13 (from jsonschema[format-nongpl]>=4.18.0->jupyter-events>=0.11.0->jupyter-server<3,>=2.4.0->jupyterlab->jupyter->ipicat)\n",
      "  Downloading jsonpointer-3.0.0-py2.py3-none-any.whl.metadata (2.3 kB)\n",
      "Collecting uri-template (from jsonschema[format-nongpl]>=4.18.0->jupyter-events>=0.11.0->jupyter-server<3,>=2.4.0->jupyterlab->jupyter->ipicat)\n",
      "  Downloading uri_template-1.3.0-py3-none-any.whl.metadata (8.8 kB)\n",
      "Collecting webcolors>=24.6.0 (from jsonschema[format-nongpl]>=4.18.0->jupyter-events>=0.11.0->jupyter-server<3,>=2.4.0->jupyterlab->jupyter->ipicat)\n",
      "  Downloading webcolors-24.11.1-py3-none-any.whl.metadata (2.2 kB)\n",
      "Collecting beautifulsoup4 (from nbconvert->jupyter->ipicat)\n",
      "  Downloading beautifulsoup4-4.13.4-py3-none-any.whl.metadata (3.8 kB)\n",
      "Collecting bleach!=5.0.0 (from bleach[css]!=5.0.0->nbconvert->jupyter->ipicat)\n",
      "  Downloading bleach-6.2.0-py3-none-any.whl.metadata (30 kB)\n",
      "Collecting defusedxml (from nbconvert->jupyter->ipicat)\n",
      "  Downloading defusedxml-0.7.1-py2.py3-none-any.whl.metadata (32 kB)\n",
      "Collecting jupyterlab-pygments (from nbconvert->jupyter->ipicat)\n",
      "  Downloading jupyterlab_pygments-0.3.0-py3-none-any.whl.metadata (4.4 kB)\n",
      "Collecting mistune<4,>=2.0.3 (from nbconvert->jupyter->ipicat)\n",
      "  Downloading mistune-3.1.3-py3-none-any.whl.metadata (1.8 kB)\n",
      "Collecting nbclient>=0.5.0 (from nbconvert->jupyter->ipicat)\n",
      "  Downloading nbclient-0.10.2-py3-none-any.whl.metadata (8.3 kB)\n",
      "Collecting pandocfilters>=1.4.1 (from nbconvert->jupyter->ipicat)\n",
      "  Downloading pandocfilters-1.5.1-py2.py3-none-any.whl.metadata (9.0 kB)\n",
      "Collecting webencodings (from bleach!=5.0.0->bleach[css]!=5.0.0->nbconvert->jupyter->ipicat)\n",
      "  Downloading webencodings-0.5.1-py2.py3-none-any.whl.metadata (2.1 kB)\n",
      "Collecting tinycss2<1.5,>=1.1.0 (from bleach[css]!=5.0.0->nbconvert->jupyter->ipicat)\n",
      "  Downloading tinycss2-1.4.0-py3-none-any.whl.metadata (3.0 kB)\n",
      "Collecting fastjsonschema>=2.15 (from nbformat>=5.3.0->jupyter-server<3,>=2.4.0->jupyterlab->jupyter->ipicat)\n",
      "  Downloading fastjsonschema-2.21.1-py3-none-any.whl.metadata (2.2 kB)\n",
      "Collecting charset-normalizer<4,>=2 (from requests>=2.31->jupyterlab-server<3,>=2.27.1->jupyterlab->jupyter->ipicat)\n",
      "  Downloading charset_normalizer-3.4.2-cp313-cp313-manylinux_2_17_x86_64.manylinux2014_x86_64.whl.metadata (35 kB)\n",
      "Collecting urllib3<3,>=1.21.1 (from requests>=2.31->jupyterlab-server<3,>=2.27.1->jupyterlab->jupyter->ipicat)\n",
      "  Downloading urllib3-2.4.0-py3-none-any.whl.metadata (6.5 kB)\n",
      "Collecting cffi>=1.0.1 (from argon2-cffi-bindings->argon2-cffi>=21.1->jupyter-server<3,>=2.4.0->jupyterlab->jupyter->ipicat)\n",
      "  Downloading cffi-1.17.1-cp313-cp313-manylinux_2_17_x86_64.manylinux2014_x86_64.whl.metadata (1.5 kB)\n",
      "Collecting pycparser (from cffi>=1.0.1->argon2-cffi-bindings->argon2-cffi>=21.1->jupyter-server<3,>=2.4.0->jupyterlab->jupyter->ipicat)\n",
      "  Downloading pycparser-2.22-py3-none-any.whl.metadata (943 bytes)\n",
      "Collecting soupsieve>1.2 (from beautifulsoup4->nbconvert->jupyter->ipicat)\n",
      "  Downloading soupsieve-2.7-py3-none-any.whl.metadata (4.6 kB)\n",
      "Collecting typing-extensions>=4.0.0 (from beautifulsoup4->nbconvert->jupyter->ipicat)\n",
      "  Downloading typing_extensions-4.14.0-py3-none-any.whl.metadata (3.0 kB)\n",
      "Collecting arrow>=0.15.0 (from isoduration->jsonschema[format-nongpl]>=4.18.0->jupyter-events>=0.11.0->jupyter-server<3,>=2.4.0->jupyterlab->jupyter->ipicat)\n",
      "  Downloading arrow-1.3.0-py3-none-any.whl.metadata (7.5 kB)\n",
      "Collecting types-python-dateutil>=2.8.10 (from arrow>=0.15.0->isoduration->jsonschema[format-nongpl]>=4.18.0->jupyter-events>=0.11.0->jupyter-server<3,>=2.4.0->jupyterlab->jupyter->ipicat)\n",
      "  Downloading types_python_dateutil-2.9.0.20250516-py3-none-any.whl.metadata (2.1 kB)\n",
      "Requirement already satisfied: executing>=1.2.0 in /home/agman/Documents/GitHub/nopt042/.venv/lib/python3.13/site-packages (from stack_data->ipython>=7.23.1->ipykernel->jupyter->ipicat) (2.2.0)\n",
      "Requirement already satisfied: asttokens>=2.1.0 in /home/agman/Documents/GitHub/nopt042/.venv/lib/python3.13/site-packages (from stack_data->ipython>=7.23.1->ipykernel->jupyter->ipicat) (3.0.0)\n",
      "Requirement already satisfied: pure-eval in /home/agman/Documents/GitHub/nopt042/.venv/lib/python3.13/site-packages (from stack_data->ipython>=7.23.1->ipykernel->jupyter->ipicat) (0.2.3)\n",
      "Downloading ipicat-0.2.0-py3-none-any.whl (11 kB)\n",
      "Downloading jupyter-1.1.1-py2.py3-none-any.whl (2.7 kB)\n",
      "Downloading ipywidgets-8.1.7-py3-none-any.whl (139 kB)\n",
      "Downloading jupyterlab_widgets-3.0.15-py3-none-any.whl (216 kB)\n",
      "Downloading widgetsnbextension-4.0.14-py3-none-any.whl (2.2 MB)\n",
      "\u001b[2K   \u001b[90m━━━━━━━━━━━━━━━━━━━━━━━━━━━━━━━━━━━━━━━━\u001b[0m \u001b[32m2.2/2.2 MB\u001b[0m \u001b[31m46.7 MB/s\u001b[0m eta \u001b[36m0:00:00\u001b[0m\n",
      "\u001b[?25hDownloading jupyter_console-6.6.3-py3-none-any.whl (24 kB)\n",
      "Downloading jupyterlab-4.4.3-py3-none-any.whl (12.3 MB)\n",
      "\u001b[2K   \u001b[90m━━━━━━━━━━━━━━━━━━━━━━━━━━━━━━━━━━━━━━━━\u001b[0m \u001b[32m12.3/12.3 MB\u001b[0m \u001b[31m52.1 MB/s\u001b[0m eta \u001b[36m0:00:00\u001b[0ma \u001b[36m0:00:01\u001b[0m\n",
      "\u001b[?25hDownloading jupyter_server-2.16.0-py3-none-any.whl (386 kB)\n",
      "Downloading jupyterlab_server-2.27.3-py3-none-any.whl (59 kB)\n",
      "Downloading anyio-4.9.0-py3-none-any.whl (100 kB)\n",
      "Downloading argon2_cffi-25.1.0-py3-none-any.whl (14 kB)\n",
      "Downloading async_lru-2.0.5-py3-none-any.whl (6.1 kB)\n",
      "Downloading babel-2.17.0-py3-none-any.whl (10.2 MB)\n",
      "\u001b[2K   \u001b[90m━━━━━━━━━━━━━━━━━━━━━━━━━━━━━━━━━━━━━━━━\u001b[0m \u001b[32m10.2/10.2 MB\u001b[0m \u001b[31m53.5 MB/s\u001b[0m eta \u001b[36m0:00:00\u001b[0m\n",
      "\u001b[?25hDownloading httpx-0.28.1-py3-none-any.whl (73 kB)\n",
      "Downloading httpcore-1.0.9-py3-none-any.whl (78 kB)\n",
      "Downloading h11-0.16.0-py3-none-any.whl (37 kB)\n",
      "Downloading idna-3.10-py3-none-any.whl (70 kB)\n",
      "Downloading jinja2-3.1.6-py3-none-any.whl (134 kB)\n",
      "Downloading json5-0.12.0-py3-none-any.whl (36 kB)\n",
      "Downloading jsonschema-4.24.0-py3-none-any.whl (88 kB)\n",
      "Downloading attrs-25.3.0-py3-none-any.whl (63 kB)\n",
      "Downloading jsonschema_specifications-2025.4.1-py3-none-any.whl (18 kB)\n",
      "Downloading jupyter_events-0.12.0-py3-none-any.whl (19 kB)\n",
      "Downloading jsonpointer-3.0.0-py2.py3-none-any.whl (7.6 kB)\n",
      "Downloading jupyter_lsp-2.2.5-py3-none-any.whl (69 kB)\n",
      "Downloading jupyter_server_terminals-0.5.3-py3-none-any.whl (13 kB)\n",
      "Downloading MarkupSafe-3.0.2-cp313-cp313-manylinux_2_17_x86_64.manylinux2014_x86_64.whl (23 kB)\n",
      "Downloading nbconvert-7.16.6-py3-none-any.whl (258 kB)\n",
      "Downloading mistune-3.1.3-py3-none-any.whl (53 kB)\n",
      "Downloading bleach-6.2.0-py3-none-any.whl (163 kB)\n",
      "Downloading tinycss2-1.4.0-py3-none-any.whl (26 kB)\n",
      "Downloading nbclient-0.10.2-py3-none-any.whl (25 kB)\n",
      "Downloading nbformat-5.10.4-py3-none-any.whl (78 kB)\n",
      "Downloading fastjsonschema-2.21.1-py3-none-any.whl (23 kB)\n",
      "Downloading notebook_shim-0.2.4-py3-none-any.whl (13 kB)\n",
      "Downloading overrides-7.7.0-py3-none-any.whl (17 kB)\n",
      "Downloading pandocfilters-1.5.1-py2.py3-none-any.whl (8.7 kB)\n",
      "Downloading prometheus_client-0.22.1-py3-none-any.whl (58 kB)\n",
      "Downloading python_json_logger-3.3.0-py3-none-any.whl (15 kB)\n",
      "Downloading PyYAML-6.0.2-cp313-cp313-manylinux_2_17_x86_64.manylinux2014_x86_64.whl (759 kB)\n",
      "\u001b[2K   \u001b[90m━━━━━━━━━━━━━━━━━━━━━━━━━━━━━━━━━━━━━━━━\u001b[0m \u001b[32m759.5/759.5 kB\u001b[0m \u001b[31m54.4 MB/s\u001b[0m eta \u001b[36m0:00:00\u001b[0m\n",
      "\u001b[?25hDownloading referencing-0.36.2-py3-none-any.whl (26 kB)\n",
      "Downloading requests-2.32.3-py3-none-any.whl (64 kB)\n",
      "Downloading charset_normalizer-3.4.2-cp313-cp313-manylinux_2_17_x86_64.manylinux2014_x86_64.whl (148 kB)\n",
      "Downloading urllib3-2.4.0-py3-none-any.whl (128 kB)\n",
      "Downloading certifi-2025.4.26-py3-none-any.whl (159 kB)\n",
      "Downloading rfc3986_validator-0.1.1-py2.py3-none-any.whl (4.2 kB)\n",
      "Downloading rpds_py-0.25.1-cp313-cp313-manylinux_2_17_x86_64.manylinux2014_x86_64.whl (390 kB)\n",
      "Downloading Send2Trash-1.8.3-py3-none-any.whl (18 kB)\n",
      "Downloading setuptools-80.9.0-py3-none-any.whl (1.2 MB)\n",
      "\u001b[2K   \u001b[90m━━━━━━━━━━━━━━━━━━━━━━━━━━━━━━━━━━━━━━━━\u001b[0m \u001b[32m1.2/1.2 MB\u001b[0m \u001b[31m94.6 MB/s\u001b[0m eta \u001b[36m0:00:00\u001b[0m\n",
      "\u001b[?25hDownloading sniffio-1.3.1-py3-none-any.whl (10 kB)\n",
      "Downloading terminado-0.18.1-py3-none-any.whl (14 kB)\n",
      "Downloading webcolors-24.11.1-py3-none-any.whl (14 kB)\n",
      "Downloading webencodings-0.5.1-py2.py3-none-any.whl (11 kB)\n",
      "Downloading websocket_client-1.8.0-py3-none-any.whl (58 kB)\n",
      "Downloading argon2_cffi_bindings-21.2.0-cp36-abi3-manylinux_2_17_x86_64.manylinux2014_x86_64.whl (86 kB)\n",
      "Downloading cffi-1.17.1-cp313-cp313-manylinux_2_17_x86_64.manylinux2014_x86_64.whl (479 kB)\n",
      "Downloading beautifulsoup4-4.13.4-py3-none-any.whl (187 kB)\n",
      "Downloading soupsieve-2.7-py3-none-any.whl (36 kB)\n",
      "Downloading typing_extensions-4.14.0-py3-none-any.whl (43 kB)\n",
      "Downloading defusedxml-0.7.1-py2.py3-none-any.whl (25 kB)\n",
      "Downloading fqdn-1.5.1-py3-none-any.whl (9.1 kB)\n",
      "Downloading isoduration-20.11.0-py3-none-any.whl (11 kB)\n",
      "Downloading arrow-1.3.0-py3-none-any.whl (66 kB)\n",
      "Downloading types_python_dateutil-2.9.0.20250516-py3-none-any.whl (14 kB)\n",
      "Downloading jupyterlab_pygments-0.3.0-py3-none-any.whl (15 kB)\n",
      "Downloading notebook-7.4.3-py3-none-any.whl (14.3 MB)\n",
      "\u001b[2K   \u001b[90m━━━━━━━━━━━━━━━━━━━━━━━━━━━━━━━━━━━━━━━━\u001b[0m \u001b[32m14.3/14.3 MB\u001b[0m \u001b[31m56.4 MB/s\u001b[0m eta \u001b[36m0:00:00\u001b[0ma \u001b[36m0:00:01\u001b[0m\n",
      "\u001b[?25hDownloading pycparser-2.22-py3-none-any.whl (117 kB)\n",
      "Downloading rfc3339_validator-0.1.4-py2.py3-none-any.whl (3.5 kB)\n",
      "Downloading uri_template-1.3.0-py3-none-any.whl (11 kB)\n",
      "Installing collected packages: webencodings, fastjsonschema, widgetsnbextension, websocket-client, webcolors, urllib3, uri-template, typing-extensions, types-python-dateutil, tinycss2, terminado, soupsieve, sniffio, setuptools, send2trash, rpds-py, rfc3986-validator, rfc3339-validator, pyyaml, python-json-logger, pycparser, prometheus-client, pandocfilters, overrides, mistune, MarkupSafe, jupyterlab_widgets, jupyterlab-pygments, jsonpointer, json5, idna, h11, fqdn, defusedxml, charset-normalizer, certifi, bleach, babel, attrs, async-lru, requests, referencing, jupyter-server-terminals, jinja2, httpcore, cffi, beautifulsoup4, arrow, anyio, jsonschema-specifications, isoduration, ipywidgets, httpx, argon2-cffi-bindings, jupyter-console, jsonschema, argon2-cffi, nbformat, nbclient, jupyter-events, nbconvert, jupyter-server, notebook-shim, jupyterlab-server, jupyter-lsp, jupyterlab, notebook, jupyter, ipicat\n",
      "\u001b[2K   \u001b[90m━━━━━━━━━━━━━━━━━━━━━━━━━━━━━━━━━━━━━━━━\u001b[0m \u001b[32m69/69\u001b[0m [ipicat]66/69\u001b[0m [notebook]b]ver]zer]il]\n",
      "\u001b[1A\u001b[2KSuccessfully installed MarkupSafe-3.0.2 anyio-4.9.0 argon2-cffi-25.1.0 argon2-cffi-bindings-21.2.0 arrow-1.3.0 async-lru-2.0.5 attrs-25.3.0 babel-2.17.0 beautifulsoup4-4.13.4 bleach-6.2.0 certifi-2025.4.26 cffi-1.17.1 charset-normalizer-3.4.2 defusedxml-0.7.1 fastjsonschema-2.21.1 fqdn-1.5.1 h11-0.16.0 httpcore-1.0.9 httpx-0.28.1 idna-3.10 ipicat-0.2.0 ipywidgets-8.1.7 isoduration-20.11.0 jinja2-3.1.6 json5-0.12.0 jsonpointer-3.0.0 jsonschema-4.24.0 jsonschema-specifications-2025.4.1 jupyter-1.1.1 jupyter-console-6.6.3 jupyter-events-0.12.0 jupyter-lsp-2.2.5 jupyter-server-2.16.0 jupyter-server-terminals-0.5.3 jupyterlab-4.4.3 jupyterlab-pygments-0.3.0 jupyterlab-server-2.27.3 jupyterlab_widgets-3.0.15 mistune-3.1.3 nbclient-0.10.2 nbconvert-7.16.6 nbformat-5.10.4 notebook-7.4.3 notebook-shim-0.2.4 overrides-7.7.0 pandocfilters-1.5.1 prometheus-client-0.22.1 pycparser-2.22 python-json-logger-3.3.0 pyyaml-6.0.2 referencing-0.36.2 requests-2.32.3 rfc3339-validator-0.1.4 rfc3986-validator-0.1.1 rpds-py-0.25.1 send2trash-1.8.3 setuptools-80.9.0 sniffio-1.3.1 soupsieve-2.7 terminado-0.18.1 tinycss2-1.4.0 types-python-dateutil-2.9.0.20250516 typing-extensions-4.14.0 uri-template-1.3.0 urllib3-2.4.0 webcolors-24.11.1 webencodings-0.5.1 websocket-client-1.8.0 widgetsnbextension-4.0.14\n",
      "Note: you may need to restart the kernel to use updated packages.\n"
     ]
    }
   ],
   "source": [
    "%pip install ipicat"
   ]
  },
  {
   "cell_type": "code",
   "execution_count": 4,
   "id": "16ad0d6d",
   "metadata": {
    "editable": false,
    "execution": {
     "iopub.execute_input": "2024-11-20T13:48:55.638180Z",
     "iopub.status.busy": "2024-11-20T13:48:55.637930Z",
     "iopub.status.idle": "2024-11-20T13:48:55.683302Z",
     "shell.execute_reply": "2024-11-20T13:48:55.682248Z"
    },
    "slideshow": {
     "slide_type": "subslide"
    },
    "tags": []
   },
   "outputs": [
    {
     "data": {
      "application/javascript": "\"use strict\";\n\nCodeMirror.defineMode(\"text/picat\", function(config) {\n\n  var isOperatorChar = /[+\\-*=\\@\\&|\\:#<>\\/]/;\n\n  var keywords = {\"else\":true,\n  \"end\":true,\n  \"foreach\":true,\n  \"if\":true,\n  \"in\":true,\n  \"then\":true\n  }\n\n  var specials = {\"acyclic_term\":true,\n  \"and_to_list\":true,\n  \"append\":true,\n  \"apply\":true,\n  \"arity\":true,\n  \"array\":true,\n  \"atom\":true,\n  \"atom_chars\":true,\n  \"atom_codes\":true,\n  \"atomic\":true,\n  \"attr_var\":true,\n  \"between\":true,\n  \"bind_vars\":true,\n  \"call\":true,\n  \"call_cleanup\":true,\n  \"catch\":true,\n  \"char\":true,\n  \"chr\":true,\n  \"clear\":true,\n  \"compare_terms\":true,\n  \"compound\":true,\n  \"copy_term\":true,\n  \"count_all\":true,\n  \"delete\":true,\n  \"delete_all\":true,\n  \"different_term\":true,\n  \"digit\":true,\n  \"div\":true,\n  \"dvar\":true,\n  \"dvar_or_int\":true,\n//   \"end\":true,\n  \"fail\":true,\n  \"false\":true,\n  \"find_all\":true,\n  \"findall\":true,\n  \"first\":true,\n  \"flatten\":true,\n  \"float\":true,\n  \"fold\":true,\n//   \"foreach\":true,\n  \"freeze\":true,\n  \"get\":true,\n  \"get_attr\":true,\n  \"get_global_map\":true,\n  \"get_heap_map\":true,\n  \"get_table_map\":true,\n  \"ground\":true,\n  \"handle_exception\":true,\n  \"has_key\":true,\n  \"hash_code\":true,\n  \"head\":true,\n  \"heap_is_empty\":true,\n  \"heap_pop\":true,\n  \"heap_push\":true,\n  \"heap_size\":true,\n  \"heap_to_list\":true,\n  \"heap_top\":true,\n  \"import\":true,    \n//   \"in\":true,\n  \"insert\":true,\n  \"insert_all\":true,\n  \"insert_ordered\":true,\n  \"insert_ordered_down\":true,\n  \"int\":true,\n  \"integer\":true,\n  \"is\":true,\n  \"keys\":true,\n  \"last\":true,\n  \"len\":true,\n  \"length\":true,\n  \"list\":true,\n  \"list_to_and\":true,\n  \"lowercase\":true,\n  \"map\":true,\n  \"map_to_list\":true,\n  \"max\":true,\n  \"maxint_small\":true,\n  \"maxof\":true,\n  \"maxof_inc\":true,\n  \"membchk\":true,\n  \"member\":true,\n  \"min\":true,\n  \"minint_small\":true,\n  \"minof\":true,\n  \"minof_inc\":true,\n  \"mod\":true,\n  \"name\":true,\n  \"new_array\":true,\n  \"new_list\":true,\n  \"new_map\":true,\n  \"new_max_heap\":true,\n  \"new_min_heap\":true,\n  \"new_set\":true,\n  \"new_struct\":true,\n  \"nonvar\":true,\n  \"not\":true,\n  \"notin\":true,\n  \"nth\":true,\n  \"number\":true,\n  \"number_char\":true,\n  \"number_codes\":true,\n  \"number_vars\":true,\n  \"once\":true,\n  \"ord\":true,\n  \"parse_radix_string\":true,\n  \"parse_term\":true,\n  \"post_event\":true,\n  \"post_event_any\":true,\n  \"post_event_bound\":true,\n  \"post_event_dom\":true,\n  \"post_event_ins\":true,\n  \"print\":true,\n  \"println\":true,\n  \"prod\":true,\n  \"put\":true,\n  \"put_attr\":true,\n  \"real\":true,\n  \"reduce\":true,\n  \"rem\":true,\n  \"remove_dumps\":true,\n  \"repeat\":true,\n  \"reverse\":true,\n  \"second\":true,\n  \"select\":true,\n  \"size\":true,\n  \"slice\":true,\n  \"sort\":true,\n  \"sort_down\":true,\n  \"sort_down_remove_dups\":true,\n  \"sort_remove_dups\":true,\n  \"sorted\":true,\n  \"sorted_down\":true,\n  \"string\":true,\n  \"struct\":true,\n  \"subsumes\":true,\n  \"sum\":true,\n  \"tail\":true,\n  \"throw\":true,\n  \"to_array\":true,\n  \"to_atom\":true,\n  \"to_binary_string\":true,\n  \"to_code\":true,\n  \"to_fstring\":true,\n  \"to_hex_string\":true,\n  \"to_int\":true,\n  \"to_integer\":true,\n  \"to_list\":true,\n  \"to_lowercase\":true,\n  \"to_number\":true,\n  \"to_oct_string\":true,\n  \"to_radix_string\":true,\n  \"to_real\":true,\n  \"to_string\":true,\n  \"to_uppercase\":true,\n  \"true\":true,\n  \"uppercase\":true,\n  \"values\":true,\n  \"var\":true,\n  \"variant\":true,\n  \"vars\":true,\n  \"zip\":true,\n\n  \"abs\":true,\n  \"acos\":true,\n  \"acosh\":true,\n  \"acot\":true,\n  \"acoth\":true,\n  \"acsc\":true,\n  \"acsch\":true,\n  \"asec\":true,\n  \"asech\":true,\n  \"asin\":true,\n  \"asinh\":true,\n  \"atan\":true,\n  \"atan2\":true,\n  \"atanh\":true,\n  \"ceiling\":true,\n  \"cos\":true,\n  \"cosh\":true,\n  \"cot\":true,\n  \"coth\":true,\n  \"csc\":true,\n  \"csch\":true,\n  \"e\":true,\n  \"even\":true,\n  \"exp\":true,\n  \"floor\":true,\n  \"frand\":true,\n  \"gcd\":true,\n  \"log\":true,\n  \"log10\":true,\n  \"log2\":true,\n  \"modf\":true,\n  \"odd\":true,\n  \"pi\":true,\n  \"pow\":true,\n  \"pow_mod\":true,\n  \"prime\":true,\n  \"primes\":true,\n  \"max\":true,\n  \"random\":true,\n  \"random2\":true,\n  \"round\":true,\n  \"sec\":true,\n  \"sech\":true,\n  \"sign\":true,\n  \"sin\":true,\n  \"sinh\":true,\n  \"sqrt\":true,\n  \"tan\":true,\n  \"tanh\":true,\n  \"to_degrees\":true,\n  \"to_radians\":true,\n  \"truncate\":true,\n    \n \n  \"xor\":true};\n\n  var punc = \":;,.(){}[]\";\n\n  function tokenBase(stream, state) {\n    var ch = stream.next();\n    if (ch == '\"') {\n      state.tokenize.push(tokenString);\n      return tokenString(stream, state);\n    }\n    if (/[\\d\\.]/.test(ch)) {\n      if (ch == \".\") {\n        stream.match(/^[0-9]+([eE][\\-+]?[0-9]+)?/);\n      } else if (ch == \"0\") {\n        stream.match(/^[xX][0-9a-fA-F]+/) || stream.match(/^0[0-7]+/);\n      } else {\n        stream.match(/^[0-9]*\\.?[0-9]*([eE][\\-+]?[0-9]+)?/);\n      }\n      return \"number\";\n    }\n    if (ch == \"/\") {\n      if (stream.eat(\"*\")) {\n        state.tokenize.push(tokenComment);\n        return tokenComment(stream, state);\n      }\n    }\n    if (ch == \"%\") {\n      stream.skipToEnd();\n      return \"comment\";\n    }\n    if (isOperatorChar.test(ch)) {\n      stream.eatWhile(isOperatorChar);\n      return \"operator\";\n    }\n    if (punc.indexOf(ch) > -1) {\n      return \"punctuation\";\n    }\n    stream.eatWhile(/[\\w\\$_\\xa1-\\uffff]/);\n    var cur = stream.current();\n    if (keywords.propertyIsEnumerable(cur)) {\n      return \"keyword\";\n    }\n    return \"variable\";\n  }\n\n  function tokenComment(stream, state) {\n    var maybeEnd = false, ch;\n    while (ch = stream.next()) {\n      if (ch == \"/\" && maybeEnd) {\n        state.tokenize.pop();\n        break;\n      }\n      maybeEnd = (ch == \"*\");\n    }\n    return \"comment\";\n  }\n\n  function tokenUntilClosingParen() {\n    var depth = 0;\n    return function(stream, state, prev) {\n      var inner = tokenBase(stream, state, prev);\n      console.log(\"untilClosing\",inner,stream.current());\n      if (inner == \"punctuation\") {\n        if (stream.current() == \"(\") {\n          ++depth;\n        } else if (stream.current() == \")\") {\n          if (depth == 0) {\n            stream.backUp(1)\n            state.tokenize.pop()\n            return state.tokenize[state.tokenize.length - 1](stream, state)\n          } else {\n            --depth;\n          }\n        }\n      }\n      return inner;\n    }\n  }\n\n  function tokenString(stream, state) {\n    var escaped = false, next, end = false;\n    while ((next = stream.next()) != null) {\n      if (next=='(' && escaped) {\n        state.tokenize.push(tokenUntilClosingParen());\n        return \"string\";\n      }\n      if (next == '\"' && !escaped) {end = true; break;}\n      escaped = !escaped && next == \"\\\\\";\n    }\n    if (end || !escaped)\n      state.tokenize.pop();\n    return \"string\";\n  }\n\n  return {\n    startState: function(basecolumn) {\n      return {\n        tokenize: []\n      };\n    },\n\n    token: function(stream, state) {\n      if (stream.eatSpace()) return null;\n      var style = (state.tokenize[state.tokenize.length - 1] || tokenBase)(stream, state);\n      console.log(\"token\",style);\n      return style;\n    },\n\n    blockCommentStart: \"/*\",\n    blockCommentEnd: \"*/\",\n    lineComment: \"%\"\n  };\n});\n\nCodeMirror.defineMIME(\"text/picat\", \"text/picat\");\n\nJupyter.CodeCell.options_default.highlight_modes['magic_text/picat'] = {'reg':[/^%%picat/]} ;\n\nJupyter.notebook.get_cells().map(function(cell){\n  if (cell.cell_type == 'code'){ cell.auto_highlight(); }\n}) ;",
      "text/plain": [
       "<IPython.core.display.Javascript object>"
      ]
     },
     "metadata": {},
     "output_type": "display_data"
    },
    {
     "name": "stdout",
     "output_type": "stream",
     "text": [
      "Picat version 3.8#7 (hybrid)\n"
     ]
    }
   ],
   "source": [
    "%load_ext ipicat"
   ]
  },
  {
   "cell_type": "markdown",
   "id": "5dc3b00f",
   "metadata": {
    "editable": false,
    "slideshow": {
     "slide_type": "slide"
    },
    "tags": []
   },
   "source": [
    "## Introductory examples"
   ]
  },
  {
   "cell_type": "markdown",
   "id": "5ba3c889",
   "metadata": {
    "editable": false,
    "slideshow": {
     "slide_type": "slide"
    },
    "tags": []
   },
   "source": [
    "### Hello, World!"
   ]
  },
  {
   "cell_type": "code",
   "execution_count": 5,
   "id": "dad90b5f",
   "metadata": {
    "editable": true,
    "execution": {
     "iopub.execute_input": "2024-11-20T13:48:55.686642Z",
     "iopub.status.busy": "2024-11-20T13:48:55.686325Z",
     "iopub.status.idle": "2024-11-20T13:48:55.710028Z",
     "shell.execute_reply": "2024-11-20T13:48:55.709047Z"
    },
    "slideshow": {
     "slide_type": "fragment"
    },
    "tags": []
   },
   "outputs": [
    {
     "name": "stdout",
     "output_type": "stream",
     "text": [
      "Hello, World!\n",
      "\n"
     ]
    }
   ],
   "source": [
    "%%picat\n",
    "main =>\n",
    "    println(\"Hello, World!\")."
   ]
  },
  {
   "cell_type": "markdown",
   "id": "d3e84016-de93-4bfa-9791-f839a9c4cdfc",
   "metadata": {
    "editable": false,
    "slideshow": {
     "slide_type": "fragment"
    },
    "tags": []
   },
   "source": [
    "Execute a picat file via inline magic:"
   ]
  },
  {
   "cell_type": "code",
   "execution_count": 3,
   "id": "2da0c2c7",
   "metadata": {
    "editable": true,
    "execution": {
     "iopub.execute_input": "2024-11-20T13:48:55.715799Z",
     "iopub.status.busy": "2024-11-20T13:48:55.715378Z",
     "iopub.status.idle": "2024-11-20T13:48:55.740270Z",
     "shell.execute_reply": "2024-11-20T13:48:55.739392Z"
    },
    "slideshow": {
     "slide_type": "fragment"
    },
    "tags": []
   },
   "outputs": [
    {
     "name": "stdout",
     "output_type": "stream",
     "text": [
      "Hello, World!\n",
      "\n"
     ]
    }
   ],
   "source": [
    "%picat -e hello-world.pi"
   ]
  },
  {
   "cell_type": "markdown",
   "id": "6519108a-32c1-4335-9864-7a14b50f953a",
   "metadata": {
    "editable": false,
    "slideshow": {
     "slide_type": "fragment"
    },
    "tags": []
   },
   "source": [
    "Alternatively, via a shell comand:"
   ]
  },
  {
   "cell_type": "code",
   "execution_count": 4,
   "id": "d2b3b1c8-f092-4993-9c66-18c4a0cc33a1",
   "metadata": {
    "editable": true,
    "execution": {
     "iopub.execute_input": "2024-11-20T13:48:55.742704Z",
     "iopub.status.busy": "2024-11-20T13:48:55.742450Z",
     "iopub.status.idle": "2024-11-20T13:48:55.887900Z",
     "shell.execute_reply": "2024-11-20T13:48:55.886727Z"
    },
    "slideshow": {
     "slide_type": "fragment"
    },
    "tags": []
   },
   "outputs": [
    {
     "name": "stdout",
     "output_type": "stream",
     "text": [
      "Hello, World!\r\n"
     ]
    }
   ],
   "source": [
    "!picat hello-world.pi"
   ]
  },
  {
   "cell_type": "markdown",
   "id": "b9bc0cf6-f6a1-46a2-82a0-a9d5694230f1",
   "metadata": {
    "editable": false,
    "slideshow": {
     "slide_type": "fragment"
    },
    "tags": []
   },
   "source": [
    "Note: we can omit the extension `.pi` when calling the picat interpreter."
   ]
  },
  {
   "cell_type": "markdown",
   "id": "9f7acf4a",
   "metadata": {
    "slideshow": {
     "slide_type": "slide"
    },
    "tags": []
   },
   "source": [
    "### Command-line arguments"
   ]
  },
  {
   "cell_type": "code",
   "execution_count": 5,
   "id": "1fe902f2",
   "metadata": {
    "editable": true,
    "execution": {
     "iopub.execute_input": "2024-11-20T13:48:55.890666Z",
     "iopub.status.busy": "2024-11-20T13:48:55.890399Z",
     "iopub.status.idle": "2024-11-20T13:48:56.137319Z",
     "shell.execute_reply": "2024-11-20T13:48:56.136064Z"
    },
    "slideshow": {
     "slide_type": "fragment"
    },
    "tags": []
   },
   "outputs": [
    {
     "name": "stdout",
     "output_type": "stream",
     "text": [
      "Hello, Alice! I love your solution to the homework problem.\r\n"
     ]
    },
    {
     "name": "stdout",
     "output_type": "stream",
     "text": [
      "Hello, Alice and Bob and Carol and Dave! You are my favourite students.\r\n"
     ]
    }
   ],
   "source": [
    "# This doesn't work at the moment\n",
    "# %picat -e hello-world.pi Alice\n",
    "!picat hello-world Alice\n",
    "!picat hello-world Alice Bob Carol Dave"
   ]
  },
  {
   "cell_type": "code",
   "execution_count": 6,
   "id": "c7ceed53",
   "metadata": {
    "editable": true,
    "execution": {
     "iopub.execute_input": "2024-11-20T13:48:56.140490Z",
     "iopub.status.busy": "2024-11-20T13:48:56.140127Z",
     "iopub.status.idle": "2024-11-20T13:48:56.258282Z",
     "shell.execute_reply": "2024-11-20T13:48:56.256986Z"
    },
    "scrolled": true,
    "slideshow": {
     "slide_type": "slide"
    },
    "tags": []
   },
   "outputs": [
    {
     "name": "stdout",
     "output_type": "stream",
     "text": [
      "import util.\r\n",
      "\r\n",
      "main =>\r\n",
      "    println(\"Hello, World!\").\r\n",
      "\r\n",
      "main([Name]) =>\r\n",
      "    printf(\"Hello, %s! I love your solution to the homework problem.\\n\", Name).\r\n",
      "\r\n",
      "main(ARGS) =>\r\n",
      "    Names = ARGS.join(\" and \"),\r\n",
      "    printf(\"Hello, %s! You are my favourite students.\\n\", Names)."
     ]
    }
   ],
   "source": [
    "!cat hello-world.pi"
   ]
  },
  {
   "cell_type": "markdown",
   "id": "fb7d643a",
   "metadata": {
    "editable": false,
    "slideshow": {
     "slide_type": "slide"
    },
    "tags": []
   },
   "source": [
    "### Example: Fibonacci sequence"
   ]
  },
  {
   "cell_type": "markdown",
   "id": "70551d10",
   "metadata": {
    "editable": false,
    "slideshow": {
     "slide_type": "fragment"
    },
    "tags": []
   },
   "source": [
    "In Jupyter, use `%%picat -n predicate_name` to define a predicate from a cell."
   ]
  },
  {
   "cell_type": "code",
   "execution_count": 6,
   "id": "d56e7160",
   "metadata": {
    "editable": true,
    "execution": {
     "iopub.execute_input": "2024-11-20T13:48:56.261804Z",
     "iopub.status.busy": "2024-11-20T13:48:56.261345Z",
     "iopub.status.idle": "2024-11-20T13:48:56.268541Z",
     "shell.execute_reply": "2024-11-20T13:48:56.267339Z"
    },
    "slideshow": {
     "slide_type": "fragment"
    },
    "tags": []
   },
   "outputs": [],
   "source": [
    "%%picat -n fib\n",
    "fib(N, F) => \n",
    "    if (N = 0) then \n",
    "        F = 0\n",
    "    elseif (N = 1) then\n",
    "        F = 1\n",
    "    else\n",
    "        fib(N - 1, F1),\n",
    "        fib(N - 2, F2),\n",
    "        F = F1 + F2\n",
    "    end."
   ]
  },
  {
   "cell_type": "markdown",
   "id": "5aa53ef2",
   "metadata": {
    "editable": false,
    "slideshow": {
     "slide_type": "subslide"
    },
    "tags": []
   },
   "source": [
    "Alternative syntax:"
   ]
  },
  {
   "cell_type": "code",
   "execution_count": 7,
   "id": "beb3e4bf",
   "metadata": {
    "execution": {
     "iopub.execute_input": "2024-11-20T13:48:56.271469Z",
     "iopub.status.busy": "2024-11-20T13:48:56.271178Z",
     "iopub.status.idle": "2024-11-20T13:48:56.276272Z",
     "shell.execute_reply": "2024-11-20T13:48:56.274929Z"
    },
    "scrolled": true,
    "slideshow": {
     "slide_type": "fragment"
    },
    "tags": []
   },
   "outputs": [],
   "source": [
    "%%picat -n fib\n",
    "fib(0, F) => F = 0.\n",
    "fib(1, F) => F = 1.\n",
    "fib(N, F), N > 1 => fib(N - 1, F1), fib(N - 2, F2), F = F1 + F2."
   ]
  },
  {
   "cell_type": "markdown",
   "id": "caf00ace",
   "metadata": {
    "editable": false,
    "slideshow": {
     "slide_type": "subslide"
    },
    "tags": []
   },
   "source": [
    "#### But of course, we should use **tabling**!"
   ]
  },
  {
   "cell_type": "code",
   "execution_count": 8,
   "id": "e01a8cac",
   "metadata": {
    "execution": {
     "iopub.execute_input": "2024-11-20T13:48:56.279663Z",
     "iopub.status.busy": "2024-11-20T13:48:56.279319Z",
     "iopub.status.idle": "2024-11-20T13:48:56.287189Z",
     "shell.execute_reply": "2024-11-20T13:48:56.286280Z"
    },
    "scrolled": true,
    "slideshow": {
     "slide_type": "fragment"
    },
    "tags": []
   },
   "outputs": [],
   "source": [
    "%%picat -n fib_tabled\n",
    "table\n",
    "fib_tabled(0, F) => F = 0.\n",
    "fib_tabled(1, F) => F = 1.\n",
    "fib_tabled(N, F), N > 1 => fib_tabled(N - 1, F1), fib_tabled(N - 2, F2), F = F1 + F2."
   ]
  },
  {
   "cell_type": "markdown",
   "id": "376b65ad",
   "metadata": {
    "editable": false,
    "slideshow": {
     "slide_type": "subslide"
    },
    "tags": []
   },
   "source": [
    "Compare the performance:"
   ]
  },
  {
   "cell_type": "code",
   "execution_count": 9,
   "id": "56ff9918",
   "metadata": {
    "execution": {
     "iopub.execute_input": "2024-11-20T13:48:56.289896Z",
     "iopub.status.busy": "2024-11-20T13:48:56.289610Z",
     "iopub.status.idle": "2024-11-20T13:49:26.039332Z",
     "shell.execute_reply": "2024-11-20T13:49:26.038404Z"
    },
    "scrolled": true,
    "slideshow": {
     "slide_type": "fragment"
    },
    "tags": []
   },
   "outputs": [
    {
     "name": "stdout",
     "output_type": "stream",
     "text": [
      "\n",
      "CPU time 13.72 seconds.\n",
      "\n",
      "267914296\n",
      "\n",
      "CPU time 0.0 seconds.\n",
      "\n",
      "267914296\n",
      "\n"
     ]
    }
   ],
   "source": [
    "%%picat\n",
    "main =>\n",
    "    time(fib(42, F)),\n",
    "    println(F),\n",
    "    time(fib_tabled(42, F)),\n",
    "    println(F)."
   ]
  },
  {
   "cell_type": "markdown",
   "id": "7982fa35",
   "metadata": {
    "editable": false,
    "slideshow": {
     "slide_type": "slide"
    },
    "tags": []
   },
   "source": [
    "### Example: Quicksort"
   ]
  },
  {
   "cell_type": "markdown",
   "id": "37301247-8d5b-48dc-b8c7-3ef06b56b910",
   "metadata": {
    "editable": false,
    "slideshow": {
     "slide_type": "fragment"
    },
    "tags": []
   },
   "source": [
    "Pattern-matching rules:"
   ]
  },
  {
   "cell_type": "code",
   "execution_count": 11,
   "id": "46c45cb0",
   "metadata": {
    "execution": {
     "iopub.execute_input": "2024-11-20T13:49:26.042106Z",
     "iopub.status.busy": "2024-11-20T13:49:26.041771Z",
     "iopub.status.idle": "2024-11-20T13:49:26.045980Z",
     "shell.execute_reply": "2024-11-20T13:49:26.045063Z"
    },
    "slideshow": {
     "slide_type": "fragment"
    },
    "tags": []
   },
   "outputs": [],
   "source": [
    "%%picat -n qsort\n",
    "qsort([]) = [].\n",
    "qsort([H | T]) = qsort([E : E in T, E =< H]) ++ [H] ++ qsort([E : E in T, E > H])."
   ]
  },
  {
   "cell_type": "markdown",
   "id": "83960439",
   "metadata": {
    "editable": false,
    "slideshow": {
     "slide_type": "subslide"
    },
    "tags": []
   },
   "source": [
    "Alternative version:"
   ]
  },
  {
   "cell_type": "code",
   "execution_count": 12,
   "id": "fff50d94",
   "metadata": {
    "execution": {
     "iopub.execute_input": "2024-11-20T13:49:26.048461Z",
     "iopub.status.busy": "2024-11-20T13:49:26.048224Z",
     "iopub.status.idle": "2024-11-20T13:49:26.053371Z",
     "shell.execute_reply": "2024-11-20T13:49:26.051471Z"
    },
    "slideshow": {
     "slide_type": "fragment"
    },
    "tags": []
   },
   "outputs": [],
   "source": [
    "%%picat -n qsort\n",
    "qsort(L) = Lsorted => \n",
    "    if L = [] then\n",
    "        Lsorted = []\n",
    "    else\n",
    "        L = [H | T],\n",
    "        Lsorted = qsort([E : E in T, E =< H]) ++ [H] ++  qsort([E : E in T, E > H])."
   ]
  },
  {
   "cell_type": "markdown",
   "id": "0b1143c0",
   "metadata": {
    "editable": false,
    "slideshow": {
     "slide_type": "subslide"
    },
    "tags": []
   },
   "source": [
    "Try it out:"
   ]
  },
  {
   "cell_type": "code",
   "execution_count": 13,
   "id": "fc887ff3",
   "metadata": {
    "execution": {
     "iopub.execute_input": "2024-11-20T13:49:26.056348Z",
     "iopub.status.busy": "2024-11-20T13:49:26.055924Z",
     "iopub.status.idle": "2024-11-20T13:49:26.076259Z",
     "shell.execute_reply": "2024-11-20T13:49:26.075469Z"
    },
    "slideshow": {
     "slide_type": "fragment"
    },
    "tags": []
   },
   "outputs": [
    {
     "name": "stdout",
     "output_type": "stream",
     "text": [
      "[1,2,3,4,5,6]\n",
      "\n"
     ]
    }
   ],
   "source": [
    "%%picat\n",
    "main => L = qsort([5, 2, 6, 4, 1, 3]), println(L)."
   ]
  },
  {
   "cell_type": "markdown",
   "id": "aa9ac8a3",
   "metadata": {
    "editable": false,
    "slideshow": {
     "slide_type": "subslide"
    },
    "tags": []
   },
   "source": [
    "Source-file, with string interpolation the output:"
   ]
  },
  {
   "cell_type": "code",
   "execution_count": 14,
   "id": "e71ccfea",
   "metadata": {
    "editable": true,
    "execution": {
     "iopub.execute_input": "2024-11-20T13:49:26.078607Z",
     "iopub.status.busy": "2024-11-20T13:49:26.078334Z",
     "iopub.status.idle": "2024-11-20T13:49:26.207686Z",
     "shell.execute_reply": "2024-11-20T13:49:26.205978Z"
    },
    "scrolled": true,
    "slideshow": {
     "slide_type": "fragment"
    },
    "tags": []
   },
   "outputs": [
    {
     "name": "stdout",
     "output_type": "stream",
     "text": [
      "For example, the list [5,2,6,4,1,3] after sorting is [1,2,3,4,5,6].\r\n"
     ]
    }
   ],
   "source": [
    "!picat qsort/qsort"
   ]
  },
  {
   "cell_type": "markdown",
   "id": "6e4e5372",
   "metadata": {
    "editable": false,
    "slideshow": {
     "slide_type": "fragment"
    },
    "tags": []
   },
   "source": [
    "Command-line arguments:"
   ]
  },
  {
   "cell_type": "code",
   "execution_count": 15,
   "id": "15e3101a",
   "metadata": {
    "editable": true,
    "execution": {
     "iopub.execute_input": "2024-11-20T13:49:26.211168Z",
     "iopub.status.busy": "2024-11-20T13:49:26.210854Z",
     "iopub.status.idle": "2024-11-20T13:49:26.339225Z",
     "shell.execute_reply": "2024-11-20T13:49:26.336383Z"
    },
    "scrolled": true,
    "slideshow": {
     "slide_type": "fragment"
    },
    "tags": []
   },
   "outputs": [
    {
     "name": "stdout",
     "output_type": "stream",
     "text": [
      "[1,2,3,4,5,6]\r\n"
     ]
    }
   ],
   "source": [
    "!picat qsort/qsort [5,2,6,4,1,3]"
   ]
  },
  {
   "cell_type": "markdown",
   "id": "2230f45f",
   "metadata": {
    "editable": false,
    "slideshow": {
     "slide_type": "slide"
    },
    "tags": []
   },
   "source": [
    "### Reading and writing files"
   ]
  },
  {
   "cell_type": "code",
   "execution_count": 16,
   "id": "bbf48a5d",
   "metadata": {
    "editable": true,
    "execution": {
     "iopub.execute_input": "2024-11-20T13:49:26.342440Z",
     "iopub.status.busy": "2024-11-20T13:49:26.342176Z",
     "iopub.status.idle": "2024-11-20T13:49:26.458952Z",
     "shell.execute_reply": "2024-11-20T13:49:26.457620Z"
    },
    "scrolled": true,
    "slideshow": {
     "slide_type": "fragment"
    },
    "tags": []
   },
   "outputs": [
    {
     "name": "stdout",
     "output_type": "stream",
     "text": [
      "[2, 1]\r\n",
      "[5, 2, 6, 4, 1, 3]\r\n",
      "[44, 11, 29, 53, 59, 70, 63, 68, 16, 30, 95, 9, 55, 71, 84, 81, 64, 46, 26, 89, 15, 40, 22, 97, 39]"
     ]
    }
   ],
   "source": [
    "!cat qsort/assorted.lists"
   ]
  },
  {
   "cell_type": "code",
   "execution_count": 17,
   "id": "3df97b1f",
   "metadata": {
    "editable": true,
    "execution": {
     "iopub.execute_input": "2024-11-20T13:49:26.462501Z",
     "iopub.status.busy": "2024-11-20T13:49:26.462197Z",
     "iopub.status.idle": "2024-11-20T13:49:26.699087Z",
     "shell.execute_reply": "2024-11-20T13:49:26.697909Z"
    },
    "slideshow": {
     "slide_type": "fragment"
    },
    "tags": []
   },
   "outputs": [
    {
     "name": "stdout",
     "output_type": "stream",
     "text": [
      "[1,2]\r\n",
      "[1,2,3,4,5,6]\r\n",
      "[9,11,15,16,22,26,29,30,39,40,44,46,53,55,59,63,64,68,70,71,81,84,89,95,97]\r\n"
     ]
    }
   ],
   "source": [
    "!picat qsort/qsort qsort/assorted.lists qsort/sorted.lists\n",
    "!cat qsort/sorted.lists"
   ]
  },
  {
   "cell_type": "markdown",
   "id": "5e4ebcaf",
   "metadata": {
    "editable": false,
    "slideshow": {
     "slide_type": "subslide"
    },
    "tags": []
   },
   "source": [
    "The source code:"
   ]
  },
  {
   "cell_type": "code",
   "execution_count": 18,
   "id": "79c1a9bf",
   "metadata": {
    "editable": true,
    "execution": {
     "iopub.execute_input": "2024-11-20T13:49:26.702688Z",
     "iopub.status.busy": "2024-11-20T13:49:26.702278Z",
     "iopub.status.idle": "2024-11-20T13:49:26.820258Z",
     "shell.execute_reply": "2024-11-20T13:49:26.819338Z"
    },
    "slideshow": {
     "slide_type": "fragment"
    },
    "tags": []
   },
   "outputs": [
    {
     "name": "stdout",
     "output_type": "stream",
     "text": [
      "qsort([])    = [].\r\n",
      "qsort([H|T]) = qsort([E : E in T, E =< H]) ++ [H] ++ qsort([E : E in T, E > H]).\r\n",
      "\r\n",
      "main =>\r\n",
      "    L = [5, 2, 6, 4, 1, 3],    \r\n",
      "    printf(\"For example, the list %w after sorting is %w.\\n\", L, qsort(L)).\r\n",
      "\r\n",
      "main([Lstring]) =>\r\n",
      "    L = parse_term(Lstring),\r\n",
      "    println(qsort(L)).\r\n",
      "\r\n",
      "main([InputPath, OutputPath]) =>\r\n",
      "    Lines = read_file_lines(InputPath),\r\n",
      "    OutputFile = open(OutputPath, write),\r\n",
      "    foreach(I in 1..Lines.length)\r\n",
      "        L = parse_term(Lines[I]),\r\n",
      "        writeln(OutputFile, qsort(L))\r\n",
      "    end.\r\n"
     ]
    }
   ],
   "source": [
    "!cat qsort/qsort.pi"
   ]
  },
  {
   "cell_type": "markdown",
   "id": "793c781a",
   "metadata": {
    "editable": false,
    "slideshow": {
     "slide_type": "slide"
    },
    "tags": []
   },
   "source": [
    "### TPK algorithm"
   ]
  },
  {
   "cell_type": "markdown",
   "id": "2baeac66",
   "metadata": {
    "editable": false,
    "slideshow": {
     "slide_type": "fragment"
    },
    "tags": []
   },
   "source": [
    "The TPK algorithm is an artificial problem designed by Trabb Pardo & Knuth to showcase the syntax of a given programming language (see [Wikipedia](https://en.wikipedia.org/wiki/TPK_algorithm)):\n",
    "```markdown\n",
    "ask for N numbers to be read into a sequence S\n",
    "reverse sequence S\n",
    "for each item in sequence S\n",
    "    call a function to do an operation\n",
    "    if result overflows\n",
    "        alert user\n",
    "    else\n",
    "        print result\n",
    "```\n",
    "The following Picat implementation is from [here](https://www.linuxjournal.com/content/introduction-tabled-logic-programming-picat)."
   ]
  },
  {
   "cell_type": "code",
   "execution_count": 19,
   "id": "a6ecdc2c",
   "metadata": {
    "editable": true,
    "execution": {
     "iopub.execute_input": "2024-11-20T13:49:26.825440Z",
     "iopub.status.busy": "2024-11-20T13:49:26.824944Z",
     "iopub.status.idle": "2024-11-20T13:49:26.943942Z",
     "shell.execute_reply": "2024-11-20T13:49:26.942677Z"
    },
    "scrolled": true,
    "slideshow": {
     "slide_type": "subslide"
    },
    "tags": []
   },
   "outputs": [
    {
     "name": "stdout",
     "output_type": "stream",
     "text": [
      "% from https://www.linuxjournal.com/content/introduction-tabled-logic-programming-picat\r\n",
      "\r\n",
      "f(T) = sqrt(abs(T)) + 5 * T**3.\r\n",
      "\r\n",
      "main =>\r\n",
      "    N = 4,\r\n",
      "    As = to_array([read_real() : I in 1..N]),\r\n",
      "    foreach (I in N..-1..1)\r\n",
      "        Y = f(As[I]),\r\n",
      "        if Y > 400 then\r\n",
      "            printf(\"%w TOO LARGE\\n\", I)\r\n",
      "        else\r\n",
      "            printf(\"%w %w\\n\", I, Y)\r\n",
      "        end\r\n",
      "    end.\r\n"
     ]
    }
   ],
   "source": [
    "!cat tpk/tpk.pi"
   ]
  },
  {
   "cell_type": "code",
   "execution_count": 20,
   "id": "0a5a6dd2",
   "metadata": {
    "editable": true,
    "execution": {
     "iopub.execute_input": "2024-11-20T13:49:26.947535Z",
     "iopub.status.busy": "2024-11-20T13:49:26.947187Z",
     "iopub.status.idle": "2024-11-20T13:49:27.306668Z",
     "shell.execute_reply": "2024-11-20T13:49:27.305238Z"
    },
    "slideshow": {
     "slide_type": "subslide"
    },
    "tags": []
   },
   "outputs": [
    {
     "name": "stdout",
     "output_type": "stream",
     "text": [
      "1.0e-2\r\n",
      "-2.345\r\n",
      "42.0001\r\n",
      "-0.002\r\n"
     ]
    },
    {
     "name": "stdout",
     "output_type": "stream",
     "text": [
      "\r\n"
     ]
    },
    {
     "name": "stdout",
     "output_type": "stream",
     "text": [
      "4 0.0447213\r\n",
      "3 TOO LARGE\r\n",
      "2 -62.9447\r\n",
      "1 0.100005\r\n"
     ]
    }
   ],
   "source": [
    "!cat tpk/some_reals.txt\n",
    "!printf \"\\n\"\n",
    "!picat tpk/tpk < tpk/some_reals.txt"
   ]
  },
  {
   "cell_type": "markdown",
   "id": "6ab774d5",
   "metadata": {
    "editable": false,
    "slideshow": {
     "slide_type": "slide"
    },
    "tags": []
   },
   "source": [
    "## An overview of Picat"
   ]
  },
  {
   "cell_type": "markdown",
   "id": "7e4f47e0",
   "metadata": {
    "slideshow": {
     "slide_type": "fragment"
    },
    "tags": []
   },
   "source": [
    "Examples in this section are mostly adapted from or inspired by the [Picat Book][1], [Picat Guide][2], [AAA2017 tutorial][3], and [examples][4]. For a quick overview, see pages 4–⁠18 from [Modeling\tand\tSolving\tAI\t\n",
    "Problems in\tPicat](http://ktiml.mff.cuni.cz/~bartak/AAAI2017/slides.pdf).\n",
    "\n",
    "[1]: http://picat-lang.org/picatbook2015.html\n",
    "[2]: https://web.mit.edu/picat_v1.9/picat_guide.pdf\n",
    "[3]: http://ktiml.mff.cuni.cz/~bartak/AAAI2017/\n",
    "[4]: http://picat-lang.org/exs/exs.pi\n",
    "[5]: http://picat-lang.org/resources.html"
   ]
  },
  {
   "cell_type": "markdown",
   "id": "9a20ca91",
   "metadata": {
    "slideshow": {
     "slide_type": "subslide"
    },
    "tags": []
   },
   "source": [
    "### Data types\n",
    "\n",
    "* Dynamic, runtime typing.\n",
    "* Everything is a *term* (which can be a variable, or a value: atomic or compound)\n"
   ]
  },
  {
   "cell_type": "markdown",
   "id": "01ee20f7-9c26-4dad-b51f-7663550bb110",
   "metadata": {
    "editable": false,
    "slideshow": {
     "slide_type": "subslide"
    },
    "tags": []
   },
   "source": [
    "```mermaid\n",
    "graph TD;\n",
    "    term --> var --> attr_var --> dvar \n",
    "    term --> atomic --> atom --> char\n",
    "             atomic --> number --> integer\n",
    "                        number --> real\n",
    "    term --> compound --> list --> string\n",
    "             compound --> struct --> array\n",
    "                          struct --> map --> set    "
   ]
  },
  {
   "cell_type": "markdown",
   "id": "560ca833-3bd0-4a77-a38d-a1db59f01d57",
   "metadata": {
    "editable": false,
    "slideshow": {
     "slide_type": "subslide"
    },
    "tags": []
   },
   "source": [
    "### Variables\n",
    "* Start with capital letter or underscore: `var(X)` [yes], `var(_abc)` [no], `var(abc)`[no]\n",
    "* A variable is *free* until *instantiated* (bound to a value).\n",
    "* Single-assignment variables: after instantiation, the variable has the same identity as the value: `X=1, var(X)` [no]\n",
    "* If execution backtracks over the binding point, the variable becomes free again."
   ]
  },
  {
   "cell_type": "markdown",
   "id": "782685fa-367e-4e85-a8dd-3edd32380e65",
   "metadata": {
    "editable": false,
    "slideshow": {
     "slide_type": "subslide"
    },
    "tags": []
   },
   "source": [
    "### Values\n",
    "\n",
    "Primitive values:\n",
    "* atom: symbolic constant, either quoted or starts with lower-case letter (incl. char)\n",
    "* number: integer or real\n",
    "\n",
    "Compound values:\n",
    "* list: `L = [1, 2, 3]`, list comprehension: `L = [X : X in 1..5]`\n",
    "* string: a list of chars\n",
    "* struct: `X = $employee(john_doe, accounting, 62150)`, `X = new_struct(employee, 3)`\n",
    "* array: `A = to_array(L)`, `A = {X*X : X in 1..10}`\n",
    "* map: `Bdays = new_map(), Bdays.put(john,oct3)`\n",
    "* set: a map without values, `S = new_set([1,2,3]), S.has_key(2)`"
   ]
  },
  {
   "cell_type": "markdown",
   "id": "729d5f74-1736-4132-9039-d5f3a4e89a89",
   "metadata": {
    "editable": false,
    "slideshow": {
     "slide_type": "subslide"
    },
    "tags": []
   },
   "source": [
    "### Other\n",
    "* Fairly standard operators (we will introduce them as needed)\n",
    "* Object-oriented notation\n",
    "* `,` is conjunction, `;` is disjunction\n",
    "* `foreach` and `while` loops:\n",
    "```\n",
    "foreach(E1 in D1, Cond1, ... , En in Dn, Condn)\n",
    "    Goal\n",
    "end\n",
    "\n",
    "while (Cond)\n",
    "    Goal\n",
    "end\n",
    "```\n",
    "* assignment:\n",
    "    * `Var := Exp` change to `Var'=Exp`, change occurences of `Var` to `Var'`\n",
    "    * `X[I,J] := Exp` destructively updates the component (undone upon backtracking)\n",
    "* Picat is not a procedural language!"
   ]
  },
  {
   "cell_type": "markdown",
   "id": "bfe5d02a-52d2-47b2-9ba9-3708710c9f6c",
   "metadata": {
    "editable": false,
    "slideshow": {
     "slide_type": "slide"
    },
    "tags": []
   },
   "source": [
    "### Resources for learning Picat, and constraint programming in Picat:\n",
    "\n",
    "* The [Picat Book](http://picat-lang.org/picatbook2015.html) \"Constraint Solving and Planning with Picat\" (free PDF)\n",
    "* The [Picat Guide](http://picat-lang.org/download/picat_guide.pdf): \"A User's guide to Picat\" (in particular, Chapter 12: Constraints)\n",
    "* There are several tutorials, e.g. [this one](http://picat-lang.org/download/picat_tutorial.pdf).\n",
    "* More resources are available [here](http://picat-lang.org/resources.html).\n",
    "* Lots of Picat programs, as well as other resources, are on [Hakan Kjellerstrand's Picat page](http://hakank.org/picat/)."
   ]
  },
  {
   "cell_type": "markdown",
   "id": "89fbad97",
   "metadata": {
    "editable": false,
    "slideshow": {
     "slide_type": "slide"
    },
    "tags": []
   },
   "source": [
    "## A constraint programming example"
   ]
  },
  {
   "cell_type": "markdown",
   "id": "10fc57a1",
   "metadata": {
    "editable": false,
    "slideshow": {
     "slide_type": "fragment"
    },
    "tags": []
   },
   "source": [
    "For the rest of today, we will practice writing programs in \"pure\" Picat. We will introduce constraint modelling in Picat next tutorial. But here is one example, the N-queens problem: place N queens on an NxN chess board so that no two queens attack each other."
   ]
  },
  {
   "cell_type": "code",
   "execution_count": 21,
   "id": "d3854f61",
   "metadata": {
    "editable": true,
    "execution": {
     "iopub.execute_input": "2024-11-20T13:49:27.310728Z",
     "iopub.status.busy": "2024-11-20T13:49:27.310436Z",
     "iopub.status.idle": "2024-11-20T13:49:27.436304Z",
     "shell.execute_reply": "2024-11-20T13:49:27.435447Z"
    },
    "slideshow": {
     "slide_type": "fragment"
    },
    "tags": []
   },
   "outputs": [
    {
     "name": "stdout",
     "output_type": "stream",
     "text": [
      "[2,4,1,3]"
     ]
    }
   ],
   "source": [
    "!picat queens/queens 4"
   ]
  },
  {
   "cell_type": "code",
   "execution_count": 22,
   "id": "66961506",
   "metadata": {
    "editable": true,
    "execution": {
     "iopub.execute_input": "2024-11-20T13:49:27.438973Z",
     "iopub.status.busy": "2024-11-20T13:49:27.438701Z",
     "iopub.status.idle": "2024-11-20T13:49:27.554484Z",
     "shell.execute_reply": "2024-11-20T13:49:27.553111Z"
    },
    "slideshow": {
     "slide_type": "subslide"
    },
    "tags": []
   },
   "outputs": [
    {
     "name": "stdout",
     "output_type": "stream",
     "text": [
      "% adapted from picat-lang.org\r\n",
      "import cp.\r\n",
      "\r\n",
      "queens(N, Q) =>\r\n",
      "    Q = new_list(N),\r\n",
      "    Q :: 1..N,\r\n",
      "    all_different(Q),\r\n",
      "    all_different([$Q[I] - I : I in 1..N]),\r\n",
      "    all_different([$Q[I] + I : I in 1..N]),\r\n",
      "    solve([ff], Q).\r\n",
      "\r\n",
      "main =>\r\n",
      "    queens(8, Q),\r\n",
      "    print(Q).\r\n",
      "\r\n",
      "main([N]) =>\r\n",
      "    queens(N.to_int, Q),\r\n",
      "    print(Q)."
     ]
    }
   ],
   "source": [
    "!cat queens/queens.pi"
   ]
  },
  {
   "cell_type": "markdown",
   "id": "1bc7a360",
   "metadata": {
    "editable": false,
    "slideshow": {
     "slide_type": "slide"
    },
    "tags": []
   },
   "source": [
    "## Exercises"
   ]
  },
  {
   "cell_type": "markdown",
   "id": "e791aefb",
   "metadata": {
    "editable": false,
    "slideshow": {
     "slide_type": "subslide"
    },
    "tags": []
   },
   "source": [
    "### Exercise: count occurences\n",
    "Write a program that counts the number of occurences of an integer in a list of integers, e.g.:\n",
    "```\n",
    "picat count-occurences.pi [1,2,4,2,3,2] 2\n",
    "picat count-occurences.pi [1,2,2,1] 3\n",
    "```\n",
    "outputs `3` and `0`, respectively."
   ]
  },
  {
   "cell_type": "markdown",
   "id": "93a1cc65",
   "metadata": {
    "editable": false,
    "slideshow": {
     "slide_type": "subslide"
    },
    "tags": []
   },
   "source": [
    "### Exercise: transpose\n",
    "Write a program that transposes a given matrix (a 2D array), e.g.:\n",
    "```\n",
    "picat transpose \"{{1,2,3},{4,5,6}}\"\n",
    "```\n",
    "outputs `{{1,4},{2,5},{3,6}}`. (Note that we need to put the input in quotation marks.) Inside your code define a function `transpose(Matrix) = Transposed_Matrix`."
   ]
  },
  {
   "cell_type": "markdown",
   "id": "ac944f45",
   "metadata": {
    "editable": false,
    "slideshow": {
     "slide_type": "subslide"
    },
    "tags": []
   },
   "source": [
    "### Exercise: depth of binary trees\n",
    "Write a function that receives a binary tree encoded using the structure `$node(Value,LeftChild,RightChild)` and outputs the depth of the tree. For example:\n",
    "```\n",
    "picat depth \"node(42,nil,nil)\"\n",
    "picat depth \"node(1,node(2,nil,nil),node(3,nil,nil))\"\n",
    "picat depth \"node(1,node(2,node(3,node(4,nil,nil),node(5,nil,nil)),nil),node(6,node(7,nil,nil),node(8,nil,nil)))\"\n",
    "```\n",
    "should output:\n",
    "```\n",
    "0\n",
    "1\n",
    "3\n",
    "```"
   ]
  }
 ],
 "metadata": {
  "celltoolbar": "Slideshow",
  "kernelspec": {
   "display_name": ".venv",
   "language": "python",
   "name": "python3"
  },
  "language_info": {
   "codemirror_mode": {
    "name": "ipython",
    "version": 3
   },
   "file_extension": ".py",
   "mimetype": "text/x-python",
   "name": "python",
   "nbconvert_exporter": "python",
   "pygments_lexer": "ipython3",
   "version": "3.13.3"
  },
  "rise": {
   "theme": "sky"
  }
 },
 "nbformat": 4,
 "nbformat_minor": 5
}
