{
 "cells": [
  {
   "cell_type": "markdown",
   "id": "3687d7a5",
   "metadata": {
    "slideshow": {
     "slide_type": "slide"
    }
   },
   "source": [
    "# NOPT042 Constraint programming: Tutorial 1 – Introduction to Picat"
   ]
  },
  {
   "cell_type": "markdown",
   "id": "ba08f833",
   "metadata": {
    "slideshow": {
     "slide_type": "slide"
    }
   },
   "source": [
    "See the [tutorial website](https://jbulin.github.io/teaching/fall/nopt042/) for program of classes, homework assignments, credit requirements, and a list of useful resources."
   ]
  },
  {
   "cell_type": "markdown",
   "id": "d5959959",
   "metadata": {
    "slideshow": {
     "slide_type": "slide"
    }
   },
   "source": [
    "**Picat** is a logic-based multiparadigm general-purpose programming language.\n",
    "\n",
    "* **Pattern-matching**: predicates defined with pattern-matching rules\n",
    "* **Intuitive**: incorporates declarative language syntax, e.g. for scripting, mimics for-loops, ...\n",
    "* **Constraints**: designed with constraint programming in mind, provides 4 solvers, `cp, sat, smt, mip`\n",
    "* **Actors**: action rules for event-driven behaviour; constraint propagators are implemented as actors\n",
    "* **Tabling**: store subresults, dynamic programming, module `planner`"
   ]
  },
  {
   "cell_type": "markdown",
   "id": "5a2b147a",
   "metadata": {
    "slideshow": {
     "slide_type": "slide"
    }
   },
   "source": [
    "## Installation"
   ]
  },
  {
   "cell_type": "markdown",
   "id": "db85396b",
   "metadata": {
    "slideshow": {
     "slide_type": "fragment"
    }
   },
   "source": [
    "You can install [Picat](http://picat-lang.org/) like this (check if there's a newer version of Picat):\n",
    "\n",
    "```bash\n",
    "cd ~\n",
    "wget http://picat-lang.org/download/picat355_linux64.tar.gz\n",
    "tar -xf picat355_linux64.tar.gz\n",
    "```\n",
    "\n",
    "Then add the executable to `$PATH` (assuming we use bash):\n",
    "\n",
    "```bash\n",
    "echo 'export PATH=\"$HOME/Picat:$PATH\"' >> ~/.bashrc\n",
    "source ~/.bashrc\n",
    "```\n",
    "\n",
    "Then the command `picat` runs the Picat interpreter."
   ]
  },
  {
   "cell_type": "markdown",
   "id": "a59f6578",
   "metadata": {
    "slideshow": {
     "slide_type": "slide"
    }
   },
   "source": [
    "If you want to execute the notebooks, install [Jupyter Notebook](https://jupyter.org/) with [ipicat extension](https://pypi.org/project/picat-kernel/) (if you want to install them locally, add `--user`):\n",
    "\n",
    "```bash\n",
    "pip install jupyter\n",
    "pip install ipicat\n",
    "```\n",
    "\n",
    "Then run `jupyter notebook`. Once the extension is loaded you can use `%%picat` cell magic or execute picat files: `%picat -e hello-world.pi`."
   ]
  },
  {
   "cell_type": "code",
   "execution_count": 1,
   "id": "16ad0d6d",
   "metadata": {
    "execution": {
     "iopub.execute_input": "2023-10-03T09:37:41.631951Z",
     "iopub.status.busy": "2023-10-03T09:37:41.631732Z",
     "iopub.status.idle": "2023-10-03T09:37:41.648812Z",
     "shell.execute_reply": "2023-10-03T09:37:41.648318Z"
    },
    "slideshow": {
     "slide_type": "fragment"
    }
   },
   "outputs": [
    {
     "data": {
      "application/javascript": [
       "\"use strict\";\n",
       "\n",
       "CodeMirror.defineMode(\"text/picat\", function(config) {\n",
       "\n",
       "  var isOperatorChar = /[+\\-*=\\@\\&|\\:#<>\\/]/;\n",
       "\n",
       "  var keywords = {\"else\":true,\n",
       "  \"end\":true,\n",
       "  \"foreach\":true,\n",
       "  \"if\":true,\n",
       "  \"in\":true,\n",
       "  \"then\":true\n",
       "  }\n",
       "\n",
       "  var specials = {\"acyclic_term\":true,\n",
       "  \"and_to_list\":true,\n",
       "  \"append\":true,\n",
       "  \"apply\":true,\n",
       "  \"arity\":true,\n",
       "  \"array\":true,\n",
       "  \"atom\":true,\n",
       "  \"atom_chars\":true,\n",
       "  \"atom_codes\":true,\n",
       "  \"atomic\":true,\n",
       "  \"attr_var\":true,\n",
       "  \"between\":true,\n",
       "  \"bind_vars\":true,\n",
       "  \"call\":true,\n",
       "  \"call_cleanup\":true,\n",
       "  \"catch\":true,\n",
       "  \"char\":true,\n",
       "  \"chr\":true,\n",
       "  \"clear\":true,\n",
       "  \"compare_terms\":true,\n",
       "  \"compound\":true,\n",
       "  \"copy_term\":true,\n",
       "  \"count_all\":true,\n",
       "  \"delete\":true,\n",
       "  \"delete_all\":true,\n",
       "  \"different_term\":true,\n",
       "  \"digit\":true,\n",
       "  \"div\":true,\n",
       "  \"dvar\":true,\n",
       "  \"dvar_or_int\":true,\n",
       "//   \"end\":true,\n",
       "  \"fail\":true,\n",
       "  \"false\":true,\n",
       "  \"find_all\":true,\n",
       "  \"findall\":true,\n",
       "  \"first\":true,\n",
       "  \"flatten\":true,\n",
       "  \"float\":true,\n",
       "  \"fold\":true,\n",
       "//   \"foreach\":true,\n",
       "  \"freeze\":true,\n",
       "  \"get\":true,\n",
       "  \"get_attr\":true,\n",
       "  \"get_global_map\":true,\n",
       "  \"get_heap_map\":true,\n",
       "  \"get_table_map\":true,\n",
       "  \"ground\":true,\n",
       "  \"handle_exception\":true,\n",
       "  \"has_key\":true,\n",
       "  \"hash_code\":true,\n",
       "  \"head\":true,\n",
       "  \"heap_is_empty\":true,\n",
       "  \"heap_pop\":true,\n",
       "  \"heap_push\":true,\n",
       "  \"heap_size\":true,\n",
       "  \"heap_to_list\":true,\n",
       "  \"heap_top\":true,\n",
       "  \"import\":true,    \n",
       "//   \"in\":true,\n",
       "  \"insert\":true,\n",
       "  \"insert_all\":true,\n",
       "  \"insert_ordered\":true,\n",
       "  \"insert_ordered_down\":true,\n",
       "  \"int\":true,\n",
       "  \"integer\":true,\n",
       "  \"is\":true,\n",
       "  \"keys\":true,\n",
       "  \"last\":true,\n",
       "  \"len\":true,\n",
       "  \"length\":true,\n",
       "  \"list\":true,\n",
       "  \"list_to_and\":true,\n",
       "  \"lowercase\":true,\n",
       "  \"map\":true,\n",
       "  \"map_to_list\":true,\n",
       "  \"max\":true,\n",
       "  \"maxint_small\":true,\n",
       "  \"maxof\":true,\n",
       "  \"maxof_inc\":true,\n",
       "  \"membchk\":true,\n",
       "  \"member\":true,\n",
       "  \"min\":true,\n",
       "  \"minint_small\":true,\n",
       "  \"minof\":true,\n",
       "  \"minof_inc\":true,\n",
       "  \"mod\":true,\n",
       "  \"name\":true,\n",
       "  \"new_array\":true,\n",
       "  \"new_list\":true,\n",
       "  \"new_map\":true,\n",
       "  \"new_max_heap\":true,\n",
       "  \"new_min_heap\":true,\n",
       "  \"new_set\":true,\n",
       "  \"new_struct\":true,\n",
       "  \"nonvar\":true,\n",
       "  \"not\":true,\n",
       "  \"notin\":true,\n",
       "  \"nth\":true,\n",
       "  \"number\":true,\n",
       "  \"number_char\":true,\n",
       "  \"number_codes\":true,\n",
       "  \"number_vars\":true,\n",
       "  \"once\":true,\n",
       "  \"ord\":true,\n",
       "  \"parse_radix_string\":true,\n",
       "  \"parse_term\":true,\n",
       "  \"post_event\":true,\n",
       "  \"post_event_any\":true,\n",
       "  \"post_event_bound\":true,\n",
       "  \"post_event_dom\":true,\n",
       "  \"post_event_ins\":true,\n",
       "  \"print\":true,\n",
       "  \"println\":true,\n",
       "  \"prod\":true,\n",
       "  \"put\":true,\n",
       "  \"put_attr\":true,\n",
       "  \"real\":true,\n",
       "  \"reduce\":true,\n",
       "  \"rem\":true,\n",
       "  \"remove_dumps\":true,\n",
       "  \"repeat\":true,\n",
       "  \"reverse\":true,\n",
       "  \"second\":true,\n",
       "  \"select\":true,\n",
       "  \"size\":true,\n",
       "  \"slice\":true,\n",
       "  \"sort\":true,\n",
       "  \"sort_down\":true,\n",
       "  \"sort_down_remove_dups\":true,\n",
       "  \"sort_remove_dups\":true,\n",
       "  \"sorted\":true,\n",
       "  \"sorted_down\":true,\n",
       "  \"string\":true,\n",
       "  \"struct\":true,\n",
       "  \"subsumes\":true,\n",
       "  \"sum\":true,\n",
       "  \"tail\":true,\n",
       "  \"throw\":true,\n",
       "  \"to_array\":true,\n",
       "  \"to_atom\":true,\n",
       "  \"to_binary_string\":true,\n",
       "  \"to_code\":true,\n",
       "  \"to_fstring\":true,\n",
       "  \"to_hex_string\":true,\n",
       "  \"to_int\":true,\n",
       "  \"to_integer\":true,\n",
       "  \"to_list\":true,\n",
       "  \"to_lowercase\":true,\n",
       "  \"to_number\":true,\n",
       "  \"to_oct_string\":true,\n",
       "  \"to_radix_string\":true,\n",
       "  \"to_real\":true,\n",
       "  \"to_string\":true,\n",
       "  \"to_uppercase\":true,\n",
       "  \"true\":true,\n",
       "  \"uppercase\":true,\n",
       "  \"values\":true,\n",
       "  \"var\":true,\n",
       "  \"variant\":true,\n",
       "  \"vars\":true,\n",
       "  \"zip\":true,\n",
       "\n",
       "  \"abs\":true,\n",
       "  \"acos\":true,\n",
       "  \"acosh\":true,\n",
       "  \"acot\":true,\n",
       "  \"acoth\":true,\n",
       "  \"acsc\":true,\n",
       "  \"acsch\":true,\n",
       "  \"asec\":true,\n",
       "  \"asech\":true,\n",
       "  \"asin\":true,\n",
       "  \"asinh\":true,\n",
       "  \"atan\":true,\n",
       "  \"atan2\":true,\n",
       "  \"atanh\":true,\n",
       "  \"ceiling\":true,\n",
       "  \"cos\":true,\n",
       "  \"cosh\":true,\n",
       "  \"cot\":true,\n",
       "  \"coth\":true,\n",
       "  \"csc\":true,\n",
       "  \"csch\":true,\n",
       "  \"e\":true,\n",
       "  \"even\":true,\n",
       "  \"exp\":true,\n",
       "  \"floor\":true,\n",
       "  \"frand\":true,\n",
       "  \"gcd\":true,\n",
       "  \"log\":true,\n",
       "  \"log10\":true,\n",
       "  \"log2\":true,\n",
       "  \"modf\":true,\n",
       "  \"odd\":true,\n",
       "  \"pi\":true,\n",
       "  \"pow\":true,\n",
       "  \"pow_mod\":true,\n",
       "  \"prime\":true,\n",
       "  \"primes\":true,\n",
       "  \"max\":true,\n",
       "  \"random\":true,\n",
       "  \"random2\":true,\n",
       "  \"round\":true,\n",
       "  \"sec\":true,\n",
       "  \"sech\":true,\n",
       "  \"sign\":true,\n",
       "  \"sin\":true,\n",
       "  \"sinh\":true,\n",
       "  \"sqrt\":true,\n",
       "  \"tan\":true,\n",
       "  \"tanh\":true,\n",
       "  \"to_degrees\":true,\n",
       "  \"to_radians\":true,\n",
       "  \"truncate\":true,\n",
       "    \n",
       " \n",
       "  \"xor\":true};\n",
       "\n",
       "  var punc = \":;,.(){}[]\";\n",
       "\n",
       "  function tokenBase(stream, state) {\n",
       "    var ch = stream.next();\n",
       "    if (ch == '\"') {\n",
       "      state.tokenize.push(tokenString);\n",
       "      return tokenString(stream, state);\n",
       "    }\n",
       "    if (/[\\d\\.]/.test(ch)) {\n",
       "      if (ch == \".\") {\n",
       "        stream.match(/^[0-9]+([eE][\\-+]?[0-9]+)?/);\n",
       "      } else if (ch == \"0\") {\n",
       "        stream.match(/^[xX][0-9a-fA-F]+/) || stream.match(/^0[0-7]+/);\n",
       "      } else {\n",
       "        stream.match(/^[0-9]*\\.?[0-9]*([eE][\\-+]?[0-9]+)?/);\n",
       "      }\n",
       "      return \"number\";\n",
       "    }\n",
       "    if (ch == \"/\") {\n",
       "      if (stream.eat(\"*\")) {\n",
       "        state.tokenize.push(tokenComment);\n",
       "        return tokenComment(stream, state);\n",
       "      }\n",
       "    }\n",
       "    if (ch == \"%\") {\n",
       "      stream.skipToEnd();\n",
       "      return \"comment\";\n",
       "    }\n",
       "    if (isOperatorChar.test(ch)) {\n",
       "      stream.eatWhile(isOperatorChar);\n",
       "      return \"operator\";\n",
       "    }\n",
       "    if (punc.indexOf(ch) > -1) {\n",
       "      return \"punctuation\";\n",
       "    }\n",
       "    stream.eatWhile(/[\\w\\$_\\xa1-\\uffff]/);\n",
       "    var cur = stream.current();\n",
       "    if (keywords.propertyIsEnumerable(cur)) {\n",
       "      return \"keyword\";\n",
       "    }\n",
       "    return \"variable\";\n",
       "  }\n",
       "\n",
       "  function tokenComment(stream, state) {\n",
       "    var maybeEnd = false, ch;\n",
       "    while (ch = stream.next()) {\n",
       "      if (ch == \"/\" && maybeEnd) {\n",
       "        state.tokenize.pop();\n",
       "        break;\n",
       "      }\n",
       "      maybeEnd = (ch == \"*\");\n",
       "    }\n",
       "    return \"comment\";\n",
       "  }\n",
       "\n",
       "  function tokenUntilClosingParen() {\n",
       "    var depth = 0;\n",
       "    return function(stream, state, prev) {\n",
       "      var inner = tokenBase(stream, state, prev);\n",
       "      console.log(\"untilClosing\",inner,stream.current());\n",
       "      if (inner == \"punctuation\") {\n",
       "        if (stream.current() == \"(\") {\n",
       "          ++depth;\n",
       "        } else if (stream.current() == \")\") {\n",
       "          if (depth == 0) {\n",
       "            stream.backUp(1)\n",
       "            state.tokenize.pop()\n",
       "            return state.tokenize[state.tokenize.length - 1](stream, state)\n",
       "          } else {\n",
       "            --depth;\n",
       "          }\n",
       "        }\n",
       "      }\n",
       "      return inner;\n",
       "    }\n",
       "  }\n",
       "\n",
       "  function tokenString(stream, state) {\n",
       "    var escaped = false, next, end = false;\n",
       "    while ((next = stream.next()) != null) {\n",
       "      if (next=='(' && escaped) {\n",
       "        state.tokenize.push(tokenUntilClosingParen());\n",
       "        return \"string\";\n",
       "      }\n",
       "      if (next == '\"' && !escaped) {end = true; break;}\n",
       "      escaped = !escaped && next == \"\\\\\";\n",
       "    }\n",
       "    if (end || !escaped)\n",
       "      state.tokenize.pop();\n",
       "    return \"string\";\n",
       "  }\n",
       "\n",
       "  return {\n",
       "    startState: function(basecolumn) {\n",
       "      return {\n",
       "        tokenize: []\n",
       "      };\n",
       "    },\n",
       "\n",
       "    token: function(stream, state) {\n",
       "      if (stream.eatSpace()) return null;\n",
       "      var style = (state.tokenize[state.tokenize.length - 1] || tokenBase)(stream, state);\n",
       "      console.log(\"token\",style);\n",
       "      return style;\n",
       "    },\n",
       "\n",
       "    blockCommentStart: \"/*\",\n",
       "    blockCommentEnd: \"*/\",\n",
       "    lineComment: \"%\"\n",
       "  };\n",
       "});\n",
       "\n",
       "CodeMirror.defineMIME(\"text/picat\", \"text/picat\");\n",
       "\n",
       "Jupyter.CodeCell.options_default.highlight_modes['magic_text/picat'] = {'reg':[/^%%picat/]} ;\n",
       "\n",
       "Jupyter.notebook.get_cells().map(function(cell){\n",
       "  if (cell.cell_type == 'code'){ cell.auto_highlight(); }\n",
       "}) ;"
      ],
      "text/plain": [
       "<IPython.core.display.Javascript object>"
      ]
     },
     "metadata": {},
     "output_type": "display_data"
    },
    {
     "name": "stdout",
     "output_type": "stream",
     "text": [
      "Picat version 3.5#5\n"
     ]
    }
   ],
   "source": [
    "%load_ext ipicat"
   ]
  },
  {
   "cell_type": "markdown",
   "id": "2f4dc422",
   "metadata": {
    "slideshow": {
     "slide_type": "fragment"
    }
   },
   "source": [
    "To view the slideshow, install the RISE extension: \n",
    "```\n",
    "pip install RISE\n",
    "```"
   ]
  },
  {
   "cell_type": "markdown",
   "id": "5dc3b00f",
   "metadata": {
    "slideshow": {
     "slide_type": "slide"
    }
   },
   "source": [
    "## Introductory examples"
   ]
  },
  {
   "cell_type": "markdown",
   "id": "5ba3c889",
   "metadata": {
    "slideshow": {
     "slide_type": "slide"
    }
   },
   "source": [
    "### Hello, World!"
   ]
  },
  {
   "cell_type": "code",
   "execution_count": 2,
   "id": "dad90b5f",
   "metadata": {
    "execution": {
     "iopub.execute_input": "2023-10-03T09:37:41.651118Z",
     "iopub.status.busy": "2023-10-03T09:37:41.650911Z",
     "iopub.status.idle": "2023-10-03T09:37:41.667416Z",
     "shell.execute_reply": "2023-10-03T09:37:41.666892Z"
    },
    "scrolled": true,
    "slideshow": {
     "slide_type": "fragment"
    }
   },
   "outputs": [
    {
     "name": "stdout",
     "output_type": "stream",
     "text": [
      "Hello, World!\n",
      "\n"
     ]
    }
   ],
   "source": [
    "%%picat\n",
    "main =>\n",
    "    println(\"Hello, World!\")."
   ]
  },
  {
   "cell_type": "code",
   "execution_count": 3,
   "id": "2da0c2c7",
   "metadata": {
    "execution": {
     "iopub.execute_input": "2023-10-03T09:37:41.669452Z",
     "iopub.status.busy": "2023-10-03T09:37:41.669227Z",
     "iopub.status.idle": "2023-10-03T09:37:41.805385Z",
     "shell.execute_reply": "2023-10-03T09:37:41.804459Z"
    },
    "scrolled": false,
    "slideshow": {
     "slide_type": "fragment"
    }
   },
   "outputs": [
    {
     "name": "stdout",
     "output_type": "stream",
     "text": [
      "Hello, World!\n",
      "\n",
      "Hello, World!\r\n"
     ]
    }
   ],
   "source": [
    "%picat -e hello-world.pi\n",
    "# alternatively:\n",
    "!picat hello-world.pi"
   ]
  },
  {
   "cell_type": "markdown",
   "id": "9f7acf4a",
   "metadata": {
    "slideshow": {
     "slide_type": "slide"
    }
   },
   "source": [
    "#### Command-line arguments"
   ]
  },
  {
   "cell_type": "code",
   "execution_count": 4,
   "id": "1fe902f2",
   "metadata": {
    "execution": {
     "iopub.execute_input": "2023-10-03T09:37:41.808067Z",
     "iopub.status.busy": "2023-10-03T09:37:41.807787Z",
     "iopub.status.idle": "2023-10-03T09:37:42.055038Z",
     "shell.execute_reply": "2023-10-03T09:37:42.054240Z"
    },
    "scrolled": false,
    "slideshow": {
     "slide_type": "fragment"
    }
   },
   "outputs": [
    {
     "name": "stdout",
     "output_type": "stream",
     "text": [
      "Hello, Alice! You are my favourite student.\r\n",
      "Hello, Alice and Bob and Carol and Dave! You are my favourite students.\r\n"
     ]
    }
   ],
   "source": [
    "# This doesn't work at the moment\n",
    "# %picat -e hello-world.pi Alice\n",
    "!picat hello-world.pi Alice\n",
    "!picat hello-world.pi Alice Bob Carol Dave"
   ]
  },
  {
   "cell_type": "code",
   "execution_count": 5,
   "id": "c7ceed53",
   "metadata": {
    "execution": {
     "iopub.execute_input": "2023-10-03T09:37:42.058142Z",
     "iopub.status.busy": "2023-10-03T09:37:42.057431Z",
     "iopub.status.idle": "2023-10-03T09:37:42.086071Z",
     "shell.execute_reply": "2023-10-03T09:37:42.085607Z"
    },
    "scrolled": false,
    "slideshow": {
     "slide_type": "slide"
    }
   },
   "outputs": [
    {
     "name": "stdout",
     "output_type": "stream",
     "text": [
      "import util.\n",
      "\n",
      "main =>\n",
      "    println(\"Hello, World!\").\n",
      "\n",
      "main([Name]) =>\n",
      "    printf(\"Hello, %s! You are my favourite student.\\n\", Name).\n",
      "\n",
      "main(ARGS) =>\n",
      "    Names = ARGS.join(\" and \"),\n",
      "    printf(\"Hello, %s! You are my favourite students.\\n\", Names)."
     ]
    }
   ],
   "source": [
    "%%bash\n",
    "cat hello-world.pi"
   ]
  },
  {
   "cell_type": "markdown",
   "id": "fb7d643a",
   "metadata": {
    "slideshow": {
     "slide_type": "slide"
    }
   },
   "source": [
    "### Example: Fibonacci sequence"
   ]
  },
  {
   "cell_type": "markdown",
   "id": "70551d10",
   "metadata": {
    "slideshow": {
     "slide_type": "fragment"
    }
   },
   "source": [
    "In Jupyter, use `%%picat -n predicate_name` to define a predicate from a cell."
   ]
  },
  {
   "cell_type": "code",
   "execution_count": 6,
   "id": "d56e7160",
   "metadata": {
    "execution": {
     "iopub.execute_input": "2023-10-03T09:37:42.088553Z",
     "iopub.status.busy": "2023-10-03T09:37:42.088328Z",
     "iopub.status.idle": "2023-10-03T09:37:42.091406Z",
     "shell.execute_reply": "2023-10-03T09:37:42.090881Z"
    },
    "slideshow": {
     "slide_type": "fragment"
    }
   },
   "outputs": [],
   "source": [
    "%%picat -n fib\n",
    "fib(N, F) => \n",
    "    if (N = 0) then \n",
    "        F = 0\n",
    "    elseif (N = 1) then\n",
    "        F = 1\n",
    "    else\n",
    "        fib(N - 1, F1),\n",
    "        fib(N - 2, F2),\n",
    "        F = F1 + F2\n",
    "    end."
   ]
  },
  {
   "cell_type": "markdown",
   "id": "5aa53ef2",
   "metadata": {
    "slideshow": {
     "slide_type": "fragment"
    }
   },
   "source": [
    "Alternative syntax:"
   ]
  },
  {
   "cell_type": "code",
   "execution_count": 7,
   "id": "beb3e4bf",
   "metadata": {
    "execution": {
     "iopub.execute_input": "2023-10-03T09:37:42.093453Z",
     "iopub.status.busy": "2023-10-03T09:37:42.093254Z",
     "iopub.status.idle": "2023-10-03T09:37:42.095838Z",
     "shell.execute_reply": "2023-10-03T09:37:42.095317Z"
    },
    "scrolled": true,
    "slideshow": {
     "slide_type": "fragment"
    }
   },
   "outputs": [],
   "source": [
    "%%picat -n fib\n",
    "fib(0, F) => F = 0.\n",
    "fib(1, F) => F = 1.\n",
    "fib(N, F), N > 1 => fib(N - 1, F1), fib(N - 2, F2), F = F1 + F2."
   ]
  },
  {
   "cell_type": "markdown",
   "id": "caf00ace",
   "metadata": {
    "slideshow": {
     "slide_type": "slide"
    }
   },
   "source": [
    "#### But of course, we should use **tabling**!"
   ]
  },
  {
   "cell_type": "code",
   "execution_count": 8,
   "id": "e01a8cac",
   "metadata": {
    "execution": {
     "iopub.execute_input": "2023-10-03T09:37:42.097710Z",
     "iopub.status.busy": "2023-10-03T09:37:42.097528Z",
     "iopub.status.idle": "2023-10-03T09:37:42.100130Z",
     "shell.execute_reply": "2023-10-03T09:37:42.099695Z"
    },
    "scrolled": true,
    "slideshow": {
     "slide_type": "fragment"
    }
   },
   "outputs": [],
   "source": [
    "%%picat -n fib_tabled\n",
    "table\n",
    "fib_tabled(0, F) => F = 0.\n",
    "fib_tabled(1, F) => F = 1.\n",
    "fib_tabled(N, F), N > 1 => fib_tabled(N - 1, F1), fib_tabled(N - 2, F2), F = F1 + F2."
   ]
  },
  {
   "cell_type": "markdown",
   "id": "376b65ad",
   "metadata": {
    "slideshow": {
     "slide_type": "fragment"
    }
   },
   "source": [
    "Compare the performance:"
   ]
  },
  {
   "cell_type": "code",
   "execution_count": 9,
   "id": "56ff9918",
   "metadata": {
    "execution": {
     "iopub.execute_input": "2023-10-03T09:37:42.102236Z",
     "iopub.status.busy": "2023-10-03T09:37:42.102037Z",
     "iopub.status.idle": "2023-10-03T09:38:12.510983Z",
     "shell.execute_reply": "2023-10-03T09:38:12.510505Z"
    },
    "scrolled": false,
    "slideshow": {
     "slide_type": "fragment"
    }
   },
   "outputs": [
    {
     "name": "stdout",
     "output_type": "stream",
     "text": [
      "\n",
      "CPU time 30.357 seconds.\n",
      "\n",
      "267914296\n",
      "\n",
      "CPU time 0.0 seconds.\n",
      "\n",
      "267914296\n",
      "\n"
     ]
    }
   ],
   "source": [
    "%%picat\n",
    "main =>\n",
    "    time(fib(42, F)),\n",
    "    println(F),\n",
    "    time(fib_tabled(42, F)),\n",
    "    println(F)."
   ]
  },
  {
   "cell_type": "markdown",
   "id": "7982fa35",
   "metadata": {
    "slideshow": {
     "slide_type": "slide"
    }
   },
   "source": [
    "### Example: Quicksort"
   ]
  },
  {
   "cell_type": "code",
   "execution_count": 10,
   "id": "46c45cb0",
   "metadata": {
    "execution": {
     "iopub.execute_input": "2023-10-03T09:38:12.513046Z",
     "iopub.status.busy": "2023-10-03T09:38:12.512797Z",
     "iopub.status.idle": "2023-10-03T09:38:12.515696Z",
     "shell.execute_reply": "2023-10-03T09:38:12.515175Z"
    },
    "slideshow": {
     "slide_type": "fragment"
    }
   },
   "outputs": [],
   "source": [
    "%%picat -n qsort\n",
    "qsort([]) = [].\n",
    "qsort([H | T]) = qsort([E : E in T, E =< H]) ++ [H] ++ qsort([E : E in T, E > H])."
   ]
  },
  {
   "cell_type": "markdown",
   "id": "83960439",
   "metadata": {
    "slideshow": {
     "slide_type": "fragment"
    }
   },
   "source": [
    "Alternative version:"
   ]
  },
  {
   "cell_type": "code",
   "execution_count": 11,
   "id": "fff50d94",
   "metadata": {
    "execution": {
     "iopub.execute_input": "2023-10-03T09:38:12.517963Z",
     "iopub.status.busy": "2023-10-03T09:38:12.517749Z",
     "iopub.status.idle": "2023-10-03T09:38:12.521615Z",
     "shell.execute_reply": "2023-10-03T09:38:12.521008Z"
    },
    "slideshow": {
     "slide_type": "fragment"
    }
   },
   "outputs": [],
   "source": [
    "%%picat -n qsort\n",
    "qsort(L) = Lsorted => \n",
    "    if L = [] then\n",
    "        Lsorted = []\n",
    "    else\n",
    "        L = [H | T],\n",
    "        Lsorted = qsort([E : E in T, E =< H]) ++ [H] ++  qsort([E : E in T, E > H])."
   ]
  },
  {
   "cell_type": "markdown",
   "id": "0b1143c0",
   "metadata": {
    "slideshow": {
     "slide_type": "fragment"
    }
   },
   "source": [
    "Try it out:"
   ]
  },
  {
   "cell_type": "code",
   "execution_count": 12,
   "id": "fc887ff3",
   "metadata": {
    "execution": {
     "iopub.execute_input": "2023-10-03T09:38:12.525668Z",
     "iopub.status.busy": "2023-10-03T09:38:12.523807Z",
     "iopub.status.idle": "2023-10-03T09:38:12.543438Z",
     "shell.execute_reply": "2023-10-03T09:38:12.542713Z"
    },
    "slideshow": {
     "slide_type": "fragment"
    }
   },
   "outputs": [
    {
     "name": "stdout",
     "output_type": "stream",
     "text": [
      "[1,2,3,4,5,6]\n",
      "\n"
     ]
    }
   ],
   "source": [
    "%%picat\n",
    "main => L = qsort([5, 2, 6, 4, 1, 3]), println(L)."
   ]
  },
  {
   "cell_type": "markdown",
   "id": "aa9ac8a3",
   "metadata": {
    "slideshow": {
     "slide_type": "slide"
    }
   },
   "source": [
    "Source-file, with text formatting of the output:"
   ]
  },
  {
   "cell_type": "code",
   "execution_count": 13,
   "id": "e71ccfea",
   "metadata": {
    "execution": {
     "iopub.execute_input": "2023-10-03T09:38:12.546137Z",
     "iopub.status.busy": "2023-10-03T09:38:12.545913Z",
     "iopub.status.idle": "2023-10-03T09:38:12.675156Z",
     "shell.execute_reply": "2023-10-03T09:38:12.671420Z"
    },
    "scrolled": true,
    "slideshow": {
     "slide_type": "fragment"
    }
   },
   "outputs": [
    {
     "name": "stdout",
     "output_type": "stream",
     "text": [
      "For example, the list [5,2,6,4,1,3] after sorting is [1,2,3,4,5,6].\r\n"
     ]
    }
   ],
   "source": [
    "!picat qsort/qsort.pi"
   ]
  },
  {
   "cell_type": "markdown",
   "id": "6e4e5372",
   "metadata": {
    "slideshow": {
     "slide_type": "slide"
    }
   },
   "source": [
    "Command-line arguments:"
   ]
  },
  {
   "cell_type": "code",
   "execution_count": 14,
   "id": "15e3101a",
   "metadata": {
    "execution": {
     "iopub.execute_input": "2023-10-03T09:38:12.686302Z",
     "iopub.status.busy": "2023-10-03T09:38:12.685459Z",
     "iopub.status.idle": "2023-10-03T09:38:12.826313Z",
     "shell.execute_reply": "2023-10-03T09:38:12.823165Z"
    },
    "scrolled": true,
    "slideshow": {
     "slide_type": "fragment"
    }
   },
   "outputs": [
    {
     "name": "stdout",
     "output_type": "stream",
     "text": [
      "[1,2,3,4,5,6]\r\n"
     ]
    }
   ],
   "source": [
    "!picat qsort/qsort.pi [5,2,6,4,1,3]"
   ]
  },
  {
   "cell_type": "markdown",
   "id": "2230f45f",
   "metadata": {
    "slideshow": {
     "slide_type": "slide"
    }
   },
   "source": [
    "### Reading and writing files"
   ]
  },
  {
   "cell_type": "code",
   "execution_count": 15,
   "id": "bbf48a5d",
   "metadata": {
    "execution": {
     "iopub.execute_input": "2023-10-03T09:38:12.837789Z",
     "iopub.status.busy": "2023-10-03T09:38:12.835508Z",
     "iopub.status.idle": "2023-10-03T09:38:12.983640Z",
     "shell.execute_reply": "2023-10-03T09:38:12.980598Z"
    },
    "scrolled": false,
    "slideshow": {
     "slide_type": "fragment"
    }
   },
   "outputs": [
    {
     "name": "stdout",
     "output_type": "stream",
     "text": [
      "[2, 1]\r\n",
      "[5, 2, 6, 4, 1, 3]\r\n",
      "[44, 11, 29, 53, 59, 70, 63, 68, 16, 30, 95, 9, 55, 71, 84, 81, 64, 46, 26, 89, 15, 40, 22, 97, 39]"
     ]
    }
   ],
   "source": [
    "!cat qsort/assorted.lists"
   ]
  },
  {
   "cell_type": "code",
   "execution_count": 16,
   "id": "3df97b1f",
   "metadata": {
    "execution": {
     "iopub.execute_input": "2023-10-03T09:38:12.994657Z",
     "iopub.status.busy": "2023-10-03T09:38:12.993151Z",
     "iopub.status.idle": "2023-10-03T09:38:13.298705Z",
     "shell.execute_reply": "2023-10-03T09:38:13.295507Z"
    },
    "scrolled": false,
    "slideshow": {
     "slide_type": "fragment"
    }
   },
   "outputs": [
    {
     "name": "stdout",
     "output_type": "stream",
     "text": [
      "[1,2]\r\n",
      "[1,2,3,4,5,6]\r\n",
      "[9,11,15,16,22,26,29,30,39,40,44,46,53,55,59,63,64,68,70,71,81,84,89,95,97]\r\n"
     ]
    }
   ],
   "source": [
    "!picat qsort/qsort.pi qsort/assorted.lists qsort/sorted.lists\n",
    "!cat qsort/sorted.lists"
   ]
  },
  {
   "cell_type": "markdown",
   "id": "5e4ebcaf",
   "metadata": {
    "slideshow": {
     "slide_type": "slide"
    }
   },
   "source": [
    "The source code:"
   ]
  },
  {
   "cell_type": "code",
   "execution_count": 17,
   "id": "79c1a9bf",
   "metadata": {
    "execution": {
     "iopub.execute_input": "2023-10-03T09:38:13.309687Z",
     "iopub.status.busy": "2023-10-03T09:38:13.308936Z",
     "iopub.status.idle": "2023-10-03T09:38:13.463018Z",
     "shell.execute_reply": "2023-10-03T09:38:13.460858Z"
    },
    "scrolled": false,
    "slideshow": {
     "slide_type": "fragment"
    }
   },
   "outputs": [
    {
     "name": "stdout",
     "output_type": "stream",
     "text": [
      "qsort([])    = [].\r\n",
      "qsort([H|T]) = qsort([E : E in T, E =< H]) ++ [H] ++ qsort([E : E in T, E > H]).\r\n",
      "\r\n",
      "main =>\r\n",
      "    L = [5, 2, 6, 4, 1, 3],    \r\n",
      "    printf(\"For example, the list %w after sorting is %w.\\n\", L, qsort(L)).\r\n",
      "\r\n",
      "main([Lstring]) =>\r\n",
      "    L = parse_term(Lstring),\r\n",
      "    println(qsort(L)).\r\n",
      "\r\n",
      "main([InputPath, OutputPath]) =>\r\n",
      "    Lines = read_file_lines(InputPath),\r\n",
      "    OutputFile = open(OutputPath, write),\r\n",
      "    foreach(I in 1..Lines.length)\r\n",
      "        L = parse_term(Lines[I]),\r\n",
      "        writeln(OutputFile, qsort(L))\r\n",
      "    end.\r\n"
     ]
    }
   ],
   "source": [
    "!cat qsort/qsort.pi"
   ]
  },
  {
   "cell_type": "markdown",
   "id": "793c781a",
   "metadata": {
    "slideshow": {
     "slide_type": "slide"
    }
   },
   "source": [
    "### TPK algorithm"
   ]
  },
  {
   "cell_type": "markdown",
   "id": "2baeac66",
   "metadata": {
    "slideshow": {
     "slide_type": "fragment"
    }
   },
   "source": [
    "The TPK algorithm is an artificial problem designed by Trabb Pardo & Knuth to showcase the syntax of a given programming language (see [Wikipedia](https://en.wikipedia.org/wiki/TPK_algorithm)):\n",
    "```markdown\n",
    "ask for N numbers to be read into a sequence S\n",
    "reverse sequence S\n",
    "for each item in sequence S\n",
    "    call a function to do an operation\n",
    "    if result overflows\n",
    "        alert user\n",
    "    else\n",
    "        print result\n",
    "```\n",
    "The following Picat implementation is from [here](https://www.linuxjournal.com/content/introduction-tabled-logic-programming-picat)."
   ]
  },
  {
   "cell_type": "code",
   "execution_count": 18,
   "id": "a6ecdc2c",
   "metadata": {
    "execution": {
     "iopub.execute_input": "2023-10-03T09:38:13.472931Z",
     "iopub.status.busy": "2023-10-03T09:38:13.472381Z",
     "iopub.status.idle": "2023-10-03T09:38:13.601191Z",
     "shell.execute_reply": "2023-10-03T09:38:13.599739Z"
    },
    "scrolled": true,
    "slideshow": {
     "slide_type": "slide"
    }
   },
   "outputs": [
    {
     "name": "stdout",
     "output_type": "stream",
     "text": [
      "% TPK Algorithm in Picat\r\n",
      "% from https://www.linuxjournal.com/content/introduction-tabled-logic-programming-picat\r\n",
      "\r\n",
      "f(T) = sqrt(abs(T)) + 5 * T**3.\r\n",
      "main =>\r\n",
      "    N = 4,\r\n",
      "    As = to_array([read_real() : I in 1..N]),\r\n",
      "    foreach (I in N..-1..1)\r\n",
      "        Y = f(As[I]),\r\n",
      "        if Y > 400 then\r\n",
      "            printf(\"%w TOO LARGE\\n\", I)\r\n",
      "        else\r\n",
      "            printf(\"%w %w\\n\", I, Y)\r\n",
      "        end\r\n",
      "    end.\r\n"
     ]
    }
   ],
   "source": [
    "!cat tpk/tpk.pi"
   ]
  },
  {
   "cell_type": "code",
   "execution_count": 19,
   "id": "0a5a6dd2",
   "metadata": {
    "execution": {
     "iopub.execute_input": "2023-10-03T09:38:13.606592Z",
     "iopub.status.busy": "2023-10-03T09:38:13.606224Z",
     "iopub.status.idle": "2023-10-03T09:38:14.030791Z",
     "shell.execute_reply": "2023-10-03T09:38:14.030148Z"
    },
    "slideshow": {
     "slide_type": "slide"
    }
   },
   "outputs": [
    {
     "name": "stdout",
     "output_type": "stream",
     "text": [
      "1.0e-2\r\n",
      "-2.345\r\n",
      "42.0001\r\n",
      "-0.002\r\n",
      "\r\n",
      "4 0.0447213\r\n",
      "3 TOO LARGE\r\n",
      "2 -62.9447\r\n",
      "1 0.100005\r\n"
     ]
    }
   ],
   "source": [
    "!cat tpk/some_reals.txt\n",
    "!printf \"\\n\"\n",
    "!picat tpk/tpk.pi < tpk/some_reals.txt"
   ]
  },
  {
   "cell_type": "markdown",
   "id": "6ab774d5",
   "metadata": {
    "slideshow": {
     "slide_type": "slide"
    }
   },
   "source": [
    "## An overview of Picat"
   ]
  },
  {
   "cell_type": "markdown",
   "id": "7e4f47e0",
   "metadata": {
    "slideshow": {
     "slide_type": "fragment"
    }
   },
   "source": [
    "Examples in this section are mostly adapted from or inspired by the [Picat Book][1], [Picat Guide][2], [AAA2017 tutorial][3], and [examples][4]. More resources are available [here][5].\n",
    "\n",
    "[1]: http://picat-lang.org/picatbook2015.html\n",
    "[2]: https://web.mit.edu/picat_v1.9/picat_guide.pdf\n",
    "[3]: http://ktiml.mff.cuni.cz/~bartak/AAAI2017/\n",
    "[4]: http://picat-lang.org/exs/exs.pi\n",
    "[5]: http://picat-lang.org/resources.html"
   ]
  },
  {
   "cell_type": "markdown",
   "id": "9a20ca91",
   "metadata": {
    "slideshow": {
     "slide_type": "fragment"
    }
   },
   "source": [
    "TODO, see the [slides](http://ktiml.mff.cuni.cz/~bartak/AAAI2017/slides.pdf) (pages 4-18)."
   ]
  },
  {
   "cell_type": "markdown",
   "id": "89fbad97",
   "metadata": {
    "slideshow": {
     "slide_type": "slide"
    }
   },
   "source": [
    "## A constraint programming example"
   ]
  },
  {
   "cell_type": "markdown",
   "id": "10fc57a1",
   "metadata": {
    "slideshow": {
     "slide_type": "fragment"
    }
   },
   "source": [
    "For the rest of today, we will practice writing programs in \"pure\" Picat. We will introduce constraint modelling in Picat next tutorial. But here is one example, the N-queens problem: place N queens on an NxN chess board so that no two queens attack each other."
   ]
  },
  {
   "cell_type": "code",
   "execution_count": 20,
   "id": "d3854f61",
   "metadata": {
    "execution": {
     "iopub.execute_input": "2023-10-03T09:38:14.033415Z",
     "iopub.status.busy": "2023-10-03T09:38:14.033137Z",
     "iopub.status.idle": "2023-10-03T09:38:14.159013Z",
     "shell.execute_reply": "2023-10-03T09:38:14.157083Z"
    },
    "slideshow": {
     "slide_type": "fragment"
    }
   },
   "outputs": [
    {
     "name": "stdout",
     "output_type": "stream",
     "text": [
      "[2,4,1,3]"
     ]
    }
   ],
   "source": [
    "!picat queens/queens.pi 4"
   ]
  },
  {
   "cell_type": "code",
   "execution_count": 21,
   "id": "66961506",
   "metadata": {
    "execution": {
     "iopub.execute_input": "2023-10-03T09:38:14.164750Z",
     "iopub.status.busy": "2023-10-03T09:38:14.164289Z",
     "iopub.status.idle": "2023-10-03T09:38:14.281712Z",
     "shell.execute_reply": "2023-10-03T09:38:14.280911Z"
    },
    "scrolled": false,
    "slideshow": {
     "slide_type": "fragment"
    }
   },
   "outputs": [
    {
     "name": "stdout",
     "output_type": "stream",
     "text": [
      "% adapted from picat-lang.org\r\n",
      "import cp.\r\n",
      "\r\n",
      "queens(N, Q) =>\r\n",
      "    Q = new_list(N),\r\n",
      "    Q :: 1..N,\r\n",
      "    all_different(Q),\r\n",
      "    all_different([$Q[I] - I : I in 1..N]),\r\n",
      "    all_different([$Q[I] + I : I in 1..N]),\r\n",
      "    solve([ff], Q).\r\n",
      "\r\n",
      "main =>\r\n",
      "    queens(8, Q),\r\n",
      "    print(Q).\r\n",
      "\r\n",
      "main([N]) =>\r\n",
      "    queens(N.to_int, Q),\r\n",
      "    print(Q)."
     ]
    }
   ],
   "source": [
    "!cat queens/queens.pi"
   ]
  },
  {
   "cell_type": "markdown",
   "id": "1bc7a360",
   "metadata": {
    "slideshow": {
     "slide_type": "slide"
    }
   },
   "source": [
    "## Exercises"
   ]
  },
  {
   "cell_type": "markdown",
   "id": "e791aefb",
   "metadata": {
    "slideshow": {
     "slide_type": "slide"
    }
   },
   "source": [
    "### Exercise: count occurences\n",
    "Write a program that counts the number of occurences of an integer in a list of integers, e.g.:\n",
    "```\n",
    "picat count-occurences.pi [1,2,4,2,3,2] 2\n",
    "picat count-occurences.pi [1,2,2,1] 3\n",
    "```\n",
    "outputs `3` and `0`, respectively."
   ]
  },
  {
   "cell_type": "markdown",
   "id": "93a1cc65",
   "metadata": {
    "slideshow": {
     "slide_type": "slide"
    }
   },
   "source": [
    "### Exercise: transpose\n",
    "Write a program that transposes a given matrix (a 2D array), e.g.:\n",
    "```\n",
    "picat transpose.pi \"{{1,2,3},{4,5,6}}\"\n",
    "```\n",
    "outputs `{{1,4},{2,5},{3,6}}`. (Note that we need to put the input in quotation marks.) Inside your code define a function `transpose(Matrix) = Transposed_Matrix`."
   ]
  },
  {
   "cell_type": "markdown",
   "id": "ac944f45",
   "metadata": {
    "slideshow": {
     "slide_type": "slide"
    }
   },
   "source": [
    "### Exercise: binary trees\n",
    "Write a function that receives a binary tree encoded using the structure `$node(Value,LeftChild,RightChild)` and outputs the depth of the tree. For example:\n",
    "```\n",
    "picat depth.pi \"node(42,nil,nil)\"\n",
    "picat depth.pi \"node(1,node(2,nil,nil),node(3,nil,nil))\"\n",
    "picat depth.pi \"node(1,node(2,node(3,node(4,nil,nil),node(5,nil,nil)),nil),node(6,node(7,nil,nil),node(8,nil,nil)))\"\n",
    "```\n",
    "should output:\n",
    "```\n",
    "0\n",
    "1\n",
    "3\n",
    "```"
   ]
  }
 ],
 "metadata": {
  "celltoolbar": "Slideshow",
  "kernelspec": {
   "display_name": "Python 3 (ipykernel)",
   "language": "python",
   "name": "python3"
  },
  "language_info": {
   "codemirror_mode": {
    "name": "ipython",
    "version": 3
   },
   "file_extension": ".py",
   "mimetype": "text/x-python",
   "name": "python",
   "nbconvert_exporter": "python",
   "pygments_lexer": "ipython3",
   "version": "3.11.5"
  },
  "vscode": {
   "interpreter": {
    "hash": "916dbcbb3f70747c44a77c7bcd40155683ae19c65e1c03b4aa3499c5328201f1"
   }
  }
 },
 "nbformat": 4,
 "nbformat_minor": 5
}
