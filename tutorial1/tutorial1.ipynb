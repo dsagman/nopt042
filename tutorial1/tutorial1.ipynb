{
 "cells": [
  {
   "cell_type": "markdown",
   "id": "3687d7a5",
   "metadata": {},
   "source": [
    "# NOPT042 Constraint programming: Tutorial 1 - Introduction to Picat"
   ]
  },
  {
   "cell_type": "markdown",
   "id": "5a2b147a",
   "metadata": {},
   "source": [
    "## Installation\n",
    "\n",
    "You can install [Picat](http://picat-lang.org/) like this (check if there's a newer version of Picat):\n",
    "\n",
    "```bash\n",
    "cd ~\n",
    "wget http://picat-lang.org/download/picat328_linux64.tar.gz\n",
    "tar -xf picat328_linux64.tar.gz\n",
    "```\n",
    "\n",
    "Then add the executable to `$PATH` (assuming we use bash):\n",
    "\n",
    "```bash\n",
    "echo 'export PATH=\"$HOME/Picat:$PATH\"' >> ~/.bashrc\n",
    "source ~/.bashrc\n",
    "```\n",
    "\n",
    "Then the command `picat` runs the Picat interpreter.\n",
    "\n",
    "If you want to execute the notebooks, install [Jupyter Notebook](https://jupyter.org/) with [ipicat extension](https://pypi.org/project/picat-kernel/) (if you want to install them locally, add `--user`):\n",
    "\n",
    "```bash\n",
    "pip install jupyter\n",
    "pip install ipicat\n",
    "```\n",
    "\n",
    "Then run `jupyter notebook`. Once the extension is loaded you can use `%%picat` cell magic or execute picat files: `%picat -e hello-world.pi`."
   ]
  },
  {
   "cell_type": "code",
   "execution_count": 1,
   "id": "16ad0d6d",
   "metadata": {
    "vscode": {
     "languageId": "picat"
    }
   },
   "outputs": [
    {
     "data": {
      "application/javascript": [
       "\"use strict\";\n",
       "\n",
       "CodeMirror.defineMode(\"text/picat\", function(config) {\n",
       "\n",
       "  var isOperatorChar = /[+\\-*=\\@\\&|\\:#<>\\/]/;\n",
       "\n",
       "  var keywords = {\"else\":true,\n",
       "  \"end\":true,\n",
       "  \"foreach\":true,\n",
       "  \"if\":true,\n",
       "  \"in\":true,\n",
       "  \"then\":true\n",
       "  }\n",
       "\n",
       "  var specials = {\"acyclic_term\":true,\n",
       "  \"and_to_list\":true,\n",
       "  \"append\":true,\n",
       "  \"apply\":true,\n",
       "  \"arity\":true,\n",
       "  \"array\":true,\n",
       "  \"atom\":true,\n",
       "  \"atom_chars\":true,\n",
       "  \"atom_codes\":true,\n",
       "  \"atomic\":true,\n",
       "  \"attr_var\":true,\n",
       "  \"between\":true,\n",
       "  \"bind_vars\":true,\n",
       "  \"call\":true,\n",
       "  \"call_cleanup\":true,\n",
       "  \"catch\":true,\n",
       "  \"char\":true,\n",
       "  \"chr\":true,\n",
       "  \"clear\":true,\n",
       "  \"compare_terms\":true,\n",
       "  \"compound\":true,\n",
       "  \"copy_term\":true,\n",
       "  \"count_all\":true,\n",
       "  \"delete\":true,\n",
       "  \"delete_all\":true,\n",
       "  \"different_term\":true,\n",
       "  \"digit\":true,\n",
       "  \"div\":true,\n",
       "  \"dvar\":true,\n",
       "  \"dvar_or_int\":true,\n",
       "//   \"end\":true,\n",
       "  \"fail\":true,\n",
       "  \"false\":true,\n",
       "  \"find_all\":true,\n",
       "  \"findall\":true,\n",
       "  \"first\":true,\n",
       "  \"flatten\":true,\n",
       "  \"float\":true,\n",
       "  \"fold\":true,\n",
       "//   \"foreach\":true,\n",
       "  \"freeze\":true,\n",
       "  \"get\":true,\n",
       "  \"get_attr\":true,\n",
       "  \"get_global_map\":true,\n",
       "  \"get_heap_map\":true,\n",
       "  \"get_table_map\":true,\n",
       "  \"ground\":true,\n",
       "  \"handle_exception\":true,\n",
       "  \"has_key\":true,\n",
       "  \"hash_code\":true,\n",
       "  \"head\":true,\n",
       "  \"heap_is_empty\":true,\n",
       "  \"heap_pop\":true,\n",
       "  \"heap_push\":true,\n",
       "  \"heap_size\":true,\n",
       "  \"heap_to_list\":true,\n",
       "  \"heap_top\":true,\n",
       "  \"import\":true,    \n",
       "//   \"in\":true,\n",
       "  \"insert\":true,\n",
       "  \"insert_all\":true,\n",
       "  \"insert_ordered\":true,\n",
       "  \"insert_ordered_down\":true,\n",
       "  \"int\":true,\n",
       "  \"integer\":true,\n",
       "  \"is\":true,\n",
       "  \"keys\":true,\n",
       "  \"last\":true,\n",
       "  \"len\":true,\n",
       "  \"length\":true,\n",
       "  \"list\":true,\n",
       "  \"list_to_and\":true,\n",
       "  \"lowercase\":true,\n",
       "  \"map\":true,\n",
       "  \"map_to_list\":true,\n",
       "  \"max\":true,\n",
       "  \"maxint_small\":true,\n",
       "  \"maxof\":true,\n",
       "  \"maxof_inc\":true,\n",
       "  \"membchk\":true,\n",
       "  \"member\":true,\n",
       "  \"min\":true,\n",
       "  \"minint_small\":true,\n",
       "  \"minof\":true,\n",
       "  \"minof_inc\":true,\n",
       "  \"mod\":true,\n",
       "  \"name\":true,\n",
       "  \"new_array\":true,\n",
       "  \"new_list\":true,\n",
       "  \"new_map\":true,\n",
       "  \"new_max_heap\":true,\n",
       "  \"new_min_heap\":true,\n",
       "  \"new_set\":true,\n",
       "  \"new_struct\":true,\n",
       "  \"nonvar\":true,\n",
       "  \"not\":true,\n",
       "  \"notin\":true,\n",
       "  \"nth\":true,\n",
       "  \"number\":true,\n",
       "  \"number_char\":true,\n",
       "  \"number_codes\":true,\n",
       "  \"number_vars\":true,\n",
       "  \"once\":true,\n",
       "  \"ord\":true,\n",
       "  \"parse_radix_string\":true,\n",
       "  \"parse_term\":true,\n",
       "  \"post_event\":true,\n",
       "  \"post_event_any\":true,\n",
       "  \"post_event_bound\":true,\n",
       "  \"post_event_dom\":true,\n",
       "  \"post_event_ins\":true,\n",
       "  \"print\":true,\n",
       "  \"println\":true,\n",
       "  \"prod\":true,\n",
       "  \"put\":true,\n",
       "  \"put_attr\":true,\n",
       "  \"real\":true,\n",
       "  \"reduce\":true,\n",
       "  \"rem\":true,\n",
       "  \"remove_dumps\":true,\n",
       "  \"repeat\":true,\n",
       "  \"reverse\":true,\n",
       "  \"second\":true,\n",
       "  \"select\":true,\n",
       "  \"size\":true,\n",
       "  \"slice\":true,\n",
       "  \"sort\":true,\n",
       "  \"sort_down\":true,\n",
       "  \"sort_down_remove_dups\":true,\n",
       "  \"sort_remove_dups\":true,\n",
       "  \"sorted\":true,\n",
       "  \"sorted_down\":true,\n",
       "  \"string\":true,\n",
       "  \"struct\":true,\n",
       "  \"subsumes\":true,\n",
       "  \"sum\":true,\n",
       "  \"tail\":true,\n",
       "  \"throw\":true,\n",
       "  \"to_array\":true,\n",
       "  \"to_atom\":true,\n",
       "  \"to_binary_string\":true,\n",
       "  \"to_code\":true,\n",
       "  \"to_fstring\":true,\n",
       "  \"to_hex_string\":true,\n",
       "  \"to_int\":true,\n",
       "  \"to_integer\":true,\n",
       "  \"to_list\":true,\n",
       "  \"to_lowercase\":true,\n",
       "  \"to_number\":true,\n",
       "  \"to_oct_string\":true,\n",
       "  \"to_radix_string\":true,\n",
       "  \"to_real\":true,\n",
       "  \"to_string\":true,\n",
       "  \"to_uppercase\":true,\n",
       "  \"true\":true,\n",
       "  \"uppercase\":true,\n",
       "  \"values\":true,\n",
       "  \"var\":true,\n",
       "  \"variant\":true,\n",
       "  \"vars\":true,\n",
       "  \"zip\":true,\n",
       "\n",
       "  \"abs\":true,\n",
       "  \"acos\":true,\n",
       "  \"acosh\":true,\n",
       "  \"acot\":true,\n",
       "  \"acoth\":true,\n",
       "  \"acsc\":true,\n",
       "  \"acsch\":true,\n",
       "  \"asec\":true,\n",
       "  \"asech\":true,\n",
       "  \"asin\":true,\n",
       "  \"asinh\":true,\n",
       "  \"atan\":true,\n",
       "  \"atan2\":true,\n",
       "  \"atanh\":true,\n",
       "  \"ceiling\":true,\n",
       "  \"cos\":true,\n",
       "  \"cosh\":true,\n",
       "  \"cot\":true,\n",
       "  \"coth\":true,\n",
       "  \"csc\":true,\n",
       "  \"csch\":true,\n",
       "  \"e\":true,\n",
       "  \"even\":true,\n",
       "  \"exp\":true,\n",
       "  \"floor\":true,\n",
       "  \"frand\":true,\n",
       "  \"gcd\":true,\n",
       "  \"log\":true,\n",
       "  \"log10\":true,\n",
       "  \"log2\":true,\n",
       "  \"modf\":true,\n",
       "  \"odd\":true,\n",
       "  \"pi\":true,\n",
       "  \"pow\":true,\n",
       "  \"pow_mod\":true,\n",
       "  \"prime\":true,\n",
       "  \"primes\":true,\n",
       "  \"max\":true,\n",
       "  \"random\":true,\n",
       "  \"random2\":true,\n",
       "  \"round\":true,\n",
       "  \"sec\":true,\n",
       "  \"sech\":true,\n",
       "  \"sign\":true,\n",
       "  \"sin\":true,\n",
       "  \"sinh\":true,\n",
       "  \"sqrt\":true,\n",
       "  \"tan\":true,\n",
       "  \"tanh\":true,\n",
       "  \"to_degrees\":true,\n",
       "  \"to_radians\":true,\n",
       "  \"truncate\":true,\n",
       "    \n",
       " \n",
       "  \"xor\":true};\n",
       "\n",
       "  var punc = \":;,.(){}[]\";\n",
       "\n",
       "  function tokenBase(stream, state) {\n",
       "    var ch = stream.next();\n",
       "    if (ch == '\"') {\n",
       "      state.tokenize.push(tokenString);\n",
       "      return tokenString(stream, state);\n",
       "    }\n",
       "    if (/[\\d\\.]/.test(ch)) {\n",
       "      if (ch == \".\") {\n",
       "        stream.match(/^[0-9]+([eE][\\-+]?[0-9]+)?/);\n",
       "      } else if (ch == \"0\") {\n",
       "        stream.match(/^[xX][0-9a-fA-F]+/) || stream.match(/^0[0-7]+/);\n",
       "      } else {\n",
       "        stream.match(/^[0-9]*\\.?[0-9]*([eE][\\-+]?[0-9]+)?/);\n",
       "      }\n",
       "      return \"number\";\n",
       "    }\n",
       "    if (ch == \"/\") {\n",
       "      if (stream.eat(\"*\")) {\n",
       "        state.tokenize.push(tokenComment);\n",
       "        return tokenComment(stream, state);\n",
       "      }\n",
       "    }\n",
       "    if (ch == \"%\") {\n",
       "      stream.skipToEnd();\n",
       "      return \"comment\";\n",
       "    }\n",
       "    if (isOperatorChar.test(ch)) {\n",
       "      stream.eatWhile(isOperatorChar);\n",
       "      return \"operator\";\n",
       "    }\n",
       "    if (punc.indexOf(ch) > -1) {\n",
       "      return \"punctuation\";\n",
       "    }\n",
       "    stream.eatWhile(/[\\w\\$_\\xa1-\\uffff]/);\n",
       "    var cur = stream.current();\n",
       "    if (keywords.propertyIsEnumerable(cur)) {\n",
       "      return \"keyword\";\n",
       "    }\n",
       "    return \"variable\";\n",
       "  }\n",
       "\n",
       "  function tokenComment(stream, state) {\n",
       "    var maybeEnd = false, ch;\n",
       "    while (ch = stream.next()) {\n",
       "      if (ch == \"/\" && maybeEnd) {\n",
       "        state.tokenize.pop();\n",
       "        break;\n",
       "      }\n",
       "      maybeEnd = (ch == \"*\");\n",
       "    }\n",
       "    return \"comment\";\n",
       "  }\n",
       "\n",
       "  function tokenUntilClosingParen() {\n",
       "    var depth = 0;\n",
       "    return function(stream, state, prev) {\n",
       "      var inner = tokenBase(stream, state, prev);\n",
       "      console.log(\"untilClosing\",inner,stream.current());\n",
       "      if (inner == \"punctuation\") {\n",
       "        if (stream.current() == \"(\") {\n",
       "          ++depth;\n",
       "        } else if (stream.current() == \")\") {\n",
       "          if (depth == 0) {\n",
       "            stream.backUp(1)\n",
       "            state.tokenize.pop()\n",
       "            return state.tokenize[state.tokenize.length - 1](stream, state)\n",
       "          } else {\n",
       "            --depth;\n",
       "          }\n",
       "        }\n",
       "      }\n",
       "      return inner;\n",
       "    }\n",
       "  }\n",
       "\n",
       "  function tokenString(stream, state) {\n",
       "    var escaped = false, next, end = false;\n",
       "    while ((next = stream.next()) != null) {\n",
       "      if (next=='(' && escaped) {\n",
       "        state.tokenize.push(tokenUntilClosingParen());\n",
       "        return \"string\";\n",
       "      }\n",
       "      if (next == '\"' && !escaped) {end = true; break;}\n",
       "      escaped = !escaped && next == \"\\\\\";\n",
       "    }\n",
       "    if (end || !escaped)\n",
       "      state.tokenize.pop();\n",
       "    return \"string\";\n",
       "  }\n",
       "\n",
       "  return {\n",
       "    startState: function(basecolumn) {\n",
       "      return {\n",
       "        tokenize: []\n",
       "      };\n",
       "    },\n",
       "\n",
       "    token: function(stream, state) {\n",
       "      if (stream.eatSpace()) return null;\n",
       "      var style = (state.tokenize[state.tokenize.length - 1] || tokenBase)(stream, state);\n",
       "      console.log(\"token\",style);\n",
       "      return style;\n",
       "    },\n",
       "\n",
       "    blockCommentStart: \"/*\",\n",
       "    blockCommentEnd: \"*/\",\n",
       "    lineComment: \"%\"\n",
       "  };\n",
       "});\n",
       "\n",
       "CodeMirror.defineMIME(\"text/picat\", \"text/picat\");\n",
       "\n",
       "Jupyter.CodeCell.options_default.highlight_modes['magic_text/picat'] = {'reg':[/^%%picat/]} ;\n",
       "\n",
       "Jupyter.notebook.get_cells().map(function(cell){\n",
       "  if (cell.cell_type == 'code'){ cell.auto_highlight(); }\n",
       "}) ;"
      ],
      "text/plain": [
       "<IPython.core.display.Javascript object>"
      ]
     },
     "metadata": {},
     "output_type": "display_data"
    },
    {
     "name": "stdout",
     "output_type": "stream",
     "text": [
      "Picat version 3.2#8\n"
     ]
    }
   ],
   "source": [
    "%load_ext ipicat"
   ]
  },
  {
   "cell_type": "markdown",
   "id": "5ba3c889",
   "metadata": {},
   "source": [
    "## Hello world"
   ]
  },
  {
   "cell_type": "code",
   "execution_count": 31,
   "id": "dad90b5f",
   "metadata": {
    "scrolled": true,
    "vscode": {
     "languageId": "picat"
    }
   },
   "outputs": [
    {
     "name": "stdout",
     "output_type": "stream",
     "text": [
      "Hello, World!\n",
      "\n"
     ]
    }
   ],
   "source": [
    "%%picat\n",
    "main =>\n",
    "    println(\"Hello, World!\")."
   ]
  },
  {
   "cell_type": "code",
   "execution_count": 34,
   "id": "2da0c2c7",
   "metadata": {
    "scrolled": true,
    "vscode": {
     "languageId": "picat"
    }
   },
   "outputs": [
    {
     "name": "stdout",
     "output_type": "stream",
     "text": [
      "Hello, World!\n",
      "\n",
      "Hello, World!\r\n"
     ]
    }
   ],
   "source": [
    "%picat -e hello-world.pi\n",
    "# alternatively:\n",
    "!picat hello-world.pi"
   ]
  },
  {
   "cell_type": "markdown",
   "id": "9f7acf4a",
   "metadata": {},
   "source": [
    "## Command-line arguments"
   ]
  },
  {
   "cell_type": "code",
   "execution_count": 35,
   "id": "1fe902f2",
   "metadata": {
    "scrolled": true
   },
   "outputs": [
    {
     "name": "stdout",
     "output_type": "stream",
     "text": [
      "Hello, Alice! You are my favourite student.\n",
      "Hello, Alice and Bob and Carol and Dave! You are my favourite students.\n"
     ]
    }
   ],
   "source": [
    "# This doesn't work at the moment\n",
    "# %picat -e hello-world.pi Alice\n",
    "!picat hello-world.pi Alice\n",
    "!picat hello-world.pi Alice Bob Carol Dave"
   ]
  },
  {
   "cell_type": "code",
   "execution_count": 36,
   "id": "c7ceed53",
   "metadata": {
    "scrolled": false,
    "vscode": {
     "languageId": "picat"
    }
   },
   "outputs": [
    {
     "name": "stdout",
     "output_type": "stream",
     "text": [
      "import util.\n",
      "\n",
      "main =>\n",
      "    println(\"Hello, World!\").\n",
      "\n",
      "main([Name]) =>\n",
      "    printf(\"Hello, %s! You are my favourite student.\\n\", Name).\n",
      "\n",
      "main(ARGS) =>\n",
      "    Names = ARGS.join(\" and \"),\n",
      "    printf(\"Hello, %s! You are my favourite students.\\n\", Names)."
     ]
    }
   ],
   "source": [
    "%%bash\n",
    "cat hello-world.pi"
   ]
  },
  {
   "cell_type": "markdown",
   "id": "7982fa35",
   "metadata": {},
   "source": [
    "##\n"
   ]
  },
  {
   "cell_type": "markdown",
   "id": "6ab774d5",
   "metadata": {},
   "source": [
    "## An overview of Picat"
   ]
  },
  {
   "cell_type": "markdown",
   "id": "7e4f47e0",
   "metadata": {},
   "source": [
    "Examples in this section are mostly adapted from or inspired by the [Picat Book][1], [Picat Guide][2], [AAA2017 tutorial][3], and [examples][4]. More resources are available [here][5].\n",
    "\n",
    "[1]: http://picat-lang.org/picatbook2015.html\n",
    "[2]: https://web.mit.edu/picat_v1.9/picat_guide.pdf\n",
    "[3]: http://ktiml.mff.cuni.cz/~bartak/AAAI2017/\n",
    "[4]: http://picat-lang.org/exs/exs.pi\n",
    "[5]: http://picat-lang.org/resources.html"
   ]
  },
  {
   "cell_type": "markdown",
   "id": "5f88b80d",
   "metadata": {},
   "source": [
    "## Playground"
   ]
  },
  {
   "cell_type": "code",
   "execution_count": 2,
   "id": "ccc53052",
   "metadata": {},
   "outputs": [
    {
     "name": "stdout",
     "output_type": "stream",
     "text": [
      "{{1,['K','U','U','X','F','I','T','H','O','M','Q','J','N','Y','X','Q','S','D']},{2,['A','G','D','U','E','K','D','C','Z','F','N','V','P','H']},{3,['N','M','Z','H','U','N','U','K','X','H','J','V','X','B','Y']},{4,['C','E','R','X','J','B','A','L','B','G','Z','X','W']},{5,['O','J','T','N','R','N','B','L','Y']}}"
     ]
    }
   ],
   "source": [
    "!picat readwrite/readwrite.pi"
   ]
  },
  {
   "cell_type": "code",
   "execution_count": 58,
   "id": "991101ac",
   "metadata": {},
   "outputs": [],
   "source": [
    "%%picat -n qsort\n",
    "qsort(L) = Lsorted => \n",
    "    if L = [] then\n",
    "        Lsorted = []\n",
    "    else\n",
    "        L = [H|T],\n",
    "        Lsorted = qsort([E : E in T, E=<H]) ++ [H] ++  qsort([E : E in T, E>H])."
   ]
  },
  {
   "cell_type": "code",
   "execution_count": 67,
   "id": "2e873757",
   "metadata": {},
   "outputs": [],
   "source": [
    "%%picat -n qsort\n",
    "qsort([]) = [].\n",
    "qsort([H|T]) = [E : E in T, E=<H]) ++ [H] ++  qsort([E : E in T, E>H]."
   ]
  },
  {
   "cell_type": "code",
   "execution_count": 68,
   "id": "b02bc671",
   "metadata": {},
   "outputs": [
    {
     "name": "stdout",
     "output_type": "stream",
     "text": [
      "*** SYNTAX ERROR *** (2-2) wrong rule.\n",
      "qsort([H|T]) = [E : E in T, E=<H]\u001b[31m <<HERE>> \u001b[39m\n",
      "                                 ) ++ [H] ++  qsort([E : E in T, E>H].\n",
      "\n",
      "\n",
      "*** error(syntax_error,picat)\n"
     ]
    }
   ],
   "source": [
    "%%picat\n",
    "main => L = qsort([5, 2, 6, 4, 1, 3]), println(L)."
   ]
  },
  {
   "cell_type": "code",
   "execution_count": 45,
   "id": "6c4758cd",
   "metadata": {
    "scrolled": false
   },
   "outputs": [
    {
     "name": "stdout",
     "output_type": "stream",
     "text": [
      "*** SYNTAX ERROR *** (1-1) wrong head.\n",
      "Qsort([]) = L => L = [].\n",
      "\n",
      "\n",
      "*** SYNTAX ERROR *** (5-6) wrong head.\n",
      "L = qsort([5, 2, 6, 4, 1, 3])\n",
      "\n",
      "\n",
      "*** error(syntax_error,picat)\n"
     ]
    }
   ],
   "source": [
    "%%picat\n",
    "Qsort([]) = L => L = [].\n",
    "qsort([H|T]) = L =>\n",
    "    L = qsort([E : E in T, E=<H]) ++ [H] ++  qsort([E : E in T, E>H]).\n",
    "\n",
    "L = qsort([5, 2, 6, 4, 1, 3])"
   ]
  },
  {
   "cell_type": "code",
   "execution_count": 30,
   "id": "4b05e612",
   "metadata": {},
   "outputs": [
    {
     "name": "stdout",
     "output_type": "stream",
     "text": [
      "*** SYNTAX ERROR *** (0-1) token '=>' or '?=>' cannot appear in a rule body.\r\n",
      "main => \u001b[31m <<HERE>> \u001b[39m\r\n",
      "             qsort([])    = []. \r\n"
     ]
    }
   ],
   "source": [
    "main => \n",
    "    qsort([])    = [].\n",
    "    qsort([H|T]) = qsort([E : E in T, E =< H]) \n",
    "               ++ [H] ++\n",
    "               qsort([E : E in T, E > H])."
   ]
  },
  {
   "cell_type": "code",
   "execution_count": 25,
   "id": "0128a7aa",
   "metadata": {},
   "outputs": [
    {
     "name": "stdout",
     "output_type": "stream",
     "text": [
      "89\n",
      "\n"
     ]
    }
   ],
   "source": [
    "%%picat\n",
    "fib(N, F) => \n",
    "    if (N = 0) then \n",
    "        F = 0\n",
    "    elseif (N = 1) then\n",
    "        F = 1\n",
    "    else\n",
    "        fib(N - 1, F1),\n",
    "        fib(N - 2, F2),\n",
    "        F = F1 + F2\n",
    "    end.\n",
    "    \n",
    "main =>\n",
    "    fib(11, F),\n",
    "    println(F)."
   ]
  },
  {
   "cell_type": "code",
   "execution_count": 1,
   "id": "d4386e3b",
   "metadata": {
    "scrolled": true
   },
   "outputs": [
    {
     "name": "stdout",
     "output_type": "stream",
     "text": [
      "*** SYNTAX ERROR *** (0-1) token '=>' or '?=>' cannot appear in a rule body.\r\n",
      "fib(N, F) => \u001b[31m <<HERE>> \u001b[39m\r\n",
      "                  if (N = 0) then          F = 0     elseif (N = 1) then         F = 1     else         fib(N - 1, F1),         fib(N - 2, F2),         F = F1 + F2     end. \r\n"
     ]
    }
   ],
   "source": [
    "fib(N, F) => \n",
    "    if (N = 0) then \n",
    "        F = 0\n",
    "    elseif (N = 1) then\n",
    "        F = 1\n",
    "    else\n",
    "        fib(N - 1, F1),\n",
    "        fib(N - 2, F2),\n",
    "        F = F1 + F2\n",
    "    end.\n",
    "    \n",
    "main =>\n",
    "    fib(11, F),\n",
    "    println(F)."
   ]
  },
  {
   "cell_type": "code",
   "execution_count": 8,
   "id": "96784078",
   "metadata": {
    "scrolled": true
   },
   "outputs": [
    {
     "name": "stdout",
     "output_type": "stream",
     "text": [
      "267914296\n",
      "\n",
      "CPU times: user 5.34 ms, sys: 124 µs, total: 5.46 ms\n",
      "Wall time: 14.3 ms\n"
     ]
    }
   ],
   "source": [
    "%%time\n",
    "%%picat\n",
    "\n",
    "% % try uncommenting the following line\n",
    "% table \n",
    "\n",
    "fibp(0,F) => F = 0.\n",
    "fibp(1,F) => F = 1.\n",
    "fibp(N,F),N>1 => fibp(N-1,F1), fibp(N-2,F2), F = F1+F2.\n",
    "\n",
    "main => fibp(42,F), println(F)."
   ]
  }
 ],
 "metadata": {
  "kernelspec": {
   "display_name": "Python 3 (ipykernel)",
   "language": "python",
   "name": "python3"
  },
  "language_info": {
   "codemirror_mode": {
    "name": "ipython",
    "version": 3
   },
   "file_extension": ".py",
   "mimetype": "text/x-python",
   "name": "python",
   "nbconvert_exporter": "python",
   "pygments_lexer": "ipython3",
   "version": "3.9.12"
  }
 },
 "nbformat": 4,
 "nbformat_minor": 5
}
